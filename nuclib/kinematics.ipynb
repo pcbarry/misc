{
 "cells": [
  {
   "cell_type": "code",
   "execution_count": 1,
   "metadata": {
    "collapsed": true
   },
   "outputs": [],
   "source": [
    "import sys,os\n",
    "import numpy as np\n",
    "import sympy as sp\n",
    "import pylab as py\n",
    "from scipy.integrate import quad\n",
    "import sympy as sp\n",
    "sp.init_printing()\n",
    "from IPython.display import display, Math, Latex\n",
    "import copy\n",
    "%matplotlib inline\n",
    "lprint=lambda expression: display(Math(sp.latex(expression)))"
   ]
  },
  {
   "cell_type": "code",
   "execution_count": 2,
   "metadata": {
    "collapsed": false
   },
   "outputs": [],
   "source": [
    "mN=sp.S('m_N')\n",
    "mD=sp.S('m_D')\n",
    "pT=sp.S('p_T')\n",
    "gam=sp.S('Gamma')\n",
    "yD=sp.S('y_D')\n",
    "p=sp.S('p')"
   ]
  },
  {
   "cell_type": "code",
   "execution_count": 3,
   "metadata": {
    "collapsed": false
   },
   "outputs": [
    {
     "data": {
      "image/png": "[encoded data removed]",
      "text/latex": [
       "$$\\frac{1}{\\Gamma^{2} - 1} \\left(- \\Gamma m_{D} \\left(- y_{D} + 1\\right) + \\sqrt{m_{D}^{2} \\left(- y_{D} + 1\\right)^{2} + \\left(\\Gamma^{2} - 1\\right) \\left(m_{N}^{2} + p_{T}^{2}\\right)}\\right)$$"
      ],
      "text/plain": [
       "                       ___________________________________________\n",
       "                      ╱    2           2   ⎛ 2    ⎞ ⎛   2      2⎞ \n",
       "-Γ⋅m_D⋅(-y_D + 1) + ╲╱  m_D ⋅(-y_D + 1)  + ⎝Γ  - 1⎠⋅⎝m_N  + p_T ⎠ \n",
       "──────────────────────────────────────────────────────────────────\n",
       "                               2                                  \n",
       "                              Γ  - 1                              "
      ]
     },
     "execution_count": 3,
     "metadata": {},
     "output_type": "execute_result"
    }
   ],
   "source": [
    "pz = (sp.sqrt((1-yD)**2*mD**2+(gam**2-1)*(pT**2+mN**2)) - mD*(1-yD)*gam )/(gam**2-1)\n",
    "#pz=pz.subs(pT,0)\n",
    "pz"
   ]
  },
  {
   "cell_type": "markdown",
   "metadata": {},
   "source": [
    "compute $y_0$"
   ]
  },
  {
   "cell_type": "code",
   "execution_count": 4,
   "metadata": {
    "collapsed": true
   },
   "outputs": [],
   "source": [
    "y0 = (yD+sp.sqrt(yD**2 +(gam**2-1)*(p**2+pT**2)/mD**2))/(1+gam) "
   ]
  },
  {
   "cell_type": "code",
   "execution_count": 5,
   "metadata": {
    "collapsed": false
   },
   "outputs": [
    {
     "data": {
      "image/png": "[encoded data removed]",
      "text/latex": [
       "$$\\frac{1}{\\Gamma + 1} \\left(y_{D} + \\sqrt{y_{D}^{2} + \\frac{1}{m_{D}^{2}} \\left(\\Gamma^{2} - 1\\right) \\left(p^{2} + p_{T}^{2}\\right)}\\right)$$"
      ],
      "text/plain": [
       "            _____________________________\n",
       "           ╱        ⎛ 2    ⎞ ⎛ 2      2⎞ \n",
       "          ╱     2   ⎝Γ  - 1⎠⋅⎝p  + p_T ⎠ \n",
       "y_D +    ╱   y_D  + ──────────────────── \n",
       "        ╱                      2         \n",
       "      ╲╱                    m_D          \n",
       "─────────────────────────────────────────\n",
       "                  Γ + 1                  "
      ]
     },
     "execution_count": 5,
     "metadata": {},
     "output_type": "execute_result"
    }
   ],
   "source": [
    "y0"
   ]
  },
  {
   "cell_type": "markdown",
   "metadata": {},
   "source": [
    "notice that all the $p_T$ dependency is contained in the factor $p^2+p_T^2$\n",
    "lets solve for it"
   ]
  },
  {
   "cell_type": "code",
   "execution_count": 6,
   "metadata": {
    "collapsed": false
   },
   "outputs": [
    {
     "data": {
      "image/png": "[encoded data removed]",
      "text/latex": [
       "$$p^{2} + p_{T}^{2}$$"
      ],
      "text/plain": [
       " 2      2\n",
       "p  + p_T "
      ]
     },
     "execution_count": 6,
     "metadata": {},
     "output_type": "execute_result"
    }
   ],
   "source": [
    "((y0*(gam+1)-yD)**2-yD**2)*mD**2/(gam**2-1)"
   ]
  },
  {
   "cell_type": "markdown",
   "metadata": {},
   "source": [
    "now lets set $y_0=1$  and store the expression as exp1 "
   ]
  },
  {
   "cell_type": "code",
   "execution_count": 7,
   "metadata": {
    "collapsed": false
   },
   "outputs": [
    {
     "data": {
      "image/png": "[encoded data removed]",
      "text/latex": [
       "$$\\frac{m_{D}^{2}}{\\Gamma^{2} - 1} \\left(- y_{D}^{2} + \\left(\\Gamma - y_{D} + 1\\right)^{2}\\right)$$"
      ],
      "text/plain": [
       "   2 ⎛     2                2⎞\n",
       "m_D ⋅⎝- y_D  + (Γ - y_D + 1) ⎠\n",
       "──────────────────────────────\n",
       "             2                \n",
       "            Γ  - 1            "
      ]
     },
     "execution_count": 7,
     "metadata": {},
     "output_type": "execute_result"
    }
   ],
   "source": [
    "exp1=(((gam+1)-yD)**2-yD**2)*mD**2/(gam**2-1)\n",
    "exp1"
   ]
  },
  {
   "cell_type": "markdown",
   "metadata": {},
   "source": [
    "For a given $y_D$ and $\\Gamma=\\gamma$, exp1 provides the maximun for $p_T$ if $p_z=0$\n",
    "\n",
    "Setting $p_z=0$ we find that "
   ]
  },
  {
   "cell_type": "code",
   "execution_count": 8,
   "metadata": {
    "collapsed": false
   },
   "outputs": [
    {
     "data": {
      "image/png": "[encoded data removed]",
      "text/latex": [
       "$$\\left(m_{D} - \\sqrt{m_{N}^{2} + p_{T}^{2} + \\frac{1}{\\left(\\Gamma^{2} - 1\\right)^{2}} \\left(- \\Gamma m_{D} \\left(- y_{D} + 1\\right) + \\sqrt{m_{D}^{2} \\left(- y_{D} + 1\\right)^{2} + \\left(\\Gamma^{2} - 1\\right) \\left(m_{N}^{2} + p_{T}^{2}\\right)}\\right)^{2}}\\right)^{2} - \\frac{1}{\\left(\\Gamma^{2} - 1\\right)^{2}} \\left(- \\Gamma m_{D} \\left(- y_{D} + 1\\right) + \\sqrt{m_{D}^{2} \\left(- y_{D} + 1\\right)^{2} + \\left(\\Gamma^{2} - 1\\right) \\left(m_{N}^{2} + p_{T}^{2}\\right)}\\right)^{2}$$"
      ],
      "text/plain": [
       "                                                                              \n",
       "⎛               ______________________________________________________________\n",
       "⎜              ╱                                                              \n",
       "⎜             ╱                ⎛                       _______________________\n",
       "⎜            ╱                 ⎜                      ╱    2           2   ⎛ 2\n",
       "⎜           ╱       2      2   ⎝-Γ⋅m_D⋅(-y_D + 1) + ╲╱  m_D ⋅(-y_D + 1)  + ⎝Γ \n",
       "⎜m_D -     ╱     m_N  + p_T  + ───────────────────────────────────────────────\n",
       "⎜         ╱                                                          2        \n",
       "⎜        ╱                                                   ⎛ 2    ⎞         \n",
       "⎝      ╲╱                                                    ⎝Γ  - 1⎠         \n",
       "\n",
       "                        2                                                     \n",
       "_______________________⎞                                                      \n",
       "                     2 ⎟                                                      \n",
       "____________________⎞  ⎟    ⎛                       __________________________\n",
       "    ⎞ ⎛   2      2⎞ ⎟  ⎟    ⎜                      ╱    2           2   ⎛ 2   \n",
       " - 1⎠⋅⎝m_N  + p_T ⎠ ⎠  ⎟    ⎝-Γ⋅m_D⋅(-y_D + 1) + ╲╱  m_D ⋅(-y_D + 1)  + ⎝Γ  - \n",
       "────────────────────── ⎟  - ──────────────────────────────────────────────────\n",
       "                       ⎟                                          2           \n",
       "                       ⎟                                  ⎛ 2    ⎞            \n",
       "                       ⎠                                  ⎝Γ  - 1⎠            \n",
       "\n",
       "                   \n",
       "                   \n",
       "                  2\n",
       "_________________⎞ \n",
       " ⎞ ⎛   2      2⎞ ⎟ \n",
       "1⎠⋅⎝m_N  + p_T ⎠ ⎠ \n",
       "───────────────────\n",
       "                   \n",
       "                   \n",
       "                   "
      ]
     },
     "execution_count": 8,
     "metadata": {},
     "output_type": "execute_result"
    }
   ],
   "source": [
    "pv2 = pT**2 + pz**2\n",
    "Ep  = sp.sqrt(mN**2 + pv2)  \n",
    "p0  = mD - Ep             \n",
    "p2  = p0**2 - pv2  \n",
    "exp2=p2+pT**2\n",
    "exp2#(-p0+mD)**2"
   ]
  },
  {
   "cell_type": "code",
   "execution_count": 9,
   "metadata": {
    "collapsed": false
   },
   "outputs": [
    {
     "data": {
      "image/png": "[encoded data removed]",
      "text/latex": [
       "$$m_{D}^{2} - 2 m_{D} \\sqrt{m_{N}^{2} + p_{T}^{2} + \\frac{1}{\\left(\\Gamma^{2} - 1\\right)^{2}} \\left(- \\Gamma m_{D} \\left(- y_{D} + 1\\right) + \\sqrt{m_{D}^{2} \\left(- y_{D} + 1\\right)^{2} + \\left(\\Gamma^{2} - 1\\right) \\left(m_{N}^{2} + p_{T}^{2}\\right)}\\right)^{2}} + m_{N}^{2} + p_{T}^{2}$$"
      ],
      "text/plain": [
       "                      ________________________________________________________\n",
       "                     ╱                                                        \n",
       "                    ╱                ⎛                       _________________\n",
       "                   ╱                 ⎜                      ╱    2           2\n",
       "   2              ╱       2      2   ⎝-Γ⋅m_D⋅(-y_D + 1) + ╲╱  m_D ⋅(-y_D + 1) \n",
       "m_D  - 2⋅m_D⋅    ╱     m_N  + p_T  + ─────────────────────────────────────────\n",
       "                ╱                                                          2  \n",
       "               ╱                                                   ⎛ 2    ⎞   \n",
       "             ╲╱                                                    ⎝Γ  - 1⎠   \n",
       "\n",
       "_____________________________              \n",
       "                           2               \n",
       "__________________________⎞                \n",
       "   ⎛ 2    ⎞ ⎛   2      2⎞ ⎟                \n",
       " + ⎝Γ  - 1⎠⋅⎝m_N  + p_T ⎠ ⎠        2      2\n",
       "────────────────────────────  + m_N  + p_T \n",
       "                                           \n",
       "                                           \n",
       "                                           "
      ]
     },
     "execution_count": 9,
     "metadata": {},
     "output_type": "execute_result"
    }
   ],
   "source": [
    "mD**2 - 2*mD*sp.sqrt(mN**2 + pv2)  + mN**2  + pT**2"
   ]
  },
  {
   "cell_type": "markdown",
   "metadata": {},
   "source": [
    "recall that exp1 = $p^2+p_T^2$. Lets solve for $p_T^2$. There are two solutions"
   ]
  },
  {
   "cell_type": "code",
   "execution_count": 10,
   "metadata": {
    "collapsed": false
   },
   "outputs": [
    {
     "data": {
      "image/png": "[encoded data removed]",
      "text/latex": [
       "$$- m_{N}^{2} + \\left(- m_{D} + \\sqrt{\\frac{m_{D}^{2}}{\\Gamma^{2} - 1} \\left(- y_{D}^{2} + \\left(\\Gamma - y_{D} + 1\\right)^{2}\\right)}\\right)^{2}$$"
      ],
      "text/plain": [
       "                                                        2\n",
       "         ⎛             ________________________________⎞ \n",
       "         ⎜            ╱    2 ⎛     2                2⎞ ⎟ \n",
       "     2   ⎜           ╱  m_D ⋅⎝- y_D  + (Γ - y_D + 1) ⎠ ⎟ \n",
       "- m_N  + ⎜-m_D +    ╱   ────────────────────────────── ⎟ \n",
       "         ⎜         ╱                 2                 ⎟ \n",
       "         ⎝       ╲╱                 Γ  - 1             ⎠ "
      ]
     },
     "execution_count": 10,
     "metadata": {},
     "output_type": "execute_result"
    }
   ],
   "source": [
    "(sp.sqrt(exp1)-mD)**2-mN**2"
   ]
  },
  {
   "cell_type": "code",
   "execution_count": 11,
   "metadata": {
    "collapsed": false
   },
   "outputs": [
    {
     "data": {
      "image/png": "[encoded data removed]",
      "text/latex": [
       "$$- m_{N}^{2} + \\left(m_{D} + \\sqrt{\\frac{m_{D}^{2}}{\\Gamma^{2} - 1} \\left(- y_{D}^{2} + \\left(\\Gamma - y_{D} + 1\\right)^{2}\\right)}\\right)^{2}$$"
      ],
      "text/plain": [
       "                                                       2\n",
       "         ⎛            ________________________________⎞ \n",
       "         ⎜           ╱    2 ⎛     2                2⎞ ⎟ \n",
       "     2   ⎜          ╱  m_D ⋅⎝- y_D  + (Γ - y_D + 1) ⎠ ⎟ \n",
       "- m_N  + ⎜m_D +    ╱   ────────────────────────────── ⎟ \n",
       "         ⎜        ╱                 2                 ⎟ \n",
       "         ⎝      ╲╱                 Γ  - 1             ⎠ "
      ]
     },
     "execution_count": 11,
     "metadata": {},
     "output_type": "execute_result"
    }
   ],
   "source": [
    "(sp.sqrt(exp1)+mD)**2-mN**2"
   ]
  },
  {
   "cell_type": "markdown",
   "metadata": {},
   "source": [
    "Since we are integrating over pT =0 upto pTmax, the two solutions \n",
    "indicates the presence of two poles in the jaccobian. The jaccobian\n",
    "peak should be attained only once, hence we shall pick the smallest\n",
    "pTmax solution"
   ]
  },
  {
   "cell_type": "code",
   "execution_count": 16,
   "metadata": {
    "collapsed": false
   },
   "outputs": [
    {
     "data": {
      "image/png": "[encoded data removed]",
      "text/latex": [
       "$$- C x^{3} + 2 C x^{2} x_{0} + C x^{2} x_{1} + C x^{2} - C x x_{0}^{2} - 2 C x x_{0} x_{1} - C x x_{0} - C x x_{1} + C x_{0}^{2} x_{1} + C x_{0} x_{1}$$"
      ],
      "text/plain": [
       "     3        2         2         2         2                                 \n",
       "- C⋅x  + 2⋅C⋅x ⋅x₀ + C⋅x ⋅x₁ + C⋅x  - C⋅x⋅x₀  - 2⋅C⋅x⋅x₀⋅x₁ - C⋅x⋅x₀ - C⋅x⋅x₁ \n",
       "\n",
       "      2             \n",
       "+ C⋅x₀ ⋅x₁ + C⋅x₀⋅x₁"
      ]
     },
     "execution_count": 16,
     "metadata": {},
     "output_type": "execute_result"
    }
   ],
   "source": [
    "x=sp.S('x')\n",
    "x0=sp.S('x0')\n",
    "x1=sp.S('x1')\n",
    "C=sp.S('C')\n",
    "\n",
    "exp=C*(x-x0)*(x-x1)*(1+x0-x)\n",
    "exp.expand()\n"
   ]
  },
  {
   "cell_type": "code",
   "execution_count": null,
   "metadata": {
    "collapsed": true
   },
   "outputs": [],
   "source": []
  },
  {
   "cell_type": "code",
   "execution_count": null,
   "metadata": {
    "collapsed": true
   },
   "outputs": [],
   "source": []
  },
  {
   "cell_type": "code",
   "execution_count": null,
   "metadata": {
    "collapsed": true
   },
   "outputs": [],
   "source": []
  },
  {
   "cell_type": "code",
   "execution_count": null,
   "metadata": {
    "collapsed": true
   },
   "outputs": [],
   "source": []
  },
  {
   "cell_type": "code",
   "execution_count": null,
   "metadata": {
    "collapsed": true
   },
   "outputs": [],
   "source": []
  },
  {
   "cell_type": "code",
   "execution_count": null,
   "metadata": {
    "collapsed": true
   },
   "outputs": [],
   "source": []
  },
  {
   "cell_type": "code",
   "execution_count": null,
   "metadata": {
    "collapsed": true
   },
   "outputs": [],
   "source": []
  },
  {
   "cell_type": "code",
   "execution_count": null,
   "metadata": {
    "collapsed": true
   },
   "outputs": [],
   "source": []
  }
 ],
 "metadata": {
  "kernelspec": {
   "display_name": "Python 2",
   "language": "python",
   "name": "python2"
  },
  "language_info": {
   "codemirror_mode": {
    "name": "ipython",
    "version": 2
   },
   "file_extension": ".py",
   "mimetype": "text/x-python",
   "name": "python",
   "nbconvert_exporter": "python",
   "pygments_lexer": "ipython2",
   "version": "2.7.13"
  }
 },
 "nbformat": 4,
 "nbformat_minor": 2
}
