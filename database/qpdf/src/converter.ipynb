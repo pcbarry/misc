{
 "cells": [
  {
   "cell_type": "code",
   "execution_count": 1,
   "metadata": {},
   "outputs": [],
   "source": [
    "import sys,os\n",
    "import numpy as np\n",
    "import pylab as py\n",
    "import numpy as np\n",
    "import scipy as sp\n",
    "import pandas  as pd\n",
    "%matplotlib inline\n",
    "from tools.tools import load,save,checkdir,lprint\n",
    "import warnings\n",
    "warnings.filterwarnings('ignore')"
   ]
  },
  {
   "cell_type": "markdown",
   "metadata": {},
   "source": [
    "# etmc19"
   ]
  },
  {
   "cell_type": "code",
   "execution_count": 2,
   "metadata": {},
   "outputs": [],
   "source": [
    "data=pd.read_csv('etmc19.dat',sep=',')\n",
    "#data=data.to_dict()"
   ]
  },
  {
   "cell_type": "code",
   "execution_count": 3,
   "metadata": {},
   "outputs": [
    {
     "data": {
      "text/plain": [
       "<ErrorbarContainer object of 3 artists>"
      ]
     },
     "execution_count": 3,
     "metadata": {},
     "output_type": "execute_result"
    },
    {
     "data": {
      "image/png": "[encoded data removed]",
      "text/plain": [
       "<Figure size 432x288 with 1 Axes>"
      ]
     },
     "metadata": {
      "needs_background": "light"
     },
     "output_type": "display_data"
    }
   ],
   "source": [
    "ax=py.subplot(111)\n",
    "ax.errorbar(data.A, data.B,data.C,fmt='k.')\n",
    "ax.errorbar(data.A, data.D,data.E,fmt='k.')"
   ]
  },
  {
   "cell_type": "code",
   "execution_count": 4,
   "metadata": {},
   "outputs": [],
   "source": [
    "data1={'z':data.A,'value':data.B,'stat_u':data.C}\n",
    "data2={'z':data.A,'value':data.D,'stat_u':data.E}\n",
    "\n",
    "data1['col']=['ETMC19' for _ in range(len(data.A))]\n",
    "data2['col']=['ETMC19' for _ in range(len(data.A))]\n",
    "\n",
    "data1['P3']=[1.38 for _ in range(len(data.A))]\n",
    "data2['P3']=[1.38 for _ in range(len(data.A))]\n",
    "\n",
    "data1['mu']=[2.0 for _ in range(len(data.A))]\n",
    "data2['mu']=[2.0 for _ in range(len(data.A))]\n",
    "\n",
    "data1['obs']=['qpdf-real' for _ in range(len(data.A))]\n",
    "data2['obs']=['qpdf-imag' for _ in range(len(data.A))]\n",
    "\n",
    "data1=pd.DataFrame(data1)[['col','P3','mu','z','obs','value','stat_u']]\n",
    "data2=pd.DataFrame(data2)[['col','P3','mu','z','obs','value','stat_u']]\n"
   ]
  },
  {
   "cell_type": "code",
   "execution_count": 5,
   "metadata": {},
   "outputs": [],
   "source": [
    "checkdir('../expdata')\n",
    "data1.to_excel('../expdata/1000.xlsx',index=False)\n",
    "data2.to_excel('../expdata/1001.xlsx',index=False)"
   ]
  },
  {
   "cell_type": "code",
   "execution_count": 7,
   "metadata": {},
   "outputs": [],
   "source": [
    "tab=pd.read_excel('../expdata/1001.xlsx')"
   ]
  },
  {
   "cell_type": "code",
   "execution_count": 8,
   "metadata": {},
   "outputs": [
    {
     "data": {
      "text/html": [
       "<div>\n",
       "<style scoped>\n",
       "    .dataframe tbody tr th:only-of-type {\n",
       "        vertical-align: middle;\n",
       "    }\n",
       "\n",
       "    .dataframe tbody tr th {\n",
       "        vertical-align: top;\n",
       "    }\n",
       "\n",
       "    .dataframe thead th {\n",
       "        text-align: right;\n",
       "    }\n",
       "</style>\n",
       "<table border=\"1\" class=\"dataframe\">\n",
       "  <thead>\n",
       "    <tr style=\"text-align: right;\">\n",
       "      <th></th>\n",
       "      <th>col</th>\n",
       "      <th>P3</th>\n",
       "      <th>mu</th>\n",
       "      <th>z</th>\n",
       "      <th>obs</th>\n",
       "      <th>value</th>\n",
       "      <th>stat_u</th>\n",
       "    </tr>\n",
       "  </thead>\n",
       "  <tbody>\n",
       "    <tr>\n",
       "      <th>0</th>\n",
       "      <td>ETMC19</td>\n",
       "      <td>1.38</td>\n",
       "      <td>2</td>\n",
       "      <td>0</td>\n",
       "      <td>qpdf-imag</td>\n",
       "      <td>0.000000</td>\n",
       "      <td>0.000000</td>\n",
       "    </tr>\n",
       "    <tr>\n",
       "      <th>1</th>\n",
       "      <td>ETMC19</td>\n",
       "      <td>1.38</td>\n",
       "      <td>2</td>\n",
       "      <td>1</td>\n",
       "      <td>qpdf-imag</td>\n",
       "      <td>-0.191672</td>\n",
       "      <td>0.012433</td>\n",
       "    </tr>\n",
       "    <tr>\n",
       "      <th>2</th>\n",
       "      <td>ETMC19</td>\n",
       "      <td>1.38</td>\n",
       "      <td>2</td>\n",
       "      <td>-1</td>\n",
       "      <td>qpdf-imag</td>\n",
       "      <td>0.191672</td>\n",
       "      <td>0.012433</td>\n",
       "    </tr>\n",
       "  </tbody>\n",
       "</table>\n",
       "</div>"
      ],
      "text/plain": [
       "      col    P3  mu  z        obs     value    stat_u\n",
       "0  ETMC19  1.38   2  0  qpdf-imag  0.000000  0.000000\n",
       "1  ETMC19  1.38   2  1  qpdf-imag -0.191672  0.012433\n",
       "2  ETMC19  1.38   2 -1  qpdf-imag  0.191672  0.012433"
      ]
     },
     "execution_count": 8,
     "metadata": {},
     "output_type": "execute_result"
    }
   ],
   "source": [
    "tab[:3]"
   ]
  },
  {
   "cell_type": "code",
   "execution_count": 9,
   "metadata": {},
   "outputs": [
    {
     "data": {
      "text/plain": [
       "Index([u'col', u'P3', u'mu', u'z', u'obs', u'value', u'stat_u'], dtype='object')"
      ]
     },
     "execution_count": 9,
     "metadata": {},
     "output_type": "execute_result"
    }
   ],
   "source": [
    "tab.columns"
   ]
  },
  {
   "cell_type": "code",
   "execution_count": null,
   "metadata": {},
   "outputs": [],
   "source": []
  }
 ],
 "metadata": {
  "kernelspec": {
   "display_name": "Python 2",
   "language": "python",
   "name": "python2"
  },
  "language_info": {
   "codemirror_mode": {
    "name": "ipython",
    "version": 2
   },
   "file_extension": ".py",
   "mimetype": "text/x-python",
   "name": "python",
   "nbconvert_exporter": "python",
   "pygments_lexer": "ipython2",
   "version": "2.7.16"
  }
 },
 "nbformat": 4,
 "nbformat_minor": 2
}
