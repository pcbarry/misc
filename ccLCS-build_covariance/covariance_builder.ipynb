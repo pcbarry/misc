{
 "cells": [
  {
   "cell_type": "code",
   "execution_count": 1,
   "id": "attractive-tennis",
   "metadata": {},
   "outputs": [],
   "source": [
    "import os,sys\n",
    "import numpy as np\n",
    "import pandas as pd"
   ]
  },
  {
   "cell_type": "code",
   "execution_count": 77,
   "id": "coral-context",
   "metadata": {},
   "outputs": [],
   "source": [
    "tab=pd.read_excel('a127m413L.xlsx')"
   ]
  },
  {
   "cell_type": "code",
   "execution_count": 78,
   "id": "occasional-stack",
   "metadata": {},
   "outputs": [],
   "source": [
    "order=list(tab)"
   ]
  },
  {
   "cell_type": "code",
   "execution_count": 79,
   "id": "indie-survival",
   "metadata": {},
   "outputs": [],
   "source": [
    "data=[]\n",
    "for i in range(len(order)):\n",
    "    data.append(tab[order[i]].values)\n",
    "data=np.array(data).T"
   ]
  },
  {
   "cell_type": "code",
   "execution_count": 80,
   "id": "wound-richmond",
   "metadata": {},
   "outputs": [
    {
     "data": {
      "text/plain": [
       "490"
      ]
     },
     "execution_count": 80,
     "metadata": {},
     "output_type": "execute_result"
    }
   ],
   "source": [
    "len(data)"
   ]
  },
  {
   "cell_type": "code",
   "execution_count": 81,
   "id": "after-admission",
   "metadata": {},
   "outputs": [],
   "source": [
    "datamean=np.mean(data,axis=0)"
   ]
  },
  {
   "cell_type": "code",
   "execution_count": 82,
   "id": "proud-overview",
   "metadata": {},
   "outputs": [
    {
     "name": "stdout",
     "output_type": "stream",
     "text": [
      "[0.09893109 0.08367655 0.08268675 0.09498146 0.08707218 0.07657459\n",
      " 0.09539637 0.08294256 0.06501617 0.10140587 0.07129732 0.04801088]\n"
     ]
    }
   ],
   "source": [
    "print(datamean)"
   ]
  },
  {
   "cell_type": "code",
   "execution_count": 83,
   "id": "higher-omega",
   "metadata": {},
   "outputs": [
    {
     "name": "stdout",
     "output_type": "stream",
     "text": [
      "[0.0001598  0.00029165 0.00019483 0.00018839 0.0002604  0.00022974\n",
      " 0.00035566 0.00038109 0.00028544 0.00031177 0.0002452  0.00031275]\n"
     ]
    }
   ],
   "source": [
    "print(np.std(data,axis=0))"
   ]
  },
  {
   "cell_type": "code",
   "execution_count": 84,
   "id": "mobile-simulation",
   "metadata": {},
   "outputs": [],
   "source": [
    "cov=np.zeros((len(datamean),len(datamean)))"
   ]
  },
  {
   "cell_type": "code",
   "execution_count": 85,
   "id": "personal-trial",
   "metadata": {},
   "outputs": [
    {
     "name": "stdout",
     "output_type": "stream",
     "text": [
      "[[0. 0. 0. 0. 0. 0. 0. 0. 0. 0. 0. 0.]\n",
      " [0. 0. 0. 0. 0. 0. 0. 0. 0. 0. 0. 0.]\n",
      " [0. 0. 0. 0. 0. 0. 0. 0. 0. 0. 0. 0.]\n",
      " [0. 0. 0. 0. 0. 0. 0. 0. 0. 0. 0. 0.]\n",
      " [0. 0. 0. 0. 0. 0. 0. 0. 0. 0. 0. 0.]\n",
      " [0. 0. 0. 0. 0. 0. 0. 0. 0. 0. 0. 0.]\n",
      " [0. 0. 0. 0. 0. 0. 0. 0. 0. 0. 0. 0.]\n",
      " [0. 0. 0. 0. 0. 0. 0. 0. 0. 0. 0. 0.]\n",
      " [0. 0. 0. 0. 0. 0. 0. 0. 0. 0. 0. 0.]\n",
      " [0. 0. 0. 0. 0. 0. 0. 0. 0. 0. 0. 0.]\n",
      " [0. 0. 0. 0. 0. 0. 0. 0. 0. 0. 0. 0.]\n",
      " [0. 0. 0. 0. 0. 0. 0. 0. 0. 0. 0. 0.]]\n"
     ]
    }
   ],
   "source": [
    "print(cov)"
   ]
  },
  {
   "cell_type": "code",
   "execution_count": 86,
   "id": "champion-times",
   "metadata": {},
   "outputs": [],
   "source": [
    "for i in range(len(datamean)):\n",
    "    for j in range(len(datamean)):\n",
    "        for k in range(len(data)):\n",
    "            cov[i][j]+=(data[k][i]-datamean[i])*(data[k][j]-datamean[j])\n",
    "# cov*=(len(data)-1)"
   ]
  },
  {
   "cell_type": "code",
   "execution_count": 87,
   "id": "dominican-disability",
   "metadata": {},
   "outputs": [
    {
     "name": "stdout",
     "output_type": "stream",
     "text": [
      "-6.337934252244577e-07\n",
      "-2.7991021948163756e-06\n",
      "-2.1064238357551134e-06\n",
      "1.2492577942857377e-06\n",
      "1.1274769293877876e-06\n",
      "3.2322175734693497e-06\n",
      "2.2162393321224488e-06\n",
      "-6.214844381224062e-07\n",
      "5.060857752122467e-06\n",
      "1.9578020606938764e-05\n",
      "5.4023486946939205e-06\n",
      "4.792794563583664e-05\n"
     ]
    }
   ],
   "source": [
    "idx=11\n",
    "for i in range(len(cov[idx])):\n",
    "    print(cov[idx][i])"
   ]
  },
  {
   "cell_type": "code",
   "execution_count": 88,
   "id": "swiss-hormone",
   "metadata": {},
   "outputs": [
    {
     "name": "stdout",
     "output_type": "stream",
     "text": [
      "0.0035373590890403375\n"
     ]
    }
   ],
   "source": [
    "print(np.sqrt(cov[0][0]))"
   ]
  },
  {
   "cell_type": "code",
   "execution_count": null,
   "id": "derived-stadium",
   "metadata": {},
   "outputs": [],
   "source": []
  },
  {
   "cell_type": "markdown",
   "id": "neural-johnson",
   "metadata": {},
   "source": [
    "# Heat maps"
   ]
  },
  {
   "cell_type": "code",
   "execution_count": 89,
   "id": "deadly-compiler",
   "metadata": {},
   "outputs": [],
   "source": [
    "import pylab as py"
   ]
  },
  {
   "cell_type": "code",
   "execution_count": 90,
   "id": "productive-stuff",
   "metadata": {},
   "outputs": [],
   "source": [
    "covnew=cov\n",
    "for i in range(len(covnew)):\n",
    "    covnew[i]=np.abs(covnew[i]/covnew[i][i])"
   ]
  },
  {
   "cell_type": "code",
   "execution_count": 91,
   "id": "frequent-outside",
   "metadata": {},
   "outputs": [
    {
     "data": {
      "image/png": "[encoded data removed]",
      "text/plain": [
       "<Figure size 432x288 with 2 Axes>"
      ]
     },
     "metadata": {
      "needs_background": "light"
     },
     "output_type": "display_data"
    }
   ],
   "source": [
    "ax=py.subplot(111)\n",
    "im=ax.imshow(np.abs(covnew))\n",
    "cbar = ax.figure.colorbar(im, ax=ax)"
   ]
  },
  {
   "cell_type": "code",
   "execution_count": null,
   "id": "available-lodge",
   "metadata": {},
   "outputs": [],
   "source": []
  },
  {
   "cell_type": "code",
   "execution_count": null,
   "id": "beautiful-message",
   "metadata": {},
   "outputs": [],
   "source": []
  },
  {
   "cell_type": "markdown",
   "id": "sonic-evaluation",
   "metadata": {},
   "source": [
    "# testing"
   ]
  },
  {
   "cell_type": "code",
   "execution_count": 24,
   "id": "built-sweet",
   "metadata": {},
   "outputs": [],
   "source": [
    "std=np.zeros(len(datamean))\n",
    "for i in range(len(datamean)):\n",
    "#     for j in range(len(datamean)):\n",
    "    for k in range(len(data)):\n",
    "        std[i]+=(data[k][i]-datamean[i])**2"
   ]
  },
  {
   "cell_type": "code",
   "execution_count": 46,
   "id": "heated-juice",
   "metadata": {},
   "outputs": [],
   "source": [
    "std=0\n",
    "for i in range(len(data)):\n",
    "    std+=np.sqrt((data[i][0]-datamean[0])**2)/len(data)"
   ]
  },
  {
   "cell_type": "code",
   "execution_count": 22,
   "id": "statistical-upgrade",
   "metadata": {},
   "outputs": [],
   "source": [
    "var=0\n",
    "for i in range(len(data)):\n",
    "    var+=(data[i][0]-datamean[0])**2\n",
    "std=np.sqrt(var)"
   ]
  },
  {
   "cell_type": "code",
   "execution_count": 27,
   "id": "tutorial-president",
   "metadata": {},
   "outputs": [
    {
     "data": {
      "text/plain": [
       "array([3.08696429e-05, 7.17717696e-05, 2.73076230e-05, 6.64658928e-05,\n",
       "       5.26966788e-05, 1.25505890e-05, 1.07586216e-04, 7.76274379e-05,\n",
       "       6.03518119e-05, 1.30311804e-04, 3.55771990e-05, 5.78067960e-05,\n",
       "       5.53051569e-05, 9.09536180e-05, 8.95803205e-05, 2.61505329e-04,\n",
       "       2.35683097e-04, 3.35164173e-04, 1.52086053e-04, 1.14012724e-04])"
      ]
     },
     "execution_count": 27,
     "metadata": {},
     "output_type": "execute_result"
    }
   ],
   "source": [
    "std"
   ]
  },
  {
   "cell_type": "code",
   "execution_count": 30,
   "id": "naughty-welding",
   "metadata": {},
   "outputs": [
    {
     "name": "stdout",
     "output_type": "stream",
     "text": [
      "[0.00555052 0.0084634  0.00522047 0.00814455 0.00725203 0.00353916\n",
      " 0.01036206 0.00880188 0.00776092 0.01140407 0.00595873 0.00759552\n",
      " 0.00742935 0.00952748 0.00945528 0.01615504 0.01533671 0.01828928\n",
      " 0.01232005 0.01066705]\n"
     ]
    }
   ],
   "source": [
    "print(np.std(data,axis=0)*np.sqrt(len(data)-1))"
   ]
  }
 ],
 "metadata": {
  "kernelspec": {
   "display_name": "Python 3",
   "language": "python",
   "name": "python3"
  },
  "language_info": {
   "codemirror_mode": {
    "name": "ipython",
    "version": 3
   },
   "file_extension": ".py",
   "mimetype": "text/x-python",
   "name": "python",
   "nbconvert_exporter": "python",
   "pygments_lexer": "ipython3",
   "version": "3.8.6"
  }
 },
 "nbformat": 4,
 "nbformat_minor": 5
}
