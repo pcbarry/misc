{
 "cells": [
  {
   "cell_type": "code",
   "execution_count": 1,
   "id": "relative-starter",
   "metadata": {},
   "outputs": [
    {
     "name": "stderr",
     "output_type": "stream",
     "text": [
      "Matplotlib created a temporary config/cache directory at /tmp/matplotlib-yy4zfzsz because the default path (/home/jovyan/.cache/matplotlib) is not a writable directory; it is highly recommended to set the MPLCONFIGDIR environment variable to a writable directory, in particular to speed up the import of Matplotlib and to better support multiprocessing.\n"
     ]
    }
   ],
   "source": [
    "import os,sys\n",
    "import numpy as np\n",
    "import numpy.linalg as LA\n",
    "import matplotlib\n",
    "import pylab as py\n",
    "import math\n",
    "import pandas as pd\n",
    "from scipy.integrate import quad,fixed_quad\n",
    "\n",
    "import matplotlib\n",
    "# %matplotlib inline\n",
    "# matplotlib.rcParams['text.latex.preamble']=[r\"\\usepackage{amsmath}\"]\n",
    "# #matplotlib.rc('font',**{'family':'sans-serif','sans-serif':['Helvetica']})\n",
    "# matplotlib.rc('text',usetex=True)\n",
    "import pylab  as py\n",
    "# from matplotlib.lines import Line2D"
   ]
  },
  {
   "cell_type": "code",
   "execution_count": 2,
   "id": "stable-choir",
   "metadata": {},
   "outputs": [
    {
     "data": {
      "text/plain": [
       "[<matplotlib.lines.Line2D at 0x7f2317752f70>]"
      ]
     },
     "execution_count": 2,
     "metadata": {},
     "output_type": "execute_result"
    },
    {
     "data": {
      "image/png": "[encoded data removed]",
      "text/plain": [
       "<Figure size 432x288 with 1 Axes>"
      ]
     },
     "metadata": {
      "needs_background": "light"
     },
     "output_type": "display_data"
    }
   ],
   "source": [
    "ax=py.subplot(111)\n",
    "ax.plot(np.linspace(0,1))"
   ]
  },
  {
   "cell_type": "code",
   "execution_count": 3,
   "id": "exceptional-adaptation",
   "metadata": {},
   "outputs": [],
   "source": [
    "sys.path.append('/work/JAM/barryp/JAM/fitpack2/')\n",
    "os.environ['FITPACK']='/work/JAM/barryp/JAM/fitpack2/'"
   ]
  },
  {
   "cell_type": "code",
   "execution_count": 4,
   "id": "explicit-guide",
   "metadata": {},
   "outputs": [],
   "source": [
    "import copy\n",
    "from tools.config import conf,load_config\n",
    "from tools.tools import load,save,checkdir,lprint"
   ]
  },
  {
   "cell_type": "code",
   "execution_count": 5,
   "id": "opened-shaft",
   "metadata": {},
   "outputs": [],
   "source": [
    "from qcdlib import aux,mellin\n",
    "\n",
    "from fitlib.resman import RESMAN\n",
    "from obslib.pITD import theory\n",
    "from obslib.ccLCS import theory\n",
    "from analysis.corelib import core,summary,inspect"
   ]
  },
  {
   "cell_type": "code",
   "execution_count": 6,
   "id": "small-onion",
   "metadata": {},
   "outputs": [],
   "source": [
    "from scipy.special import gamma"
   ]
  },
  {
   "cell_type": "markdown",
   "id": "adjacent-agent",
   "metadata": {},
   "source": [
    "# From Fits to ${\\it only}$ systematics"
   ]
  },
  {
   "cell_type": "code",
   "execution_count": 138,
   "id": "handy-spine",
   "metadata": {},
   "outputs": [],
   "source": [
    "pred=load('/work/JAM/barryp/JAM/analysis-LCS/ccLCSnew/onlysys/data/predictions-17.dat')"
   ]
  },
  {
   "cell_type": "code",
   "execution_count": 139,
   "id": "extended-timer",
   "metadata": {},
   "outputs": [],
   "source": [
    "idx=[]\n",
    "for i in range(len(pred['order'])):\n",
    "    if 'lat-sys' in pred['order'][i][1]:\n",
    "        idx.append(i)"
   ]
  },
  {
   "cell_type": "code",
   "execution_count": 140,
   "id": "acknowledged-leone",
   "metadata": {},
   "outputs": [],
   "source": [
    "par=[]\n",
    "i0=0\n",
    "for i in range(len(pred['res'])):\n",
    "    order=[]\n",
    "    L=len(pred['order'])\n",
    "    par.append([])\n",
    "    for j in idx:\n",
    "#         par[i].append(np.abs(pred['params'][i0+j]))\n",
    "        par[i].append(pred['params'][i0+j])\n",
    "        order.append(pred['order'][j])\n",
    "    i0+=L"
   ]
  },
  {
   "cell_type": "code",
   "execution_count": 141,
   "id": "dried-assault",
   "metadata": {},
   "outputs": [
    {
     "data": {
      "text/plain": [
       "[[1, 'lat-sys', 'b0-ccLCS'],\n",
       " [1, 'lat-sys', 'p0-ccLCS'],\n",
       " [1, 'lat-sys', 'r0-ccLCS'],\n",
       " [1, 'lat-sys', 'm0-ccLCS'],\n",
       " [1, 'lat-sys', 'f0-ccLCS'],\n",
       " [1, 'lat-sys', 'b1-ccLCS'],\n",
       " [1, 'lat-sys', 'p1-ccLCS'],\n",
       " [1, 'lat-sys', 'r1-ccLCS'],\n",
       " [1, 'lat-sys', 'm1-ccLCS'],\n",
       " [1, 'lat-sys', 'f1-ccLCS'],\n",
       " [1, 'lat-sys', 'b2-ccLCS'],\n",
       " [1, 'lat-sys', 'p2-ccLCS'],\n",
       " [1, 'lat-sys', 'r2-ccLCS'],\n",
       " [1, 'lat-sys', 'm2-ccLCS'],\n",
       " [1, 'lat-sys', 'f2-ccLCS']]"
      ]
     },
     "execution_count": 141,
     "metadata": {},
     "output_type": "execute_result"
    }
   ],
   "source": [
    "order"
   ]
  },
  {
   "cell_type": "code",
   "execution_count": 142,
   "id": "alleged-hunter",
   "metadata": {},
   "outputs": [],
   "source": [
    "parmean=np.mean(par,axis=0)"
   ]
  },
  {
   "cell_type": "code",
   "execution_count": 143,
   "id": "beginning-collectible",
   "metadata": {},
   "outputs": [],
   "source": [
    "cov=np.zeros((len(parmean),len(parmean)))"
   ]
  },
  {
   "cell_type": "code",
   "execution_count": 144,
   "id": "packed-conditioning",
   "metadata": {},
   "outputs": [],
   "source": [
    "for i in range(len(parmean)):\n",
    "    for j in range(len(parmean)):\n",
    "        for k in range(len(par)):\n",
    "            cov[i][j]+=(par[k][i]-parmean[i])*(par[k][j]-parmean[j])\n",
    "cov/=(len(par)-1)"
   ]
  },
  {
   "cell_type": "code",
   "execution_count": 145,
   "id": "scientific-external",
   "metadata": {},
   "outputs": [],
   "source": [
    "w, v = LA.eig(LA.inv(cov))\n",
    "v=v.T"
   ]
  },
  {
   "cell_type": "code",
   "execution_count": 146,
   "id": "breathing-charlotte",
   "metadata": {},
   "outputs": [
    {
     "data": {
      "text/plain": [
       "array([1.58161427e+17, 1.10997717e+16, 1.69346497e+07, 3.58540668e+05,\n",
       "       1.07515112e+05, 4.91881653e+03, 1.17280792e+03, 8.73944536e+02,\n",
       "       1.83580452e+02, 5.55131499e+00, 2.74669591e+00, 3.89084277e-01,\n",
       "       2.98996603e-02, 2.33169657e-02, 1.87847144e-03])"
      ]
     },
     "execution_count": 146,
     "metadata": {},
     "output_type": "execute_result"
    }
   ],
   "source": [
    "w"
   ]
  },
  {
   "cell_type": "code",
   "execution_count": 147,
   "id": "small-syntax",
   "metadata": {},
   "outputs": [],
   "source": [
    "sortorder=[]\n",
    "for i in range(len(np.sort(w))):\n",
    "    for j in range(len(w)):\n",
    "        if np.sort(w)[i]==w[j]: sortorder.append(j)"
   ]
  },
  {
   "cell_type": "code",
   "execution_count": 148,
   "id": "meaning-minnesota",
   "metadata": {},
   "outputs": [],
   "source": [
    "sortorder=sortorder[::-1]"
   ]
  },
  {
   "cell_type": "code",
   "execution_count": 149,
   "id": "muslim-circus",
   "metadata": {},
   "outputs": [],
   "source": [
    "wsort=w[sortorder]"
   ]
  },
  {
   "cell_type": "code",
   "execution_count": 150,
   "id": "possible-acquisition",
   "metadata": {},
   "outputs": [
    {
     "data": {
      "text/plain": [
       "[]"
      ]
     },
     "execution_count": 150,
     "metadata": {},
     "output_type": "execute_result"
    },
    {
     "data": {
      "image/png": "[encoded data removed]",
      "text/plain": [
       "<Figure size 432x288 with 1 Axes>"
      ]
     },
     "metadata": {
      "needs_background": "light"
     },
     "output_type": "display_data"
    }
   ],
   "source": [
    "ax=py.subplot(111)\n",
    "ax.plot(np.sort(w)[::-1],'o')\n",
    "ax.semilogy()"
   ]
  },
  {
   "cell_type": "code",
   "execution_count": 151,
   "id": "guided-innocent",
   "metadata": {},
   "outputs": [],
   "source": [
    "vsort=v[sortorder]"
   ]
  },
  {
   "cell_type": "code",
   "execution_count": 158,
   "id": "challenging-lodging",
   "metadata": {},
   "outputs": [],
   "source": [
    "def predict(wdir,v,parorder,meanpar,data='both'):\n",
    "    load_config('%s/input.py'%wdir)\n",
    "    istep=core.get_istep()\n",
    "    replicas=core.get_replicas(wdir)\n",
    "    rep=replicas[0]\n",
    "    repnames=sorted(os.listdir('%s/msr-inspected'%wdir))\n",
    "\n",
    "    core.mod_conf(istep,replicas[0])\n",
    "    order=replicas[0]['order'][istep]\n",
    "\n",
    "    conf['bootstrap']=False\n",
    "    \n",
    "    resman=RESMAN(nworkers=10,parallel=True,datasets=True)\n",
    "    parman=resman.parman\n",
    "    \n",
    "    obsres={}\n",
    "    if 'dy-pion' in conf['datasets']: obsres['dy-pion']=resman.dy_pion_res\n",
    "    if 'ln' in conf['datasets']: obsres['ln']=resman.ln_res\n",
    "    if 'ccLCS' in conf['datasets']: obsres['ccLCS']=resman.ccLCS_res\n",
    "    \n",
    "    data={}\n",
    "    data['order']=order\n",
    "    data['params']=[]\n",
    "    data['reactions']={}\n",
    "    data['res']=[]\n",
    "    data['rres']=[]\n",
    "    data['nres']=[]\n",
    "    \n",
    "    for _ in obsres:\n",
    "        tabs=copy.copy(obsres[_].tabs)\n",
    "        for idx in tabs:\n",
    "            tabs[idx]['prediction-rep']=[]\n",
    "            tabs[idx]['residuals-rep']=[]\n",
    "            tabs[idx]['shift-rep']=[]\n",
    "        data['reactions'][_]=tabs\n",
    "        print(data['reactions'].keys())\n",
    "        \n",
    "        \n",
    "    rep=replicas[0]\n",
    "    parman.par=copy.copy(rep['params'][istep])\n",
    "    parman.order=copy.copy(rep['order'][istep])\n",
    "    shifts=np.linspace(-1000,1000,100)\n",
    "\n",
    "    for j in range(len(shifts)):\n",
    "        for i in range(len(parorder)):\n",
    "            po=str(parorder[i][2].split('-')[0])\n",
    "            parshift=v[i]*shifts[j]\n",
    "            if po=='f0':\n",
    "                conf['ccLCS'].f0=meanpar[i]+parshift\n",
    "            elif po=='b0':\n",
    "                conf['ccLCS'].b0=meanpar[i]+parshift\n",
    "            elif po=='p0':\n",
    "                conf['ccLCS'].p0=meanpar[i]+parshift\n",
    "            elif po=='r0':\n",
    "                conf['ccLCS'].r0=meanpar[i]+parshift\n",
    "            elif po=='m0':\n",
    "                conf['ccLCS'].m0=meanpar[i]+parshift\n",
    "            elif po=='f1':\n",
    "                conf['ccLCS'].f1=meanpar[i]+parshift\n",
    "            elif po=='b1':\n",
    "                conf['ccLCS'].b1=meanpar[i]+parshift\n",
    "            elif po=='p1':\n",
    "                conf['ccLCS'].p1=meanpar[i]+parshift\n",
    "            elif po=='r1':\n",
    "                conf['ccLCS'].r1=meanpar[i]+parshift\n",
    "            elif po=='m1':\n",
    "                conf['ccLCS'].m1=meanpar[i]+parshift\n",
    "            elif po=='f2':\n",
    "                conf['ccLCS'].f1=meanpar[i]+parshift\n",
    "            elif po=='b2':\n",
    "                conf['ccLCS'].b2=meanpar[i]+parshift\n",
    "            elif po=='p2':\n",
    "                conf['ccLCS'].p2=meanpar[i]+parshift\n",
    "            elif po=='r2':\n",
    "                conf['ccLCS'].r2=meanpar[i]+parshift\n",
    "            elif po=='m2':\n",
    "                conf['ccLCS'].m2=meanpar[i]+parshift\n",
    "        lprint('progress: %i/%i'%(j+1,len(shifts)))\n",
    "        res,rres,nres=resman.get_residuals(parman.par,initial=True)\n",
    "        data['res'].append(res)\n",
    "        data['rres'].append(rres)\n",
    "        data['nres'].append(nres)\n",
    "\n",
    "        for _ in obsres:\n",
    "            for idx in data['reactions'][_]:\n",
    "                prediction=copy.copy(obsres[_].tabs[idx]['prediction'])\n",
    "                residuals =copy.copy(obsres[_].tabs[idx]['residuals'])\n",
    "                data['reactions'][_][idx]['prediction-rep'].append(prediction)\n",
    "                data['reactions'][_][idx]['residuals-rep'].append(residuals)\n",
    "                data['reactions'][_][idx]['lambda']=shifts\n",
    "                \n",
    "    resman.shutdown()\n",
    "    for _ in ['res','rres','nres']:\n",
    "        data[_]=np.array(data[_])\n",
    "    checkdir('%s/data'%wdir)\n",
    "    save(data,'%s/data/predictions-%d-eigen2.dat'%(wdir,istep))"
   ]
  },
  {
   "cell_type": "code",
   "execution_count": 159,
   "id": "generous-hindu",
   "metadata": {},
   "outputs": [],
   "source": [
    "wdir='/work/JAM/barryp/JAM/analysis-LCS/ccLCS/NLOcconly/'"
   ]
  },
  {
   "cell_type": "code",
   "execution_count": 160,
   "id": "velvet-michigan",
   "metadata": {},
   "outputs": [
    {
     "name": "stdout",
     "output_type": "stream",
     "text": [
      "loading dy-pion data sets 10001\n",
      "loading dy-pion data sets 10002\n",
      "loading dy-pion data sets 10003\n",
      "10001 has norm uncertainty\n",
      "10002 has norm uncertainty\n",
      "10003 has norm uncertainty\n",
      "loading ln data sets 1000\n",
      "loading ln data sets 2000\n",
      "1000 has norm uncertainty\n",
      "2000 has norm uncertainty\n",
      "loading ccLCS data sets 12781\n",
      "loading ccLCS data sets 13581\n",
      "loading ccLCS data sets 14131\n",
      "loading ccLCS data sets 14132\n",
      "dict_keys(['dy-pion'])\n",
      "dict_keys(['dy-pion', 'ln'])\n",
      "dict_keys(['dy-pion', 'ln', 'ccLCS'])\n",
      "progress: 100/100"
     ]
    }
   ],
   "source": [
    "eigen=vsort[0]#*np.sqrt(w[0])\n",
    "predict(wdir,eigen,order,parmean)"
   ]
  },
  {
   "cell_type": "code",
   "execution_count": 161,
   "id": "downtown-short",
   "metadata": {},
   "outputs": [],
   "source": [
    "def get_chi2_eigen(predictions,wdir):\n",
    "    chi2={}\n",
    "    expt=[]\n",
    "    for k in predictions['reactions']:\n",
    "        if k!='ccLCS': continue\n",
    "        for kk in predictions['reactions'][k]:\n",
    "            expt.append(kk)\n",
    "            #--get chi2\n",
    "            chi2[kk]={}\n",
    "            chi2[kk]['lambda']=predictions['reactions'][k][kk]['lambda']\n",
    "            chi2[kk]['chi2']=[]\n",
    "            chi2[kk]['chi2/npts']=[]\n",
    "            p=predictions['reactions'][k][kk]\n",
    "            chi2[kk]['npts']=len(p['value'])\n",
    "            for i in range(len(p['prediction-rep'])):\n",
    "                res=(p['value']-p['prediction-rep'][i])/p['alpha']\n",
    "                chi2[kk]['npts']=len(res)\n",
    "                chi2[kk]['chi2'].append(np.sum(res**2))\n",
    "                chi2[kk]['chi2/npts'].append(np.sum(res**2)/len(res))\n",
    "                \n",
    "        chi2['chi2 total']={}\n",
    "        chi2['chi2 total']['chi2']=np.zeros(len(chi2[kk]['chi2/npts']))\n",
    "        chi2['chi2 total']['npts']=0\n",
    "        for k in expt:\n",
    "            for i in range(len(chi2[k]['chi2/npts'])):\n",
    "                chi2['chi2 total']['chi2'][i]+=chi2[k]['chi2/npts'][i]*chi2[k]['npts']\n",
    "            chi2['chi2 total']['npts']+=chi2[k]['npts']\n",
    "            chi2['chi2 total']['lambda']=chi2[kk]['lambda']\n",
    "    return chi2"
   ]
  },
  {
   "cell_type": "code",
   "execution_count": 162,
   "id": "announced-jenny",
   "metadata": {},
   "outputs": [],
   "source": [
    "def test(pred,wdir):\n",
    "    chi2fit=get_chi2_eigen(pred,wdir)\n",
    "    nrows,ncols=1,1\n",
    "    py.figure(figsize=(8*ncols,6*nrows))\n",
    "    ax=py.subplot(nrows,ncols,1)\n",
    "    labs={12781: 'a94m278',13581: 'a94m358', 14131: 'a127m413', 14132: 'a127m413L'}\n",
    "    for k in chi2fit:\n",
    "        if k=='chi2 total': #continue\n",
    "            ax.plot(chi2fit[k]['lambda'],chi2fit[k]['chi2']/chi2fit[k]['npts'],lw=3,c='k',label=r'$\\rm total$')\n",
    "            ax.axhline(y=min(chi2fit[k]['chi2']/chi2fit[k]['npts']),lw=2,ls='--')\n",
    "        else:\n",
    "            ax.plot(chi2fit[k]['lambda'],chi2fit[k]['chi2/npts'],lw=3,label=r'$\\rm %s$'%labs[k])\n",
    "            ax.axhline(y=min(chi2fit[k]['chi2/npts']),lw=2,ls='--')\n",
    "\n",
    "    minchi2=1e10\n",
    "    minidx=0\n",
    "    for i in range(len(chi2fit['chi2 total']['chi2'])):\n",
    "        if chi2fit['chi2 total']['chi2'][i]<minchi2: \n",
    "            minchi2=chi2fit['chi2 total']['chi2'][i]\n",
    "            minidx=i\n",
    "\n",
    "    ax.axvline(x=chi2fit[12781]['lambda'][minidx],ls=':',label=r'${\\rm best~fit}$')\n",
    "    ax.tick_params(direction='in',which='both',labelsize=20)\n",
    "    ax.set_ylabel(r'$\\chi^2_{\\rm npts}$',size=30)\n",
    "    ax.set_xlabel(r'$\\lambda$',size=30)\n",
    "    \n",
    "    ax.legend(fontsize=20)\n",
    "    py.tight_layout()\n",
    "    checkdir('new_gallery/chi2params/nosys')\n",
    "    py.savefig('new_gallery/chi2params/nosys/eigen-vsort0.png')\n",
    "    "
   ]
  },
  {
   "cell_type": "code",
   "execution_count": 163,
   "id": "impossible-setup",
   "metadata": {},
   "outputs": [
    {
     "data": {
      "image/png": "[encoded data removed]",
      "text/plain": [
       "<Figure size 576x432 with 1 Axes>"
      ]
     },
     "metadata": {
      "needs_background": "light"
     },
     "output_type": "display_data"
    }
   ],
   "source": [
    "p=load('%s/data/predictions-17-eigen2.dat'%wdir)\n",
    "test(p,w)"
   ]
  },
  {
   "cell_type": "code",
   "execution_count": null,
   "id": "alternative-truth",
   "metadata": {},
   "outputs": [],
   "source": []
  },
  {
   "cell_type": "code",
   "execution_count": null,
   "id": "recent-pension",
   "metadata": {},
   "outputs": [],
   "source": []
  }
 ],
 "metadata": {
  "kernelspec": {
   "display_name": "Python 3",
   "language": "python",
   "name": "python3"
  },
  "language_info": {
   "codemirror_mode": {
    "name": "ipython",
    "version": 3
   },
   "file_extension": ".py",
   "mimetype": "text/x-python",
   "name": "python",
   "nbconvert_exporter": "python",
   "pygments_lexer": "ipython3",
   "version": "3.8.6"
  }
 },
 "nbformat": 4,
 "nbformat_minor": 5
}
