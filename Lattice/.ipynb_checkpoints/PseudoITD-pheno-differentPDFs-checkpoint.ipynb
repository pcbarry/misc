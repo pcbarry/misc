{
 "cells": [
  {
   "cell_type": "code",
   "execution_count": 1,
   "id": "retired-turning",
   "metadata": {},
   "outputs": [
    {
     "name": "stderr",
     "output_type": "stream",
     "text": [
      "Matplotlib created a temporary config/cache directory at /tmp/matplotlib-oaa013pr because the default path (/home/jovyan/.cache/matplotlib) is not a writable directory; it is highly recommended to set the MPLCONFIGDIR environment variable to a writable directory, in particular to speed up the import of Matplotlib and to better support multiprocessing.\n"
     ]
    }
   ],
   "source": [
    "import numpy as np\n",
    "import os,sys\n",
    "import matplotlib\n",
    "import pylab as py\n",
    "import mpmath as mp\n",
    "from mpmath import fp"
   ]
  },
  {
   "cell_type": "code",
   "execution_count": 2,
   "id": "linear-creek",
   "metadata": {},
   "outputs": [],
   "source": [
    "import copy"
   ]
  },
  {
   "cell_type": "code",
   "execution_count": 3,
   "id": "sharing-behavior",
   "metadata": {},
   "outputs": [],
   "source": [
    "sys.path.append('/work/JAM/barryp/JAM/fitpack2/')"
   ]
  },
  {
   "cell_type": "code",
   "execution_count": 4,
   "id": "surface-trout",
   "metadata": {},
   "outputs": [],
   "source": [
    "from qcdlib import mellin,pdf,alphaS,eweak,aux,pdfpionfit\n",
    "\n",
    "from tools.config import conf\n",
    "from tools.tools import load,save,checkdir,lprint"
   ]
  },
  {
   "cell_type": "code",
   "execution_count": 5,
   "id": "random-premiere",
   "metadata": {},
   "outputs": [],
   "source": [
    "conf['Q20']=1.27**2\n",
    "conf['aux']=aux.AUX()\n",
    "conf['order']='NLO'\n",
    "conf['eweak']=eweak.EWEAK()\n",
    "conf['alphaS']=alphaS.ALPHAS()\n",
    "conf['dglap mode']='truncated'"
   ]
  },
  {
   "cell_type": "code",
   "execution_count": 6,
   "id": "broadband-dependence",
   "metadata": {},
   "outputs": [],
   "source": [
    "mell=mellin.MELLIN()\n",
    "imell=mellin.IMELLIN()\n",
    "\n",
    "\n",
    "pdf1=pdf.PDF(mellin=mell)\n",
    "pdf2=pdf.PDF(mellin=imell)"
   ]
  },
  {
   "cell_type": "code",
   "execution_count": 7,
   "id": "african-reaction",
   "metadata": {},
   "outputs": [],
   "source": [
    "imell.N=np.array([])\n",
    "for i in range(1,51):\n",
    "    iN=np.array([i],dtype=complex)\n",
    "    imell.N=np.append(imell.N,iN)"
   ]
  },
  {
   "cell_type": "code",
   "execution_count": 8,
   "id": "exposed-consultation",
   "metadata": {},
   "outputs": [],
   "source": [
    "conf['mellin-pion']=imell"
   ]
  },
  {
   "cell_type": "code",
   "execution_count": 9,
   "id": "worse-gender",
   "metadata": {},
   "outputs": [],
   "source": [
    "from analysis.corelib import core\n",
    "from fitlib.resman import RESMAN\n",
    "\n",
    "import copy"
   ]
  },
  {
   "cell_type": "code",
   "execution_count": 10,
   "id": "angry-regulation",
   "metadata": {},
   "outputs": [],
   "source": [
    "def cn(x,n,z2):\n",
    "    CF=4.0/3.0\n",
    "    euler=fp.euler\n",
    "    \n",
    "    #--harmonic number\n",
    "    def harmonic(ini,fin):\n",
    "        harmonic=0\n",
    "        for i in range(ini,fin):\n",
    "            harmonic+=1./i\n",
    "        return harmonic\n",
    "    \n",
    "    gamma_n=1.0/((n+1)*(n+2))-0.5-2*harmonic(2,n+1)\n",
    "    \n",
    "    #--polygamma\n",
    "    def polygamma(ini,fin):\n",
    "        polygamma=0\n",
    "        for i in range(ini,fin):\n",
    "            polygamma+=1./i**2\n",
    "        return polygamma\n",
    "    \n",
    "    d_n=2*(harmonic(1,n)**2+polygamma(1,n)+0.5-1.0/((n+1)*(n+2)))\n",
    "    aS=conf['alphaS'].get_alphaS(x/z2)\n",
    "    cn=1.-aS/2./np.pi*CF*(gamma_n*np.log(x*np.exp(2*euler+1)/4.0)+d_n)\n",
    "    return cn"
   ]
  },
  {
   "cell_type": "code",
   "execution_count": 11,
   "id": "weird-johnson",
   "metadata": {},
   "outputs": [],
   "source": [
    "def aval(mu2):\n",
    "    conf['pdf-pion'].evolve(mu2)\n",
    "    u=np.array(conf['pdf-pion'].storage[mu2]['u'])\n",
    "    ub=np.array(conf['pdf-pion'].storage[mu2]['ub'])\n",
    "    return ub-u"
   ]
  },
  {
   "cell_type": "code",
   "execution_count": 12,
   "id": "loved-arcade",
   "metadata": {},
   "outputs": [],
   "source": [
    "def ReITD(nu,z2,N):\n",
    "    M=1\n",
    "    for n in range(1,N):\n",
    "        if n%2==1: continue\n",
    "        M+=(1j*nu)**n/int(mp.factorial(n))*cn(1.,n,z2)*(aval(1.0/z2)[n]) #--nth index in pdf storage is N=n+1\n",
    "    return np.real(M)"
   ]
  },
  {
   "cell_type": "code",
   "execution_count": 15,
   "id": "lyric-treaty",
   "metadata": {},
   "outputs": [],
   "source": [
    "def auub(mu2):\n",
    "    conf['pdf-pion'].evolve(mu2)\n",
    "    u=np.array(conf['pdf-pion'].storage[mu2]['u'])\n",
    "    ub=np.array(conf['pdf-pion'].storage[mu2]['ub'])\n",
    "    return ub+u"
   ]
  },
  {
   "cell_type": "code",
   "execution_count": 16,
   "id": "southeast-genre",
   "metadata": {},
   "outputs": [],
   "source": [
    "def ImITD(nu,z2,N):\n",
    "    M=1\n",
    "    for n in range(1,N):\n",
    "        if n%2==0: continue\n",
    "        M+=(1j*nu)**n/int(mp.factorial(n))*cn(1.,n,z2)*(aval(1.0/z2)[n])\n",
    "    return np.imag(M)"
   ]
  },
  {
   "cell_type": "code",
   "execution_count": 13,
   "id": "enormous-question",
   "metadata": {},
   "outputs": [],
   "source": [
    "Lbig=32\n",
    "Lsmall=24\n",
    "a=0.127\n",
    "nuB=lambda zoa,p: 2*np.pi/Lbig*zoa*p\n",
    "nuS=lambda zoa,p: 2*np.pi/Lsmall*zoa*p"
   ]
  },
  {
   "cell_type": "code",
   "execution_count": 14,
   "id": "fatty-platinum",
   "metadata": {},
   "outputs": [],
   "source": [
    "ZoA=np.array([_ for _ in range(1,9)])\n",
    "p=np.array([1,2,3])\n",
    "Z=a*ZoA"
   ]
  },
  {
   "cell_type": "code",
   "execution_count": 17,
   "id": "outside-sender",
   "metadata": {},
   "outputs": [
    {
     "ename": "AttributeError",
     "evalue": "module 'types' has no attribute 'NoneType'",
     "output_type": "error",
     "traceback": [
      "\u001b[0;31m---------------------------------------------------------------------------\u001b[0m",
      "\u001b[0;31mAttributeError\u001b[0m                            Traceback (most recent call last)",
      "\u001b[0;32m<ipython-input-17-6031e54c4134>\u001b[0m in \u001b[0;36m<module>\u001b[0;34m\u001b[0m\n\u001b[0;32m----> 1\u001b[0;31m \u001b[0mreplicas\u001b[0m\u001b[0;34m=\u001b[0m\u001b[0mcore\u001b[0m\u001b[0;34m.\u001b[0m\u001b[0mget_replicas\u001b[0m\u001b[0;34m(\u001b[0m\u001b[0;34m'../JAM/analysis-resummation/NLOpy3/'\u001b[0m\u001b[0;34m)\u001b[0m\u001b[0;34m\u001b[0m\u001b[0;34m\u001b[0m\u001b[0m\n\u001b[0m\u001b[1;32m      2\u001b[0m \u001b[0mistep\u001b[0m\u001b[0;34m=\u001b[0m\u001b[0;36m16\u001b[0m\u001b[0;34m\u001b[0m\u001b[0;34m\u001b[0m\u001b[0m\n",
      "\u001b[0;32m/work/JAM/barryp/JAM/fitpack2/analysis/corelib/core.py\u001b[0m in \u001b[0;36mget_replicas\u001b[0;34m(wdir, replicas, mod_conf)\u001b[0m\n\u001b[1;32m    134\u001b[0m     \u001b[0mload\u001b[0m \u001b[0mthe\u001b[0m \u001b[0mmsr\u001b[0m \u001b[0mfiles\u001b[0m\u001b[0;34m\u001b[0m\u001b[0;34m\u001b[0m\u001b[0m\n\u001b[1;32m    135\u001b[0m     \"\"\"\n\u001b[0;32m--> 136\u001b[0;31m     \u001b[0;32mif\u001b[0m \u001b[0mtype\u001b[0m\u001b[0;34m(\u001b[0m\u001b[0mreplicas\u001b[0m\u001b[0;34m)\u001b[0m \u001b[0;34m==\u001b[0m \u001b[0mtypes\u001b[0m\u001b[0;34m.\u001b[0m\u001b[0mNoneType\u001b[0m\u001b[0;34m:\u001b[0m\u001b[0;34m\u001b[0m\u001b[0;34m\u001b[0m\u001b[0m\n\u001b[0m\u001b[1;32m    137\u001b[0m         \u001b[0mreplicas\u001b[0m\u001b[0;34m=\u001b[0m\u001b[0msorted\u001b[0m\u001b[0;34m(\u001b[0m\u001b[0mos\u001b[0m\u001b[0;34m.\u001b[0m\u001b[0mlistdir\u001b[0m\u001b[0;34m(\u001b[0m\u001b[0;34m'%s/msr-inspected'\u001b[0m\u001b[0;34m%\u001b[0m\u001b[0mwdir\u001b[0m\u001b[0;34m)\u001b[0m\u001b[0;34m)\u001b[0m\u001b[0;34m\u001b[0m\u001b[0;34m\u001b[0m\u001b[0m\n\u001b[1;32m    138\u001b[0m     \u001b[0mreplicas\u001b[0m\u001b[0;34m=\u001b[0m\u001b[0;34m[\u001b[0m\u001b[0mload\u001b[0m\u001b[0;34m(\u001b[0m\u001b[0;34m'%s/msr-inspected/%s'\u001b[0m\u001b[0;34m%\u001b[0m\u001b[0;34m(\u001b[0m\u001b[0mwdir\u001b[0m\u001b[0;34m,\u001b[0m\u001b[0m_\u001b[0m\u001b[0;34m)\u001b[0m\u001b[0;34m)\u001b[0m \u001b[0;32mfor\u001b[0m \u001b[0m_\u001b[0m \u001b[0;32min\u001b[0m \u001b[0mreplicas\u001b[0m\u001b[0;34m]\u001b[0m\u001b[0;34m\u001b[0m\u001b[0;34m\u001b[0m\u001b[0m\n",
      "\u001b[0;31mAttributeError\u001b[0m: module 'types' has no attribute 'NoneType'"
     ]
    }
   ],
   "source": [
    "replicas=core.get_replicas('../JAM/analysis-resummation/NLOpy3/')\n",
    "istep=16"
   ]
  },
  {
   "cell_type": "code",
   "execution_count": 19,
   "id": "quiet-basketball",
   "metadata": {},
   "outputs": [],
   "source": [
    "m=load('../JAM/analysis-resummation/NLOpy3/msr-inspected/01WGXSQA86XW.msr')"
   ]
  },
  {
   "cell_type": "code",
   "execution_count": 48,
   "id": "filled-ballet",
   "metadata": {},
   "outputs": [],
   "source": [
    "ReM={}\n",
    "ReM['a127m415L']={}\n",
    "ReM['a127m415']={}\n",
    "itB={}\n",
    "itS={}\n",
    "for i in range(len(p)):\n",
    "    ReM['a127m415L'][p[i]]=[]\n",
    "    ReM['a127m415'][p[i]]=[]\n",
    "    itB[p[i]]=[]\n",
    "    itS[p[i]]=[]\n",
    "    for j in range(len(ZoA)):\n",
    "        ioffeB=nuB(ZoA[j],p[i])\n",
    "        ioffeS=nuS(ZoA[j],p[i])\n",
    "        itB[p[i]].append(ioffeB)\n",
    "        itS[p[i]].append(ioffeS)\n",
    "        ReM['a127m415L'][p[i]].append(ReITD(ioffeB,Z[i]**2,len(imell.N)))\n",
    "        if ZoA[j]>6: continue\n",
    "        ReM['a127m415'][p[i]].append(ReITD(ioffeS,Z[i]**2,len(imell.N)))\n",
    "    ReM['a127m415L'][p[i]]=np.array(ReM['a127m415L'][p[i]])\n",
    "    ReM['a127m415'][p[i]]=np.array(ReM['a127m415'][p[i]])"
   ]
  },
  {
   "cell_type": "code",
   "execution_count": 49,
   "id": "sticky-carry",
   "metadata": {},
   "outputs": [
    {
     "data": {
      "image/png": "[encoded data removed]",
      "text/plain": [
       "<Figure size 432x288 with 1 Axes>"
      ]
     },
     "metadata": {
      "needs_background": "light"
     },
     "output_type": "display_data"
    }
   ],
   "source": [
    "ax=py.subplot(111)\n",
    "c=['r','g','b']\n",
    "for i in range(len(p)):\n",
    "    ax.plot(itB[p[i]],ReM['a127m415L'][p[i]],'o',color=c[i],label=r'$p=%i$'%p[i])\n",
    "    ax.plot(itS[p[i]][:-2],ReM['a127m415'][p[i]],'^',color=c[i])\n",
    "ax.plot(1,0.5,'ko')\n",
    "ax.text(1.1,0.5,r'$L=32$',size=20)\n",
    "ax.plot(1,0.4,'k^')\n",
    "ax.text(1.1,0.4,r'$L=24$',size=20)\n",
    "ax.set_xlabel(r'$\\nu$',size=20)\n",
    "ax.set_ylabel(r'${\\rm Re} \\mathfrak{M}(\\nu,z^2)$',size=20)\n",
    "ax.legend()\n",
    "ax.tick_params(axis='both',which='both',direction='in',labelsize=20)\n",
    "ax.set_xlim(0,5)\n",
    "ax.set_ylim(0,1.1)\n",
    "\n",
    "checkdir('lattice_gallery')\n",
    "py.tight_layout()\n",
    "# py.savefig('lattice_gallery/ReM.png')"
   ]
  },
  {
   "cell_type": "code",
   "execution_count": null,
   "id": "quiet-calibration",
   "metadata": {},
   "outputs": [],
   "source": []
  },
  {
   "cell_type": "code",
   "execution_count": null,
   "id": "adopted-daniel",
   "metadata": {},
   "outputs": [],
   "source": []
  },
  {
   "cell_type": "code",
   "execution_count": 52,
   "id": "polish-zambia",
   "metadata": {},
   "outputs": [
    {
     "name": "stdout",
     "output_type": "stream",
     "text": [
      "0.9687201213906466\n"
     ]
    }
   ],
   "source": [
    "print(ImITD(2,4,5))"
   ]
  },
  {
   "cell_type": "code",
   "execution_count": 67,
   "id": "economic-billion",
   "metadata": {},
   "outputs": [],
   "source": [
    "ImM={}\n",
    "ImM['a127m415L']={}\n",
    "ImM['a127m415']={}\n",
    "itB={}\n",
    "itS={}\n",
    "for i in range(len(p)):\n",
    "    ImM['a127m415L'][p[i]]=[]\n",
    "    ImM['a127m415'][p[i]]=[]\n",
    "    itB[p[i]]=[]\n",
    "    itS[p[i]]=[]\n",
    "    for j in range(len(ZoA)):\n",
    "        ioffeB=nuB(ZoA[j],p[i])\n",
    "        ioffeS=nuS(ZoA[j],p[i])\n",
    "        itB[p[i]].append(ioffeB)\n",
    "        itS[p[i]].append(ioffeS)\n",
    "        ImM['a127m415L'][p[i]].append(ImITD(ioffeB,Z[i]**2,len(imell.N)))\n",
    "        if ZoA[j]>6: continue\n",
    "        ImM['a127m415'][p[i]].append(ImITD(ioffeS,Z[i]**2,len(imell.N)))\n",
    "    ImM['a127m415L'][p[i]]=np.array(ImM['a127m415L'][p[i]])\n",
    "    ImM['a127m415'][p[i]]=np.array(ImM['a127m415'][p[i]])"
   ]
  },
  {
   "cell_type": "code",
   "execution_count": 68,
   "id": "complex-sunday",
   "metadata": {},
   "outputs": [
    {
     "data": {
      "image/png": "[encoded data removed]",
      "text/plain": [
       "<Figure size 432x288 with 1 Axes>"
      ]
     },
     "metadata": {
      "needs_background": "light"
     },
     "output_type": "display_data"
    }
   ],
   "source": [
    "ax=py.subplot(111)\n",
    "c=['r','g','b']\n",
    "for i in range(len(p)):\n",
    "    ax.plot(itB[p[i]],ImM['a127m415L'][p[i]],'o',color=c[i],label=r'$p=%i$'%p[i])\n",
    "    ax.plot(itS[p[i]][:-2],ImM['a127m415'][p[i]],'^',color=c[i])\n",
    "ax.plot(3,0.4,'ko')\n",
    "ax.text(3.1,0.4,r'$L=32$',size=20)\n",
    "ax.plot(3,0.3,'k^')\n",
    "ax.text(3.1,0.3,r'$L=24$',size=20)\n",
    "ax.set_xlabel(r'$\\nu$',size=20)\n",
    "ax.set_ylabel(r'${\\rm Im} \\mathfrak{M}(\\nu,z^2)$',size=20)\n",
    "ax.legend()\n",
    "ax.tick_params(axis='both',which='both',direction='in',labelsize=20)\n",
    "ax.set_xlim(0,5)\n",
    "ax.set_ylim(0,0.7)\n",
    "\n",
    "checkdir('lattice_gallery')\n",
    "py.tight_layout()\n",
    "# py.savefig('lattice_gallery/ImM.png')"
   ]
  },
  {
   "cell_type": "code",
   "execution_count": null,
   "id": "experimental-cartridge",
   "metadata": {},
   "outputs": [],
   "source": []
  }
 ],
 "metadata": {
  "kernelspec": {
   "display_name": "Python 3",
   "language": "python",
   "name": "python3"
  },
  "language_info": {
   "codemirror_mode": {
    "name": "ipython",
    "version": 3
   },
   "file_extension": ".py",
   "mimetype": "text/x-python",
   "name": "python",
   "nbconvert_exporter": "python",
   "pygments_lexer": "ipython3",
   "version": "3.8.6"
  }
 },
 "nbformat": 4,
 "nbformat_minor": 5
}
