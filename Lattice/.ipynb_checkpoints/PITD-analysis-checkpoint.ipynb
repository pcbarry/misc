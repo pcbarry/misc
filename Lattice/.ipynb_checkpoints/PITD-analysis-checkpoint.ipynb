{
 "cells": [
  {
   "cell_type": "code",
   "execution_count": 4,
   "id": "packed-great",
   "metadata": {},
   "outputs": [
    {
     "name": "stderr",
     "output_type": "stream",
     "text": [
      "Matplotlib created a temporary config/cache directory at /tmp/matplotlib-5bvg6rvt because the default path (/home/jovyan/.cache/matplotlib) is not a writable directory; it is highly recommended to set the MPLCONFIGDIR environment variable to a writable directory, in particular to speed up the import of Matplotlib and to better support multiprocessing.\n"
     ]
    }
   ],
   "source": [
    "import numpy as np\n",
    "import os,sys\n",
    "import pandas as pd\n",
    "import matplotlib\n",
    "import mpmath as mp\n",
    "import pylab as py\n",
    "from mpmath import fp\n",
    "from timeit import time"
   ]
  },
  {
   "cell_type": "code",
   "execution_count": 5,
   "id": "blocked-style",
   "metadata": {},
   "outputs": [],
   "source": [
    "from scipy.special import gamma\n",
    "from scipy.integrate import quad,fixed_quad\n",
    "from scipy.optimize import least_squares"
   ]
  },
  {
   "cell_type": "code",
   "execution_count": 6,
   "id": "independent-blanket",
   "metadata": {},
   "outputs": [],
   "source": [
    "import copy"
   ]
  },
  {
   "cell_type": "code",
   "execution_count": 7,
   "id": "irish-accuracy",
   "metadata": {},
   "outputs": [],
   "source": [
    "sys.path.append('/work/JAM/barryp/JAM/fitpack2/')\n",
    "os.environ['FITPACK']='/work/JAM/barryp/JAM/fitpack2/'"
   ]
  },
  {
   "cell_type": "code",
   "execution_count": 8,
   "id": "south-bride",
   "metadata": {},
   "outputs": [],
   "source": [
    "from qcdlib import mellin,pdf,alphaS,eweak,aux,pdfpionfit,pdfpion\n",
    "\n",
    "from tools.config import conf\n",
    "from tools.tools import load,save,checkdir,lprint"
   ]
  },
  {
   "cell_type": "code",
   "execution_count": 9,
   "id": "instant-shore",
   "metadata": {},
   "outputs": [],
   "source": [
    "conf['Q20']=1.27**2\n",
    "conf['aux']=aux.AUX()\n",
    "conf['order']='NLO'\n",
    "conf['eweak']=eweak.EWEAK()\n",
    "conf['alphaS']=alphaS.ALPHAS()\n",
    "conf['dglap mode']='truncated'"
   ]
  },
  {
   "cell_type": "code",
   "execution_count": 10,
   "id": "rental-clothing",
   "metadata": {},
   "outputs": [
    {
     "name": "stdout",
     "output_type": "stream",
     "text": [
      "0.29655693611611816\n"
     ]
    }
   ],
   "source": [
    "print(conf['alphaS'].get_alphaS(2.0**2))"
   ]
  },
  {
   "cell_type": "code",
   "execution_count": 11,
   "id": "interracial-world",
   "metadata": {},
   "outputs": [],
   "source": [
    "mell=mellin.MELLIN()\n",
    "imell=mellin.IMELLIN()\n",
    "mellpi=mellin.MELLIN(npts=8,extended=True)\n",
    "\n",
    "# pdf1=pdf.PDF(mellin=mell)\n",
    "# pdf2=pdf.PDF(mellin=imell)"
   ]
  },
  {
   "cell_type": "code",
   "execution_count": 12,
   "id": "suspended-postage",
   "metadata": {},
   "outputs": [],
   "source": [
    "imell.N=np.array([])\n",
    "for i in range(1,51):\n",
    "    iN=np.array([i],dtype=complex)\n",
    "    imell.N=np.append(imell.N,iN)"
   ]
  },
  {
   "cell_type": "code",
   "execution_count": 13,
   "id": "hawaiian-brave",
   "metadata": {},
   "outputs": [],
   "source": [
    "class ITD:\n",
    "    \n",
    "    def __init__(self):\n",
    "        self.euler=conf['aux'].euler\n",
    "        self.CF=conf['aux'].CF\n",
    "        self.aS=conf['alphaS'].get_alphaS\n",
    "        \n",
    "    def beta(self,a,b):\n",
    "        return gamma(a)*gamma(b)/gamma(a+b)\n",
    "\n",
    "    def pdfN(self,N,par):\n",
    "        a,b=par[0],par[1]\n",
    "        return self.beta(N+a,b+1)/self.beta(a+1,b+1)\n",
    "        \n",
    "    def cn(self,n,z2,mu2):\n",
    "        CF=self.CF\n",
    "        euler=self.euler\n",
    "\n",
    "        #--harmonic number\n",
    "        def harmonic(ini,fin):\n",
    "            harmonic=0\n",
    "            for i in range(ini,fin):\n",
    "                harmonic+=1./i\n",
    "            return harmonic\n",
    "\n",
    "        gamma_n=1.0/((n+1)*(n+2))-0.5-2*harmonic(2,n+1)\n",
    "\n",
    "        #--polygamma\n",
    "        def polygamma(ini,fin):\n",
    "            polygamma=0\n",
    "            for i in range(ini,fin):\n",
    "                polygamma+=1./i**2\n",
    "            return polygamma\n",
    "\n",
    "        d_n=2*(harmonic(1,n)**2+polygamma(1,n)+0.5-1.0/((n+1)*(n+2)))\n",
    "        aS=self.aS(mu2)\n",
    "        cn=1.-aS/2./np.pi*CF*(gamma_n*np.log(z2*mu2*np.exp(2*euler+1)/4.0)+d_n)\n",
    "        return cn\n",
    "    \n",
    "    def ReITD(self,nu,z2,mu2,lN,par=[-0.5,2]):\n",
    "        M=1\n",
    "        for n in range(1,lN):\n",
    "            if n%2==1: continue\n",
    "            M+=(1j*nu)**n/int(fp.factorial(n))*self.cn(n+1,z2,mu2)*self.pdfN(n+1,par)\n",
    "        return np.real(M)\n",
    "    "
   ]
  },
  {
   "cell_type": "code",
   "execution_count": 14,
   "id": "subsequent-amplifier",
   "metadata": {},
   "outputs": [],
   "source": [
    "nu=np.linspace(0,3,10)"
   ]
  },
  {
   "cell_type": "code",
   "execution_count": 15,
   "id": "incident-delhi",
   "metadata": {},
   "outputs": [],
   "source": [
    "itd=ITD()\n",
    "\n",
    "truncated_re=[]\n",
    "for i in range(len(nu)):\n",
    "    truncated_re.append(itd.ReITD(nu[i],0.25,4.0,len(imell.N)))\n",
    "truncated_re=np.array(truncated_re)"
   ]
  },
  {
   "cell_type": "code",
   "execution_count": 16,
   "id": "divided-passage",
   "metadata": {},
   "outputs": [
    {
     "name": "stdout",
     "output_type": "stream",
     "text": [
      "0.9998806264253532\n"
     ]
    }
   ],
   "source": [
    "print(itd.ReITD(0.1,1/1.27**2,1.27**2,50))"
   ]
  },
  {
   "cell_type": "code",
   "execution_count": 17,
   "id": "associate-waste",
   "metadata": {},
   "outputs": [
    {
     "data": {
      "text/plain": [
       "[<matplotlib.lines.Line2D at 0x7f60588c4790>]"
      ]
     },
     "execution_count": 17,
     "metadata": {},
     "output_type": "execute_result"
    },
    {
     "data": {
      "image/png": "[encoded data removed]",
      "text/plain": [
       "<Figure size 432x288 with 1 Axes>"
      ]
     },
     "metadata": {
      "needs_background": "light"
     },
     "output_type": "display_data"
    }
   ],
   "source": [
    "ax=py.subplot(111)\n",
    "ax.plot(nu,truncated_re,'.')"
   ]
  },
  {
   "cell_type": "markdown",
   "id": "suburban-prompt",
   "metadata": {},
   "source": [
    "# Read in data"
   ]
  },
  {
   "cell_type": "code",
   "execution_count": 18,
   "id": "compliant-malpractice",
   "metadata": {},
   "outputs": [],
   "source": [
    "tab1=pd.read_excel('/work/JAM/barryp/JAM/fitpack2/database/pITD-pion/expdata/1001.xlsx')\n",
    "tab2=pd.read_excel('/work/JAM/barryp/JAM/fitpack2/database/pITD-pion/expdata/1002.xlsx')"
   ]
  },
  {
   "cell_type": "code",
   "execution_count": 19,
   "id": "superb-gossip",
   "metadata": {},
   "outputs": [],
   "source": [
    "cov=[x for x in tab1 if 'stat_' in x]\n",
    "npts=len(tab1['value'].values)\n",
    "stat_u=np.zeros(npts)\n",
    "for k in cov:\n",
    "    i=int(k.split('_')[-1])\n",
    "    stat_u[i-1]=tab1[k].values[i-1]**0.5\n",
    "tab1['stat_u']=pd.Series(stat_u,index=tab1.index)\n",
    "\n",
    "cov=[x for x in tab2 if 'stat_' in x]\n",
    "npts=len(tab2['value'].values)\n",
    "stat_u=np.zeros(npts)\n",
    "for k in cov:\n",
    "    i=int(k.split('_')[-1])\n",
    "    stat_u[i-1]=tab2[k].values[i-1]**0.5\n",
    "tab2['stat_u']=pd.Series(stat_u,index=tab2.index)"
   ]
  },
  {
   "cell_type": "code",
   "execution_count": 20,
   "id": "english-traffic",
   "metadata": {},
   "outputs": [
    {
     "data": {
      "image/png": "[encoded data removed]",
      "text/plain": [
       "<Figure size 432x288 with 1 Axes>"
      ]
     },
     "metadata": {
      "needs_background": "light"
     },
     "output_type": "display_data"
    }
   ],
   "source": [
    "ax=py.subplot(111)\n",
    "# ax.plot(tab['nu'].values,tab['value'].values,'o')\n",
    "ax.errorbar(tab1['nu'].values,tab1['value'].values,yerr=tab1['stat_u'].values,fmt='h')\n",
    "ax.errorbar(tab2['nu'].values,tab2['value'].values,yerr=tab2['stat_u'].values,fmt='^')\n",
    "ax.set_ylabel(r'${\\rm Re}\\mathfrak{M}(\\nu,z^2)$',size=20)\n",
    "ax.set_xlabel(r'$\\nu$',size=20)\n",
    "ax.tick_params(direction='in',which='both',labelsize=15)\n",
    "ax.set_ylim(0,1.1)\n",
    "py.tight_layout()\n",
    "# py.savefig('lattice_gallery/Redata.png')"
   ]
  },
  {
   "cell_type": "code",
   "execution_count": 21,
   "id": "rolled-farming",
   "metadata": {},
   "outputs": [
    {
     "data": {
      "image/png": "[encoded data removed]",
      "text/plain": [
       "<Figure size 432x288 with 1 Axes>"
      ]
     },
     "metadata": {
      "needs_background": "light"
     },
     "output_type": "display_data"
    }
   ],
   "source": [
    "ax=py.subplot(111)\n",
    "# ax.plot(tab['nu'].values,tab['value'].values,'o')\n",
    "ax.errorbar(tab1['nu'].values,tab1['value'].values,yerr=tab1['stat_u'].values,fmt='h')\n",
    "ax.errorbar(tab2['nu'].values,tab2['value'].values,yerr=tab2['stat_u'].values,fmt='^')\n",
    "# testthy=[ITD().ReITD(_,1/4.0,4.0,50,[fit.x[0],fit.x[1]]) for _ in np.linspace(0,5,100)]\n",
    "# ax.plot(np.linspace(0,5,100),testthy,'r')\n",
    "testthy=[ITD().ReITD(_,1/4.0,4.0,50,[0.5,1.5]) for _ in np.linspace(0,5,100)]\n",
    "ax.plot(np.linspace(0,5,100),testthy,'b')\n",
    "ax.set_ylabel(r'${\\rm Re}\\mathfrak{M}(\\nu,z^2)$',size=20)\n",
    "ax.set_xlabel(r'$\\nu$',size=20)\n",
    "ax.tick_params(direction='in',which='both',labelsize=15)\n",
    "ax.set_ylim(0,1.1)\n",
    "py.tight_layout()\n",
    "# py.savefig('lattice_gallery/Redata.png')"
   ]
  },
  {
   "cell_type": "code",
   "execution_count": 22,
   "id": "centered-characterization",
   "metadata": {},
   "outputs": [],
   "source": [
    "itd=ITD()"
   ]
  },
  {
   "cell_type": "code",
   "execution_count": 23,
   "id": "spanish-bulgarian",
   "metadata": {},
   "outputs": [],
   "source": [
    "tablesize=2"
   ]
  },
  {
   "cell_type": "code",
   "execution_count": 24,
   "id": "gross-increase",
   "metadata": {},
   "outputs": [],
   "source": [
    "def resfunc(par,zmin,zmax,printfit=True):\n",
    "    if printfit: lprint('a=%f, b=%f'%(par[0],par[1]))\n",
    "    d=tab1.query('z<=%.3f and z>%.3f'%(zmax,zmin))\n",
    "    exp=d['value'].values\n",
    "    dexp=d['stat_u'].values\n",
    "    thy=[itd.ReITD(d['nu'].values[i],d['z'].values[i]**2,4.0,50,[par[0],par[1]]) for i in range(len(d['z'].values))]\n",
    "#     thy=[itd.ReITD(d['nu'].values[i],d['z'].values[i]**2,1/d['z'].values[i]**2,50,[par[0],par[1]]) for i in range(len(d['z'].values))]\n",
    "    thy=np.array(thy)\n",
    "    residuals=(exp-thy)/dexp\n",
    "\n",
    "    d=tab2.query('z<=%.3f and z>%.3f'%(zmax,zmin))\n",
    "    exp=d['value'].values\n",
    "    dexp=d['stat_u'].values\n",
    "    thy=[itd.ReITD(d['nu'].values[i],d['z'].values[i]**2,4.0,50,[par[0],par[1]]) for i in range(len(d['z'].values))]\n",
    "#     thy=[itd.ReITD(d['nu'].values[i],d['z'].values[i]**2,1/d['z'].values[i]**2,50,[par[0],par[1]]) for i in range(len(d['z'].values))]\n",
    "    thy=np.array(thy)\n",
    "    residuals=np.append(residuals,(exp-thy)/dexp)\n",
    "#     residuals=(exp-thy)/dexp\n",
    "\n",
    "    return residuals"
   ]
  },
  {
   "cell_type": "code",
   "execution_count": 32,
   "id": "separated-clearance",
   "metadata": {},
   "outputs": [],
   "source": [
    "def res(par,printfit=True):\n",
    "    zmin=np.unique(tab1['z'])[1]\n",
    "    zmax=np.unique(tab1['z'])[7]\n",
    "    return resfunc(par,zmin,zmax,printfit)"
   ]
  },
  {
   "cell_type": "code",
   "execution_count": 33,
   "id": "minute-particle",
   "metadata": {},
   "outputs": [
    {
     "name": "stdout",
     "output_type": "stream",
     "text": [
      "[0.127 0.254 0.381 0.508 0.635 0.762 0.889 1.016]\n"
     ]
    }
   ],
   "source": [
    "print(np.unique(tab1['z']))"
   ]
  },
  {
   "cell_type": "code",
   "execution_count": 34,
   "id": "reserved-antenna",
   "metadata": {},
   "outputs": [],
   "source": [
    "def chi2(par,printfit=True):\n",
    "    return np.sum(res(par,printfit)**2)"
   ]
  },
  {
   "cell_type": "code",
   "execution_count": 35,
   "id": "weekly-dress",
   "metadata": {},
   "outputs": [
    {
     "name": "stdout",
     "output_type": "stream",
     "text": [
      "[ -8.03205138  -1.15348706  -1.88767552  -9.94150578  -3.16692258\n",
      "  -1.307071    -9.71984717  -3.05209969  -0.90671104  -8.95637239\n",
      "  -2.55290901  -0.62146151  -6.90986047  -2.87766783  -0.57509237\n",
      "  -4.82090053  -2.32543275  -0.82783093 -12.18921089  -2.3208894\n",
      "   0.6548025  -11.46280179  -2.93716733   1.07602485 -13.02290797\n",
      "  -2.91843692   1.63265192 -13.07139187  -2.32285148   2.13452912]\n",
      "1114.5688608260298\n"
     ]
    }
   ],
   "source": [
    "guess=[0.5,2.5]\n",
    "print(res(guess,printfit=False))\n",
    "print(np.sum(res(guess,printfit=False)**2))"
   ]
  },
  {
   "cell_type": "code",
   "execution_count": 36,
   "id": "pressing-touch",
   "metadata": {},
   "outputs": [
    {
     "name": "stdout",
     "output_type": "stream",
     "text": [
      "a=-0.241954, b=0.500000"
     ]
    }
   ],
   "source": [
    "fit=least_squares(res,guess,bounds=([-1,0.5],[1,2.5]))"
   ]
  },
  {
   "cell_type": "code",
   "execution_count": 37,
   "id": "differential-confidentiality",
   "metadata": {},
   "outputs": [
    {
     "name": "stdout",
     "output_type": "stream",
     "text": [
      "66.4848187973955\n"
     ]
    }
   ],
   "source": [
    "print(np.sum(res(fit.x,printfit=False)**2))"
   ]
  },
  {
   "cell_type": "code",
   "execution_count": 39,
   "id": "silver-agent",
   "metadata": {},
   "outputs": [
    {
     "name": "stdout",
     "output_type": "stream",
     "text": [
      "30\n"
     ]
    },
    {
     "data": {
      "image/png": "[encoded data removed]",
      "text/plain": [
       "<Figure size 1728x576 with 10 Axes>"
      ]
     },
     "metadata": {
      "needs_background": "light"
     },
     "output_type": "display_data"
    }
   ],
   "source": [
    "# zbins=[0.254]\n",
    "# zbins=[0.254,0.381]\n",
    "# zbins=[0.254,0.381,0.508]\n",
    "# zbins=[0.254,0.381,0.508,0.635]\n",
    "# zbins=[0.254,0.381,0.508,0.635,0.762]\n",
    "# zbins=[0.254,0.381,0.508,0.635,0.762,0.889]\n",
    "# zbins=[0.254,0.381,0.508,0.635,0.762,0.889,1.016]\n",
    "\n",
    "# zbins=[0.381]\n",
    "# zbins=[0.381,0.508]\n",
    "# zbins=[0.381,0.508,0.635]\n",
    "# zbins=[0.381,0.508,0.635,0.762]\n",
    "# zbins=[0.381,0.508,0.635,0.762,0.889]\n",
    "zbins=[0.381,0.508,0.635,0.762,0.889,1.016]\n",
    "\n",
    "# zbins=[0.508]\n",
    "# zbins=[0.508,0.635]\n",
    "# zbins=[0.508,0.635,0.762]\n",
    "# zbins=[0.508,0.635,0.762,0.889]\n",
    "# zbins=[0.508,0.635,0.762,0.889,1.016]\n",
    "\n",
    "if tablesize==2: nrows,ncols=2,len(zbins)\n",
    "else: nrows,ncols=1,len(zbins)\n",
    "py.figure(figsize=(4*ncols,4*nrows))\n",
    "\n",
    "thy=[]\n",
    "npts=0\n",
    "cnt=0\n",
    "for i in range(len(zbins)):\n",
    "    cnt+=1\n",
    "    ax=py.subplot(nrows,ncols,cnt)\n",
    "    d=tab1.query('z==%f'%(zbins[i]))\n",
    "    ax.errorbar(d['nu'],d['value'],yerr=d['stat_u'],fmt='k.',label=r'$z=%i a$'%(d['ZoA'].values[0]))\n",
    "    ax.legend()\n",
    "    nu=np.linspace(min(d['nu'].values),max(d['nu'].values),50)\n",
    "#     thy.append([itd.ReITD(nu[i],d['z'].values[0]**2,1/d['z'].values[0]**2,50,[fit.x[0],fit.x[1]]) for i in range(len(nu))])\n",
    "    thy.append([itd.ReITD(nu[i],d['z'].values[0]**2,4.0,50,[fit.x[0],fit.x[1]]) for i in range(len(nu))])\n",
    "    npts+=len(d['value'].values)\n",
    "    ax.plot(nu,np.array(thy[cnt-1]),label=r'$\\rm fit$')\n",
    "    ax.legend(fontsize=15)\n",
    "    ax.set_xlabel(r'$\\nu$',size=20)\n",
    "    if i==0: ax.set_ylabel(r'${\\rm Re}\\mathfrak{M}(\\nu,z^2)~L=%i$'%d['L'].values[0],size=20)\n",
    "\n",
    "ax.text(0.1,0.4,r'$a=%.3f$'%fit.x[0],transform=ax.transAxes,size=20)\n",
    "ax.text(0.1,0.3,r'$b=%.3f$'%fit.x[1],transform=ax.transAxes,size=20)\n",
    "\n",
    "filename='zmin=%.3f_zmax=%.3f_both.png'%(zbins[0],zbins[-1])\n",
    "\n",
    "if tablesize==2:\n",
    "\n",
    "    while zbins[-1]>0.77: \n",
    "        zbins=zbins[:-1]\n",
    "    for i in range(len(zbins)):\n",
    "        cnt+=1\n",
    "        ax=py.subplot(nrows,ncols,cnt)\n",
    "        d=tab2.query('z==%f'%(zbins[i]))\n",
    "        ax.errorbar(d['nu'],d['value'],yerr=d['stat_u'],fmt='k.',label=r'$z=%i a$'%(d['ZoA'].values[0]))\n",
    "        ax.legend(fontsize=15)\n",
    "        nu=np.linspace(min(d['nu'].values),max(d['nu'].values),50)\n",
    "    #     thy.append([itd.ReITD(nu[i],d['z'].values[0]**2,1/d['z'].values[0]**2,50,[fit.x[0],fit.x[1]]) for i in range(len(nu))])\n",
    "        thy.append([itd.ReITD(nu[i],d['z'].values[0]**2,4.0,50,[fit.x[0],fit.x[1]]) for i in range(len(nu))])\n",
    "        npts+=len(d['value'].values)\n",
    "        ax.plot(nu,np.array(thy[cnt-1]),label=r'$\\rm fit$')\n",
    "        ax.legend(fontsize=15)\n",
    "        ax.set_xlabel(r'$\\nu$',size=20)\n",
    "        if i==0: ax.set_ylabel(r'${\\rm Re}\\mathfrak{M}(\\nu,z^2)~L=%i$'%d['L'].values[0],size=20)\n",
    "\n",
    "print(npts)\n",
    "ax.text(0.1,0.1,r'$\\chi^2/npts=%.3f$'%(chi2(fit.x,printfit=False)/npts),transform=ax.transAxes,size=20)\n",
    "\n",
    "py.tight_layout()\n",
    "checkdir('lattice_gallery/simplefits/mu2=4')\n",
    "# py.savefig('lattice_gallery/simplefits/mu2=4/%s'%filename)"
   ]
  },
  {
   "cell_type": "code",
   "execution_count": null,
   "id": "opposite-potato",
   "metadata": {},
   "outputs": [],
   "source": []
  },
  {
   "cell_type": "markdown",
   "id": "electronic-coast",
   "metadata": {},
   "source": [
    "# Develop Q(nu,mu) as in Fig. 10 of arXiv:1909.08517"
   ]
  },
  {
   "cell_type": "code",
   "execution_count": 40,
   "id": "adverse-asbestos",
   "metadata": {},
   "outputs": [],
   "source": [
    "d=tab1.query('ZoA==1')"
   ]
  },
  {
   "cell_type": "code",
   "execution_count": 41,
   "id": "western-momentum",
   "metadata": {},
   "outputs": [
    {
     "name": "stdout",
     "output_type": "stream",
     "text": [
      "   mpi      a   Nf   L   T        V  p  ZoA      z        nu  ...  \\\n",
      "0  415  0.127  2+1  32  96  3145728  1    1  0.127  0.196350  ...   \n",
      "1  415  0.127  2+1  32  96  3145728  2    1  0.127  0.392699  ...   \n",
      "2  415  0.127  2+1  32  96  3145728  3    1  0.127  0.589049  ...   \n",
      "\n",
      "        stat_16       stat_17       stat_18       stat_19       stat_20  \\\n",
      "0  1.492489e-07  7.364257e-07 -8.603728e-07  1.715015e-07  2.374082e-07   \n",
      "1  2.044594e-06  2.870637e-05 -5.242114e-05  2.428776e-06  2.364799e-06   \n",
      "2 -7.125706e-07  3.912754e-05  1.803424e-04 -8.347037e-07  3.401767e-05   \n",
      "\n",
      "    stat_21       stat_22       stat_23   stat_24    stat_u  \n",
      "0 -0.000001  2.083718e-07  5.441921e-07 -0.000002  0.000115  \n",
      "1 -0.000065  2.674597e-06  1.313799e-05 -0.000070  0.003194  \n",
      "2  0.000271 -1.945267e-06  4.896836e-05  0.000483  0.004330  \n",
      "\n",
      "[3 rows x 37 columns]\n"
     ]
    }
   ],
   "source": [
    "print(d)"
   ]
  },
  {
   "cell_type": "code",
   "execution_count": 42,
   "id": "rocky-copper",
   "metadata": {},
   "outputs": [
    {
     "data": {
      "text/plain": [
       "<ErrorbarContainer object of 3 artists>"
      ]
     },
     "execution_count": 42,
     "metadata": {},
     "output_type": "execute_result"
    },
    {
     "data": {
      "image/png": "[encoded data removed]",
      "text/plain": [
       "<Figure size 432x288 with 1 Axes>"
      ]
     },
     "metadata": {
      "needs_background": "light"
     },
     "output_type": "display_data"
    }
   ],
   "source": [
    "ax=py.subplot(111)\n",
    "ax.errorbar(d['nu'],d['value'],yerr=d['stat_u'],fmt='.')"
   ]
  },
  {
   "cell_type": "code",
   "execution_count": 43,
   "id": "vietnamese-distinction",
   "metadata": {},
   "outputs": [],
   "source": [
    "# def FITTER(par,tab,ZoA):\n",
    "def FITTER(par,ZoA):\n",
    "    d=tab1.query('ZoA==%i'%ZoA)\n",
    "    exp=np.array([1.0])\n",
    "    dexp=np.array([0.01])\n",
    "    nu=np.array([0.0])\n",
    "    for i in range(len(d['value'])):\n",
    "        exp=np.append(exp,d['value'].values[i])\n",
    "        dexp=np.append(dexp,d['stat_u'].values[i])\n",
    "        nu=np.append(nu,d['nu'].values[i])\n",
    "    d=tab2.query('ZoA==%i and p<3'%ZoA)\n",
    "    for i in range(len(d['value'])):\n",
    "        exp=np.append(exp,d['value'].values[i])\n",
    "        dexp=np.append(dexp,d['stat_u'].values[i])\n",
    "        nu=np.append(nu,d['nu'].values[i])\n",
    "    thy=par[0]+par[1]*nu+par[2]*nu**2+par[3]*nu**3+par[4]*nu**4+par[5]*nu**5+par[6]*nu**6\n",
    "    residuals=(exp-thy)/dexp\n",
    "    return residuals"
   ]
  },
  {
   "cell_type": "code",
   "execution_count": 44,
   "id": "personal-monthly",
   "metadata": {},
   "outputs": [],
   "source": [
    "guess=[1,0,0,0,0,0,0]\n",
    "ZoA=1\n",
    "fit=least_squares(lambda par: FITTER(par,ZoA),guess)"
   ]
  },
  {
   "cell_type": "code",
   "execution_count": 45,
   "id": "listed-league",
   "metadata": {},
   "outputs": [
    {
     "name": "stdout",
     "output_type": "stream",
     "text": [
      "[ 1.         -0.13554411  1.56996963 -6.25462806  7.48829058  3.33935957\n",
      " -8.09952275]\n"
     ]
    }
   ],
   "source": [
    "print(fit.x)"
   ]
  },
  {
   "cell_type": "code",
   "execution_count": 46,
   "id": "noticed-differential",
   "metadata": {},
   "outputs": [],
   "source": [
    "d=tab1.query('ZoA==%i'%ZoA)\n",
    "THY=lambda nu: fit.x[0]+fit.x[1]*nu+fit.x[2]*nu**2+fit.x[3]*nu**3+fit.x[4]*nu**4+fit.x[5]*nu**5+fit.x[6]*nu**6\n",
    "# NU=np.linspace(min(d['nu'].values),max(d['nu'].values),100)\n",
    "NU=np.linspace(0,max(d['nu'].values),100)"
   ]
  },
  {
   "cell_type": "code",
   "execution_count": 47,
   "id": "severe-burden",
   "metadata": {},
   "outputs": [
    {
     "data": {
      "text/plain": [
       "[<matplotlib.lines.Line2D at 0x7f6057b2d3d0>]"
      ]
     },
     "execution_count": 47,
     "metadata": {},
     "output_type": "execute_result"
    },
    {
     "data": {
      "image/png": "[encoded data removed]",
      "text/plain": [
       "<Figure size 432x288 with 1 Axes>"
      ]
     },
     "metadata": {
      "needs_background": "light"
     },
     "output_type": "display_data"
    }
   ],
   "source": [
    "ax=py.subplot(111)\n",
    "ax.errorbar(d['nu'],d['value'],yerr=d['stat_u'],fmt='.')\n",
    "ax.plot(0,1,'*')\n",
    "d=tab2.query('ZoA==%i and p<3'%ZoA)\n",
    "ax.errorbar(d['nu'],d['value'],yerr=d['stat_u'],fmt='.')\n",
    "thy=[THY(_) for _ in NU]\n",
    "ax.plot(NU,thy)"
   ]
  },
  {
   "cell_type": "code",
   "execution_count": 48,
   "id": "central-driver",
   "metadata": {},
   "outputs": [],
   "source": [
    "def get_Q(data,nu,mu2,z2,fitx):\n",
    "    poly=lambda x: fitx[0]+fitx[1]*x+fitx[2]*x**2+fitx[3]*x**3+fitx[4]*x**4+fitx[5]*x**5+fitx[6]*x**6\n",
    "    B=lambda u: (1+u**2)/(1-u)\n",
    "    L=lambda u: 4*np.log(1-u)/(1-u)-2*(1-u)\n",
    "    alphaS=0.303\n",
    "#     integral1=np.log(z2*mu2*np.exp(2*fp.euler+1)/4)*quad(lambda u: B(u)*(poly(u*nu)-poly(nu)),0,1)[0]\n",
    "#     integral2=quad(lambda u: L(u)*(poly(u*nu)-poly(nu)),0,1)[0]\n",
    "    integral1=np.log(z2*mu2*np.exp(2*fp.euler+1)/4)*fixed_quad(lambda u: B(u)*(poly(u*nu)-data),0,1,n=100)[0]\n",
    "    integral2=fixed_quad(lambda u: L(u)*(poly(u*nu)-data),0,1,n=100)[0]\n",
    "    NLO=alphaS*(4/3)/2/np.pi*(integral1+integral2)\n",
    "    return data-NLO"
   ]
  },
  {
   "cell_type": "code",
   "execution_count": 51,
   "id": "diagnostic-housing",
   "metadata": {},
   "outputs": [],
   "source": [
    "Q={}\n",
    "Q['Z']=[]\n",
    "Q['nu']=[]\n",
    "Q['Q']=[]\n",
    "Q['dQ']=[]\n",
    "Q['volume']=[]"
   ]
  },
  {
   "cell_type": "code",
   "execution_count": 60,
   "id": "chronic-brake",
   "metadata": {},
   "outputs": [],
   "source": [
    "guess=[1,0,0,0,0,0,0]\n",
    "ZoA=8\n",
    "fit=least_squares(lambda par: FITTER(par,ZoA),guess)\n",
    "# print(fit.x)\n",
    "d=tab1.query('ZoA==%i'%ZoA)\n",
    "for i in range(len(d['value'])):\n",
    "    Q['Z'].append(d['z'].values[i])\n",
    "    Q['nu'].append(d['nu'].values[i])\n",
    "    Q['Q'].append(get_Q(d['value'].values[i],d['nu'].values[i],4.0,d['z'].values[i]**2,fit.x))\n",
    "    Q['dQ'].append(d['stat_u'].values[i])\n",
    "    Q['volume'].append('large')\n",
    "d=tab2.query('ZoA==%i and p<3'%ZoA)\n",
    "for i in range(len(d['value'])):\n",
    "    Q['Z'].append(d['z'].values[i])\n",
    "    Q['nu'].append(d['nu'].values[i])\n",
    "    Q['Q'].append(get_Q(d['value'].values[i],d['nu'].values[i],4.0,d['z'].values[i]**2,fit.x))\n",
    "    Q['dQ'].append(d['stat_u'].values[i])\n",
    "    Q['volume'].append('small')"
   ]
  },
  {
   "cell_type": "code",
   "execution_count": 61,
   "id": "blank-order",
   "metadata": {},
   "outputs": [
    {
     "name": "stdout",
     "output_type": "stream",
     "text": [
      "{'Z': [0.127, 0.127, 0.127, 0.127, 0.127, 0.254, 0.254, 0.254, 0.254, 0.254, 0.381, 0.381, 0.381, 0.381, 0.381, 0.508, 0.508, 0.508, 0.508, 0.508, 0.635, 0.635, 0.635, 0.635, 0.635, 0.762, 0.762, 0.762, 0.762, 0.762, 0.889, 0.889, 0.889, 1.016, 1.016, 1.016], 'nu': [0.19635, 0.392699, 0.589049, 0.261799, 0.523599, 0.392699, 0.785398, 1.178097, 0.523599, 1.047198, 0.589049, 1.178097, 1.767146, 0.785398, 1.570796, 0.785398, 1.570796, 2.356194, 1.047198, 2.094395, 0.981748, 1.963495, 2.945243, 1.308997, 2.617994, 1.178097, 2.356194, 3.534292, 1.570796, 3.141593, 1.374447, 2.748894, 4.12334, 1.570796, 3.141593, 4.712389], 'Q': [0.9975977741830173, 0.9974143501657444, 0.9962333696765064, 0.9991110603282821, 0.9910588051711026, 0.9950706395774858, 0.9842744555505685, 0.9765724276775387, 0.9942958991204828, 0.9704908415905913, 0.9907192350169743, 0.959038144377531, 0.9297357424071331, 0.982808213469925, 0.9344854911767329, 0.9802851646289823, 0.917242981758102, 0.8339805733877833, 0.9624590253226699, 0.8640341202425478, 0.9660372666974059, 0.855591606963193, 0.7170975266056588, 0.9317697866914332, 0.7708528239266818, 0.9417358784367762, 0.773509408853482, 0.5981179747638924, 0.8921908949485121, 0.6549002916354252, 0.9137911461381394, 0.6813746245940612, 0.5461307897049179, 0.8835447322128259, 0.5597084475708007, 0.4157621080388532], 'dQ': [0.00011545631208383542, 0.003193845644360416, 0.004329941108144544, 0.00015001239948750903, 0.003671412534706499, 0.0004156121990509903, 0.006064962489578976, 0.019375822563184254, 0.0005205486528654166, 0.015347621965633634, 0.0008421379340701854, 0.022768555070535327, 0.02622766287719895, 0.001085156670716261, 0.014478964051340137, 0.0011442185106001388, 0.01203243533122036, 0.04132732752066119, 0.0018454695879369023, 0.017042414735007477, 0.0017446260344268624, 0.01652368602945481, 0.0623822330475593, 0.0025520056818118565, 0.021221406645177885, 0.0026275804459616457, 0.027090131044348972, 0.08804151293566008, 0.0033764078545104707, 0.026071844967320592, 0.00420320235058937, 0.023501855245916227, 0.13383019091370973, 0.007210077669484566, 0.03862650644311494, 0.23580763346422864], 'volume': ['large', 'large', 'large', 'small', 'small', 'large', 'large', 'large', 'small', 'small', 'large', 'large', 'large', 'small', 'small', 'large', 'large', 'large', 'small', 'small', 'large', 'large', 'large', 'small', 'small', 'large', 'large', 'large', 'small', 'small', 'large', 'large', 'large', 'large', 'large', 'large']}\n"
     ]
    }
   ],
   "source": [
    "print(Q)"
   ]
  },
  {
   "cell_type": "code",
   "execution_count": 62,
   "id": "objective-discussion",
   "metadata": {},
   "outputs": [
    {
     "data": {
      "text/plain": [
       "<ErrorbarContainer object of 3 artists>"
      ]
     },
     "execution_count": 62,
     "metadata": {},
     "output_type": "execute_result"
    },
    {
     "data": {
      "image/png": "[encoded data removed]",
      "text/plain": [
       "<Figure size 432x288 with 1 Axes>"
      ]
     },
     "metadata": {
      "needs_background": "light"
     },
     "output_type": "display_data"
    }
   ],
   "source": [
    "ax=py.subplot(111)\n",
    "ax.errorbar(Q['nu'],Q['Q'],yerr=Q['dQ'],fmt='.')\n",
    "# ax.set_ylim(0,1.1)"
   ]
  },
  {
   "cell_type": "code",
   "execution_count": 63,
   "id": "considerable-vacuum",
   "metadata": {},
   "outputs": [
    {
     "data": {
      "image/png": "[encoded data removed]",
      "text/plain": [
       "<Figure size 432x288 with 1 Axes>"
      ]
     },
     "metadata": {
      "needs_background": "light"
     },
     "output_type": "display_data"
    }
   ],
   "source": [
    "ax=py.subplot(111)\n",
    "c=['m','k','g','y','pink','blue','grey','c']\n",
    "for i in range(len(Q['volume'])):\n",
    "    if Q['volume'][i]=='large': shape='d'\n",
    "    else: shape='o'\n",
    "    idx=int(Q['Z'][i]/0.127)-1\n",
    "    ax.errorbar(Q['nu'][i],Q['Q'][i],yerr=Q['dQ'][i],c=c[idx],marker=shape)"
   ]
  },
  {
   "cell_type": "code",
   "execution_count": 64,
   "id": "inner-climb",
   "metadata": {},
   "outputs": [
    {
     "data": {
      "image/png": "[encoded data removed]",
      "text/plain": [
       "<Figure size 432x288 with 1 Axes>"
      ]
     },
     "metadata": {
      "needs_background": "light"
     },
     "output_type": "display_data"
    }
   ],
   "source": [
    "paper=pd.read_excel('/work/JAM/barryp/Notebooks-Jupyterhub/Qlattice.xlsx')\n",
    "ax=py.subplot(111)\n",
    "c=['m','k','g','y','pink','blue','grey','c']\n",
    "for i in range(len(Q['volume'])):\n",
    "    if Q['volume'][i]=='large': shape='d'\n",
    "    else: shape='o'\n",
    "    idx=int(Q['Z'][i]/0.127)-1\n",
    "    ax.errorbar(Q['nu'][i],Q['Q'][i],yerr=Q['dQ'][i],c=c[idx],marker=shape)\n",
    "    ax.plot(paper['nu'],paper['Q'],'x',zorder=10)"
   ]
  },
  {
   "cell_type": "code",
   "execution_count": null,
   "id": "exciting-light",
   "metadata": {},
   "outputs": [],
   "source": [
    "def get_Q_curve(par,nu,z2):\n",
    "    lam1,lam2,lam3,lam4,c1,c2,c3=par[:]\n",
    "    nucut=1.0\n",
    "    tau=(np.sqrt(nucut+nu)-np.sqrt(nucut))/(np.sqrt(nucut+nu)+np.sqrt(nucut))\n",
    "    "
   ]
  },
  {
   "cell_type": "code",
   "execution_count": null,
   "id": "supposed-minnesota",
   "metadata": {},
   "outputs": [],
   "source": []
  },
  {
   "cell_type": "code",
   "execution_count": null,
   "id": "universal-benjamin",
   "metadata": {},
   "outputs": [],
   "source": []
  },
  {
   "cell_type": "code",
   "execution_count": null,
   "id": "complimentary-sucking",
   "metadata": {},
   "outputs": [],
   "source": []
  },
  {
   "cell_type": "code",
   "execution_count": null,
   "id": "endangered-newton",
   "metadata": {},
   "outputs": [],
   "source": []
  },
  {
   "cell_type": "code",
   "execution_count": null,
   "id": "romance-zambia",
   "metadata": {},
   "outputs": [],
   "source": []
  },
  {
   "cell_type": "code",
   "execution_count": null,
   "id": "different-newcastle",
   "metadata": {},
   "outputs": [],
   "source": []
  },
  {
   "cell_type": "code",
   "execution_count": null,
   "id": "electric-sterling",
   "metadata": {},
   "outputs": [],
   "source": []
  },
  {
   "cell_type": "markdown",
   "id": "engaging-freight",
   "metadata": {},
   "source": [
    "# Scale Study"
   ]
  },
  {
   "cell_type": "code",
   "execution_count": null,
   "id": "specified-lafayette",
   "metadata": {},
   "outputs": [],
   "source": []
  },
  {
   "cell_type": "code",
   "execution_count": 23,
   "id": "tutorial-telescope",
   "metadata": {},
   "outputs": [
    {
     "name": "stdout",
     "output_type": "stream",
     "text": [
      "[1.57480315 0.78740157 0.52493438 0.39370079 0.31496063 0.26246719\n",
      " 0.22497188 0.19685039]\n",
      "[2.48000496 0.62000124 0.27555611 0.15500031 0.0992002  0.06888903\n",
      " 0.05061235 0.03875008]\n",
      "[5.34626149 1.33656537 0.59402905 0.33414134 0.21385046 0.14850726\n",
      " 0.10910738 0.08353534]\n"
     ]
    }
   ],
   "source": [
    "print(1/np.unique(tab1['z'])*0.2)\n",
    "print((1/np.unique(tab1['z'])*0.2)**2)\n",
    "print((1/np.unique(tab1['z'])*0.2)**2*np.exp(2*fp.euler+1)/4)\n",
    "mu2=(1/np.unique(tab1['z'])*0.2)**2*np.exp(2*fp.euler+1)/4"
   ]
  },
  {
   "cell_type": "code",
   "execution_count": 284,
   "id": "interracial-friendly",
   "metadata": {},
   "outputs": [],
   "source": [
    "z=np.unique(tab1['z'])"
   ]
  },
  {
   "cell_type": "code",
   "execution_count": 341,
   "id": "retired-labor",
   "metadata": {},
   "outputs": [],
   "source": [
    "# mu2=(4/z**2/np.exp(2*fp.euler+1)*0.2*0.2)*25\n",
    "mu2=(1/z**2*0.2*0.2)\n",
    "# mu2=(1/z**2*0.2*0.2)"
   ]
  },
  {
   "cell_type": "code",
   "execution_count": 343,
   "id": "greenhouse-portugal",
   "metadata": {},
   "outputs": [
    {
     "data": {
      "text/plain": [
       "array([  1.6129,   6.4516,  14.5161,  25.8064,  40.3225,  58.0644,\n",
       "        79.0321, 103.2256])"
      ]
     },
     "execution_count": 343,
     "metadata": {},
     "output_type": "execute_result"
    }
   ],
   "source": [
    "4/mu2"
   ]
  },
  {
   "cell_type": "code",
   "execution_count": 338,
   "id": "fixed-suite",
   "metadata": {},
   "outputs": [
    {
     "name": "stdout",
     "output_type": "stream",
     "text": [
      "[ 0.26044492  0.35930383  0.48145477  0.65142026  0.92943272  1.56179329\n",
      " 17.17835895         inf]\n"
     ]
    }
   ],
   "source": [
    "aSvals=np.array([conf['alphaS'].get_alphaS(_) for _ in mu2])\n",
    "print(aSvals)"
   ]
  },
  {
   "cell_type": "code",
   "execution_count": 339,
   "id": "several-authorization",
   "metadata": {},
   "outputs": [
    {
     "data": {
      "text/plain": [
       "array([1.35212657, 1.35212657, 1.35212657, 1.35212657, 1.35212657,\n",
       "       1.35212657, 1.35212657, 1.35212657])"
      ]
     },
     "execution_count": 339,
     "metadata": {},
     "output_type": "execute_result"
    }
   ],
   "source": [
    "logterm=np.log(1/(np.unique(tab1['z'])**2*mu2*np.exp(2*fp.euler+1)/4))\n",
    "logterm"
   ]
  },
  {
   "cell_type": "code",
   "execution_count": 340,
   "id": "saving-converter",
   "metadata": {},
   "outputs": [
    {
     "data": {
      "text/plain": [
       "array([0.07472951, 0.10309511, 0.1381439 , 0.18691213, 0.26668229,\n",
       "       0.44812561, 4.92898944,        inf])"
      ]
     },
     "execution_count": 340,
     "metadata": {},
     "output_type": "execute_result"
    }
   ],
   "source": [
    "logterm*aSvals*4/3/2/np.pi"
   ]
  },
  {
   "cell_type": "code",
   "execution_count": 229,
   "id": "double-enemy",
   "metadata": {},
   "outputs": [
    {
     "name": "stdout",
     "output_type": "stream",
     "text": [
      "2.1557462874414237\n"
     ]
    }
   ],
   "source": [
    "print(np.exp(2*fp.euler+1)/4)"
   ]
  },
  {
   "cell_type": "code",
   "execution_count": 219,
   "id": "exciting-teddy",
   "metadata": {},
   "outputs": [
    {
     "name": "stdout",
     "output_type": "stream",
     "text": [
      "[62.000124   15.500031    6.88890267  3.87500775  2.48000496  1.72222567\n",
      "  1.26530865  0.96875194]\n"
     ]
    }
   ],
   "source": [
    "print(1/np.unique(tab1['z'])**2)"
   ]
  },
  {
   "cell_type": "code",
   "execution_count": 211,
   "id": "resident-springfield",
   "metadata": {},
   "outputs": [
    {
     "data": {
      "text/plain": [
       "1.27"
      ]
     },
     "execution_count": 211,
     "metadata": {},
     "output_type": "execute_result"
    }
   ],
   "source": [
    "conf['Q20']**0.5"
   ]
  },
  {
   "cell_type": "code",
   "execution_count": 212,
   "id": "parental-float",
   "metadata": {},
   "outputs": [
    {
     "name": "stdout",
     "output_type": "stream",
     "text": [
      "inf\n"
     ]
    }
   ],
   "source": [
    "print(conf['alphaS'].get_alphaS(0.26**2))"
   ]
  },
  {
   "cell_type": "code",
   "execution_count": 213,
   "id": "satisfied-right",
   "metadata": {},
   "outputs": [
    {
     "data": {
      "text/plain": [
       "[<matplotlib.lines.Line2D at 0x7fa12bf40100>]"
      ]
     },
     "execution_count": 213,
     "metadata": {},
     "output_type": "execute_result"
    },
    {
     "data": {
      "image/png": "[encoded data removed]",
      "text/plain": [
       "<Figure size 432x288 with 1 Axes>"
      ]
     },
     "metadata": {
      "needs_background": "light"
     },
     "output_type": "display_data"
    }
   ],
   "source": [
    "Q=np.linspace(0.8,2,100)\n",
    "aSvals=[conf['alphaS'].get_alphaS(_**2) for _ in Q]\n",
    "\n",
    "ax=py.subplot(111)\n",
    "ax.plot(Q**2,aSvals)\n",
    "# ax.semilogy()\n",
    "# ax.semilogx()"
   ]
  },
  {
   "cell_type": "code",
   "execution_count": null,
   "id": "distributed-official",
   "metadata": {},
   "outputs": [],
   "source": []
  },
  {
   "cell_type": "code",
   "execution_count": null,
   "id": "first-smoke",
   "metadata": {},
   "outputs": [],
   "source": []
  },
  {
   "cell_type": "code",
   "execution_count": null,
   "id": "formal-spirituality",
   "metadata": {},
   "outputs": [],
   "source": []
  },
  {
   "cell_type": "markdown",
   "id": "contemporary-shakespeare",
   "metadata": {},
   "source": [
    "# Covariance Matrix"
   ]
  },
  {
   "cell_type": "code",
   "execution_count": null,
   "id": "grave-airplane",
   "metadata": {},
   "outputs": [],
   "source": [
    "from numpy import linalg as LA"
   ]
  },
  {
   "cell_type": "code",
   "execution_count": null,
   "id": "quarterly-lease",
   "metadata": {},
   "outputs": [],
   "source": [
    "tab=pd.read_excel('/work/JAM/barryp/JAM/fitpack2/database/pITD-pion/expdata/1001.xlsx')\n",
    "covariant=[]\n",
    "for k in tab:\n",
    "     if 'stat_' in k:\n",
    "        covariant.append(tab[k].values)\n",
    "covariant=np.array(covariant)"
   ]
  },
  {
   "cell_type": "code",
   "execution_count": null,
   "id": "veterinary-slovak",
   "metadata": {},
   "outputs": [],
   "source": [
    "print(covariant.shape)"
   ]
  },
  {
   "cell_type": "code",
   "execution_count": null,
   "id": "beautiful-equilibrium",
   "metadata": {},
   "outputs": [],
   "source": [
    "# print(covariant)"
   ]
  },
  {
   "cell_type": "code",
   "execution_count": null,
   "id": "approximate-watershed",
   "metadata": {},
   "outputs": [],
   "source": [
    "def resfunc(par,zmin,zmax,printfit=True):\n",
    "    if printfit: lprint('a=%f, b=%f'%(par[0],par[1]))\n",
    "    d=tab.query('z<=%.3f and z>%.3f'%(zmax,zmin))\n",
    "    exp=d['value'].values\n",
    "    thy=np.array([itd.ReITD(d['nu'].values[i],1/d['z'].values[i]**2,50,[par[0],par[1]]) for i in range(len(d['z'].values))])\n",
    "    cov=np.zeros((len(d.index.values),len(d.index.values)))\n",
    "    for i in range(len(d.index)):\n",
    "        for k in d:\n",
    "            if 'stat' not in k: continue\n",
    "            else:\n",
    "                if int(k.split('_')[-1])==(d.index[i]+1):\n",
    "                    cov[i]=d[k]\n",
    "    covinv=LA.inv(cov)\n",
    "    vect=exp-thy\n",
    "    chi2=np.einsum('i,ij,j',vect,covinv,vect)\n",
    "    res=chi2**0.5\n",
    "    return res"
   ]
  },
  {
   "cell_type": "code",
   "execution_count": null,
   "id": "checked-coverage",
   "metadata": {},
   "outputs": [],
   "source": [
    "# def chi2func(par,zmin,zmax,printfit=True):\n",
    "#     if printfit: lprint('a=%f, b=%f'%(par[0],par[1]))\n",
    "#     d=tab.query('z<=%.3f and z>%.3f'%(zmax,zmin))\n",
    "#     exp=d['value'].values\n",
    "#     thy=np.array([itd.ReITD(d['nu'].values[i],1/d['z'].values[i]**2,50,[par[0],par[1]]) for i in range(len(d['z'].values))])\n",
    "#     cov=np.zeros((len(d.index.values),len(d.index.values)))\n",
    "#     for i in range(len(d.index)):\n",
    "#         for k in d:\n",
    "#             if 'stat' not in k: continue\n",
    "#             else:\n",
    "#                 if int(k.split('_')[-1])==(d.index[i]+1):\n",
    "#                     cov[i]=d[k]\n",
    "#     y=exp-thy\n",
    "#     yT=y.T\n",
    "#     M1=np.dot(inv(cov),y)\n",
    "#     chi2=np.dot(yT,M1)\n",
    "#     return chi2"
   ]
  },
  {
   "cell_type": "code",
   "execution_count": null,
   "id": "satellite-limitation",
   "metadata": {},
   "outputs": [],
   "source": [
    "def res(par,printfit=True):\n",
    "    zmin=np.unique(tab['z'])[1]\n",
    "    zmax=np.unique(tab['z'])[3]\n",
    "    return resfunc(par,zmin,zmax,printfit)"
   ]
  },
  {
   "cell_type": "code",
   "execution_count": null,
   "id": "underlying-myrtle",
   "metadata": {},
   "outputs": [],
   "source": [
    "def chi2check(par,printfit=True):\n",
    "    return np.sum(res(par,printfit)**2)"
   ]
  },
  {
   "cell_type": "code",
   "execution_count": null,
   "id": "deluxe-franklin",
   "metadata": {},
   "outputs": [],
   "source": [
    "t0=time.time()\n",
    "guess=[-0.5,1.5]\n",
    "print(res(guess,printfit=False))\n",
    "# np.sum(res(guess,printfit=False)**2)\n",
    "t1=time.time()\n",
    "print(t1-t0)"
   ]
  },
  {
   "cell_type": "code",
   "execution_count": null,
   "id": "controlling-glucose",
   "metadata": {},
   "outputs": [],
   "source": [
    "print(np.sum(res(guess,printfit=False)**2))"
   ]
  },
  {
   "cell_type": "code",
   "execution_count": null,
   "id": "plain-action",
   "metadata": {},
   "outputs": [],
   "source": [
    "fit=least_squares(res,guess)"
   ]
  },
  {
   "cell_type": "code",
   "execution_count": null,
   "id": "athletic-algorithm",
   "metadata": {},
   "outputs": [],
   "source": [
    "print(chi2check(fit.x,printfit=False))"
   ]
  },
  {
   "cell_type": "code",
   "execution_count": null,
   "id": "charged-accent",
   "metadata": {},
   "outputs": [],
   "source": [
    "print(chi2(fit.x,printfit=False))"
   ]
  },
  {
   "cell_type": "code",
   "execution_count": null,
   "id": "normal-mouth",
   "metadata": {},
   "outputs": [],
   "source": [
    "# zbins=[0.381]\n",
    "zbins=[0.381,0.508]\n",
    "\n",
    "# zbins=[0.508]\n",
    "# zbins=[0.508,0.635]\n",
    "# zbins=[0.508,0.635,0.762]\n",
    "# zbins=[0.508,0.635,0.762,0.889]\n",
    "\n",
    "# zbins=[0.635]\n",
    "# zbins=[0.635,0.762]\n",
    "\n",
    "# if len(zbins)<2: nrows,ncols=1,1\n",
    "# elif len(zbins)<6: nrows,ncols=1,len(zbins)\n",
    "nrows,ncols=2,len(zbins)\n",
    "# else: nrows,ncols=2,round(len(Qbins)/2)\n",
    "py.figure(figsize=(4*ncols,4*nrows))\n",
    "\n",
    "thy=[]\n",
    "npts=0\n",
    "cnt=0\n",
    "for i in range(len(zbins)):\n",
    "    cnt+=1\n",
    "    ax=py.subplot(nrows,ncols,cnt)\n",
    "    d=tab1.query('z==%f'%(zbins[i]))\n",
    "#     ax.errorbar(d['nu'].values[0],d['value'].values[0],yerr=d['stat_u'].values[0],fmt='yo',label=r'not~fit')\n",
    "    #ax.errorbar(d['nu'].values[1:],d['value'].values[1:],yerr=d['stat_u'].values[1:],fmt='k.',label=r'$z=%.3f$'%(d['z'].values[0]))\n",
    "    ax.errorbar(d['nu'],d['value'],yerr=d['stat_u'],fmt='k.',label=r'$z=%.3f$'%(d['z'].values[0]))\n",
    "    ax.legend()\n",
    "    thy.append([itd.ReITD(d['nu'].values[i],1/d['z'].values[i]**2,50,[fit.x[0],fit.x[1]]) for i in range(len(d['z'].values))])\n",
    "#     thy.append([itd.ReITD(d['nu'].values[i],1/d['z'].values[i]**2,50,[0.5,2]) for i in range(len(d['z'].values))])\n",
    "    npts+=len(thy[i])\n",
    "    ax.plot(d['nu'],np.array(thy[i]),label=r'$\\rm fit$')\n",
    "    ax.legend()\n",
    "    ax.set_xlabel(r'$\\nu$',size=20)\n",
    "    if i==0: ax.set_ylabel(r'${\\rm Re}\\mathfrak{M}(\\nu,z^2)~L=%i$'%d['L'].values[0],size=20)\n",
    "    \n",
    "ax.text(0.1,0.1,r'$\\chi^2/npts=%.3f$'%(chi2check(fit.x,printfit=False)/npts),transform=ax.transAxes,size=20)\n",
    "# ax.text(0.1,0.1,r'$\\chi^2/npts=%.3f$'%(chi2check([0.5,2],printfit=False)/npts),transform=ax.transAxes,size=20)\n",
    "ax.text(0.1,0.4,r'$a=%.3f$'%fit.x[0],transform=ax.transAxes,size=20)\n",
    "ax.text(0.1,0.3,r'$b=%.3f$'%fit.x[1],transform=ax.transAxes,size=20)\n",
    "\n",
    "# for i in range(len(zbins)):\n",
    "#     cnt+=1\n",
    "#     ax=py.subplot(nrows,ncols,cnt)\n",
    "#     d=tab2.query('z==%f'%(zbins[i]))\n",
    "# #     ax.errorbar(d['nu'].values[0],d['value'].values[0],yerr=d['stat_u'].values[0],fmt='yo',label=r'not~fit')\n",
    "#     #ax.errorbar(d['nu'].values[1:],d['value'].values[1:],yerr=d['stat_u'].values[1:],fmt='k.',label=r'$z=%.3f$'%(d['z'].values[0]))\n",
    "#     ax.errorbar(d['nu'],d['value'],yerr=d['stat_u'],fmt='k.',label=r'$z=%.3f$'%(d['z'].values[0]))\n",
    "#     ax.legend()\n",
    "#     thy.append([itd.ReITD(d['nu'].values[i],1/d['z'].values[i]**2,50,[fit.x[0],fit.x[1]]) for i in range(len(d['z'].values))])\n",
    "#     npts+=len(thy[i])\n",
    "#     ax.plot(d['nu'],np.array(thy[i]),label=r'$\\rm fit$')\n",
    "#     ax.legend()\n",
    "#     ax.set_xlabel(r'$\\nu$',size=20)\n",
    "#     if i==0: ax.set_ylabel(r'${\\rm Re}\\mathfrak{M}(\\nu,z^2)~L=%i$'%d['L'].values[0],size=20)\n",
    "    \n",
    "\n",
    "py.tight_layout()\n",
    "checkdir('lattice_gallery/simplefits')\n",
    "# py.savefig('lattice_gallery/simplefits/zmin=%.3f_zmax=%.3f_bothV.png'%(zbins[0],zbins[-1]))"
   ]
  },
  {
   "cell_type": "code",
   "execution_count": null,
   "id": "departmental-madagascar",
   "metadata": {},
   "outputs": [],
   "source": []
  },
  {
   "cell_type": "markdown",
   "id": "familiar-makeup",
   "metadata": {},
   "source": [
    "# beta_k"
   ]
  },
  {
   "cell_type": "code",
   "execution_count": null,
   "id": "significant-lincoln",
   "metadata": {},
   "outputs": [],
   "source": [
    "from numpy import linalg as LA"
   ]
  },
  {
   "cell_type": "code",
   "execution_count": null,
   "id": "banner-tradition",
   "metadata": {},
   "outputs": [],
   "source": [
    "tab=pd.read_excel('/work/JAM/barryp/JAM/fitpack2/database/pITD-pion/expdata/1001.xlsx')\n",
    "covariant=[]\n",
    "for k in tab:\n",
    "     if 'stat_' in k:\n",
    "        covariant.append(tab[k].values)\n",
    "covariant=np.array(covariant)"
   ]
  },
  {
   "cell_type": "code",
   "execution_count": null,
   "id": "freelance-sacrifice",
   "metadata": {},
   "outputs": [],
   "source": [
    "print(covariant.shape)"
   ]
  },
  {
   "cell_type": "code",
   "execution_count": null,
   "id": "endless-throw",
   "metadata": {},
   "outputs": [],
   "source": [
    "# print(covariant)"
   ]
  },
  {
   "cell_type": "code",
   "execution_count": null,
   "id": "biological-arthritis",
   "metadata": {},
   "outputs": [],
   "source": [
    "def resfunc(par,zmin,zmax,printfit=True):\n",
    "#     if printfit: lprint('a=%f, b=%f'%(par[0],par[1]))\n",
    "#     if printfit: lprint('a=%f, b=%f, r0=%f, r1=%f, r2=%f'%(par[0],par[1],par[2],par[3],par[4]))\n",
    "#     if printfit: lprint('a=%f, b=%f, r0=%f, r1=%f, r2=%f, r3=%f, r4=%f, r5=%f'%(par[0],par[1],par[2],par[3],par[4],par[5],par[6],par[7]))\n",
    "    if printfit: lprint('a=%f, b=%f, r0=%f, r1=%f, r2=%f, r3=%f, r4=%f, r5=%f, r6=%f, r7=%f, r8=%f'%(par[0],par[1],par[2],par[3],par[4],par[5],par[6],par[7],par[8],par[9],par[10]))\n",
    "    d=tab.query('z<=%.3f and z>%.3f'%(zmax,zmin))\n",
    "#     covnames=[x for x in d if 'stat_' in x]\n",
    "#     npts=len(d['value'].values)\n",
    "#     stat_u=np.zeros(npts)\n",
    "#     for k in covnames:\n",
    "#         i=int(k.split('_')[-1])\n",
    "#         stat_u[i-1]=d[k].values[i-1]**0.5\n",
    "#     d['stat_u']=pd.Series(stat_u,index=tab1.index)\n",
    "    exp=d['value'].values\n",
    "    thy=np.array([itd.ReITD(d['nu'].values[i],1/d['z'].values[i]**2,50,[par[0],par[1]]) for i in range(len(d['z'].values))])\n",
    "#     print(thy)\n",
    "    cov=np.zeros((len(d.index.values),len(d.index.values)))\n",
    "    for i in range(len(d.index)):\n",
    "        for k in d:\n",
    "            if 'stat' not in k: continue\n",
    "            else:\n",
    "                if int(k.split('_')[-1])==(d.index[i]+1):\n",
    "                    cov[i]=d[k]\n",
    "    alpha=np.diag(cov)**0.5\n",
    "    covinv=LA.inv(cov)\n",
    "    w,v=LA.eig(covinv)\n",
    "    v=v.T\n",
    "    beta=np.einsum('i,ij->ij',np.sqrt(w),v)\n",
    "#     r=np.array([par[2],par[3],par[4]])\n",
    "#     r=np.array([par[2],par[3],par[4],par[5],par[6],par[7]])\n",
    "    r=np.array([par[2],par[3],par[4],par[5],par[6],par[7],par[8],par[9],par[10]])\n",
    "    shift=np.einsum('i,ij',r,beta)\n",
    "    thy+=shift\n",
    "#     print(thy)\n",
    "    res=(exp-thy)/alpha\n",
    "    return res"
   ]
  },
  {
   "cell_type": "code",
   "execution_count": null,
   "id": "intimate-minister",
   "metadata": {},
   "outputs": [],
   "source": [
    "# def chi2func(par,zmin,zmax,printfit=True):\n",
    "#     if printfit: lprint('a=%f, b=%f'%(par[0],par[1]))\n",
    "#     d=tab.query('z<=%.3f and z>%.3f'%(zmax,zmin))\n",
    "#     exp=d['value'].values\n",
    "#     thy=np.array([itd.ReITD(d['nu'].values[i],1/d['z'].values[i]**2,50,[par[0],par[1]]) for i in range(len(d['z'].values))])\n",
    "#     cov=np.zeros((len(d.index.values),len(d.index.values)))\n",
    "#     for i in range(len(d.index)):\n",
    "#         for k in d:\n",
    "#             if 'stat' not in k: continue\n",
    "#             else:\n",
    "#                 if int(k.split('_')[-1])==(d.index[i]+1):\n",
    "#                     cov[i]=d[k]\n",
    "#     y=exp-thy\n",
    "#     yT=y.T\n",
    "#     M1=np.dot(inv(cov),y)\n",
    "#     chi2=np.dot(yT,M1)\n",
    "#     return chi2"
   ]
  },
  {
   "cell_type": "code",
   "execution_count": null,
   "id": "moved-producer",
   "metadata": {},
   "outputs": [],
   "source": [
    "def res(par,printfit=True):\n",
    "    zmin=np.unique(tab['z'])[1]\n",
    "    zmax=np.unique(tab['z'])[4]\n",
    "    return resfunc(par,zmin,zmax,printfit)"
   ]
  },
  {
   "cell_type": "code",
   "execution_count": null,
   "id": "subjective-punch",
   "metadata": {},
   "outputs": [],
   "source": [
    "np.unique(tab['z'])[4]"
   ]
  },
  {
   "cell_type": "code",
   "execution_count": null,
   "id": "assigned-canon",
   "metadata": {},
   "outputs": [],
   "source": [
    "def chi2check(par,printfit=True):\n",
    "    return np.sum(res(par,printfit)**2)"
   ]
  },
  {
   "cell_type": "code",
   "execution_count": null,
   "id": "intellectual-flush",
   "metadata": {},
   "outputs": [],
   "source": [
    "t0=time.time()\n",
    "# guess=[-0.5,1.5,0,0,0]\n",
    "guess=[0,2,0,0,0,0,0,0,0,0,0]\n",
    "print(res(guess,printfit=False))\n",
    "# np.sum(res(guess,printfit=False)**2)\n",
    "t1=time.time()\n",
    "print(t1-t0)"
   ]
  },
  {
   "cell_type": "code",
   "execution_count": null,
   "id": "assigned-botswana",
   "metadata": {},
   "outputs": [],
   "source": [
    "print(np.sum(res(guess,printfit=False)**2))"
   ]
  },
  {
   "cell_type": "code",
   "execution_count": null,
   "id": "medical-blink",
   "metadata": {},
   "outputs": [],
   "source": [
    "fit=least_squares(res,guess)"
   ]
  },
  {
   "cell_type": "code",
   "execution_count": null,
   "id": "right-mount",
   "metadata": {},
   "outputs": [],
   "source": [
    "print(chi2check(fit.x,printfit=False))"
   ]
  },
  {
   "cell_type": "code",
   "execution_count": null,
   "id": "involved-papua",
   "metadata": {},
   "outputs": [],
   "source": [
    "print(chi2(fit.x,printfit=False))"
   ]
  },
  {
   "cell_type": "code",
   "execution_count": null,
   "id": "accepted-biotechnology",
   "metadata": {},
   "outputs": [],
   "source": [
    "# zbins=[0.381]\n",
    "# zbins=[0.381,0.508]\n",
    "zbins=[0.381,0.508,0.635]\n",
    "\n",
    "# zbins=[0.508]\n",
    "# zbins=[0.508,0.635]\n",
    "# zbins=[0.508,0.635,0.762]\n",
    "# zbins=[0.508,0.635,0.762,0.889]\n",
    "\n",
    "# zbins=[0.635]\n",
    "# zbins=[0.635,0.762]\n",
    "\n",
    "# if len(zbins)<2: nrows,ncols=1,1\n",
    "# elif len(zbins)<6: nrows,ncols=1,len(zbins)\n",
    "nrows,ncols=2,len(zbins)\n",
    "# else: nrows,ncols=2,round(len(Qbins)/2)\n",
    "py.figure(figsize=(4*ncols,4*nrows))\n",
    "\n",
    "d=tab.query('z<=%.3f and z>=%.3f'%(zbins[-1],zbins[0]))\n",
    "cov=np.zeros((len(d.index.values),len(d.index.values)))\n",
    "for j in range(len(d.index)):\n",
    "    for k in d:\n",
    "        if 'stat' not in k: continue\n",
    "        else:\n",
    "            if int(k.split('_')[-1])==(d.index[j]+1):\n",
    "#                     print(k)\n",
    "                cov[j]=d[k]\n",
    "covinv=LA.inv(cov)\n",
    "w,v=LA.eig(covinv)\n",
    "v=v.T\n",
    "beta=np.einsum('i,ij->ij',np.sqrt(w),v)\n",
    "#r=np.array([0.01,0.3,1])\n",
    "#     r=np.array([fit.x[2],fit.x[3],fit.x[4]])\n",
    "# if i==0: r=np.array([fit.x[2],fit.x[3],fit.x[4]])\n",
    "# elif i==1: r=np.array([fit.x[5],fit.x[6],fit.x[7]])\n",
    "# r=np.array([fit.x[2],fit.x[3],fit.x[4],fit.x[5],fit.x[6],fit.x[7]])\n",
    "r=np.array([fit.x[2],fit.x[3],fit.x[4],fit.x[5],fit.x[6],fit.x[7],fit.x[8],fit.x[9],fit.x[10]])\n",
    "shift=np.einsum('i,ij',r,beta)\n",
    "    \n",
    "\n",
    "\n",
    "thy=[]\n",
    "npts=0\n",
    "cnt=0\n",
    "for i in range(len(zbins)):\n",
    "    cnt+=1\n",
    "    ax=py.subplot(nrows,ncols,cnt)\n",
    "    d=tab.query('z==%f'%(zbins[i]))\n",
    "    cov=np.zeros((len(d.index.values),len(d.index.values)))\n",
    "    for j in range(len(d.index)):\n",
    "        for k in d:\n",
    "            if 'stat' not in k: continue\n",
    "            else:\n",
    "                if int(k.split('_')[-1])==(d.index[j]+1):\n",
    "    #                     print(k)\n",
    "                    cov[j]=d[k]\n",
    "    alpha=np.diag(cov)**0.5\n",
    "\n",
    "    print(shift)\n",
    "#     thy+=shift\n",
    "#     ax.errorbar(d['nu'].values[0],d['value'].values[0],yerr=d['stat_u'].values[0],fmt='yo',label=r'not~fit')\n",
    "    #ax.errorbar(d['nu'].values[1:],d['value'].values[1:],yerr=d['stat_u'].values[1:],fmt='k.',label=r'$z=%.3f$'%(d['z'].values[0]))\n",
    "#     ax.errorbar(d['nu'],d['value'],yerr=d['stat_u'],fmt='k.',label=r'$z=%.3f$'%(d['z'].values[0]))\n",
    "    ax.errorbar(d['nu'],d['value'],yerr=alpha,fmt='k.',label=r'$z=%.3f$'%(d['z'].values[0]))\n",
    "    ax.legend()\n",
    "    thy.append([itd.ReITD(d['nu'].values[i],1/d['z'].values[i]**2,50,[fit.x[0],fit.x[1]]) for i in range(len(d['z'].values))])\n",
    "#     thy[i]+=shift\n",
    "#     thy.append([itd.ReITD(d['nu'].values[i],1/d['z'].values[i]**2,50,[0.5,2]) for i in range(len(d['z'].values))])\n",
    "    npts+=len(thy[i])\n",
    "    if i==0: ax.plot(d['nu'],np.array(thy[i])+shift[:3],label=r'$\\rm fit$')\n",
    "    elif i==1: ax.plot(d['nu'],np.array(thy[i])+shift[3:6],label=r'$\\rm fit$')\n",
    "    elif i==2: ax.plot(d['nu'],np.array(thy[i])+shift[6:],label=r'$\\rm fit$')\n",
    "#     ax.plot(d['nu'],np.array(thy[i]),label=r'$\\rm fit$')\n",
    "    ax.legend()\n",
    "    ax.set_xlabel(r'$\\nu$',size=20)\n",
    "    if i==0: ax.set_ylabel(r'${\\rm Re}\\mathfrak{M}(\\nu,z^2)~L=%i$'%d['L'].values[0],size=20)\n",
    "    \n",
    "ax.text(0.1,0.1,r'$\\chi^2/npts=%.3f$'%(chi2check(fit.x,printfit=False)/npts),transform=ax.transAxes,size=20)\n",
    "ax.text(0.1,0.4,r'$a=%.3f$'%fit.x[0],transform=ax.transAxes,size=20)\n",
    "ax.text(0.1,0.3,r'$b=%.3f$'%fit.x[1],transform=ax.transAxes,size=20)\n",
    "\n",
    "py.tight_layout()\n",
    "checkdir('lattice_gallery/simplefits')\n",
    "# py.savefig('lattice_gallery/simplefits/zmin=%.3f_zmax=%.3f_bothV.png'%(zbins[0],zbins[-1]))"
   ]
  },
  {
   "cell_type": "code",
   "execution_count": null,
   "id": "foreign-spotlight",
   "metadata": {},
   "outputs": [],
   "source": [
    "print(fit.x)"
   ]
  },
  {
   "cell_type": "code",
   "execution_count": null,
   "id": "appreciated-monitor",
   "metadata": {},
   "outputs": [],
   "source": []
  }
 ],
 "metadata": {
  "kernelspec": {
   "display_name": "Python 3",
   "language": "python",
   "name": "python3"
  },
  "language_info": {
   "codemirror_mode": {
    "name": "ipython",
    "version": 3
   },
   "file_extension": ".py",
   "mimetype": "text/x-python",
   "name": "python",
   "nbconvert_exporter": "python",
   "pygments_lexer": "ipython3",
   "version": "3.8.6"
  }
 },
 "nbformat": 4,
 "nbformat_minor": 5
}
