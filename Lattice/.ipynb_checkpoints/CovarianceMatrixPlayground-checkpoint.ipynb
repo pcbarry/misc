{
 "cells": [
  {
   "cell_type": "code",
   "execution_count": 1,
   "id": "preliminary-investing",
   "metadata": {},
   "outputs": [
    {
     "name": "stderr",
     "output_type": "stream",
     "text": [
      "Matplotlib created a temporary config/cache directory at /tmp/matplotlib-18m9h9wi because the default path (/home/jovyan/.cache/matplotlib) is not a writable directory; it is highly recommended to set the MPLCONFIGDIR environment variable to a writable directory, in particular to speed up the import of Matplotlib and to better support multiprocessing.\n"
     ]
    }
   ],
   "source": [
    "import numpy as np\n",
    "import os,sys\n",
    "import matplotlib\n",
    "import pylab as py\n",
    "import pandas as pd\n",
    "import mpmath as mp\n",
    "from mpmath import fp\n",
    "from timeit import time"
   ]
  },
  {
   "cell_type": "code",
   "execution_count": 2,
   "id": "limited-atmosphere",
   "metadata": {},
   "outputs": [],
   "source": [
    "from scipy.special import gamma\n",
    "from scipy.integrate import quad,fixed_quad\n",
    "from scipy.optimize import least_squares"
   ]
  },
  {
   "cell_type": "code",
   "execution_count": 3,
   "id": "opposite-tradition",
   "metadata": {},
   "outputs": [],
   "source": [
    "import copy"
   ]
  },
  {
   "cell_type": "code",
   "execution_count": 4,
   "id": "measured-begin",
   "metadata": {},
   "outputs": [],
   "source": [
    "sys.path.append('/work/JAM/barryp/JAM/fitpack2/')\n",
    "os.environ['FITPACK']='/work/JAM/barryp/JAM/fitpack2/'"
   ]
  },
  {
   "cell_type": "code",
   "execution_count": 5,
   "id": "editorial-inflation",
   "metadata": {},
   "outputs": [],
   "source": [
    "from qcdlib import mellin,pdf,alphaS,eweak,aux,pdfpionfit,pdfpion\n",
    "\n",
    "from tools.config import conf\n",
    "from tools.tools import load,save,checkdir,lprint"
   ]
  },
  {
   "cell_type": "code",
   "execution_count": 6,
   "id": "basic-eight",
   "metadata": {},
   "outputs": [],
   "source": [
    "conf['Q20']=1.27**2\n",
    "conf['aux']=aux.AUX()\n",
    "conf['order']='NLO'\n",
    "conf['eweak']=eweak.EWEAK()\n",
    "conf['alphaS']=alphaS.ALPHAS()\n",
    "conf['dglap mode']='truncated'"
   ]
  },
  {
   "cell_type": "code",
   "execution_count": 7,
   "id": "pharmaceutical-india",
   "metadata": {},
   "outputs": [],
   "source": [
    "mell=mellin.MELLIN()\n",
    "imell=mellin.IMELLIN()\n",
    "mellpi=mellin.MELLIN(npts=8,extended=True)\n",
    "\n",
    "# pdf1=pdf.PDF(mellin=mell)\n",
    "# pdf2=pdf.PDF(mellin=imell)"
   ]
  },
  {
   "cell_type": "code",
   "execution_count": 8,
   "id": "under-abuse",
   "metadata": {},
   "outputs": [],
   "source": [
    "imell.N=np.array([])\n",
    "for i in range(1,51):\n",
    "    iN=np.array([i],dtype=complex)\n",
    "    imell.N=np.append(imell.N,iN)"
   ]
  },
  {
   "cell_type": "code",
   "execution_count": 9,
   "id": "certified-medicaid",
   "metadata": {},
   "outputs": [],
   "source": [
    "class ITD:\n",
    "    \n",
    "    def __init__(self):\n",
    "        self.euler=conf['aux'].euler\n",
    "        self.CF=conf['aux'].CF\n",
    "        self.aS=conf['alphaS'].get_alphaS\n",
    "        \n",
    "    def beta(self,a,b):\n",
    "        return gamma(a)*gamma(b)/gamma(a+b)\n",
    "\n",
    "    def pdfN(self,N,par):\n",
    "        a,b=par[0],par[1]\n",
    "        return self.beta(N+a,b+1)/self.beta(a+1,b+1)\n",
    "        \n",
    "    def cn(self,n,z2,mu2):\n",
    "        CF=self.CF\n",
    "        euler=self.euler\n",
    "\n",
    "        #--harmonic number\n",
    "        def harmonic(ini,fin):\n",
    "            harmonic=0\n",
    "            for i in range(ini,fin):\n",
    "                harmonic+=1./i\n",
    "            return harmonic\n",
    "\n",
    "        gamma_n=1.0/((n+1)*(n+2))-0.5-2*harmonic(2,n+1)\n",
    "\n",
    "        #--polygamma\n",
    "        def polygamma(ini,fin):\n",
    "            polygamma=0\n",
    "            for i in range(ini,fin):\n",
    "                polygamma+=1./i**2\n",
    "            return polygamma\n",
    "\n",
    "        d_n=2*(harmonic(1,n)**2+polygamma(1,n)+0.5-1.0/((n+1)*(n+2)))\n",
    "        aS=self.aS(mu2)\n",
    "        cn=1.-aS/2./np.pi*CF*(gamma_n*np.log(z2*mu2*np.exp(2*euler+1)/4.0)+d_n)\n",
    "        return cn\n",
    "    \n",
    "    def ReITD(self,nu,mu2,lN,par=[-0.5,2]):\n",
    "        M=1\n",
    "        for n in range(1,lN):\n",
    "            if n%2==1: continue\n",
    "            M+=(1j*nu)**n/int(mp.factorial(n))*self.cn(n+1,1/mu2,mu2)*self.pdfN(n+1,par)\n",
    "        return np.real(M)\n",
    "    "
   ]
  },
  {
   "cell_type": "code",
   "execution_count": 10,
   "id": "specific-secret",
   "metadata": {},
   "outputs": [],
   "source": [
    "nu=np.linspace(0,3,10)"
   ]
  },
  {
   "cell_type": "code",
   "execution_count": 11,
   "id": "silver-board",
   "metadata": {},
   "outputs": [],
   "source": [
    "itd=ITD()\n",
    "\n",
    "truncated_re=[]\n",
    "for i in range(len(nu)):\n",
    "    truncated_re.append(itd.ReITD(nu[i],4.0,len(imell.N)))\n",
    "truncated_re=np.array(truncated_re)"
   ]
  },
  {
   "cell_type": "code",
   "execution_count": 12,
   "id": "unnecessary-outside",
   "metadata": {},
   "outputs": [
    {
     "data": {
      "text/plain": [
       "[<matplotlib.lines.Line2D at 0x7f600e581ca0>]"
      ]
     },
     "execution_count": 12,
     "metadata": {},
     "output_type": "execute_result"
    },
    {
     "data": {
      "image/png": "[encoded data removed]",
      "text/plain": [
       "<Figure size 432x288 with 1 Axes>"
      ]
     },
     "metadata": {
      "needs_background": "light"
     },
     "output_type": "display_data"
    }
   ],
   "source": [
    "ax=py.subplot(111)\n",
    "ax.plot(nu,truncated_re,'.')"
   ]
  },
  {
   "cell_type": "markdown",
   "id": "raised-mention",
   "metadata": {},
   "source": [
    "# Read in data"
   ]
  },
  {
   "cell_type": "code",
   "execution_count": 13,
   "id": "charitable-induction",
   "metadata": {},
   "outputs": [],
   "source": [
    "tab1=pd.read_excel('/work/JAM/barryp/JAM/fitpack2/database/pITD-pion/expdata/1001.xlsx')\n",
    "# tab2=pd.read_excel('/work/JAM/barryp/JAM/fitpack2/database/pITD-pion/expdata/1002.xlsx')"
   ]
  },
  {
   "cell_type": "code",
   "execution_count": 14,
   "id": "under-vaccine",
   "metadata": {},
   "outputs": [],
   "source": [
    "cov=[x for x in tab1 if 'stat_' in x]\n",
    "npts=len(tab1['value'].values)\n",
    "stat_u=np.zeros(npts)\n",
    "for k in cov:\n",
    "    i=int(k.split('_')[-1])\n",
    "    stat_u[i-1]=tab1[k].values[i-1]**0.5\n",
    "    #stat_u+=(tab1[k].values)**2\n",
    "tab1['stat_u']=pd.Series(stat_u,index=tab1.index)\n",
    "\n",
    "# cov=[x for x in tab2 if 'stat_' in x]\n",
    "# print(cov)\n",
    "# npts=len(tab2['value'].values)\n",
    "# stat_u=np.zeros(npts)\n",
    "# for k in cov:\n",
    "#     i=int(k.split('_')[-1])\n",
    "#     stat_u[i-1]=tab2[k].values[i-1]**0.5\n",
    "#     #stat_u+=(tab1[k].values)**2\n",
    "# tab2['stat_u']=pd.Series(stat_u,index=tab2.index)"
   ]
  },
  {
   "cell_type": "code",
   "execution_count": 15,
   "id": "alpine-image",
   "metadata": {},
   "outputs": [
    {
     "data": {
      "image/png": "[encoded data removed]",
      "text/plain": [
       "<Figure size 432x288 with 1 Axes>"
      ]
     },
     "metadata": {
      "needs_background": "light"
     },
     "output_type": "display_data"
    }
   ],
   "source": [
    "ax=py.subplot(111)\n",
    "# ax.plot(tab['nu'].values,tab['value'].values,'o')\n",
    "ax.errorbar(tab1['nu'].values,tab1['value'].values,yerr=tab1['stat_u'].values,fmt='h')\n",
    "# ax.errorbar(tab2['nu'].values,tab2['value'].values,yerr=tab2['stat_u'].values,fmt='^')\n",
    "ax.set_ylabel(r'${\\rm Re}\\mathfrak{M}(\\nu,z^2)$',size=20)\n",
    "ax.set_xlabel(r'$\\nu$',size=20)\n",
    "ax.tick_params(direction='in',which='both',labelsize=15)\n",
    "ax.set_ylim(0,1.1)\n",
    "py.tight_layout()\n",
    "# py.savefig('lattice_gallery/Redata.png')"
   ]
  },
  {
   "cell_type": "code",
   "execution_count": 16,
   "id": "nonprofit-packaging",
   "metadata": {},
   "outputs": [
    {
     "name": "stdout",
     "output_type": "stream",
     "text": [
      "[0.127 0.254 0.381 0.508 0.635 0.762 0.889 1.016]\n"
     ]
    }
   ],
   "source": [
    "print(np.unique(tab1['z']))"
   ]
  },
  {
   "cell_type": "code",
   "execution_count": 17,
   "id": "solved-meeting",
   "metadata": {},
   "outputs": [],
   "source": [
    "itd=ITD()"
   ]
  },
  {
   "cell_type": "code",
   "execution_count": 18,
   "id": "fluid-party",
   "metadata": {},
   "outputs": [],
   "source": [
    "def resfunc(par,zmin,zmax,printfit=True):\n",
    "    if printfit: lprint('a=%f, b=%f'%(par[0],par[1]))\n",
    "    #Ne=par[0]\n",
    "    #d=tab1.query('z<=%.3f and z>%.3f and p>1'%(zmax,zmin))\n",
    "    d=tab1.query('z<=%.3f and z>%.3f'%(zmax,zmin))\n",
    "    exp=d['value'].values\n",
    "    dexp=d['stat_u'].values\n",
    "    thy=[itd.ReITD(d['nu'].values[i],1/d['z'].values[i]**2,50,[par[0],par[1]]) for i in range(len(d['z'].values))]\n",
    "    thy=np.array(thy)#/Ne\n",
    "    residuals=(exp-thy)/dexp\n",
    "\n",
    "    return residuals"
   ]
  },
  {
   "cell_type": "code",
   "execution_count": 23,
   "id": "periodic-combination",
   "metadata": {},
   "outputs": [],
   "source": [
    "def res(par,printfit=True):\n",
    "    zmin=np.unique(tab1['z'])[1]\n",
    "    zmax=np.unique(tab1['z'])[3]\n",
    "    return resfunc(par,zmin,zmax,printfit)"
   ]
  },
  {
   "cell_type": "code",
   "execution_count": 24,
   "id": "outer-engineer",
   "metadata": {},
   "outputs": [],
   "source": [
    "def chi2(par,printfit=True):\n",
    "    return np.sum(res(par,printfit)**2)"
   ]
  },
  {
   "cell_type": "code",
   "execution_count": 25,
   "id": "informative-bottom",
   "metadata": {},
   "outputs": [
    {
     "name": "stdout",
     "output_type": "stream",
     "text": [
      "[-15.37048081  -2.22844578  -3.95202844 -22.62205127  -7.85454758\n",
      "  -4.23456578]\n"
     ]
    }
   ],
   "source": [
    "guess=[-0.5,2]\n",
    "print(res(guess,printfit=False))"
   ]
  },
  {
   "cell_type": "code",
   "execution_count": 26,
   "id": "patient-coating",
   "metadata": {},
   "outputs": [
    {
     "name": "stdout",
     "output_type": "stream",
     "text": [
      "a=-0.545444, b=0.0307161"
     ]
    }
   ],
   "source": [
    "fit=least_squares(res,guess)"
   ]
  },
  {
   "cell_type": "code",
   "execution_count": 27,
   "id": "activated-correction",
   "metadata": {},
   "outputs": [
    {
     "name": "stdout",
     "output_type": "stream",
     "text": [
      "7.281322460991208\n"
     ]
    }
   ],
   "source": [
    "print(np.sum(res(fit.x,printfit=False)**2))"
   ]
  },
  {
   "cell_type": "code",
   "execution_count": 28,
   "id": "dominant-copying",
   "metadata": {},
   "outputs": [
    {
     "data": {
      "image/png": "[encoded data removed]",
      "text/plain": [
       "<Figure size 576x576 with 2 Axes>"
      ]
     },
     "metadata": {
      "needs_background": "light"
     },
     "output_type": "display_data"
    }
   ],
   "source": [
    "# zbins=[0.381]\n",
    "zbins=[0.381,0.508]\n",
    "# zbins=[0.508]\n",
    "# zbins=[0.508,0.635]\n",
    "# zbins=[0.508,0.635,0.762]\n",
    "# zbins=[0.508,0.635,0.762,0.889]\n",
    "\n",
    "# if len(zbins)<2: nrows,ncols=1,1\n",
    "# elif len(zbins)<6: nrows,ncols=1,len(zbins)\n",
    "nrows,ncols=2,len(zbins)\n",
    "# else: nrows,ncols=2,round(len(Qbins)/2)\n",
    "py.figure(figsize=(4*ncols,4*nrows))\n",
    "\n",
    "thy=[]\n",
    "npts=0\n",
    "cnt=0\n",
    "for i in range(len(zbins)):\n",
    "    cnt+=1\n",
    "    ax=py.subplot(nrows,ncols,cnt)\n",
    "    d=tab1.query('z==%f'%(zbins[i]))\n",
    "#     ax.errorbar(d['nu'].values[0],d['value'].values[0],yerr=d['stat_u'].values[0],fmt='yo',label=r'not~fit')\n",
    "    #ax.errorbar(d['nu'].values[1:],d['value'].values[1:],yerr=d['stat_u'].values[1:],fmt='k.',label=r'$z=%.3f$'%(d['z'].values[0]))\n",
    "    ax.errorbar(d['nu'],d['value'],yerr=d['stat_u'],fmt='k.',label=r'$z=%.3f$'%(d['z'].values[0]))\n",
    "    ax.legend()\n",
    "    thy.append([itd.ReITD(d['nu'].values[i],1/d['z'].values[i]**2,50,[fit.x[0],fit.x[1]]) for i in range(len(d['z'].values))])\n",
    "    npts+=len(thy[i])\n",
    "    ax.plot(d['nu'],np.array(thy[i]),label=r'$\\rm fit$')\n",
    "    ax.legend()\n",
    "    ax.set_xlabel(r'$\\nu$',size=20)\n",
    "    if i==0: ax.set_ylabel(r'${\\rm Re}\\mathfrak{M}(\\nu,z^2)~L=%i$'%d['L'].values[0],size=20)\n",
    "    \n",
    "ax.text(0.1,0.1,r'$\\chi^2/npts=%.3f$'%(chi2(fit.x,printfit=False)/npts),transform=ax.transAxes,size=20)\n",
    "ax.text(0.1,0.4,r'$a=%.3f$'%fit.x[0],transform=ax.transAxes,size=20)\n",
    "ax.text(0.1,0.3,r'$b=%.3f$'%fit.x[1],transform=ax.transAxes,size=20)\n",
    "\n",
    "# for i in range(len(zbins)):\n",
    "#     cnt+=1\n",
    "#     ax=py.subplot(nrows,ncols,cnt)\n",
    "#     d=tab2.query('z==%f'%(zbins[i]))\n",
    "# #     ax.errorbar(d['nu'].values[0],d['value'].values[0],yerr=d['stat_u'].values[0],fmt='yo',label=r'not~fit')\n",
    "#     #ax.errorbar(d['nu'].values[1:],d['value'].values[1:],yerr=d['stat_u'].values[1:],fmt='k.',label=r'$z=%.3f$'%(d['z'].values[0]))\n",
    "#     ax.errorbar(d['nu'],d['value'],yerr=d['stat_u'],fmt='k.',label=r'$z=%.3f$'%(d['z'].values[0]))\n",
    "#     ax.legend()\n",
    "#     thy.append([itd.ReITD(d['nu'].values[i],1/d['z'].values[i]**2,50,[fit.x[0],fit.x[1]]) for i in range(len(d['z'].values))])\n",
    "#     npts+=len(thy[i])\n",
    "#     ax.plot(d['nu'],np.array(thy[i]),label=r'$\\rm fit$')\n",
    "#     ax.legend()\n",
    "#     ax.set_xlabel(r'$\\nu$',size=20)\n",
    "#     if i==0: ax.set_ylabel(r'${\\rm Re}\\mathfrak{M}(\\nu,z^2)~L=%i$'%d['L'].values[0],size=20)\n",
    "    \n",
    "\n",
    "py.tight_layout()\n",
    "checkdir('lattice_gallery/simplefits')\n",
    "# py.savefig('lattice_gallery/simplefits/zmin=%.3f_zmax=%.3f_bothV.png'%(zbins[0],zbins[-1]))"
   ]
  },
  {
   "cell_type": "markdown",
   "id": "handled-passage",
   "metadata": {},
   "source": [
    "# Covariance Matrix"
   ]
  },
  {
   "cell_type": "code",
   "execution_count": 29,
   "id": "bizarre-swimming",
   "metadata": {},
   "outputs": [],
   "source": [
    "from numpy.linalg import svd,cholesky,inv"
   ]
  },
  {
   "cell_type": "code",
   "execution_count": 30,
   "id": "fifty-inflation",
   "metadata": {},
   "outputs": [],
   "source": [
    "tab=pd.read_excel('/work/JAM/barryp/JAM/fitpack2/database/pITD-pion/expdata/1001.xlsx')\n",
    "covariant=[]\n",
    "for k in tab:\n",
    "     if 'stat_' in k:\n",
    "        covariant.append(tab[k].values)\n",
    "covariant=np.array(covariant)"
   ]
  },
  {
   "cell_type": "code",
   "execution_count": 31,
   "id": "breathing-amino",
   "metadata": {},
   "outputs": [
    {
     "name": "stdout",
     "output_type": "stream",
     "text": [
      "(24, 24)\n"
     ]
    }
   ],
   "source": [
    "print(covariant.shape)"
   ]
  },
  {
   "cell_type": "code",
   "execution_count": 32,
   "id": "micro-paris",
   "metadata": {},
   "outputs": [],
   "source": [
    "# print(covariant)"
   ]
  },
  {
   "cell_type": "code",
   "execution_count": 33,
   "id": "large-citation",
   "metadata": {},
   "outputs": [],
   "source": [
    "L=cholesky(covariant)\n",
    "# print(L)"
   ]
  },
  {
   "cell_type": "code",
   "execution_count": 34,
   "id": "noted-colors",
   "metadata": {},
   "outputs": [],
   "source": [
    "Linv=inv(L)"
   ]
  },
  {
   "cell_type": "code",
   "execution_count": 35,
   "id": "psychological-sphere",
   "metadata": {},
   "outputs": [],
   "source": [
    "def resfunc(par,zmin,zmax,printfit=True):\n",
    "    if printfit: lprint('a=%f, b=%f'%(par[0],par[1]))\n",
    "    d=tab.query('z<=%.3f and z>%.3f'%(zmax,zmin))\n",
    "    exp=d['value'].values\n",
    "    thy=np.array([itd.ReITD(d['nu'].values[i],1/d['z'].values[i]**2,50,[par[0],par[1]]) for i in range(len(d['z'].values))])\n",
    "    cov=np.zeros((len(d.index.values),len(d.index.values)))\n",
    "    for i in range(len(d.index)):\n",
    "        for k in d:\n",
    "            if 'stat' not in k: continue\n",
    "            else:\n",
    "                if int(k.split('_')[-1])==(d.index[i]+1):\n",
    "                    cov[i]=d[k]\n",
    "    L=cholesky(cov)\n",
    "    Linv=inv(L)\n",
    "    res=np.dot(Linv,exp-thy)\n",
    "#     for i in range(len(exp-thy)):\n",
    "#         print(Linv[i])\n",
    "#         print(1/cov[i][i]**0.5)\n",
    "#         print(inv(cov))\n",
    "#         print(exp-thy)\n",
    "#         print()\n",
    "#     if par[1]<0: res*=10000\n",
    "#     if par[0]>10 or par[1]>10: res*=10000\n",
    "    return res"
   ]
  },
  {
   "cell_type": "code",
   "execution_count": 36,
   "id": "beginning-henry",
   "metadata": {},
   "outputs": [],
   "source": [
    "def chi2func(par,zmin,zmax,printfit=True):\n",
    "    if printfit: lprint('a=%f, b=%f'%(par[0],par[1]))\n",
    "    d=tab.query('z<=%.3f and z>%.3f'%(zmax,zmin))\n",
    "    exp=d['value'].values\n",
    "    thy=np.array([itd.ReITD(d['nu'].values[i],1/d['z'].values[i]**2,50,[par[0],par[1]]) for i in range(len(d['z'].values))])\n",
    "    cov=np.zeros((len(d.index.values),len(d.index.values)))\n",
    "    for i in range(len(d.index)):\n",
    "        for k in d:\n",
    "            if 'stat' not in k: continue\n",
    "            else:\n",
    "                if int(k.split('_')[-1])==(d.index[i]+1):\n",
    "                    cov[i]=d[k]\n",
    "    y=exp-thy\n",
    "    yT=y.T\n",
    "    M1=np.dot(inv(cov),y)\n",
    "    chi2=np.dot(yT,M1)\n",
    "    return chi2"
   ]
  },
  {
   "cell_type": "code",
   "execution_count": 45,
   "id": "peaceful-puzzle",
   "metadata": {},
   "outputs": [],
   "source": [
    "def res(par,printfit=True):\n",
    "    zmin=np.unique(tab['z'])[1]\n",
    "    zmax=np.unique(tab['z'])[3]\n",
    "    return resfunc(par,zmin,zmax,printfit)"
   ]
  },
  {
   "cell_type": "code",
   "execution_count": 46,
   "id": "suffering-animation",
   "metadata": {},
   "outputs": [],
   "source": [
    "def chi2check(par,printfit=True):\n",
    "    return np.sum(res(par,printfit)**2)"
   ]
  },
  {
   "cell_type": "code",
   "execution_count": 47,
   "id": "clear-invasion",
   "metadata": {},
   "outputs": [
    {
     "name": "stdout",
     "output_type": "stream",
     "text": [
      "[-13.40088132   3.30071446  -4.27479647 -18.1388717    1.20246371\n",
      "   0.61357535]\n",
      "0.01946711540222168\n"
     ]
    }
   ],
   "source": [
    "t0=time.time()\n",
    "guess=[-0.5,1.5]\n",
    "print(res(guess,printfit=False))\n",
    "# np.sum(res(guess,printfit=False)**2)\n",
    "t1=time.time()\n",
    "print(t1-t0)"
   ]
  },
  {
   "cell_type": "code",
   "execution_count": 48,
   "id": "differential-investigator",
   "metadata": {},
   "outputs": [
    {
     "name": "stdout",
     "output_type": "stream",
     "text": [
      "539.5932814379272\n"
     ]
    }
   ],
   "source": [
    "print(np.sum(res(guess,printfit=False)**2))"
   ]
  },
  {
   "cell_type": "code",
   "execution_count": null,
   "id": "thick-crest",
   "metadata": {},
   "outputs": [],
   "source": []
  },
  {
   "cell_type": "code",
   "execution_count": 49,
   "id": "surface-palmer",
   "metadata": {},
   "outputs": [
    {
     "name": "stdout",
     "output_type": "stream",
     "text": [
      "a=63.630703, b=84.0973911"
     ]
    }
   ],
   "source": [
    "fit=least_squares(res,guess)"
   ]
  },
  {
   "cell_type": "code",
   "execution_count": 50,
   "id": "informal-pattern",
   "metadata": {},
   "outputs": [
    {
     "name": "stdout",
     "output_type": "stream",
     "text": [
      "40.980805129892474\n"
     ]
    }
   ],
   "source": [
    "print(chi2check(fit.x,printfit=False))"
   ]
  },
  {
   "cell_type": "code",
   "execution_count": 51,
   "id": "restricted-routine",
   "metadata": {},
   "outputs": [
    {
     "name": "stdout",
     "output_type": "stream",
     "text": [
      "40.980805129892474\n"
     ]
    }
   ],
   "source": [
    "print(chi2(fit.x,printfit=False))"
   ]
  },
  {
   "cell_type": "code",
   "execution_count": 53,
   "id": "checked-applicant",
   "metadata": {},
   "outputs": [
    {
     "data": {
      "image/png": "[encoded data removed]",
      "text/plain": [
       "<Figure size 576x576 with 2 Axes>"
      ]
     },
     "metadata": {
      "needs_background": "light"
     },
     "output_type": "display_data"
    }
   ],
   "source": [
    "# zbins=[0.381]\n",
    "zbins=[0.381,0.508]\n",
    "\n",
    "# zbins=[0.508]\n",
    "# zbins=[0.508,0.635]\n",
    "# zbins=[0.508,0.635,0.762]\n",
    "# zbins=[0.508,0.635,0.762,0.889]\n",
    "\n",
    "# zbins=[0.635]\n",
    "# zbins=[0.635,0.762]\n",
    "\n",
    "# if len(zbins)<2: nrows,ncols=1,1\n",
    "# elif len(zbins)<6: nrows,ncols=1,len(zbins)\n",
    "nrows,ncols=2,len(zbins)\n",
    "# else: nrows,ncols=2,round(len(Qbins)/2)\n",
    "py.figure(figsize=(4*ncols,4*nrows))\n",
    "\n",
    "thy=[]\n",
    "npts=0\n",
    "cnt=0\n",
    "for i in range(len(zbins)):\n",
    "    cnt+=1\n",
    "    ax=py.subplot(nrows,ncols,cnt)\n",
    "    d=tab1.query('z==%f'%(zbins[i]))\n",
    "#     ax.errorbar(d['nu'].values[0],d['value'].values[0],yerr=d['stat_u'].values[0],fmt='yo',label=r'not~fit')\n",
    "    #ax.errorbar(d['nu'].values[1:],d['value'].values[1:],yerr=d['stat_u'].values[1:],fmt='k.',label=r'$z=%.3f$'%(d['z'].values[0]))\n",
    "    ax.errorbar(d['nu'],d['value'],yerr=d['stat_u'],fmt='k.',label=r'$z=%.3f$'%(d['z'].values[0]))\n",
    "    ax.legend()\n",
    "    thy.append([itd.ReITD(d['nu'].values[i],1/d['z'].values[i]**2,50,[fit.x[0],fit.x[1]]) for i in range(len(d['z'].values))])\n",
    "#     thy.append([itd.ReITD(d['nu'].values[i],1/d['z'].values[i]**2,50,[0.5,2]) for i in range(len(d['z'].values))])\n",
    "    npts+=len(thy[i])\n",
    "    ax.plot(d['nu'],np.array(thy[i]),label=r'$\\rm fit$')\n",
    "    ax.legend()\n",
    "    ax.set_xlabel(r'$\\nu$',size=20)\n",
    "    if i==0: ax.set_ylabel(r'${\\rm Re}\\mathfrak{M}(\\nu,z^2)~L=%i$'%d['L'].values[0],size=20)\n",
    "    \n",
    "ax.text(0.1,0.1,r'$\\chi^2/npts=%.3f$'%(chi2check(fit.x,printfit=False)/npts),transform=ax.transAxes,size=20)\n",
    "# ax.text(0.1,0.1,r'$\\chi^2/npts=%.3f$'%(chi2check([0.5,2],printfit=False)/npts),transform=ax.transAxes,size=20)\n",
    "ax.text(0.1,0.4,r'$a=%.3f$'%fit.x[0],transform=ax.transAxes,size=20)\n",
    "ax.text(0.1,0.3,r'$b=%.3f$'%fit.x[1],transform=ax.transAxes,size=20)\n",
    "\n",
    "# for i in range(len(zbins)):\n",
    "#     cnt+=1\n",
    "#     ax=py.subplot(nrows,ncols,cnt)\n",
    "#     d=tab2.query('z==%f'%(zbins[i]))\n",
    "# #     ax.errorbar(d['nu'].values[0],d['value'].values[0],yerr=d['stat_u'].values[0],fmt='yo',label=r'not~fit')\n",
    "#     #ax.errorbar(d['nu'].values[1:],d['value'].values[1:],yerr=d['stat_u'].values[1:],fmt='k.',label=r'$z=%.3f$'%(d['z'].values[0]))\n",
    "#     ax.errorbar(d['nu'],d['value'],yerr=d['stat_u'],fmt='k.',label=r'$z=%.3f$'%(d['z'].values[0]))\n",
    "#     ax.legend()\n",
    "#     thy.append([itd.ReITD(d['nu'].values[i],1/d['z'].values[i]**2,50,[fit.x[0],fit.x[1]]) for i in range(len(d['z'].values))])\n",
    "#     npts+=len(thy[i])\n",
    "#     ax.plot(d['nu'],np.array(thy[i]),label=r'$\\rm fit$')\n",
    "#     ax.legend()\n",
    "#     ax.set_xlabel(r'$\\nu$',size=20)\n",
    "#     if i==0: ax.set_ylabel(r'${\\rm Re}\\mathfrak{M}(\\nu,z^2)~L=%i$'%d['L'].values[0],size=20)\n",
    "    \n",
    "\n",
    "py.tight_layout()\n",
    "checkdir('lattice_gallery/simplefits')\n",
    "# py.savefig('lattice_gallery/simplefits/zmin=%.3f_zmax=%.3f_bothV.png'%(zbins[0],zbins[-1]))"
   ]
  },
  {
   "cell_type": "code",
   "execution_count": null,
   "id": "round-elizabeth",
   "metadata": {},
   "outputs": [],
   "source": []
  },
  {
   "cell_type": "markdown",
   "id": "raised-tribe",
   "metadata": {},
   "source": [
    "# SVD"
   ]
  },
  {
   "cell_type": "code",
   "execution_count": null,
   "id": "adverse-ecology",
   "metadata": {},
   "outputs": [],
   "source": []
  },
  {
   "cell_type": "code",
   "execution_count": 23,
   "id": "dangerous-special",
   "metadata": {},
   "outputs": [],
   "source": [
    "u,s,vh=svd(covariant)"
   ]
  },
  {
   "cell_type": "code",
   "execution_count": 24,
   "id": "engaged-phase",
   "metadata": {},
   "outputs": [
    {
     "name": "stdout",
     "output_type": "stream",
     "text": [
      "(24, 24) (24,) (24, 24)\n"
     ]
    }
   ],
   "source": [
    "print(u.shape,s.shape,vh.shape)"
   ]
  },
  {
   "cell_type": "code",
   "execution_count": 25,
   "id": "infrared-assessment",
   "metadata": {},
   "outputs": [],
   "source": [
    "def resfunc(par,zmin,zmax,printfit=True):\n",
    "    if printfit: lprint('a=%f, b=%f'%(par[0],par[1]))\n",
    "    #Ne=par[0]\n",
    "    #d=tab1.query('z<=%.3f and z>%.3f and p>1'%(zmax,zmin))\n",
    "    d=tab.query('z<=%.3f and z>%.3f'%(zmax,zmin))\n",
    "#     print(d.index[1])\n",
    "#     print(d)\n",
    "    exp=d['value'].values\n",
    "    #dexp=d['stat_u'].values\n",
    "    thy=np.array([itd.ReITD(d['nu'].values[i],1/d['z'].values[i]**2,50,[par[0],par[1]]) for i in range(len(d['z'].values))])\n",
    "#     print(len(d['z'].values))\n",
    "    cov=np.zeros((len(d.index.values),len(d.index.values)))\n",
    "    for i in range(len(d.index)):\n",
    "        for k in d:\n",
    "            if 'stat' not in k: continue\n",
    "            else:\n",
    "                if int(k.split('_')[-1])==(d.index[i]+1):\n",
    "                    cov[i]=d[k]\n",
    "    u,s,vh=svd(cov)\n",
    "    S=np.diag(s**0.5)\n",
    "    Mat1=np.dot(S,u.T)\n",
    "    Mt=np.dot(vh.T,Mat1)\n",
    "    res=np.zeros(len(d.index.values))\n",
    "#     for i in range(len(exp)):\n",
    "#         res[i]=\n",
    "#             #res[i]+=(exp[i]-thy[i])*cov[i][j]**(-1)*(exp[j]-thy[j])\n",
    "    res=np.dot(Mt**(-1),exp-thy)\n",
    "    return res"
   ]
  },
  {
   "cell_type": "code",
   "execution_count": 26,
   "id": "future-correction",
   "metadata": {},
   "outputs": [],
   "source": [
    "def chi2func(par,zmin,zmax,printfit=True):\n",
    "    if printfit: lprint('a=%f, b=%f'%(par[0],par[1]))\n",
    "    #Ne=par[0]\n",
    "    #d=tab1.query('z<=%.3f and z>%.3f and p>1'%(zmax,zmin))\n",
    "    d=tab.query('z<=%.3f and z>%.3f'%(zmax,zmin))\n",
    "#     print(d.index[1])\n",
    "#     print(d)\n",
    "    exp=d['value'].values\n",
    "    #dexp=d['stat_u'].values\n",
    "    thy=np.array([itd.ReITD(d['nu'].values[i],1/d['z'].values[i]**2,50,[par[0],par[1]]) for i in range(len(d['z'].values))])\n",
    "#     print(len(d['z'].values))\n",
    "    cov=np.zeros((len(d.index.values),len(d.index.values)))\n",
    "    for i in range(len(d.index)):\n",
    "        for k in d:\n",
    "            if 'stat' not in k: continue\n",
    "            else:\n",
    "                if int(k.split('_')[-1])==(d.index[i]+1):\n",
    "                    cov[i]=d[k]\n",
    "#     u,s,vh=svd(cov)\n",
    "#     S=np.diag(s**0.5)\n",
    "#     Mat1=np.dot(S,u.T)\n",
    "#     Mt=np.dot(vh.T,Mat1)\n",
    "#     res=np.zeros(len(d.index.values))\n",
    "    chi2=0\n",
    "    for i in range(len(exp)):\n",
    "        for j in range(len(exp)):\n",
    "            chi2val=(exp[i]-thy[i])/cov[i][j]*(exp[j]-thy[j])\n",
    "            print(chi2val)\n",
    "            chi2+=abs(chi2val)\n",
    "#     res=np.dot(Mt**(-1),exp-thy)\n",
    "    return chi2"
   ]
  },
  {
   "cell_type": "code",
   "execution_count": 27,
   "id": "based-fabric",
   "metadata": {},
   "outputs": [
    {
     "name": "stdout",
     "output_type": "stream",
     "text": [
      "(3, 3)\n",
      "4\n",
      "5\n",
      "6\n",
      "[[ 1.727335e-07  1.129696e-06 -5.580301e-08]\n",
      " [ 1.129696e-06  3.678377e-05  1.927029e-05]\n",
      " [-5.580301e-08  1.927029e-05  3.754225e-04]]\n"
     ]
    }
   ],
   "source": [
    "d=tab.query('z<=%.3f and z>%.3f'%(tab['z'][3],tab['z'][1]))\n",
    "# print(d)\n",
    "cov=np.zeros((len(d.index.values),len(d.index.values)))\n",
    "print(cov.shape)\n",
    "for i in range(len(d.index)):\n",
    "#     print(d.index[i])\n",
    "    for k in d:\n",
    "#         print(k)\n",
    "        if 'stat' not in k: continue\n",
    "        else:\n",
    "            if int(k.split('_')[-1])==(d.index[i]+1):\n",
    "                print(d.index[i]+1)\n",
    "                cov[i]=d[k]\n",
    "print(np.array(cov))"
   ]
  },
  {
   "cell_type": "code",
   "execution_count": 28,
   "id": "interracial-graham",
   "metadata": {},
   "outputs": [
    {
     "name": "stdout",
     "output_type": "stream",
     "text": [
      "[[ 1.727335e-07  1.129696e-06 -5.580301e-08]\n",
      " [ 1.129696e-06  3.678377e-05  1.927029e-05]\n",
      " [-5.580301e-08  1.927029e-05  3.754225e-04]]\n"
     ]
    }
   ],
   "source": [
    "covariantmat=cov\n",
    "print(covariantmat)"
   ]
  },
  {
   "cell_type": "code",
   "execution_count": 29,
   "id": "needed-prediction",
   "metadata": {},
   "outputs": [],
   "source": [
    "u,s,vh=svd(cov)\n",
    "# print(u)\n",
    "# print(s)\n",
    "# print(vh)\n",
    "S=np.diag(s**0.5)\n",
    "# print(S)\n",
    "a=np.dot(S,vh)\n",
    "m=np.dot(u,a)\n",
    "\n",
    "fin=np.dot(m.T,m)\n",
    "\n"
   ]
  },
  {
   "cell_type": "code",
   "execution_count": 30,
   "id": "stylish-commander",
   "metadata": {},
   "outputs": [
    {
     "name": "stdout",
     "output_type": "stream",
     "text": [
      "[[1.00000000e+00 1.31098386e-17 2.92763268e-19]\n",
      " [1.31098386e-17 1.00000000e+00 1.15005916e-17]\n",
      " [2.92763268e-19 1.15005916e-17 1.00000000e+00]]\n"
     ]
    }
   ],
   "source": [
    "print(np.dot(vh,vh.T))"
   ]
  },
  {
   "cell_type": "code",
   "execution_count": 31,
   "id": "recorded-favorite",
   "metadata": {},
   "outputs": [
    {
     "name": "stdout",
     "output_type": "stream",
     "text": [
      "[[ 4.26008869e-07  1.09887063e-03  1.93728685e-02]\n",
      " [ 1.90050032e-04  5.96457170e-03 -3.38327471e-04]\n",
      " [-3.69613722e-04  1.17397459e-05 -6.57775757e-07]]\n",
      "[[ 3.75469665e-04  1.77939403e-04 -9.67466731e-06]\n",
      " [ 1.77939403e-04  6.01459134e-03  7.59472536e-04]\n",
      " [-9.67466731e-06  7.59472536e-04  1.93609299e-02]]\n",
      "[[ 4.26008869e-07  1.09887063e-03  1.93728685e-02]\n",
      " [ 1.90050032e-04  5.96457170e-03 -3.38327471e-04]\n",
      " [-3.69613722e-04  1.17397459e-05 -6.57775757e-07]]\n",
      "[[ 8.26627978e-09  2.13224952e-05  3.75911308e-04]\n",
      " [ 1.13596356e-06  3.56513283e-05 -2.02224474e-06]\n",
      " [-1.36683413e-07  4.34136626e-09 -2.43245936e-10]]\n",
      "[[ 1.727335e-07  1.129696e-06 -5.580301e-08]\n",
      " [ 1.129696e-06  3.678377e-05  1.927029e-05]\n",
      " [-5.580301e-08  1.927029e-05  3.754225e-04]]\n"
     ]
    }
   ],
   "source": [
    "mat1=np.dot(S,u.T)\n",
    "mat2=np.dot(vh.T,mat1)\n",
    "mat3=np.dot(vh,mat2)\n",
    "mat4=np.dot(S,mat3)\n",
    "mat5=np.dot(u,mat4)\n",
    "print(mat1)\n",
    "print(mat2)\n",
    "print(mat3)\n",
    "print(mat4)\n",
    "print(mat5)"
   ]
  },
  {
   "cell_type": "code",
   "execution_count": 32,
   "id": "fleet-coordinator",
   "metadata": {},
   "outputs": [
    {
     "name": "stdout",
     "output_type": "stream",
     "text": [
      "[[-1.03232140e-21 -7.62329653e-21  1.51440227e-19]\n",
      " [-7.62329653e-21 -6.77626358e-21 -2.37169225e-20]\n",
      " [ 1.51407139e-19 -2.37169225e-20 -1.08420217e-19]]\n"
     ]
    }
   ],
   "source": [
    "print(mat5-fin)\n"
   ]
  },
  {
   "cell_type": "code",
   "execution_count": 33,
   "id": "afraid-shepherd",
   "metadata": {},
   "outputs": [
    {
     "name": "stdout",
     "output_type": "stream",
     "text": [
      "[[ 1.727335e-07  1.129696e-06 -5.580301e-08]\n",
      " [ 1.129696e-06  3.678377e-05  1.927029e-05]\n",
      " [-5.580301e-08  1.927029e-05  3.754225e-04]]\n"
     ]
    }
   ],
   "source": [
    "print(cov)"
   ]
  },
  {
   "cell_type": "code",
   "execution_count": 34,
   "id": "sound-cornwall",
   "metadata": {},
   "outputs": [],
   "source": [
    "def res(par,printfit=True):\n",
    "    zmin=np.unique(tab['z'])[1]\n",
    "    zmax=np.unique(tab['z'])[3]\n",
    "    return resfunc(par,zmin,zmax,printfit)"
   ]
  },
  {
   "cell_type": "code",
   "execution_count": 35,
   "id": "outside-result",
   "metadata": {},
   "outputs": [],
   "source": [
    "def chi2(par,printfit=True):\n",
    "    return np.sum(res(par,printfit)**2)"
   ]
  },
  {
   "cell_type": "code",
   "execution_count": 36,
   "id": "impaired-quebec",
   "metadata": {},
   "outputs": [
    {
     "name": "stdout",
     "output_type": "stream",
     "text": [
      "[6055.38019303   52.78803753  249.26551657 2797.26381094 -536.26856099\n",
      "  647.3471081 ]\n"
     ]
    }
   ],
   "source": [
    "guess=[-0.5,1.5]\n",
    "print(res(guess,printfit=False))"
   ]
  },
  {
   "cell_type": "code",
   "execution_count": 37,
   "id": "contemporary-multiple",
   "metadata": {},
   "outputs": [
    {
     "name": "stdout",
     "output_type": "stream",
     "text": [
      "45263876.23271612\n"
     ]
    }
   ],
   "source": [
    "print(np.sum(res(guess,printfit=False)**2))"
   ]
  },
  {
   "cell_type": "code",
   "execution_count": 38,
   "id": "warming-player",
   "metadata": {},
   "outputs": [
    {
     "name": "stdout",
     "output_type": "stream",
     "text": [
      "179.58362026537742\n",
      "69.75061082393898\n",
      "-551.0137456012151\n",
      "317.23632858062837\n",
      "253.98284781743465\n",
      "-652.5027212270062\n",
      "69.75061082393898\n",
      "3.7806810975757954\n",
      "-58.78187471515492\n",
      "102.98768498536045\n",
      "25.016772891025163\n",
      "-58.587446777712714\n",
      "-551.0137456012151\n",
      "-58.78187471515492\n",
      "11.699215936900977\n",
      "-504.12473873570417\n",
      "273.4508191139094\n",
      "12.990362622699084\n",
      "317.2363285806283\n",
      "102.98768498536043\n",
      "-504.12473873570417\n",
      "409.5934579833968\n",
      "320.83515907595563\n",
      "-622.245961962146\n",
      "253.98284781743467\n",
      "25.016772891025163\n",
      "273.45081911390946\n",
      "320.8351590759556\n",
      "48.77663074470179\n",
      "394.8622147123042\n",
      "-652.5027212270062\n",
      "-58.58744677771271\n",
      "12.990362622699084\n",
      "-622.2459619621461\n",
      "394.8622147123042\n",
      "13.705688091898175\n",
      "9103.877873404243\n"
     ]
    }
   ],
   "source": [
    "guess=[-0.5,1.5]\n",
    "print(chi2func(guess,np.unique(tab['z'])[1],np.unique(tab['z'])[3],printfit=False))"
   ]
  },
  {
   "cell_type": "code",
   "execution_count": 39,
   "id": "complex-arrival",
   "metadata": {},
   "outputs": [
    {
     "name": "stdout",
     "output_type": "stream",
     "text": [
      "a=-0.675841, b=-0.169536"
     ]
    }
   ],
   "source": [
    "fit=least_squares(res,guess)"
   ]
  },
  {
   "cell_type": "code",
   "execution_count": 40,
   "id": "resistant-forest",
   "metadata": {},
   "outputs": [
    {
     "name": "stdout",
     "output_type": "stream",
     "text": [
      "539.3658200202708\n"
     ]
    }
   ],
   "source": [
    "print(chi2(fit.x,printfit=False))"
   ]
  },
  {
   "cell_type": "code",
   "execution_count": 41,
   "id": "radical-cedar",
   "metadata": {},
   "outputs": [
    {
     "data": {
      "image/png": "[encoded data removed]",
      "text/plain": [
       "<Figure size 576x576 with 2 Axes>"
      ]
     },
     "metadata": {
      "needs_background": "light"
     },
     "output_type": "display_data"
    }
   ],
   "source": [
    "# zbins=[0.381]\n",
    "zbins=[0.381,0.508]\n",
    "# zbins=[0.508]\n",
    "# zbins=[0.508,0.635]\n",
    "# zbins=[0.508,0.635,0.762]\n",
    "# zbins=[0.508,0.635,0.762,0.889]\n",
    "\n",
    "# if len(zbins)<2: nrows,ncols=1,1\n",
    "# elif len(zbins)<6: nrows,ncols=1,len(zbins)\n",
    "nrows,ncols=2,len(zbins)\n",
    "# else: nrows,ncols=2,round(len(Qbins)/2)\n",
    "py.figure(figsize=(4*ncols,4*nrows))\n",
    "\n",
    "thy=[]\n",
    "npts=0\n",
    "cnt=0\n",
    "for i in range(len(zbins)):\n",
    "    cnt+=1\n",
    "    ax=py.subplot(nrows,ncols,cnt)\n",
    "    d=tab1.query('z==%f'%(zbins[i]))\n",
    "#     ax.errorbar(d['nu'].values[0],d['value'].values[0],yerr=d['stat_u'].values[0],fmt='yo',label=r'not~fit')\n",
    "    #ax.errorbar(d['nu'].values[1:],d['value'].values[1:],yerr=d['stat_u'].values[1:],fmt='k.',label=r'$z=%.3f$'%(d['z'].values[0]))\n",
    "    ax.errorbar(d['nu'],d['value'],yerr=d['stat_u'],fmt='k.',label=r'$z=%.3f$'%(d['z'].values[0]))\n",
    "    ax.legend()\n",
    "    thy.append([itd.ReITD(d['nu'].values[i],1/d['z'].values[i]**2,50,[fit.x[0],fit.x[1]]) for i in range(len(d['z'].values))])\n",
    "    npts+=len(thy[i])\n",
    "    ax.plot(d['nu'],np.array(thy[i]),label=r'$\\rm fit$')\n",
    "    ax.legend()\n",
    "    ax.set_xlabel(r'$\\nu$',size=20)\n",
    "    if i==0: ax.set_ylabel(r'${\\rm Re}\\mathfrak{M}(\\nu,z^2)~L=%i$'%d['L'].values[0],size=20)\n",
    "    \n",
    "ax.text(0.1,0.1,r'$\\chi^2/npts=%.3f$'%(chi2(fit.x,printfit=False)/npts),transform=ax.transAxes,size=20)\n",
    "ax.text(0.1,0.4,r'$a=%.3f$'%fit.x[0],transform=ax.transAxes,size=20)\n",
    "ax.text(0.1,0.3,r'$b=%.3f$'%fit.x[1],transform=ax.transAxes,size=20)\n",
    "\n",
    "# for i in range(len(zbins)):\n",
    "#     cnt+=1\n",
    "#     ax=py.subplot(nrows,ncols,cnt)\n",
    "#     d=tab2.query('z==%f'%(zbins[i]))\n",
    "# #     ax.errorbar(d['nu'].values[0],d['value'].values[0],yerr=d['stat_u'].values[0],fmt='yo',label=r'not~fit')\n",
    "#     #ax.errorbar(d['nu'].values[1:],d['value'].values[1:],yerr=d['stat_u'].values[1:],fmt='k.',label=r'$z=%.3f$'%(d['z'].values[0]))\n",
    "#     ax.errorbar(d['nu'],d['value'],yerr=d['stat_u'],fmt='k.',label=r'$z=%.3f$'%(d['z'].values[0]))\n",
    "#     ax.legend()\n",
    "#     thy.append([itd.ReITD(d['nu'].values[i],1/d['z'].values[i]**2,50,[fit.x[0],fit.x[1]]) for i in range(len(d['z'].values))])\n",
    "#     npts+=len(thy[i])\n",
    "#     ax.plot(d['nu'],np.array(thy[i]),label=r'$\\rm fit$')\n",
    "#     ax.legend()\n",
    "#     ax.set_xlabel(r'$\\nu$',size=20)\n",
    "#     if i==0: ax.set_ylabel(r'${\\rm Re}\\mathfrak{M}(\\nu,z^2)~L=%i$'%d['L'].values[0],size=20)\n",
    "    \n",
    "\n",
    "py.tight_layout()\n",
    "checkdir('lattice_gallery/simplefits')\n",
    "# py.savefig('lattice_gallery/simplefits/zmin=%.3f_zmax=%.3f_bothV.png'%(zbins[0],zbins[-1]))"
   ]
  }
 ],
 "metadata": {
  "kernelspec": {
   "display_name": "Python 3",
   "language": "python",
   "name": "python3"
  },
  "language_info": {
   "codemirror_mode": {
    "name": "ipython",
    "version": 3
   },
   "file_extension": ".py",
   "mimetype": "text/x-python",
   "name": "python",
   "nbconvert_exporter": "python",
   "pygments_lexer": "ipython3",
   "version": "3.8.6"
  }
 },
 "nbformat": 4,
 "nbformat_minor": 5
}
