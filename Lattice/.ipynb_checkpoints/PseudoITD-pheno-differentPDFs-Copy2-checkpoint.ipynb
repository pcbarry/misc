{
 "cells": [
  {
   "cell_type": "code",
   "execution_count": 1,
   "id": "demanding-adapter",
   "metadata": {},
   "outputs": [
    {
     "name": "stderr",
     "output_type": "stream",
     "text": [
      "Matplotlib created a temporary config/cache directory at /tmp/matplotlib-grcygmsb because the default path (/home/jovyan/.cache/matplotlib) is not a writable directory; it is highly recommended to set the MPLCONFIGDIR environment variable to a writable directory, in particular to speed up the import of Matplotlib and to better support multiprocessing.\n"
     ]
    }
   ],
   "source": [
    "import numpy as np\n",
    "import os,sys\n",
    "import matplotlib\n",
    "import pylab as py\n",
    "import mpmath as mp\n",
    "from mpmath import fp"
   ]
  },
  {
   "cell_type": "code",
   "execution_count": 2,
   "id": "focal-parliament",
   "metadata": {},
   "outputs": [],
   "source": [
    "import copy"
   ]
  },
  {
   "cell_type": "code",
   "execution_count": 3,
   "id": "verbal-passing",
   "metadata": {},
   "outputs": [],
   "source": [
    "sys.path.append('/work/JAM/barryp/JAM/fitpack2/')\n",
    "os.environ['FITPACK']='/work/JAM/barryp/JAM/fitpack2/'"
   ]
  },
  {
   "cell_type": "code",
   "execution_count": 4,
   "id": "compact-flash",
   "metadata": {},
   "outputs": [],
   "source": [
    "from qcdlib import mellin,pdf,alphaS,eweak,aux,pdfpionfit,pdfpion\n",
    "\n",
    "from tools.config import conf\n",
    "from tools.tools import load,save,checkdir,lprint"
   ]
  },
  {
   "cell_type": "code",
   "execution_count": 5,
   "id": "silent-people",
   "metadata": {},
   "outputs": [],
   "source": [
    "conf['Q20']=1.27**2\n",
    "conf['aux']=aux.AUX()\n",
    "conf['order']='NLO'\n",
    "conf['eweak']=eweak.EWEAK()\n",
    "conf['alphaS']=alphaS.ALPHAS()\n",
    "conf['dglap mode']='truncated'"
   ]
  },
  {
   "cell_type": "code",
   "execution_count": 6,
   "id": "three-operations",
   "metadata": {},
   "outputs": [],
   "source": [
    "mell=mellin.MELLIN()\n",
    "imell=mellin.IMELLIN()\n",
    "mellpi=mellin.MELLIN(npts=8,extended=True)\n",
    "\n",
    "pdf1=pdf.PDF(mellin=mell)\n",
    "pdf2=pdf.PDF(mellin=imell)"
   ]
  },
  {
   "cell_type": "code",
   "execution_count": 7,
   "id": "quarterly-senator",
   "metadata": {},
   "outputs": [],
   "source": [
    "imell.N=np.array([])\n",
    "for i in range(1,51):\n",
    "    iN=np.array([i],dtype=complex)\n",
    "    imell.N=np.append(imell.N,iN)"
   ]
  },
  {
   "cell_type": "code",
   "execution_count": 8,
   "id": "quiet-speech",
   "metadata": {},
   "outputs": [],
   "source": [
    "from analysis.corelib import core\n",
    "from fitlib.resman import RESMAN\n",
    "\n",
    "from tools.tools import load,save,checkdir,lprint\n",
    "from tools.config import load_config\n",
    "\n",
    "import copy"
   ]
  },
  {
   "cell_type": "code",
   "execution_count": 9,
   "id": "centered-tiger",
   "metadata": {},
   "outputs": [],
   "source": [
    "def cn(x,n,z2):\n",
    "    CF=4.0/3.0\n",
    "    euler=fp.euler\n",
    "    \n",
    "    #--harmonic number\n",
    "    def harmonic(ini,fin):\n",
    "        harmonic=0\n",
    "        for i in range(ini,fin):\n",
    "            harmonic+=1./i\n",
    "        return harmonic\n",
    "    \n",
    "    gamma_n=1.0/((n+1)*(n+2))-0.5-2*harmonic(2,n+1)\n",
    "    \n",
    "    #--polygamma\n",
    "    def polygamma(ini,fin):\n",
    "        polygamma=0\n",
    "        for i in range(ini,fin):\n",
    "            polygamma+=1./i**2\n",
    "        return polygamma\n",
    "    \n",
    "    d_n=2*(harmonic(1,n)**2+polygamma(1,n)+0.5-1.0/((n+1)*(n+2)))\n",
    "    aS=conf['alphaS'].get_alphaS(x/z2)\n",
    "    cn=1.-aS/2./np.pi*CF*(gamma_n*np.log(x*np.exp(2*euler+1)/4.0)+d_n)\n",
    "    return cn"
   ]
  },
  {
   "cell_type": "code",
   "execution_count": 10,
   "id": "operational-genome",
   "metadata": {},
   "outputs": [],
   "source": [
    "def aval(mu2):\n",
    "    conf['pdf-pion'].evolve(mu2)\n",
    "    u=np.array(conf['pdf-pion'].storage[mu2]['u'])\n",
    "    ub=np.array(conf['pdf-pion'].storage[mu2]['ub'])\n",
    "    return ub-u"
   ]
  },
  {
   "cell_type": "code",
   "execution_count": 11,
   "id": "veterinary-disclaimer",
   "metadata": {},
   "outputs": [],
   "source": [
    "def ReITD(nu,z2,N):\n",
    "    M=1\n",
    "    for n in range(1,N):\n",
    "        if n%2==1: continue\n",
    "        M+=(1j*nu)**n/int(mp.factorial(n))*cn(1.,n,z2)*(aval(1.0/z2)[n]) #--nth index in pdf storage is N=n+1\n",
    "    return np.real(M)"
   ]
  },
  {
   "cell_type": "code",
   "execution_count": 12,
   "id": "changed-stephen",
   "metadata": {},
   "outputs": [],
   "source": [
    "def auub(mu2):\n",
    "    conf['pdf-pion'].evolve(mu2)\n",
    "    u=np.array(conf['pdf-pion'].storage[mu2]['u'])\n",
    "    ub=np.array(conf['pdf-pion'].storage[mu2]['ub'])\n",
    "    return ub+u"
   ]
  },
  {
   "cell_type": "code",
   "execution_count": 13,
   "id": "southwest-moral",
   "metadata": {},
   "outputs": [],
   "source": [
    "def ImITD(nu,z2,N):\n",
    "    M=1\n",
    "    for n in range(1,N):\n",
    "        if n%2==0: continue\n",
    "        M+=(1j*nu)**n/int(mp.factorial(n))*cn(1.,n,z2)*(aval(1.0/z2)[n])\n",
    "    return np.imag(M)"
   ]
  },
  {
   "cell_type": "code",
   "execution_count": 42,
   "id": "latter-franchise",
   "metadata": {},
   "outputs": [],
   "source": [
    "convReal=np.load('latticegrids/RealM.npy',allow_pickle=True,encoding='latin1').item()\n",
    "convImag=np.load('latticegrids/ImagM.npy',allow_pickle=True,encoding='latin1').item()\n",
    "def convITD(spacingkey,p,zoa,mu2,Real=True):\n",
    "    conf['pdf-pion'].evolve(mu2)\n",
    "    u=np.array(conf['pdf-pion'].storage[mu2]['u'])\n",
    "    ub=np.array(conf['pdf-pion'].storage[mu2]['ub'])\n",
    "    val=ub-u\n",
    "    plus=u+ub\n",
    "    if Real==True:\n",
    "        re_tab=convReal[spacingkey][p][zoa]\n",
    "        return conf['mellin-pion'].invert(1,val*re_tab)\n",
    "    elif Real==False:\n",
    "        im_tab=convImag[spacingkey][p][zoa]\n",
    "        return conf['mellin-pion'].invert(1,plus*im_tab)"
   ]
  },
  {
   "cell_type": "code",
   "execution_count": 15,
   "id": "tired-heart",
   "metadata": {},
   "outputs": [],
   "source": [
    "Lbig=32\n",
    "Lsmall=24\n",
    "a=0.127\n",
    "nuB=lambda zoa,p: 2*np.pi/Lbig*zoa*p\n",
    "nuS=lambda zoa,p: 2*np.pi/Lsmall*zoa*p"
   ]
  },
  {
   "cell_type": "code",
   "execution_count": 16,
   "id": "sixth-relative",
   "metadata": {},
   "outputs": [],
   "source": [
    "ZoA=np.array([_ for _ in range(1,9)])\n",
    "p=np.array([1,2,3])\n",
    "Z=a*ZoA"
   ]
  },
  {
   "cell_type": "code",
   "execution_count": 40,
   "id": "incorporated-earthquake",
   "metadata": {},
   "outputs": [],
   "source": [
    "replicas=core.get_replicas('NLOpy3/')\n",
    "istep=16"
   ]
  },
  {
   "cell_type": "code",
   "execution_count": 41,
   "id": "broadband-newsletter",
   "metadata": {},
   "outputs": [
    {
     "name": "stdout",
     "output_type": "stream",
     "text": [
      "loading dy-pion data sets 10001\n",
      "loading dy-pion data sets 10002\n",
      "loading dy-pion data sets 10003\n",
      "10001 has norm uncertainty\n",
      "10002 has norm uncertainty\n",
      "10003 has norm uncertainty\n"
     ]
    }
   ],
   "source": [
    "load_config('NLOpy3/input.py')\n",
    "core.mod_conf(istep,replicas[0])\n",
    "order=replicas[0]['order'][istep]\n",
    "resman=RESMAN(nworkers=2,parallel=True,datasets=True)"
   ]
  },
  {
   "cell_type": "code",
   "execution_count": 19,
   "id": "egyptian-experiment",
   "metadata": {},
   "outputs": [],
   "source": [
    "parman=resman.parman\n",
    "parman.order=order"
   ]
  },
  {
   "cell_type": "code",
   "execution_count": 20,
   "id": "grateful-robinson",
   "metadata": {},
   "outputs": [],
   "source": [
    "# conf['mellin-pion']=imell\n",
    "# conf['pdf-pion']=pdfpion.PDF()"
   ]
  },
  {
   "cell_type": "code",
   "execution_count": 21,
   "id": "protected-testament",
   "metadata": {},
   "outputs": [],
   "source": [
    "ReM={}\n",
    "ReM['NLO']={}\n",
    "ReM['cosine']={}\n",
    "ReM['expansion']={}\n",
    "ReM['double mellin']={}"
   ]
  },
  {
   "cell_type": "code",
   "execution_count": 22,
   "id": "divine-inclusion",
   "metadata": {},
   "outputs": [
    {
     "name": "stdout",
     "output_type": "stream",
     "text": [
      "status: 785/786"
     ]
    }
   ],
   "source": [
    "conf['mellin-pion']=imell\n",
    "conf['pdf-pion']=pdfpion.PDF()\n",
    "ReM['NLO']['a127m415L']={}\n",
    "ReM['NLO']['a127m415']={}\n",
    "ReM['NLO']['a127m415L-mean']={}\n",
    "ReM['NLO']['a127m415-mean']={}\n",
    "ReM['NLO']['a127m415L-std']={}\n",
    "ReM['NLO']['a127m415-std']={}\n",
    "itB={}\n",
    "itS={}\n",
    "for i in range(len(p)):\n",
    "    ReM['NLO']['a127m415L'][p[i]]={}\n",
    "    ReM['NLO']['a127m415'][p[i]]={}\n",
    "    ReM['NLO']['a127m415L-mean'][p[i]]={}\n",
    "    ReM['NLO']['a127m415-mean'][p[i]]={}\n",
    "    ReM['NLO']['a127m415L-std'][p[i]]={}\n",
    "    ReM['NLO']['a127m415-std'][p[i]]={}\n",
    "    itB[p[i]]=[]\n",
    "    itS[p[i]]=[]\n",
    "    for j in range(len(ZoA)):\n",
    "        ioffeB=nuB(ZoA[j],p[i])\n",
    "        ioffeS=nuS(ZoA[j],p[i])\n",
    "        itB[p[i]].append(ioffeB)\n",
    "        itS[p[i]].append(ioffeS)\n",
    "        ReM['NLO']['a127m415L'][p[i]][ZoA[j]]=[]\n",
    "        ReM['NLO']['a127m415'][p[i]][ZoA[j]]=[]\n",
    "        for k in range(len(replicas)):\n",
    "            lprint('status: %i/%i'%(k,len(replicas)))\n",
    "            rep=replicas[k]\n",
    "            parman.par=copy.copy(rep['params'][istep])\n",
    "            parman.order=copy.copy(rep['order'][istep])\n",
    "            par,order=[],[]\n",
    "            for kk in range(len(parman.order)):\n",
    "                if parman.order[kk][0]==2: continue\n",
    "                else:\n",
    "                    par.append(parman.par[kk])\n",
    "                    order.append(parman.order[kk])\n",
    "            parman.par=par\n",
    "            parman.order=order\n",
    "            parman.set_new_params(parman.par)\n",
    "            conf['pdf-pion'].setup()\n",
    "            ReM['NLO']['a127m415L'][p[i]][ZoA[j]].append(ReITD(ioffeB,Z[j]**2,len(imell.N)))\n",
    "            if ZoA[j]>6: continue\n",
    "            ReM['NLO']['a127m415'][p[i]][ZoA[j]].append(ReITD(ioffeS,Z[j]**2,len(imell.N)))\n",
    "        ReM['NLO']['a127m415L'][p[i]][ZoA[j]]=np.array(ReM['NLO']['a127m415L'][p[i]][ZoA[j]])\n",
    "        ReM['NLO']['a127m415'][p[i]][ZoA[j]]=np.array(ReM['NLO']['a127m415'][p[i]][ZoA[j]])\n",
    "        ReM['NLO']['a127m415L-mean'][p[i]][ZoA[j]]=np.mean(ReM['NLO']['a127m415L'][p[i]][ZoA[j]],axis=0)\n",
    "        ReM['NLO']['a127m415-mean'][p[i]][ZoA[j]]=np.mean(ReM['NLO']['a127m415'][p[i]][ZoA[j]],axis=0)\n",
    "        ReM['NLO']['a127m415L-std'][p[i]][ZoA[j]]=np.std(ReM['NLO']['a127m415L'][p[i]][ZoA[j]],axis=0)\n",
    "        ReM['NLO']['a127m415-std'][p[i]][ZoA[j]]=np.std(ReM['NLO']['a127m415'][p[i]][ZoA[j]],axis=0)"
   ]
  },
  {
   "cell_type": "code",
   "execution_count": 23,
   "id": "literary-biology",
   "metadata": {},
   "outputs": [],
   "source": [
    "RealM={}\n",
    "RealM['NLO']={}\n",
    "RealM['cosine']={}\n",
    "RealM['expansion']={}\n",
    "RealM['double mellin']={}"
   ]
  },
  {
   "cell_type": "code",
   "execution_count": 24,
   "id": "antique-officer",
   "metadata": {},
   "outputs": [
    {
     "name": "stdout",
     "output_type": "stream",
     "text": [
      "status: 785/786"
     ]
    }
   ],
   "source": [
    "conf['mellin-pion']=mellpi\n",
    "conf['pdf-pion']=pdfpion.PDF()\n",
    "RealM['NLO']={}\n",
    "RealM['NLO']['a127m415L']={}\n",
    "RealM['NLO']['a127m415']={}\n",
    "RealM['NLO']['a127m415L-mean']={}\n",
    "RealM['NLO']['a127m415-mean']={}\n",
    "RealM['NLO']['a127m415L-std']={}\n",
    "RealM['NLO']['a127m415-std']={}\n",
    "itB={}\n",
    "itS={}\n",
    "for i in range(len(p)):\n",
    "    RealM['NLO']['a127m415L'][p[i]]={}\n",
    "    RealM['NLO']['a127m415'][p[i]]={}\n",
    "    RealM['NLO']['a127m415L-mean'][p[i]]={}\n",
    "    RealM['NLO']['a127m415-mean'][p[i]]={}\n",
    "    RealM['NLO']['a127m415L-std'][p[i]]={}\n",
    "    RealM['NLO']['a127m415-std'][p[i]]={}\n",
    "    itB[p[i]]=[]\n",
    "    itS[p[i]]=[]\n",
    "    for j in range(len(ZoA)):\n",
    "        ioffeB=nuB(ZoA[j],p[i])\n",
    "        ioffeS=nuS(ZoA[j],p[i])\n",
    "        itB[p[i]].append(ioffeB)\n",
    "        itS[p[i]].append(ioffeS)\n",
    "        RealM['NLO']['a127m415L'][p[i]][ZoA[j]]=[]\n",
    "        RealM['NLO']['a127m415'][p[i]][ZoA[j]]=[]\n",
    "        for k in range(len(replicas)):\n",
    "            lprint('status: %i/%i'%(k,len(replicas)))\n",
    "            rep=replicas[k]\n",
    "            parman.par=copy.copy(rep['params'][istep])\n",
    "            parman.order=copy.copy(rep['order'][istep])\n",
    "            par,order=[],[]\n",
    "            for kk in range(len(parman.order)):\n",
    "                if parman.order[kk][0]==2: continue\n",
    "                else:\n",
    "                    par.append(parman.par[kk])\n",
    "                    order.append(parman.order[kk])\n",
    "            parman.par=par\n",
    "            parman.order=order\n",
    "            parman.set_new_params(parman.par)\n",
    "            conf['pdf-pion'].setup()\n",
    "            RealM['NLO']['a127m415L'][p[i]][ZoA[j]].append(convITD('a127m415L',p[i],ZoA[j],1./Z[j]**2,Real=True))\n",
    "            if ZoA[j]>6: continue\n",
    "            RealM['NLO']['a127m415'][p[i]][ZoA[j]].append(convITD('a127m415',p[i],ZoA[j],1./Z[j]**2,Real=True))\n",
    "        RealM['NLO']['a127m415L'][p[i]][ZoA[j]]=np.array(RealM['NLO']['a127m415L'][p[i]][ZoA[j]])\n",
    "        RealM['NLO']['a127m415'][p[i]][ZoA[j]]=np.array(RealM['NLO']['a127m415'][p[i]][ZoA[j]])\n",
    "        RealM['NLO']['a127m415L-mean'][p[i]][ZoA[j]]=np.mean(RealM['NLO']['a127m415L'][p[i]][ZoA[j]],axis=0)\n",
    "        RealM['NLO']['a127m415-mean'][p[i]][ZoA[j]]=np.mean(RealM['NLO']['a127m415'][p[i]][ZoA[j]],axis=0)\n",
    "        RealM['NLO']['a127m415L-std'][p[i]][ZoA[j]]=np.std(RealM['NLO']['a127m415L'][p[i]][ZoA[j]],axis=0)\n",
    "        RealM['NLO']['a127m415-std'][p[i]][ZoA[j]]=np.std(RealM['NLO']['a127m415'][p[i]][ZoA[j]],axis=0)"
   ]
  },
  {
   "cell_type": "code",
   "execution_count": 25,
   "id": "roman-fiber",
   "metadata": {},
   "outputs": [
    {
     "data": {
      "image/png": "[encoded data removed]",
      "text/plain": [
       "<Figure size 432x288 with 1 Axes>"
      ]
     },
     "metadata": {
      "needs_background": "light"
     },
     "output_type": "display_data"
    }
   ],
   "source": [
    "mean={}\n",
    "mean['ReM-a127m415L']={}   \n",
    "ax=py.subplot(111)\n",
    "c=['r','g','b']\n",
    "for i in range(len(p)):\n",
    "#     ax.plot(itB[p[i]],ReM['a127m415L'][p[i]],'o',color=c[i],label=r'$p=%i$'%p[i])\n",
    "#     ax.plot(itS[p[i]][:-2],ReM['a127m415'][p[i]],'^',color=c[i])\n",
    "    for j in range(len(ZoA)):  \n",
    "        if j==0: ax.plot(itB[p[i]][j],ReM['NLO']['a127m415L-std'][p[i]][ZoA[j]]/(1-ReM['NLO']['a127m415L-mean'][p[i]][ZoA[j]]),'o',color=c[i],label=r'$p=%i$'%p[i])\n",
    "        else:\n",
    "            ax.plot(itB[p[i]][j],ReM['NLO']['a127m415L-std'][p[i]][ZoA[j]]/(1-ReM['NLO']['a127m415L-mean'][p[i]][ZoA[j]]),'o',color=c[i])\n",
    "        ax.plot(itS[p[i]][j],ReM['NLO']['a127m415-std'][p[i]][ZoA[j]]/(1-ReM['NLO']['a127m415-mean'][p[i]][ZoA[j]]),'^',color=c[i])\n",
    "# ax.plot(0.8,0.5,'ko')\n",
    "# ax.text(0.9,0.5,r'$L=32$',size=20)\n",
    "# ax.plot(0.8,0.4,'k^')\n",
    "# ax.text(0.9,0.4,r'$L=24$',size=20)\n",
    "ax.set_xlabel(r'$\\nu$',size=20)\n",
    "ax.set_ylabel(r'$\\delta {\\rm Re} \\mathfrak{M}~/~{\\rm Re}(1-\\mathfrak{M})$',size=20)\n",
    "ax.legend()\n",
    "ax.tick_params(axis='both',which='both',direction='in',labelsize=20)\n",
    "ax.set_xlim(0,5)\n",
    "# ax.set_ylim(0,1.1)\n",
    "# ax.semilogy()\n",
    "\n",
    "checkdir('lattice_gallery')\n",
    "py.tight_layout()\n",
    "py.savefig('lattice_gallery/ReM_rel_err.png')"
   ]
  },
  {
   "cell_type": "code",
   "execution_count": null,
   "id": "regional-gasoline",
   "metadata": {},
   "outputs": [],
   "source": []
  },
  {
   "cell_type": "code",
   "execution_count": 43,
   "id": "governing-festival",
   "metadata": {},
   "outputs": [],
   "source": [
    "ImM={}\n",
    "ImM['NLO']={}\n",
    "ImM['cosine']={}\n",
    "ImM['expansion']={}\n",
    "ImM['double mellin']={}"
   ]
  },
  {
   "cell_type": "code",
   "execution_count": 44,
   "id": "trained-aluminum",
   "metadata": {},
   "outputs": [
    {
     "name": "stdout",
     "output_type": "stream",
     "text": [
      "status: 785/786"
     ]
    }
   ],
   "source": [
    "conf['mellin-pion']=imell\n",
    "conf['pdf-pion']=pdfpion.PDF()\n",
    "ImM['NLO']['a127m415L']={}\n",
    "ImM['NLO']['a127m415']={}\n",
    "ImM['NLO']['a127m415L-mean']={}\n",
    "ImM['NLO']['a127m415-mean']={}\n",
    "ImM['NLO']['a127m415L-std']={}\n",
    "ImM['NLO']['a127m415-std']={}\n",
    "itB={}\n",
    "itS={}\n",
    "for i in range(len(p)):\n",
    "    ImM['NLO']['a127m415L'][p[i]]={}\n",
    "    ImM['NLO']['a127m415'][p[i]]={}\n",
    "    ImM['NLO']['a127m415L-mean'][p[i]]={}\n",
    "    ImM['NLO']['a127m415-mean'][p[i]]={}\n",
    "    ImM['NLO']['a127m415L-std'][p[i]]={}\n",
    "    ImM['NLO']['a127m415-std'][p[i]]={}\n",
    "    itB[p[i]]=[]\n",
    "    itS[p[i]]=[]\n",
    "    for j in range(len(ZoA)):\n",
    "        ioffeB=nuB(ZoA[j],p[i])\n",
    "        ioffeS=nuS(ZoA[j],p[i])\n",
    "        itB[p[i]].append(ioffeB)\n",
    "        itS[p[i]].append(ioffeS)\n",
    "        ImM['NLO']['a127m415L'][p[i]][ZoA[j]]=[]\n",
    "        ImM['NLO']['a127m415'][p[i]][ZoA[j]]=[]\n",
    "        for k in range(len(replicas)):\n",
    "            lprint('status: %i/%i'%(k,len(replicas)))\n",
    "            rep=replicas[k]\n",
    "            parman.par=copy.copy(rep['params'][istep])\n",
    "            parman.order=copy.copy(rep['order'][istep])\n",
    "            par,order=[],[]\n",
    "            for kk in range(len(parman.order)):\n",
    "                if parman.order[kk][0]==2: continue\n",
    "                else:\n",
    "                    par.append(parman.par[kk])\n",
    "                    order.append(parman.order[kk])\n",
    "            parman.par=par\n",
    "            parman.order=order\n",
    "            parman.set_new_params(parman.par)\n",
    "            conf['pdf-pion'].setup()\n",
    "            ImM['NLO']['a127m415L'][p[i]][ZoA[j]].append(ImITD(ioffeB,Z[j]**2,len(imell.N)))\n",
    "            if ZoA[j]>6: continue\n",
    "            ImM['NLO']['a127m415'][p[i]][ZoA[j]].append(ImITD(ioffeS,Z[j]**2,len(imell.N)))\n",
    "        ImM['NLO']['a127m415L'][p[i]][ZoA[j]]=np.array(ImM['NLO']['a127m415L'][p[i]][ZoA[j]])\n",
    "        ImM['NLO']['a127m415'][p[i]][ZoA[j]]=np.array(ImM['NLO']['a127m415'][p[i]][ZoA[j]])\n",
    "        ImM['NLO']['a127m415L-mean'][p[i]][ZoA[j]]=np.mean(ImM['NLO']['a127m415L'][p[i]][ZoA[j]],axis=0)\n",
    "        ImM['NLO']['a127m415-mean'][p[i]][ZoA[j]]=np.mean(ImM['NLO']['a127m415'][p[i]][ZoA[j]],axis=0)\n",
    "        ImM['NLO']['a127m415L-std'][p[i]][ZoA[j]]=np.std(ImM['NLO']['a127m415L'][p[i]][ZoA[j]],axis=0)\n",
    "        ImM['NLO']['a127m415-std'][p[i]][ZoA[j]]=np.std(ImM['NLO']['a127m415'][p[i]][ZoA[j]],axis=0)"
   ]
  },
  {
   "cell_type": "code",
   "execution_count": 45,
   "id": "eleven-peeing",
   "metadata": {},
   "outputs": [],
   "source": [
    "ImagM={}\n",
    "ImagM['NLO']={}\n",
    "ImagM['cosine']={}\n",
    "ImagM['expansion']={}\n",
    "ImagM['double mellin']={}"
   ]
  },
  {
   "cell_type": "code",
   "execution_count": 46,
   "id": "dental-allocation",
   "metadata": {},
   "outputs": [
    {
     "name": "stdout",
     "output_type": "stream",
     "text": [
      "status: 785/786"
     ]
    }
   ],
   "source": [
    "conf['mellin-pion']=mellpi\n",
    "conf['pdf-pion']=pdfpion.PDF()\n",
    "ImagM['NLO']={}\n",
    "ImagM['NLO']['a127m415L']={}\n",
    "ImagM['NLO']['a127m415']={}\n",
    "ImagM['NLO']['a127m415L-mean']={}\n",
    "ImagM['NLO']['a127m415-mean']={}\n",
    "ImagM['NLO']['a127m415L-std']={}\n",
    "ImagM['NLO']['a127m415-std']={}\n",
    "itB={}\n",
    "itS={}\n",
    "for i in range(len(p)):\n",
    "    ImagM['NLO']['a127m415L'][p[i]]={}\n",
    "    ImagM['NLO']['a127m415'][p[i]]={}\n",
    "    ImagM['NLO']['a127m415L-mean'][p[i]]={}\n",
    "    ImagM['NLO']['a127m415-mean'][p[i]]={}\n",
    "    ImagM['NLO']['a127m415L-std'][p[i]]={}\n",
    "    ImagM['NLO']['a127m415-std'][p[i]]={}\n",
    "    itB[p[i]]=[]\n",
    "    itS[p[i]]=[]\n",
    "    for j in range(len(ZoA)):\n",
    "        ioffeB=nuB(ZoA[j],p[i])\n",
    "        ioffeS=nuS(ZoA[j],p[i])\n",
    "        itB[p[i]].append(ioffeB)\n",
    "        itS[p[i]].append(ioffeS)\n",
    "        ImagM['NLO']['a127m415L'][p[i]][ZoA[j]]=[]\n",
    "        ImagM['NLO']['a127m415'][p[i]][ZoA[j]]=[]\n",
    "        for k in range(len(replicas)):\n",
    "            lprint('status: %i/%i'%(k,len(replicas)))\n",
    "            rep=replicas[k]\n",
    "            parman.par=copy.copy(rep['params'][istep])\n",
    "            parman.order=copy.copy(rep['order'][istep])\n",
    "            par,order=[],[]\n",
    "            for kk in range(len(parman.order)):\n",
    "                if parman.order[kk][0]==2: continue\n",
    "                else:\n",
    "                    par.append(parman.par[kk])\n",
    "                    order.append(parman.order[kk])\n",
    "            parman.par=par\n",
    "            parman.order=order\n",
    "            parman.set_new_params(parman.par)\n",
    "            conf['pdf-pion'].setup()\n",
    "            ImagM['NLO']['a127m415L'][p[i]][ZoA[j]].append(convITD('a127m415L',p[i],ZoA[j],1./Z[j]**2,Real=False))\n",
    "            if ZoA[j]>6: continue\n",
    "            ImagM['NLO']['a127m415'][p[i]][ZoA[j]].append(convITD('a127m415',p[i],ZoA[j],1./Z[j]**2,Real=False))\n",
    "        ImagM['NLO']['a127m415L'][p[i]][ZoA[j]]=np.array(ImagM['NLO']['a127m415L'][p[i]][ZoA[j]])\n",
    "        ImagM['NLO']['a127m415'][p[i]][ZoA[j]]=np.array(ImagM['NLO']['a127m415'][p[i]][ZoA[j]])\n",
    "        ImagM['NLO']['a127m415L-mean'][p[i]][ZoA[j]]=np.mean(ImagM['NLO']['a127m415L'][p[i]][ZoA[j]],axis=0)\n",
    "        ImagM['NLO']['a127m415-mean'][p[i]][ZoA[j]]=np.mean(ImagM['NLO']['a127m415'][p[i]][ZoA[j]],axis=0)\n",
    "        ImagM['NLO']['a127m415L-std'][p[i]][ZoA[j]]=np.std(ImagM['NLO']['a127m415L'][p[i]][ZoA[j]],axis=0)\n",
    "        ImagM['NLO']['a127m415-std'][p[i]][ZoA[j]]=np.std(ImagM['NLO']['a127m415'][p[i]][ZoA[j]],axis=0)"
   ]
  },
  {
   "cell_type": "code",
   "execution_count": 47,
   "id": "painted-batch",
   "metadata": {},
   "outputs": [
    {
     "data": {
      "image/png": "[encoded data removed]",
      "text/plain": [
       "<Figure size 432x288 with 1 Axes>"
      ]
     },
     "metadata": {
      "needs_background": "light"
     },
     "output_type": "display_data"
    }
   ],
   "source": [
    "ax=py.subplot(111)\n",
    "c=['r','g','b']\n",
    "# for i in range(len(p)):\n",
    "#     ax.plot(itB[p[i]],ImM['a127m415L'][p[i]],'o',color=c[i],label=r'$p=%i$'%p[i])\n",
    "#     ax.plot(itS[p[i]][:-2],ImM['a127m415'][p[i]],'^',color=c[i])\n",
    "for i in range(len(p)):\n",
    "    for j in range(len(ZoA)):  \n",
    "        if j==0: ax.plot(itB[p[i]][j],ImM['NLO']['a127m415L-std'][p[i]][ZoA[j]]/ImM['NLO']['a127m415L-mean'][p[i]][ZoA[j]],'o',color=c[i],label=r'$p=%i$'%p[i])\n",
    "        else: ax.plot(itB[p[i]][j],ImM['NLO']['a127m415L-std'][p[i]][ZoA[j]]/ImM['NLO']['a127m415L-mean'][p[i]][ZoA[j]],'o',color=c[i])\n",
    "        ax.plot(itS[p[i]][j],ImM['NLO']['a127m415-std'][p[i]][ZoA[j]]/ImM['NLO']['a127m415-mean'][p[i]][ZoA[j]],'^',color=c[i])\n",
    "# ax.plot(4,0.4,'ko')\n",
    "# ax.text(4.1,0.4,r'$L=32$',size=20)\n",
    "# ax.plot(4,0.3,'k^')\n",
    "# ax.text(4.1,0.3,r'$L=24$',size=20)\n",
    "ax.set_xlabel(r'$\\nu$',size=20)\n",
    "ax.set_ylabel(r'$\\delta {\\rm Im} \\mathfrak{M}~/~{\\rm Im} \\mathfrak{M}$',size=20)\n",
    "ax.legend()\n",
    "ax.tick_params(axis='both',which='both',direction='in',labelsize=20)\n",
    "ax.set_xlim(0,5)\n",
    "# ax.set_ylim(0,0.7)\n",
    "\n",
    "checkdir('lattice_gallery')\n",
    "py.tight_layout()\n",
    "py.savefig('lattice_gallery/ImM_rel_err.png')"
   ]
  },
  {
   "cell_type": "code",
   "execution_count": 54,
   "id": "expensive-sapphire",
   "metadata": {},
   "outputs": [
    {
     "data": {
      "image/png": "[encoded data removed]",
      "text/plain": [
       "<Figure size 864x576 with 6 Axes>"
      ]
     },
     "metadata": {
      "needs_background": "light"
     },
     "output_type": "display_data"
    }
   ],
   "source": [
    "nrows,ncols=2,3\n",
    "py.figure(figsize=(4*ncols,4*nrows))\n",
    "\n",
    "for cnt in range(1,7):\n",
    "    ax=py.subplot(nrows,ncols,cnt)\n",
    "    if cnt<4:\n",
    "        i=cnt-1\n",
    "        for j in range(len(ZoA)):\n",
    "            if j==0: \n",
    "                ax.errorbar(itS[p[i]][j],1-ReM['NLO']['a127m415-mean'][p[i]][ZoA[j]],yerr=ReM['NLO']['a127m415-std'][p[i]][ZoA[j]],fmt='o',color='blue',label=r'$\\rm moments$')\n",
    "                ax.errorbar(itS[p[i]][j],1-RealM['NLO']['a127m415-mean'][p[i]][ZoA[j]],yerr=RealM['NLO']['a127m415-std'][p[i]][ZoA[j]],fmt='s',color='red',label=r'$\\rm convolution$')\n",
    "            else:\n",
    "                ax.errorbar(itS[p[i]][j],1-ReM['NLO']['a127m415-mean'][p[i]][ZoA[j]],yerr=ReM['NLO']['a127m415-std'][p[i]][ZoA[j]],fmt='o',color='blue')\n",
    "                ax.errorbar(itS[p[i]][j],1-RealM['NLO']['a127m415-mean'][p[i]][ZoA[j]],yerr=RealM['NLO']['a127m415-std'][p[i]][ZoA[j]],fmt='s',color='red')\n",
    "        ax.legend()\n",
    "\n",
    "    else:\n",
    "        i=cnt-4\n",
    "        for j in range(len(ZoA)):\n",
    "            ax.plot(itS[p[i]][j],(1-ReM['NLO']['a127m415-mean'][p[i]][ZoA[j]])/(1-RealM['NLO']['a127m415-mean'][p[i]][ZoA[j]]),'bo')\n",
    "        ax.axhline(y=1)\n",
    "    ax.tick_params(axis='both',direction='in',labelsize=20)\n",
    "    if cnt==6: ax.set_xlabel(r'$\\nu$',size=20)\n",
    "    if cnt==1: ax.set_ylabel(r'$1-{\\rm Re} \\mathfrak{M}$',size=20)\n",
    "    if cnt==4: ax.set_ylabel(r'$(1-{\\rm Re} \\mathfrak{M}^{\\rm moment})~/~(1-{\\rm Re} \\mathfrak{M}^{\\rm convolution})$',size=20)\n",
    "    if cnt==1: ax.set_title(r'$p=1$',size=20)\n",
    "    if cnt==2: ax.set_title(r'$p=2$',size=20)\n",
    "    if cnt==3: ax.set_title(r'$p=3$',size=20)\n",
    "py.tight_layout()\n",
    "py.savefig('lattice_gallery/NLO_1mRe_smallV_momvsconv.png')"
   ]
  },
  {
   "cell_type": "code",
   "execution_count": 55,
   "id": "similar-kitty",
   "metadata": {},
   "outputs": [
    {
     "data": {
      "image/png": "[encoded data removed]",
      "text/plain": [
       "<Figure size 864x576 with 6 Axes>"
      ]
     },
     "metadata": {
      "needs_background": "light"
     },
     "output_type": "display_data"
    }
   ],
   "source": [
    "nrows,ncols=2,3\n",
    "py.figure(figsize=(4*ncols,4*nrows))\n",
    "\n",
    "for cnt in range(1,7):\n",
    "    ax=py.subplot(nrows,ncols,cnt)\n",
    "    if cnt<4:\n",
    "        i=cnt-1\n",
    "        for j in range(len(ZoA)):\n",
    "            if j==0: \n",
    "                ax.errorbar(itB[p[i]][j],1-ReM['NLO']['a127m415L-mean'][p[i]][ZoA[j]],yerr=ReM['NLO']['a127m415L-std'][p[i]][ZoA[j]],fmt='o',color='blue',label=r'$\\rm moments$')\n",
    "                ax.errorbar(itB[p[i]][j],1-RealM['NLO']['a127m415L-mean'][p[i]][ZoA[j]],yerr=RealM['NLO']['a127m415L-std'][p[i]][ZoA[j]],fmt='s',color='red',label=r'$\\rm convolution$')\n",
    "            else:\n",
    "                ax.errorbar(itB[p[i]][j],1-ReM['NLO']['a127m415L-mean'][p[i]][ZoA[j]],yerr=ReM['NLO']['a127m415L-std'][p[i]][ZoA[j]],fmt='o',color='blue')\n",
    "                ax.errorbar(itB[p[i]][j],1-RealM['NLO']['a127m415L-mean'][p[i]][ZoA[j]],yerr=RealM['NLO']['a127m415L-std'][p[i]][ZoA[j]],fmt='s',color='red')\n",
    "        ax.legend()\n",
    "\n",
    "    else:\n",
    "        i=cnt-4\n",
    "        for j in range(len(ZoA)):\n",
    "            ax.plot(itB[p[i]][j],(1-ReM['NLO']['a127m415L-mean'][p[i]][ZoA[j]])/(1-RealM['NLO']['a127m415L-mean'][p[i]][ZoA[j]]),'bo')\n",
    "        ax.axhline(y=1)\n",
    "    ax.tick_params(axis='both',direction='in',labelsize=20)\n",
    "    if cnt==6: ax.set_xlabel(r'$\\nu$',size=20)\n",
    "    if cnt==1: ax.set_ylabel(r'$1-{\\rm Re} \\mathfrak{M}$',size=20)\n",
    "    if cnt==4: ax.set_ylabel(r'$(1-{\\rm Re} \\mathfrak{M}^{\\rm moment})~/~(1-{\\rm Re} \\mathfrak{M}^{\\rm convolution})$',size=20)\n",
    "    if cnt==1: ax.set_title(r'$p=1$',size=20)\n",
    "    if cnt==2: ax.set_title(r'$p=2$',size=20)\n",
    "    if cnt==3: ax.set_title(r'$p=3$',size=20)\n",
    "py.tight_layout()\n",
    "py.savefig('lattice_gallery/NLO_1mRe_bigV_momvsconv.png')"
   ]
  },
  {
   "cell_type": "code",
   "execution_count": 56,
   "id": "missing-suffering",
   "metadata": {},
   "outputs": [
    {
     "data": {
      "image/png": "[encoded data removed]",
      "text/plain": [
       "<Figure size 864x576 with 6 Axes>"
      ]
     },
     "metadata": {
      "needs_background": "light"
     },
     "output_type": "display_data"
    }
   ],
   "source": [
    "nrows,ncols=2,3\n",
    "py.figure(figsize=(4*ncols,4*nrows))\n",
    "\n",
    "for cnt in range(1,7):\n",
    "    ax=py.subplot(nrows,ncols,cnt)\n",
    "    if cnt<4:\n",
    "        i=cnt-1\n",
    "        for j in range(len(ZoA)):\n",
    "            if j==0: \n",
    "                ax.errorbar(itS[p[i]][j],ImM['NLO']['a127m415-mean'][p[i]][ZoA[j]],yerr=ImM['NLO']['a127m415-std'][p[i]][ZoA[j]],fmt='o',color='blue',label=r'$\\rm moments$')\n",
    "                ax.errorbar(itS[p[i]][j],ImagM['NLO']['a127m415-mean'][p[i]][ZoA[j]],yerr=ImagM['NLO']['a127m415-std'][p[i]][ZoA[j]],fmt='s',color='red',label=r'$\\rm convolution$')\n",
    "            else:\n",
    "                ax.errorbar(itS[p[i]][j],ImM['NLO']['a127m415-mean'][p[i]][ZoA[j]],yerr=ImM['NLO']['a127m415-std'][p[i]][ZoA[j]],fmt='o',color='blue')\n",
    "                ax.errorbar(itS[p[i]][j],ImagM['NLO']['a127m415-mean'][p[i]][ZoA[j]],yerr=ImagM['NLO']['a127m415-std'][p[i]][ZoA[j]],fmt='s',color='red')\n",
    "        ax.legend()\n",
    "\n",
    "    else:\n",
    "        i=cnt-4\n",
    "        for j in range(len(ZoA)):\n",
    "            ax.plot(itS[p[i]][j],(ImM['NLO']['a127m415-mean'][p[i]][ZoA[j]])/ImagM['NLO']['a127m415-mean'][p[i]][ZoA[j]],'bo')\n",
    "        ax.axhline(y=1)\n",
    "    ax.tick_params(axis='both',direction='in',labelsize=20)\n",
    "    if cnt==6: ax.set_xlabel(r'$\\nu$',size=20)\n",
    "    if cnt==1: ax.set_ylabel(r'${\\rm Im} \\mathfrak{M}$',size=20)\n",
    "    if cnt==4: ax.set_ylabel(r'${\\rm Im} \\mathfrak{M}^{\\rm moment}~/~{\\rm Im} \\mathfrak{M}^{\\rm convolution}$',size=20)\n",
    "    if cnt==1: ax.set_title(r'$p=1$',size=20)\n",
    "    if cnt==2: ax.set_title(r'$p=2$',size=20)\n",
    "    if cnt==3: ax.set_title(r'$p=3$',size=20)\n",
    "py.tight_layout()\n",
    "py.savefig('lattice_gallery/NLO_Im_smallV_momvsconv.png')"
   ]
  },
  {
   "cell_type": "code",
   "execution_count": 57,
   "id": "starting-montgomery",
   "metadata": {},
   "outputs": [
    {
     "data": {
      "image/png": "[encoded data removed]",
      "text/plain": [
       "<Figure size 864x576 with 6 Axes>"
      ]
     },
     "metadata": {
      "needs_background": "light"
     },
     "output_type": "display_data"
    }
   ],
   "source": [
    "nrows,ncols=2,3\n",
    "py.figure(figsize=(4*ncols,4*nrows))\n",
    "\n",
    "for cnt in range(1,7):\n",
    "    ax=py.subplot(nrows,ncols,cnt)\n",
    "    if cnt<4:\n",
    "        i=cnt-1\n",
    "        for j in range(len(ZoA)):\n",
    "            if j==0: \n",
    "                ax.errorbar(itB[p[i]][j],ImM['NLO']['a127m415L-mean'][p[i]][ZoA[j]],yerr=ImM['NLO']['a127m415L-std'][p[i]][ZoA[j]],fmt='o',color='blue',label=r'$\\rm moments$')\n",
    "                ax.errorbar(itB[p[i]][j],ImagM['NLO']['a127m415L-mean'][p[i]][ZoA[j]],yerr=ImagM['NLO']['a127m415L-std'][p[i]][ZoA[j]],fmt='s',color='red',label=r'$\\rm convolution$')\n",
    "            else:\n",
    "                ax.errorbar(itB[p[i]][j],ImM['NLO']['a127m415L-mean'][p[i]][ZoA[j]],yerr=ImM['NLO']['a127m415L-std'][p[i]][ZoA[j]],fmt='o',color='blue')\n",
    "                ax.errorbar(itB[p[i]][j],ImagM['NLO']['a127m415L-mean'][p[i]][ZoA[j]],yerr=ImagM['NLO']['a127m415L-std'][p[i]][ZoA[j]],fmt='s',color='red')\n",
    "        ax.legend()\n",
    "\n",
    "    else:\n",
    "        i=cnt-4\n",
    "        for j in range(len(ZoA)):\n",
    "            ax.plot(itB[p[i]][j],(ImM['NLO']['a127m415L-mean'][p[i]][ZoA[j]])/ImagM['NLO']['a127m415L-mean'][p[i]][ZoA[j]],'bo')\n",
    "        ax.axhline(y=1)\n",
    "    ax.tick_params(axis='both',direction='in',labelsize=20)\n",
    "    if cnt==6: ax.set_xlabel(r'$\\nu$',size=20)\n",
    "    if cnt==1: ax.set_ylabel(r'${\\rm Re} \\mathfrak{M}$',size=20)\n",
    "    if cnt==4: ax.set_ylabel(r'${\\rm Re} \\mathfrak{M}^{\\rm moment}~/~{\\rm Re} \\mathfrak{M}^{\\rm convolution}$',size=20)\n",
    "    if cnt==1: ax.set_title(r'$p=1$',size=20)\n",
    "    if cnt==2: ax.set_title(r'$p=2$',size=20)\n",
    "    if cnt==3: ax.set_title(r'$p=3$',size=20)\n",
    "py.tight_layout()\n",
    "py.savefig('lattice_gallery/NLO_Im_bigV_momvsconv.png')"
   ]
  },
  {
   "cell_type": "code",
   "execution_count": null,
   "id": "olive-solution",
   "metadata": {},
   "outputs": [],
   "source": []
  },
  {
   "cell_type": "code",
   "execution_count": null,
   "id": "successful-glucose",
   "metadata": {},
   "outputs": [],
   "source": []
  },
  {
   "cell_type": "markdown",
   "id": "hungarian-garden",
   "metadata": {},
   "source": [
    "## NLO+NLL Cosine"
   ]
  },
  {
   "cell_type": "code",
   "execution_count": 58,
   "id": "crazy-carpet",
   "metadata": {},
   "outputs": [],
   "source": [
    "replicas=core.get_replicas('cosine/step18pos/')\n",
    "istep=18"
   ]
  },
  {
   "cell_type": "code",
   "execution_count": 59,
   "id": "threatened-think",
   "metadata": {},
   "outputs": [
    {
     "name": "stdout",
     "output_type": "stream",
     "text": [
      "loading dy-pion data sets 10001\n",
      "loading dy-pion data sets 10002\n",
      "loading dy-pion data sets 10003\n",
      "10001 has norm uncertainty\n",
      "10002 has norm uncertainty\n",
      "10003 has norm uncertainty\n"
     ]
    }
   ],
   "source": [
    "load_config('cosine/step18pos//input.py')\n",
    "core.mod_conf(istep,replicas[0])\n",
    "order=replicas[0]['order'][istep]\n",
    "resman=RESMAN(nworkers=2,parallel=True,datasets=True)"
   ]
  },
  {
   "cell_type": "code",
   "execution_count": 60,
   "id": "headed-citation",
   "metadata": {},
   "outputs": [],
   "source": [
    "parman=resman.parman\n",
    "parman.order=order"
   ]
  },
  {
   "cell_type": "code",
   "execution_count": 61,
   "id": "hazardous-powder",
   "metadata": {},
   "outputs": [
    {
     "name": "stdout",
     "output_type": "stream",
     "text": [
      "status: 755/756"
     ]
    }
   ],
   "source": [
    "conf['mellin-pion']=imell\n",
    "conf['pdf-pion']=pdfpion.PDF()\n",
    "ReM['cosine']={}\n",
    "ReM['cosine']['a127m415L']={}\n",
    "ReM['cosine']['a127m415']={}\n",
    "ReM['cosine']['a127m415L-mean']={}\n",
    "ReM['cosine']['a127m415-mean']={}\n",
    "ReM['cosine']['a127m415L-std']={}\n",
    "ReM['cosine']['a127m415-std']={}\n",
    "itB={}\n",
    "itS={}\n",
    "for i in range(len(p)):\n",
    "    ReM['cosine']['a127m415L'][p[i]]={}\n",
    "    ReM['cosine']['a127m415'][p[i]]={}\n",
    "    ReM['cosine']['a127m415L-mean'][p[i]]={}\n",
    "    ReM['cosine']['a127m415-mean'][p[i]]={}\n",
    "    ReM['cosine']['a127m415L-std'][p[i]]={}\n",
    "    ReM['cosine']['a127m415-std'][p[i]]={}\n",
    "    itB[p[i]]=[]\n",
    "    itS[p[i]]=[]\n",
    "    for j in range(len(ZoA)):\n",
    "        ioffeB=nuB(ZoA[j],p[i])\n",
    "        ioffeS=nuS(ZoA[j],p[i])\n",
    "        itB[p[i]].append(ioffeB)\n",
    "        itS[p[i]].append(ioffeS)\n",
    "        ReM['cosine']['a127m415L'][p[i]][ZoA[j]]=[]\n",
    "        ReM['cosine']['a127m415'][p[i]][ZoA[j]]=[]\n",
    "        for k in range(len(replicas)):\n",
    "            lprint('status: %i/%i'%(k,len(replicas)))\n",
    "            rep=replicas[k]\n",
    "            parman.par=copy.copy(rep['params'][istep])\n",
    "            parman.order=copy.copy(rep['order'][istep])\n",
    "            par,order=[],[]\n",
    "            for kk in range(len(parman.order)):\n",
    "                if parman.order[kk][0]==2: continue\n",
    "                else:\n",
    "                    par.append(parman.par[kk])\n",
    "                    order.append(parman.order[kk])\n",
    "            parman.par=par\n",
    "            parman.order=order\n",
    "            parman.set_new_params(parman.par)\n",
    "            conf['pdf-pion'].setup()\n",
    "            ReM['cosine']['a127m415L'][p[i]][ZoA[j]].append(ReITD(ioffeB,Z[j]**2,len(imell.N)))\n",
    "            if ZoA[j]>6: continue\n",
    "            ReM['cosine']['a127m415'][p[i]][ZoA[j]].append(ReITD(ioffeS,Z[j]**2,len(imell.N)))\n",
    "        ReM['cosine']['a127m415L'][p[i]][ZoA[j]]=np.array(ReM['cosine']['a127m415L'][p[i]][ZoA[j]])\n",
    "        ReM['cosine']['a127m415'][p[i]][ZoA[j]]=np.array(ReM['cosine']['a127m415'][p[i]][ZoA[j]])\n",
    "        ReM['cosine']['a127m415L-mean'][p[i]][ZoA[j]]=np.mean(ReM['cosine']['a127m415L'][p[i]][ZoA[j]],axis=0)\n",
    "        ReM['cosine']['a127m415-mean'][p[i]][ZoA[j]]=np.mean(ReM['cosine']['a127m415'][p[i]][ZoA[j]],axis=0)\n",
    "        ReM['cosine']['a127m415L-std'][p[i]][ZoA[j]]=np.std(ReM['cosine']['a127m415L'][p[i]][ZoA[j]],axis=0)\n",
    "        ReM['cosine']['a127m415-std'][p[i]][ZoA[j]]=np.std(ReM['cosine']['a127m415'][p[i]][ZoA[j]],axis=0)"
   ]
  },
  {
   "cell_type": "code",
   "execution_count": 62,
   "id": "departmental-glossary",
   "metadata": {},
   "outputs": [
    {
     "name": "stdout",
     "output_type": "stream",
     "text": [
      "status: 755/756"
     ]
    }
   ],
   "source": [
    "conf['mellin-pion']=mellpi\n",
    "conf['pdf-pion']=pdfpion.PDF()\n",
    "RealM['cosine']={}\n",
    "RealM['cosine']['a127m415L']={}\n",
    "RealM['cosine']['a127m415']={}\n",
    "RealM['cosine']['a127m415L-mean']={}\n",
    "RealM['cosine']['a127m415-mean']={}\n",
    "RealM['cosine']['a127m415L-std']={}\n",
    "RealM['cosine']['a127m415-std']={}\n",
    "itB={}\n",
    "itS={}\n",
    "for i in range(len(p)):\n",
    "    RealM['cosine']['a127m415L'][p[i]]={}\n",
    "    RealM['cosine']['a127m415'][p[i]]={}\n",
    "    RealM['cosine']['a127m415L-mean'][p[i]]={}\n",
    "    RealM['cosine']['a127m415-mean'][p[i]]={}\n",
    "    RealM['cosine']['a127m415L-std'][p[i]]={}\n",
    "    RealM['cosine']['a127m415-std'][p[i]]={}\n",
    "    itB[p[i]]=[]\n",
    "    itS[p[i]]=[]\n",
    "    for j in range(len(ZoA)):\n",
    "        ioffeB=nuB(ZoA[j],p[i])\n",
    "        ioffeS=nuS(ZoA[j],p[i])\n",
    "        itB[p[i]].append(ioffeB)\n",
    "        itS[p[i]].append(ioffeS)\n",
    "        RealM['cosine']['a127m415L'][p[i]][ZoA[j]]=[]\n",
    "        RealM['cosine']['a127m415'][p[i]][ZoA[j]]=[]\n",
    "        for k in range(len(replicas)):\n",
    "            lprint('status: %i/%i'%(k,len(replicas)))\n",
    "            rep=replicas[k]\n",
    "            parman.par=copy.copy(rep['params'][istep])\n",
    "            parman.order=copy.copy(rep['order'][istep])\n",
    "            par,order=[],[]\n",
    "            for kk in range(len(parman.order)):\n",
    "                if parman.order[kk][0]==2: continue\n",
    "                else:\n",
    "                    par.append(parman.par[kk])\n",
    "                    order.append(parman.order[kk])\n",
    "            parman.par=par\n",
    "            parman.order=order\n",
    "            parman.set_new_params(parman.par)\n",
    "            conf['pdf-pion'].setup()\n",
    "            RealM['cosine']['a127m415L'][p[i]][ZoA[j]].append(convITD('a127m415L',p[i],ZoA[j],1./Z[j]**2,Real=True))\n",
    "            if ZoA[j]>6: continue\n",
    "            RealM['cosine']['a127m415'][p[i]][ZoA[j]].append(convITD('a127m415',p[i],ZoA[j],1./Z[j]**2,Real=True))\n",
    "        RealM['cosine']['a127m415L'][p[i]][ZoA[j]]=np.array(RealM['cosine']['a127m415L'][p[i]][ZoA[j]])\n",
    "        RealM['cosine']['a127m415'][p[i]][ZoA[j]]=np.array(RealM['cosine']['a127m415'][p[i]][ZoA[j]])\n",
    "        RealM['cosine']['a127m415L-mean'][p[i]][ZoA[j]]=np.mean(RealM['cosine']['a127m415L'][p[i]][ZoA[j]],axis=0)\n",
    "        RealM['cosine']['a127m415-mean'][p[i]][ZoA[j]]=np.mean(RealM['cosine']['a127m415'][p[i]][ZoA[j]],axis=0)\n",
    "        RealM['cosine']['a127m415L-std'][p[i]][ZoA[j]]=np.std(RealM['cosine']['a127m415L'][p[i]][ZoA[j]],axis=0)\n",
    "        RealM['cosine']['a127m415-std'][p[i]][ZoA[j]]=np.std(RealM['cosine']['a127m415'][p[i]][ZoA[j]],axis=0)"
   ]
  },
  {
   "cell_type": "code",
   "execution_count": 63,
   "id": "ordered-transmission",
   "metadata": {},
   "outputs": [
    {
     "data": {
      "image/png": "[encoded data removed]",
      "text/plain": [
       "<Figure size 432x288 with 1 Axes>"
      ]
     },
     "metadata": {
      "needs_background": "light"
     },
     "output_type": "display_data"
    }
   ],
   "source": [
    "\n",
    "ax=py.subplot(111)\n",
    "c=['r','g','b']\n",
    "for i in range(len(p)):\n",
    "#     ax.plot(itB[p[i]],ReM['a127m415L'][p[i]],'o',color=c[i],label=r'$p=%i$'%p[i])\n",
    "#     ax.plot(itS[p[i]][:-2],ReM['a127m415'][p[i]],'^',color=c[i])\n",
    "    for j in range(len(ZoA)):  \n",
    "        if j==0: ax.errorbar(itB[p[i]][j],ReM['cosine']['a127m415L-mean'][p[i]][ZoA[j]],yerr=ReM['cosine']['a127m415L-std'][p[i]][ZoA[j]],fmt='o',color=c[i],label=r'$p=%i$'%p[i])\n",
    "        else:\n",
    "            ax.errorbar(itB[p[i]][j],ReM['cosine']['a127m415L-mean'][p[i]][ZoA[j]],yerr=ReM['cosine']['a127m415L-std'][p[i]][ZoA[j]],fmt='o',color=c[i])\n",
    "        ax.errorbar(itS[p[i]][j],ReM['cosine']['a127m415-mean'][p[i]][ZoA[j]],yerr=ReM['cosine']['a127m415-std'][p[i]][ZoA[j]],fmt='^',color=c[i])\n",
    "# ax.plot(0.8,0.5,'ko')\n",
    "# ax.text(0.9,0.5,r'$L=32$',size=20)\n",
    "# ax.plot(0.8,0.4,'k^')\n",
    "# ax.text(0.9,0.4,r'$L=24$',size=20)\n",
    "ax.set_xlabel(r'$\\nu$',size=20)\n",
    "ax.set_ylabel(r'${\\rm Re} \\mathfrak{M}$',size=20)\n",
    "ax.legend()\n",
    "ax.tick_params(axis='both',which='both',direction='in',labelsize=20)\n",
    "ax.set_xlim(0,5)\n",
    "ax.set_ylim(0,1.1)\n",
    "# ax.semilogy()\n",
    "\n",
    "checkdir('lattice_gallery')\n",
    "py.tight_layout()\n",
    "py.savefig('lattice_gallery/ReM_cosine.png')"
   ]
  },
  {
   "cell_type": "code",
   "execution_count": 64,
   "id": "facial-pitch",
   "metadata": {},
   "outputs": [
    {
     "data": {
      "image/png": "[encoded data removed]",
      "text/plain": [
       "<Figure size 432x288 with 1 Axes>"
      ]
     },
     "metadata": {
      "needs_background": "light"
     },
     "output_type": "display_data"
    }
   ],
   "source": [
    "ax=py.subplot(111)\n",
    "c=['r','g','b']\n",
    "for i in range(len(p)):\n",
    "#     ax.plot(itB[p[i]],ReM['a127m415L'][p[i]],'o',color=c[i],label=r'$p=%i$'%p[i])\n",
    "#     ax.plot(itS[p[i]][:-2],ReM['a127m415'][p[i]],'^',color=c[i])\n",
    "    for j in range(len(ZoA)):  \n",
    "        if j==0: ax.plot(itB[p[i]][j],ReM['cosine']['a127m415L-std'][p[i]][ZoA[j]]/(1-ReM['cosine']['a127m415L-mean'][p[i]][ZoA[j]]),'o',color=c[i],label=r'$p=%i$'%p[i])\n",
    "        else:\n",
    "            ax.plot(itB[p[i]][j],ReM['cosine']['a127m415L-std'][p[i]][ZoA[j]]/(1-ReM['cosine']['a127m415L-mean'][p[i]][ZoA[j]]),'o',color=c[i])\n",
    "        ax.plot(itS[p[i]][j],ReM['cosine']['a127m415-std'][p[i]][ZoA[j]]/(1-ReM['cosine']['a127m415-mean'][p[i]][ZoA[j]]),'^',color=c[i])\n",
    "# ax.plot(0.8,0.5,'ko')\n",
    "# ax.text(0.9,0.5,r'$L=32$',size=20)\n",
    "# ax.plot(0.8,0.4,'k^')\n",
    "# ax.text(0.9,0.4,r'$L=24$',size=20)\n",
    "ax.set_xlabel(r'$\\nu$',size=20)\n",
    "ax.set_ylabel(r'$\\delta {\\rm Re} \\mathfrak{M}~/~{\\rm Re}(1-\\mathfrak{M})$',size=20)\n",
    "ax.legend()\n",
    "ax.tick_params(axis='both',which='both',direction='in',labelsize=20)\n",
    "ax.set_xlim(0,5)\n",
    "# ax.set_ylim(0,1.1)\n",
    "# ax.semilogy()\n",
    "\n",
    "checkdir('lattice_gallery')\n",
    "py.tight_layout()\n",
    "py.savefig('lattice_gallery/ReM_rel_err_cosine.png')"
   ]
  },
  {
   "cell_type": "code",
   "execution_count": null,
   "id": "appropriate-effort",
   "metadata": {},
   "outputs": [],
   "source": []
  },
  {
   "cell_type": "code",
   "execution_count": null,
   "id": "focal-happiness",
   "metadata": {},
   "outputs": [],
   "source": []
  },
  {
   "cell_type": "code",
   "execution_count": 65,
   "id": "attractive-engineer",
   "metadata": {},
   "outputs": [
    {
     "name": "stdout",
     "output_type": "stream",
     "text": [
      "status: 755/756"
     ]
    }
   ],
   "source": [
    "conf['mellin-pion']=imell\n",
    "conf['pdf-pion']=pdfpion.PDF()\n",
    "ImM['cosine']={}\n",
    "ImM['cosine']['a127m415L']={}\n",
    "ImM['cosine']['a127m415']={}\n",
    "ImM['cosine']['a127m415L-mean']={}\n",
    "ImM['cosine']['a127m415-mean']={}\n",
    "ImM['cosine']['a127m415L-std']={}\n",
    "ImM['cosine']['a127m415-std']={}\n",
    "itB={}\n",
    "itS={}\n",
    "for i in range(len(p)):\n",
    "    ImM['cosine']['a127m415L'][p[i]]={}\n",
    "    ImM['cosine']['a127m415'][p[i]]={}\n",
    "    ImM['cosine']['a127m415L-mean'][p[i]]={}\n",
    "    ImM['cosine']['a127m415-mean'][p[i]]={}\n",
    "    ImM['cosine']['a127m415L-std'][p[i]]={}\n",
    "    ImM['cosine']['a127m415-std'][p[i]]={}\n",
    "    itB[p[i]]=[]\n",
    "    itS[p[i]]=[]\n",
    "    for j in range(len(ZoA)):\n",
    "        ioffeB=nuB(ZoA[j],p[i])\n",
    "        ioffeS=nuS(ZoA[j],p[i])\n",
    "        itB[p[i]].append(ioffeB)\n",
    "        itS[p[i]].append(ioffeS)\n",
    "        ImM['cosine']['a127m415L'][p[i]][ZoA[j]]=[]\n",
    "        ImM['cosine']['a127m415'][p[i]][ZoA[j]]=[]\n",
    "        for k in range(len(replicas)):\n",
    "            lprint('status: %i/%i'%(k,len(replicas)))\n",
    "            rep=replicas[k]\n",
    "            parman.par=copy.copy(rep['params'][istep])\n",
    "            parman.order=copy.copy(rep['order'][istep])\n",
    "            par,order=[],[]\n",
    "            for kk in range(len(parman.order)):\n",
    "                if parman.order[kk][0]==2: continue\n",
    "                else:\n",
    "                    par.append(parman.par[kk])\n",
    "                    order.append(parman.order[kk])\n",
    "            parman.par=par\n",
    "            parman.order=order\n",
    "            parman.set_new_params(parman.par)\n",
    "            conf['pdf-pion'].setup()\n",
    "            ImM['cosine']['a127m415L'][p[i]][ZoA[j]].append(ImITD(ioffeB,Z[j]**2,len(imell.N)))\n",
    "            if ZoA[j]>6: continue\n",
    "            ImM['cosine']['a127m415'][p[i]][ZoA[j]].append(ImITD(ioffeS,Z[j]**2,len(imell.N)))\n",
    "        ImM['cosine']['a127m415L'][p[i]][ZoA[j]]=np.array(ImM['cosine']['a127m415L'][p[i]][ZoA[j]])\n",
    "        ImM['cosine']['a127m415'][p[i]][ZoA[j]]=np.array(ImM['cosine']['a127m415'][p[i]][ZoA[j]])\n",
    "        ImM['cosine']['a127m415L-mean'][p[i]][ZoA[j]]=np.mean(ImM['cosine']['a127m415L'][p[i]][ZoA[j]],axis=0)\n",
    "        ImM['cosine']['a127m415-mean'][p[i]][ZoA[j]]=np.mean(ImM['cosine']['a127m415'][p[i]][ZoA[j]],axis=0)\n",
    "        ImM['cosine']['a127m415L-std'][p[i]][ZoA[j]]=np.std(ImM['cosine']['a127m415L'][p[i]][ZoA[j]],axis=0)\n",
    "        ImM['cosine']['a127m415-std'][p[i]][ZoA[j]]=np.std(ImM['cosine']['a127m415'][p[i]][ZoA[j]],axis=0)"
   ]
  },
  {
   "cell_type": "code",
   "execution_count": 66,
   "id": "boxed-citation",
   "metadata": {},
   "outputs": [
    {
     "name": "stdout",
     "output_type": "stream",
     "text": [
      "status: 755/756"
     ]
    }
   ],
   "source": [
    "conf['mellin-pion']=mellpi\n",
    "conf['pdf-pion']=pdfpion.PDF()\n",
    "ImagM['cosine']={}\n",
    "ImagM['cosine']['a127m415L']={}\n",
    "ImagM['cosine']['a127m415']={}\n",
    "ImagM['cosine']['a127m415L-mean']={}\n",
    "ImagM['cosine']['a127m415-mean']={}\n",
    "ImagM['cosine']['a127m415L-std']={}\n",
    "ImagM['cosine']['a127m415-std']={}\n",
    "itB={}\n",
    "itS={}\n",
    "for i in range(len(p)):\n",
    "    ImagM['cosine']['a127m415L'][p[i]]={}\n",
    "    ImagM['cosine']['a127m415'][p[i]]={}\n",
    "    ImagM['cosine']['a127m415L-mean'][p[i]]={}\n",
    "    ImagM['cosine']['a127m415-mean'][p[i]]={}\n",
    "    ImagM['cosine']['a127m415L-std'][p[i]]={}\n",
    "    ImagM['cosine']['a127m415-std'][p[i]]={}\n",
    "    itB[p[i]]=[]\n",
    "    itS[p[i]]=[]\n",
    "    for j in range(len(ZoA)):\n",
    "        ioffeB=nuB(ZoA[j],p[i])\n",
    "        ioffeS=nuS(ZoA[j],p[i])\n",
    "        itB[p[i]].append(ioffeB)\n",
    "        itS[p[i]].append(ioffeS)\n",
    "        ImagM['cosine']['a127m415L'][p[i]][ZoA[j]]=[]\n",
    "        ImagM['cosine']['a127m415'][p[i]][ZoA[j]]=[]\n",
    "        for k in range(len(replicas)):\n",
    "            lprint('status: %i/%i'%(k,len(replicas)))\n",
    "            rep=replicas[k]\n",
    "            parman.par=copy.copy(rep['params'][istep])\n",
    "            parman.order=copy.copy(rep['order'][istep])\n",
    "            par,order=[],[]\n",
    "            for kk in range(len(parman.order)):\n",
    "                if parman.order[kk][0]==2: continue\n",
    "                else:\n",
    "                    par.append(parman.par[kk])\n",
    "                    order.append(parman.order[kk])\n",
    "            parman.par=par\n",
    "            parman.order=order\n",
    "            parman.set_new_params(parman.par)\n",
    "            conf['pdf-pion'].setup()\n",
    "            ImagM['cosine']['a127m415L'][p[i]][ZoA[j]].append(convITD('a127m415L',p[i],ZoA[j],1./Z[j]**2,Real=False))\n",
    "            if ZoA[j]>6: continue\n",
    "            ImagM['cosine']['a127m415'][p[i]][ZoA[j]].append(convITD('a127m415',p[i],ZoA[j],1./Z[j]**2,Real=False))\n",
    "        ImagM['cosine']['a127m415L'][p[i]][ZoA[j]]=np.array(ImagM['cosine']['a127m415L'][p[i]][ZoA[j]])\n",
    "        ImagM['cosine']['a127m415'][p[i]][ZoA[j]]=np.array(ImagM['cosine']['a127m415'][p[i]][ZoA[j]])\n",
    "        ImagM['cosine']['a127m415L-mean'][p[i]][ZoA[j]]=np.mean(ImagM['cosine']['a127m415L'][p[i]][ZoA[j]],axis=0)\n",
    "        ImagM['cosine']['a127m415-mean'][p[i]][ZoA[j]]=np.mean(ImagM['cosine']['a127m415'][p[i]][ZoA[j]],axis=0)\n",
    "        ImagM['cosine']['a127m415L-std'][p[i]][ZoA[j]]=np.std(ImagM['cosine']['a127m415L'][p[i]][ZoA[j]],axis=0)\n",
    "        ImagM['cosine']['a127m415-std'][p[i]][ZoA[j]]=np.std(ImagM['cosine']['a127m415'][p[i]][ZoA[j]],axis=0)"
   ]
  },
  {
   "cell_type": "code",
   "execution_count": 67,
   "id": "precise-freedom",
   "metadata": {},
   "outputs": [
    {
     "data": {
      "image/png": "[encoded data removed]",
      "text/plain": [
       "<Figure size 432x288 with 1 Axes>"
      ]
     },
     "metadata": {
      "needs_background": "light"
     },
     "output_type": "display_data"
    }
   ],
   "source": [
    "ax=py.subplot(111)\n",
    "c=['r','g','b']\n",
    "# for i in range(len(p)):\n",
    "#     ax.plot(itB[p[i]],ImM['a127m415L'][p[i]],'o',color=c[i],label=r'$p=%i$'%p[i])\n",
    "#     ax.plot(itS[p[i]][:-2],ImM['a127m415'][p[i]],'^',color=c[i])\n",
    "for i in range(len(p)):\n",
    "    for j in range(len(ZoA)):  \n",
    "        if j==0: ax.errorbar(itB[p[i]][j],ImM['cosine']['a127m415L-mean'][p[i]][ZoA[j]],yerr=ImM['cosine']['a127m415L-std'][p[i]][ZoA[j]],fmt='o',color=c[i],label=r'$p=%i$'%p[i])\n",
    "        else: ax.errorbar(itB[p[i]][j],ImM['cosine']['a127m415L-mean'][p[i]][ZoA[j]],yerr=ImM['cosine']['a127m415L-std'][p[i]][ZoA[j]],fmt='o',color=c[i])\n",
    "        ax.errorbar(itS[p[i]][j],ImM['cosine']['a127m415-mean'][p[i]][ZoA[j]],yerr=ImM['cosine']['a127m415-std'][p[i]][ZoA[j]],fmt='^',color=c[i])\n",
    "# ax.plot(4,0.4,'ko')\n",
    "# ax.text(4.1,0.4,r'$L=32$',size=20)\n",
    "# ax.plot(4,0.3,'k^')\n",
    "# ax.text(4.1,0.3,r'$L=24$',size=20)\n",
    "ax.set_xlabel(r'$\\nu$',size=20)\n",
    "ax.set_ylabel(r'${\\rm Im} \\mathfrak{M}(\\nu,z^2)$',size=20)\n",
    "ax.legend()\n",
    "ax.tick_params(axis='both',which='both',direction='in',labelsize=20)\n",
    "ax.set_xlim(0,5)\n",
    "# ax.set_ylim(0,0.7)\n",
    "\n",
    "checkdir('lattice_gallery')\n",
    "py.tight_layout()\n",
    "py.savefig('lattice_gallery/ImM_cosine.png')"
   ]
  },
  {
   "cell_type": "code",
   "execution_count": 68,
   "id": "appointed-activation",
   "metadata": {},
   "outputs": [
    {
     "data": {
      "image/png": "[encoded data removed]",
      "text/plain": [
       "<Figure size 432x288 with 1 Axes>"
      ]
     },
     "metadata": {
      "needs_background": "light"
     },
     "output_type": "display_data"
    }
   ],
   "source": [
    "ax=py.subplot(111)\n",
    "c=['r','g','b']\n",
    "# for i in range(len(p)):\n",
    "#     ax.plot(itB[p[i]],ImM['a127m415L'][p[i]],'o',color=c[i],label=r'$p=%i$'%p[i])\n",
    "#     ax.plot(itS[p[i]][:-2],ImM['a127m415'][p[i]],'^',color=c[i])\n",
    "for i in range(len(p)):\n",
    "    for j in range(len(ZoA)):  \n",
    "        if j==0: ax.plot(itB[p[i]][j],ImM['cosine']['a127m415L-std'][p[i]][ZoA[j]]/ImM['cosine']['a127m415L-mean'][p[i]][ZoA[j]],'o',color=c[i],label=r'$p=%i$'%p[i])\n",
    "        else: ax.plot(itB[p[i]][j],ImM['cosine']['a127m415L-std'][p[i]][ZoA[j]]/ImM['cosine']['a127m415L-mean'][p[i]][ZoA[j]],'o',color=c[i])\n",
    "        ax.plot(itS[p[i]][j],ImM['cosine']['a127m415-std'][p[i]][ZoA[j]]/ImM['cosine']['a127m415-mean'][p[i]][ZoA[j]],'o',color=c[i])\n",
    "# ax.plot(4,0.4,'ko')\n",
    "# ax.text(4.1,0.4,r'$L=32$',size=20)\n",
    "# ax.plot(4,0.3,'k^')\n",
    "# ax.text(4.1,0.3,r'$L=24$',size=20)\n",
    "ax.set_xlabel(r'$\\nu$',size=20)\n",
    "ax.set_ylabel(r'$\\delta {\\rm Im} \\mathfrak{M}~/~{\\rm Im} \\mathfrak{M}$',size=20)\n",
    "ax.legend()\n",
    "ax.tick_params(axis='both',which='both',direction='in',labelsize=20)\n",
    "ax.set_xlim(0,5)\n",
    "# ax.set_ylim(0,0.7)\n",
    "\n",
    "checkdir('lattice_gallery')\n",
    "py.tight_layout()\n",
    "py.savefig('lattice_gallery/ImM_rel_err_cosine.png')"
   ]
  },
  {
   "cell_type": "code",
   "execution_count": null,
   "id": "universal-introduction",
   "metadata": {},
   "outputs": [],
   "source": []
  },
  {
   "cell_type": "markdown",
   "id": "relative-mortality",
   "metadata": {},
   "source": [
    "## NLO+NLL Expansion"
   ]
  },
  {
   "cell_type": "code",
   "execution_count": 69,
   "id": "approved-evening",
   "metadata": {},
   "outputs": [],
   "source": [
    "replicas=core.get_replicas('expansion/step18pos/')\n",
    "istep=18"
   ]
  },
  {
   "cell_type": "code",
   "execution_count": 70,
   "id": "prostate-composite",
   "metadata": {},
   "outputs": [
    {
     "name": "stdout",
     "output_type": "stream",
     "text": [
      "loading dy-pion data sets 10001\n",
      "loading dy-pion data sets 10002\n",
      "loading dy-pion data sets 10003\n",
      "10001 has norm uncertainty\n",
      "10002 has norm uncertainty\n",
      "10003 has norm uncertainty\n"
     ]
    }
   ],
   "source": [
    "load_config('expansion/step18pos//input.py')\n",
    "core.mod_conf(istep,replicas[0])\n",
    "order=replicas[0]['order'][istep]\n",
    "resman=RESMAN(nworkers=2,parallel=True,datasets=True)"
   ]
  },
  {
   "cell_type": "code",
   "execution_count": 71,
   "id": "favorite-astronomy",
   "metadata": {},
   "outputs": [],
   "source": [
    "parman=resman.parman\n",
    "parman.order=order"
   ]
  },
  {
   "cell_type": "code",
   "execution_count": 72,
   "id": "considered-raise",
   "metadata": {},
   "outputs": [
    {
     "name": "stdout",
     "output_type": "stream",
     "text": [
      "status: 779/780"
     ]
    }
   ],
   "source": [
    "conf['mellin-pion']=imell\n",
    "conf['pdf-pion']=pdfpion.PDF()\n",
    "ReM['expansion']={}\n",
    "ReM['expansion']['a127m415L']={}\n",
    "ReM['expansion']['a127m415']={}\n",
    "ReM['expansion']['a127m415L-mean']={}\n",
    "ReM['expansion']['a127m415-mean']={}\n",
    "ReM['expansion']['a127m415L-std']={}\n",
    "ReM['expansion']['a127m415-std']={}\n",
    "itB={}\n",
    "itS={}\n",
    "for i in range(len(p)):\n",
    "    ReM['expansion']['a127m415L'][p[i]]={}\n",
    "    ReM['expansion']['a127m415'][p[i]]={}\n",
    "    ReM['expansion']['a127m415L-mean'][p[i]]={}\n",
    "    ReM['expansion']['a127m415-mean'][p[i]]={}\n",
    "    ReM['expansion']['a127m415L-std'][p[i]]={}\n",
    "    ReM['expansion']['a127m415-std'][p[i]]={}\n",
    "    itB[p[i]]=[]\n",
    "    itS[p[i]]=[]\n",
    "    for j in range(len(ZoA)):\n",
    "        ioffeB=nuB(ZoA[j],p[i])\n",
    "        ioffeS=nuS(ZoA[j],p[i])\n",
    "        itB[p[i]].append(ioffeB)\n",
    "        itS[p[i]].append(ioffeS)\n",
    "        ReM['expansion']['a127m415L'][p[i]][ZoA[j]]=[]\n",
    "        ReM['expansion']['a127m415'][p[i]][ZoA[j]]=[]\n",
    "        for k in range(len(replicas)):\n",
    "            lprint('status: %i/%i'%(k,len(replicas)))\n",
    "            rep=replicas[k]\n",
    "            parman.par=copy.copy(rep['params'][istep])\n",
    "            parman.order=copy.copy(rep['order'][istep])\n",
    "            par,order=[],[]\n",
    "            for kk in range(len(parman.order)):\n",
    "                if parman.order[kk][0]==2: continue\n",
    "                else:\n",
    "                    par.append(parman.par[kk])\n",
    "                    order.append(parman.order[kk])\n",
    "            parman.par=par\n",
    "            parman.order=order\n",
    "            parman.set_new_params(parman.par)\n",
    "            conf['pdf-pion'].setup()\n",
    "            ReM['expansion']['a127m415L'][p[i]][ZoA[j]].append(ReITD(ioffeB,Z[j]**2,len(imell.N)))\n",
    "            if ZoA[j]>6: continue\n",
    "            ReM['expansion']['a127m415'][p[i]][ZoA[j]].append(ReITD(ioffeS,Z[j]**2,len(imell.N)))\n",
    "        ReM['expansion']['a127m415L'][p[i]][ZoA[j]]=np.array(ReM['expansion']['a127m415L'][p[i]][ZoA[j]])\n",
    "        ReM['expansion']['a127m415'][p[i]][ZoA[j]]=np.array(ReM['expansion']['a127m415'][p[i]][ZoA[j]])\n",
    "        ReM['expansion']['a127m415L-mean'][p[i]][ZoA[j]]=np.mean(ReM['expansion']['a127m415L'][p[i]][ZoA[j]],axis=0)\n",
    "        ReM['expansion']['a127m415-mean'][p[i]][ZoA[j]]=np.mean(ReM['expansion']['a127m415'][p[i]][ZoA[j]],axis=0)\n",
    "        ReM['expansion']['a127m415L-std'][p[i]][ZoA[j]]=np.std(ReM['expansion']['a127m415L'][p[i]][ZoA[j]],axis=0)\n",
    "        ReM['expansion']['a127m415-std'][p[i]][ZoA[j]]=np.std(ReM['expansion']['a127m415'][p[i]][ZoA[j]],axis=0)"
   ]
  },
  {
   "cell_type": "code",
   "execution_count": 73,
   "id": "comparable-repeat",
   "metadata": {},
   "outputs": [
    {
     "name": "stdout",
     "output_type": "stream",
     "text": [
      "status: 779/780"
     ]
    }
   ],
   "source": [
    "conf['mellin-pion']=mellpi\n",
    "conf['pdf-pion']=pdfpion.PDF()\n",
    "RealM['expansion']={}\n",
    "RealM['expansion']['a127m415L']={}\n",
    "RealM['expansion']['a127m415']={}\n",
    "RealM['expansion']['a127m415L-mean']={}\n",
    "RealM['expansion']['a127m415-mean']={}\n",
    "RealM['expansion']['a127m415L-std']={}\n",
    "RealM['expansion']['a127m415-std']={}\n",
    "itB={}\n",
    "itS={}\n",
    "for i in range(len(p)):\n",
    "    RealM['expansion']['a127m415L'][p[i]]={}\n",
    "    RealM['expansion']['a127m415'][p[i]]={}\n",
    "    RealM['expansion']['a127m415L-mean'][p[i]]={}\n",
    "    RealM['expansion']['a127m415-mean'][p[i]]={}\n",
    "    RealM['expansion']['a127m415L-std'][p[i]]={}\n",
    "    RealM['expansion']['a127m415-std'][p[i]]={}\n",
    "    itB[p[i]]=[]\n",
    "    itS[p[i]]=[]\n",
    "    for j in range(len(ZoA)):\n",
    "        ioffeB=nuB(ZoA[j],p[i])\n",
    "        ioffeS=nuS(ZoA[j],p[i])\n",
    "        itB[p[i]].append(ioffeB)\n",
    "        itS[p[i]].append(ioffeS)\n",
    "        RealM['expansion']['a127m415L'][p[i]][ZoA[j]]=[]\n",
    "        RealM['expansion']['a127m415'][p[i]][ZoA[j]]=[]\n",
    "        for k in range(len(replicas)):\n",
    "            lprint('status: %i/%i'%(k,len(replicas)))\n",
    "            rep=replicas[k]\n",
    "            parman.par=copy.copy(rep['params'][istep])\n",
    "            parman.order=copy.copy(rep['order'][istep])\n",
    "            par,order=[],[]\n",
    "            for kk in range(len(parman.order)):\n",
    "                if parman.order[kk][0]==2: continue\n",
    "                else:\n",
    "                    par.append(parman.par[kk])\n",
    "                    order.append(parman.order[kk])\n",
    "            parman.par=par\n",
    "            parman.order=order\n",
    "            parman.set_new_params(parman.par)\n",
    "            conf['pdf-pion'].setup()\n",
    "            RealM['expansion']['a127m415L'][p[i]][ZoA[j]].append(convITD('a127m415L',p[i],ZoA[j],1./Z[j]**2,Real=True))\n",
    "            if ZoA[j]>6: continue\n",
    "            RealM['expansion']['a127m415'][p[i]][ZoA[j]].append(convITD('a127m415',p[i],ZoA[j],1./Z[j]**2,Real=True))\n",
    "        RealM['expansion']['a127m415L'][p[i]][ZoA[j]]=np.array(RealM['expansion']['a127m415L'][p[i]][ZoA[j]])\n",
    "        RealM['expansion']['a127m415'][p[i]][ZoA[j]]=np.array(RealM['expansion']['a127m415'][p[i]][ZoA[j]])\n",
    "        RealM['expansion']['a127m415L-mean'][p[i]][ZoA[j]]=np.mean(RealM['expansion']['a127m415L'][p[i]][ZoA[j]],axis=0)\n",
    "        RealM['expansion']['a127m415-mean'][p[i]][ZoA[j]]=np.mean(RealM['expansion']['a127m415'][p[i]][ZoA[j]],axis=0)\n",
    "        RealM['expansion']['a127m415L-std'][p[i]][ZoA[j]]=np.std(RealM['expansion']['a127m415L'][p[i]][ZoA[j]],axis=0)\n",
    "        RealM['expansion']['a127m415-std'][p[i]][ZoA[j]]=np.std(RealM['expansion']['a127m415'][p[i]][ZoA[j]],axis=0)"
   ]
  },
  {
   "cell_type": "code",
   "execution_count": 74,
   "id": "running-washer",
   "metadata": {},
   "outputs": [
    {
     "data": {
      "image/png": "[encoded data removed]",
      "text/plain": [
       "<Figure size 432x288 with 1 Axes>"
      ]
     },
     "metadata": {
      "needs_background": "light"
     },
     "output_type": "display_data"
    }
   ],
   "source": [
    "mean={}\n",
    "mean['ReM-a127m415L']={}   \n",
    "ax=py.subplot(111)\n",
    "c=['r','g','b']\n",
    "for i in range(len(p)):\n",
    "#     ax.plot(itB[p[i]],ReM['a127m415L'][p[i]],'o',color=c[i],label=r'$p=%i$'%p[i])\n",
    "#     ax.plot(itS[p[i]][:-2],ReM['a127m415'][p[i]],'^',color=c[i])\n",
    "    for j in range(len(ZoA)):  \n",
    "        if j==0: ax.errorbar(itB[p[i]][j],ReM['expansion']['a127m415L-mean'][p[i]][ZoA[j]],yerr=ReM['expansion']['a127m415L-std'][p[i]][ZoA[j]],fmt='o',color=c[i],label=r'$p=%i$'%p[i])\n",
    "        else:\n",
    "            ax.errorbar(itB[p[i]][j],ReM['expansion']['a127m415L-mean'][p[i]][ZoA[j]],yerr=ReM['expansion']['a127m415L-std'][p[i]][ZoA[j]],fmt='o',color=c[i])\n",
    "        ax.errorbar(itS[p[i]][j],ReM['expansion']['a127m415-mean'][p[i]][ZoA[j]],yerr=ReM['expansion']['a127m415-std'][p[i]][ZoA[j]],fmt='^',color=c[i])\n",
    "# ax.plot(0.8,0.5,'ko')\n",
    "# ax.text(0.9,0.5,r'$L=32$',size=20)\n",
    "# ax.plot(0.8,0.4,'k^')\n",
    "# ax.text(0.9,0.4,r'$L=24$',size=20)\n",
    "ax.set_xlabel(r'$\\nu$',size=20)\n",
    "ax.set_ylabel(r'${\\rm Re} \\mathfrak{M}$',size=20)\n",
    "ax.legend()\n",
    "ax.tick_params(axis='both',which='both',direction='in',labelsize=20)\n",
    "ax.set_xlim(0,5)\n",
    "# ax.set_ylim(0,1.1)\n",
    "# ax.semilogy()\n",
    "\n",
    "checkdir('lattice_gallery')\n",
    "py.tight_layout()\n",
    "py.savefig('lattice_gallery/ReM_expansion.png')"
   ]
  },
  {
   "cell_type": "code",
   "execution_count": 75,
   "id": "colored-formation",
   "metadata": {},
   "outputs": [
    {
     "data": {
      "image/png": "[encoded data removed]",
      "text/plain": [
       "<Figure size 432x288 with 1 Axes>"
      ]
     },
     "metadata": {
      "needs_background": "light"
     },
     "output_type": "display_data"
    }
   ],
   "source": [
    "mean={}\n",
    "mean['ReM-a127m415L']={}   \n",
    "ax=py.subplot(111)\n",
    "c=['r','g','b']\n",
    "for i in range(len(p)):\n",
    "#     ax.plot(itB[p[i]],ReM['a127m415L'][p[i]],'o',color=c[i],label=r'$p=%i$'%p[i])\n",
    "#     ax.plot(itS[p[i]][:-2],ReM['a127m415'][p[i]],'^',color=c[i])\n",
    "    for j in range(len(ZoA)):  \n",
    "        if j==0: ax.plot(itB[p[i]][j],ReM['expansion']['a127m415L-std'][p[i]][ZoA[j]]/(1-ReM['expansion']['a127m415L-mean'][p[i]][ZoA[j]]),'o',color=c[i],label=r'$p=%i$'%p[i])\n",
    "        else:\n",
    "            ax.plot(itB[p[i]][j],ReM['expansion']['a127m415L-std'][p[i]][ZoA[j]]/(1-ReM['expansion']['a127m415L-mean'][p[i]][ZoA[j]]),'o',color=c[i])\n",
    "        ax.plot(itS[p[i]][j],ReM['expansion']['a127m415-std'][p[i]][ZoA[j]]/(1-ReM['expansion']['a127m415-mean'][p[i]][ZoA[j]]),'^',color=c[i])\n",
    "# ax.plot(0.8,0.5,'ko')\n",
    "# ax.text(0.9,0.5,r'$L=32$',size=20)\n",
    "# ax.plot(0.8,0.4,'k^')\n",
    "# ax.text(0.9,0.4,r'$L=24$',size=20)\n",
    "ax.set_xlabel(r'$\\nu$',size=20)\n",
    "ax.set_ylabel(r'$\\delta {\\rm Re} \\mathfrak{M}~/~{\\rm Re}(1-\\mathfrak{M})$',size=20)\n",
    "ax.legend()\n",
    "ax.tick_params(axis='both',which='both',direction='in',labelsize=20)\n",
    "ax.set_xlim(0,5)\n",
    "# ax.set_ylim(0,1.1)\n",
    "# ax.semilogy()\n",
    "\n",
    "checkdir('lattice_gallery')\n",
    "py.tight_layout()\n",
    "py.savefig('lattice_gallery/ReM_rel_err_expansion.png')"
   ]
  },
  {
   "cell_type": "code",
   "execution_count": null,
   "id": "killing-responsibility",
   "metadata": {},
   "outputs": [],
   "source": []
  },
  {
   "cell_type": "code",
   "execution_count": null,
   "id": "tropical-parallel",
   "metadata": {},
   "outputs": [],
   "source": []
  },
  {
   "cell_type": "code",
   "execution_count": 76,
   "id": "indoor-fiber",
   "metadata": {},
   "outputs": [
    {
     "name": "stdout",
     "output_type": "stream",
     "text": [
      "status: 779/780"
     ]
    }
   ],
   "source": [
    "conf['mellin-pion']=imell\n",
    "conf['pdf-pion']=pdfpion.PDF()\n",
    "ImM['expansion']={}\n",
    "ImM['expansion']['a127m415L']={}\n",
    "ImM['expansion']['a127m415']={}\n",
    "ImM['expansion']['a127m415L-mean']={}\n",
    "ImM['expansion']['a127m415-mean']={}\n",
    "ImM['expansion']['a127m415L-std']={}\n",
    "ImM['expansion']['a127m415-std']={}\n",
    "itB={}\n",
    "itS={}\n",
    "for i in range(len(p)):\n",
    "    ImM['expansion']['a127m415L'][p[i]]={}\n",
    "    ImM['expansion']['a127m415'][p[i]]={}\n",
    "    ImM['expansion']['a127m415L-mean'][p[i]]={}\n",
    "    ImM['expansion']['a127m415-mean'][p[i]]={}\n",
    "    ImM['expansion']['a127m415L-std'][p[i]]={}\n",
    "    ImM['expansion']['a127m415-std'][p[i]]={}\n",
    "    itB[p[i]]=[]\n",
    "    itS[p[i]]=[]\n",
    "    for j in range(len(ZoA)):\n",
    "        ioffeB=nuB(ZoA[j],p[i])\n",
    "        ioffeS=nuS(ZoA[j],p[i])\n",
    "        itB[p[i]].append(ioffeB)\n",
    "        itS[p[i]].append(ioffeS)\n",
    "        ImM['expansion']['a127m415L'][p[i]][ZoA[j]]=[]\n",
    "        ImM['expansion']['a127m415'][p[i]][ZoA[j]]=[]\n",
    "        for k in range(len(replicas)):\n",
    "            lprint('status: %i/%i'%(k,len(replicas)))\n",
    "            rep=replicas[k]\n",
    "            parman.par=copy.copy(rep['params'][istep])\n",
    "            parman.order=copy.copy(rep['order'][istep])\n",
    "            par,order=[],[]\n",
    "            for kk in range(len(parman.order)):\n",
    "                if parman.order[kk][0]==2: continue\n",
    "                else:\n",
    "                    par.append(parman.par[kk])\n",
    "                    order.append(parman.order[kk])\n",
    "            parman.par=par\n",
    "            parman.order=order\n",
    "            parman.set_new_params(parman.par)\n",
    "            conf['pdf-pion'].setup()\n",
    "            ImM['expansion']['a127m415L'][p[i]][ZoA[j]].append(ImITD(ioffeB,Z[j]**2,len(imell.N)))\n",
    "            if ZoA[j]>6: continue\n",
    "            ImM['expansion']['a127m415'][p[i]][ZoA[j]].append(ImITD(ioffeS,Z[j]**2,len(imell.N)))\n",
    "        ImM['expansion']['a127m415L'][p[i]][ZoA[j]]=np.array(ImM['expansion']['a127m415L'][p[i]][ZoA[j]])\n",
    "        ImM['expansion']['a127m415'][p[i]][ZoA[j]]=np.array(ImM['expansion']['a127m415'][p[i]][ZoA[j]])\n",
    "        ImM['expansion']['a127m415L-mean'][p[i]][ZoA[j]]=np.mean(ImM['expansion']['a127m415L'][p[i]][ZoA[j]],axis=0)\n",
    "        ImM['expansion']['a127m415-mean'][p[i]][ZoA[j]]=np.mean(ImM['expansion']['a127m415'][p[i]][ZoA[j]],axis=0)\n",
    "        ImM['expansion']['a127m415L-std'][p[i]][ZoA[j]]=np.std(ImM['expansion']['a127m415L'][p[i]][ZoA[j]],axis=0)\n",
    "        ImM['expansion']['a127m415-std'][p[i]][ZoA[j]]=np.std(ImM['expansion']['a127m415'][p[i]][ZoA[j]],axis=0)"
   ]
  },
  {
   "cell_type": "code",
   "execution_count": 77,
   "id": "gothic-assembly",
   "metadata": {},
   "outputs": [
    {
     "name": "stdout",
     "output_type": "stream",
     "text": [
      "status: 779/780"
     ]
    }
   ],
   "source": [
    "conf['mellin-pion']=mellpi\n",
    "conf['pdf-pion']=pdfpion.PDF()\n",
    "ImagM['expansion']={}\n",
    "ImagM['expansion']['a127m415L']={}\n",
    "ImagM['expansion']['a127m415']={}\n",
    "ImagM['expansion']['a127m415L-mean']={}\n",
    "ImagM['expansion']['a127m415-mean']={}\n",
    "ImagM['expansion']['a127m415L-std']={}\n",
    "ImagM['expansion']['a127m415-std']={}\n",
    "itB={}\n",
    "itS={}\n",
    "for i in range(len(p)):\n",
    "    ImagM['expansion']['a127m415L'][p[i]]={}\n",
    "    ImagM['expansion']['a127m415'][p[i]]={}\n",
    "    ImagM['expansion']['a127m415L-mean'][p[i]]={}\n",
    "    ImagM['expansion']['a127m415-mean'][p[i]]={}\n",
    "    ImagM['expansion']['a127m415L-std'][p[i]]={}\n",
    "    ImagM['expansion']['a127m415-std'][p[i]]={}\n",
    "    itB[p[i]]=[]\n",
    "    itS[p[i]]=[]\n",
    "    for j in range(len(ZoA)):\n",
    "        ioffeB=nuB(ZoA[j],p[i])\n",
    "        ioffeS=nuS(ZoA[j],p[i])\n",
    "        itB[p[i]].append(ioffeB)\n",
    "        itS[p[i]].append(ioffeS)\n",
    "        ImagM['expansion']['a127m415L'][p[i]][ZoA[j]]=[]\n",
    "        ImagM['expansion']['a127m415'][p[i]][ZoA[j]]=[]\n",
    "        for k in range(len(replicas)):\n",
    "            lprint('status: %i/%i'%(k,len(replicas)))\n",
    "            rep=replicas[k]\n",
    "            parman.par=copy.copy(rep['params'][istep])\n",
    "            parman.order=copy.copy(rep['order'][istep])\n",
    "            par,order=[],[]\n",
    "            for kk in range(len(parman.order)):\n",
    "                if parman.order[kk][0]==2: continue\n",
    "                else:\n",
    "                    par.append(parman.par[kk])\n",
    "                    order.append(parman.order[kk])\n",
    "            parman.par=par\n",
    "            parman.order=order\n",
    "            parman.set_new_params(parman.par)\n",
    "            conf['pdf-pion'].setup()\n",
    "            ImagM['expansion']['a127m415L'][p[i]][ZoA[j]].append(convITD('a127m415L',p[i],ZoA[j],1./Z[j]**2,Real=False))\n",
    "            if ZoA[j]>6: continue\n",
    "            ImagM['expansion']['a127m415'][p[i]][ZoA[j]].append(convITD('a127m415',p[i],ZoA[j],1./Z[j]**2,Real=False))\n",
    "        ImagM['expansion']['a127m415L'][p[i]][ZoA[j]]=np.array(ImagM['expansion']['a127m415L'][p[i]][ZoA[j]])\n",
    "        ImagM['expansion']['a127m415'][p[i]][ZoA[j]]=np.array(ImagM['expansion']['a127m415'][p[i]][ZoA[j]])\n",
    "        ImagM['expansion']['a127m415L-mean'][p[i]][ZoA[j]]=np.mean(ImagM['expansion']['a127m415L'][p[i]][ZoA[j]],axis=0)\n",
    "        ImagM['expansion']['a127m415-mean'][p[i]][ZoA[j]]=np.mean(ImagM['expansion']['a127m415'][p[i]][ZoA[j]],axis=0)\n",
    "        ImagM['expansion']['a127m415L-std'][p[i]][ZoA[j]]=np.std(ImagM['expansion']['a127m415L'][p[i]][ZoA[j]],axis=0)\n",
    "        ImagM['expansion']['a127m415-std'][p[i]][ZoA[j]]=np.std(ImagM['expansion']['a127m415'][p[i]][ZoA[j]],axis=0)"
   ]
  },
  {
   "cell_type": "code",
   "execution_count": 78,
   "id": "scientific-allen",
   "metadata": {},
   "outputs": [
    {
     "data": {
      "image/png": "[encoded data removed]",
      "text/plain": [
       "<Figure size 432x288 with 1 Axes>"
      ]
     },
     "metadata": {
      "needs_background": "light"
     },
     "output_type": "display_data"
    }
   ],
   "source": [
    "ax=py.subplot(111)\n",
    "c=['r','g','b']\n",
    "# for i in range(len(p)):\n",
    "#     ax.plot(itB[p[i]],ImM['a127m415L'][p[i]],'o',color=c[i],label=r'$p=%i$'%p[i])\n",
    "#     ax.plot(itS[p[i]][:-2],ImM['a127m415'][p[i]],'^',color=c[i])\n",
    "for i in range(len(p)):\n",
    "    for j in range(len(ZoA)):  \n",
    "        if j==0: ax.errorbar(itB[p[i]][j],ImM['expansion']['a127m415L-mean'][p[i]][ZoA[j]],yerr=ImM['expansion']['a127m415L-std'][p[i]][ZoA[j]],fmt='o',color=c[i],label=r'$p=%i$'%p[i])\n",
    "        else: ax.errorbar(itB[p[i]][j],ImM['expansion']['a127m415L-mean'][p[i]][ZoA[j]],yerr=ImM['expansion']['a127m415L-std'][p[i]][ZoA[j]],fmt='o',color=c[i])\n",
    "        ax.errorbar(itS[p[i]][j],ImM['expansion']['a127m415-mean'][p[i]][ZoA[j]],yerr=ImM['expansion']['a127m415-std'][p[i]][ZoA[j]],fmt='^',color=c[i])\n",
    "# ax.plot(4,0.4,'ko')\n",
    "# ax.text(4.1,0.4,r'$L=32$',size=20)\n",
    "# ax.plot(4,0.3,'k^')\n",
    "# ax.text(4.1,0.3,r'$L=24$',size=20)\n",
    "ax.set_xlabel(r'$\\nu$',size=20)\n",
    "ax.set_ylabel(r'${\\rm Im} \\mathfrak{M}(\\nu,z^2)$',size=20)\n",
    "ax.legend()\n",
    "ax.tick_params(axis='both',which='both',direction='in',labelsize=20)\n",
    "ax.set_xlim(0,5)\n",
    "# ax.set_ylim(0,0.7)\n",
    "\n",
    "checkdir('lattice_gallery')\n",
    "py.tight_layout()\n",
    "py.savefig('lattice_gallery/ImM_expansion.png')"
   ]
  },
  {
   "cell_type": "code",
   "execution_count": 79,
   "id": "annual-agriculture",
   "metadata": {},
   "outputs": [
    {
     "data": {
      "image/png": "[encoded data removed]",
      "text/plain": [
       "<Figure size 432x288 with 1 Axes>"
      ]
     },
     "metadata": {
      "needs_background": "light"
     },
     "output_type": "display_data"
    }
   ],
   "source": [
    "ax=py.subplot(111)\n",
    "c=['r','g','b']\n",
    "# for i in range(len(p)):\n",
    "#     ax.plot(itB[p[i]],ImM['a127m415L'][p[i]],'o',color=c[i],label=r'$p=%i$'%p[i])\n",
    "#     ax.plot(itS[p[i]][:-2],ImM['a127m415'][p[i]],'^',color=c[i])\n",
    "for i in range(len(p)):\n",
    "    for j in range(len(ZoA)):  \n",
    "        if j==0: ax.plot(itB[p[i]][j],ImM['expansion']['a127m415L-std'][p[i]][ZoA[j]]/ImM['expansion']['a127m415L-mean'][p[i]][ZoA[j]],'o',color=c[i],label=r'$p=%i$'%p[i])\n",
    "        else: ax.plot(itB[p[i]][j],ImM['expansion']['a127m415L-std'][p[i]][ZoA[j]]/ImM['expansion']['a127m415L-mean'][p[i]][ZoA[j]],'o',color=c[i])\n",
    "        ax.plot(itS[p[i]][j],ImM['expansion']['a127m415-std'][p[i]][ZoA[j]]/ImM['expansion']['a127m415-mean'][p[i]][ZoA[j]],'o',color=c[i])\n",
    "# ax.plot(4,0.4,'ko')\n",
    "# ax.text(4.1,0.4,r'$L=32$',size=20)\n",
    "# ax.plot(4,0.3,'k^')\n",
    "# ax.text(4.1,0.3,r'$L=24$',size=20)\n",
    "ax.set_xlabel(r'$\\nu$',size=20)\n",
    "ax.set_ylabel(r'$\\delta {\\rm Im} \\mathfrak{M}~/~{\\rm Im} \\mathfrak{M}$',size=20)\n",
    "ax.legend()\n",
    "ax.tick_params(axis='both',which='both',direction='in',labelsize=20)\n",
    "ax.set_xlim(0,5)\n",
    "# ax.set_ylim(0,0.7)\n",
    "\n",
    "checkdir('lattice_gallery')\n",
    "py.tight_layout()\n",
    "py.savefig('lattice_gallery/ImM_rel_err_expansion.png')"
   ]
  },
  {
   "cell_type": "markdown",
   "id": "chicken-reflection",
   "metadata": {},
   "source": [
    "## NLO+NLL Double Mellin"
   ]
  },
  {
   "cell_type": "code",
   "execution_count": 80,
   "id": "formed-jacket",
   "metadata": {},
   "outputs": [],
   "source": [
    "replicas=core.get_replicas('doublemellin/step18pos/')\n",
    "istep=18"
   ]
  },
  {
   "cell_type": "code",
   "execution_count": 81,
   "id": "hearing-shoulder",
   "metadata": {},
   "outputs": [
    {
     "name": "stdout",
     "output_type": "stream",
     "text": [
      "loading dy-pion data sets 10001\n",
      "loading dy-pion data sets 10002\n",
      "loading dy-pion data sets 10003\n",
      "10001 has norm uncertainty\n",
      "10002 has norm uncertainty\n",
      "10003 has norm uncertainty\n"
     ]
    }
   ],
   "source": [
    "load_config('doublemellin/step18pos//input.py')\n",
    "core.mod_conf(istep,replicas[0])\n",
    "order=replicas[0]['order'][istep]\n",
    "resman=RESMAN(nworkers=2,parallel=True,datasets=True)"
   ]
  },
  {
   "cell_type": "code",
   "execution_count": 82,
   "id": "expected-windows",
   "metadata": {},
   "outputs": [],
   "source": [
    "parman=resman.parman\n",
    "parman.order=order"
   ]
  },
  {
   "cell_type": "code",
   "execution_count": 83,
   "id": "adequate-reserve",
   "metadata": {},
   "outputs": [
    {
     "name": "stdout",
     "output_type": "stream",
     "text": [
      "status: 777/778"
     ]
    }
   ],
   "source": [
    "conf['mellin-pion']=imell\n",
    "conf['pdf-pion']=pdfpion.PDF()\n",
    "ReM['double mellin']={}\n",
    "ReM['double mellin']['a127m415L']={}\n",
    "ReM['double mellin']['a127m415']={}\n",
    "ReM['double mellin']['a127m415L-mean']={}\n",
    "ReM['double mellin']['a127m415-mean']={}\n",
    "ReM['double mellin']['a127m415L-std']={}\n",
    "ReM['double mellin']['a127m415-std']={}\n",
    "itB={}\n",
    "itS={}\n",
    "for i in range(len(p)):\n",
    "    ReM['double mellin']['a127m415L'][p[i]]={}\n",
    "    ReM['double mellin']['a127m415'][p[i]]={}\n",
    "    ReM['double mellin']['a127m415L-mean'][p[i]]={}\n",
    "    ReM['double mellin']['a127m415-mean'][p[i]]={}\n",
    "    ReM['double mellin']['a127m415L-std'][p[i]]={}\n",
    "    ReM['double mellin']['a127m415-std'][p[i]]={}\n",
    "    itB[p[i]]=[]\n",
    "    itS[p[i]]=[]\n",
    "    for j in range(len(ZoA)):\n",
    "        ioffeB=nuB(ZoA[j],p[i])\n",
    "        ioffeS=nuS(ZoA[j],p[i])\n",
    "        itB[p[i]].append(ioffeB)\n",
    "        itS[p[i]].append(ioffeS)\n",
    "        ReM['double mellin']['a127m415L'][p[i]][ZoA[j]]=[]\n",
    "        ReM['double mellin']['a127m415'][p[i]][ZoA[j]]=[]\n",
    "        for k in range(len(replicas)):\n",
    "            lprint('status: %i/%i'%(k,len(replicas)))\n",
    "            rep=replicas[k]\n",
    "            parman.par=copy.copy(rep['params'][istep])\n",
    "            parman.order=copy.copy(rep['order'][istep])\n",
    "            par,order=[],[]\n",
    "            for kk in range(len(parman.order)):\n",
    "                if parman.order[kk][0]==2: continue\n",
    "                else:\n",
    "                    par.append(parman.par[kk])\n",
    "                    order.append(parman.order[kk])\n",
    "            parman.par=par\n",
    "            parman.order=order\n",
    "            parman.set_new_params(parman.par)\n",
    "            conf['pdf-pion'].setup()\n",
    "            ReM['double mellin']['a127m415L'][p[i]][ZoA[j]].append(ReITD(ioffeB,Z[j]**2,len(imell.N)))\n",
    "            if ZoA[j]>6: continue\n",
    "            ReM['double mellin']['a127m415'][p[i]][ZoA[j]].append(ReITD(ioffeS,Z[j]**2,len(imell.N)))\n",
    "        ReM['double mellin']['a127m415L'][p[i]][ZoA[j]]=np.array(ReM['double mellin']['a127m415L'][p[i]][ZoA[j]])\n",
    "        ReM['double mellin']['a127m415'][p[i]][ZoA[j]]=np.array(ReM['double mellin']['a127m415'][p[i]][ZoA[j]])\n",
    "        ReM['double mellin']['a127m415L-mean'][p[i]][ZoA[j]]=np.mean(ReM['double mellin']['a127m415L'][p[i]][ZoA[j]],axis=0)\n",
    "        ReM['double mellin']['a127m415-mean'][p[i]][ZoA[j]]=np.mean(ReM['double mellin']['a127m415'][p[i]][ZoA[j]],axis=0)\n",
    "        ReM['double mellin']['a127m415L-std'][p[i]][ZoA[j]]=np.std(ReM['double mellin']['a127m415L'][p[i]][ZoA[j]],axis=0)\n",
    "        ReM['double mellin']['a127m415-std'][p[i]][ZoA[j]]=np.std(ReM['double mellin']['a127m415'][p[i]][ZoA[j]],axis=0)"
   ]
  },
  {
   "cell_type": "code",
   "execution_count": 84,
   "id": "frozen-channels",
   "metadata": {},
   "outputs": [
    {
     "name": "stdout",
     "output_type": "stream",
     "text": [
      "status: 777/778"
     ]
    }
   ],
   "source": [
    "conf['mellin-pion']=mellpi\n",
    "conf['pdf-pion']=pdfpion.PDF()\n",
    "RealM['double mellin']={}\n",
    "RealM['double mellin']['a127m415L']={}\n",
    "RealM['double mellin']['a127m415']={}\n",
    "RealM['double mellin']['a127m415L-mean']={}\n",
    "RealM['double mellin']['a127m415-mean']={}\n",
    "RealM['double mellin']['a127m415L-std']={}\n",
    "RealM['double mellin']['a127m415-std']={}\n",
    "itB={}\n",
    "itS={}\n",
    "for i in range(len(p)):\n",
    "    RealM['double mellin']['a127m415L'][p[i]]={}\n",
    "    RealM['double mellin']['a127m415'][p[i]]={}\n",
    "    RealM['double mellin']['a127m415L-mean'][p[i]]={}\n",
    "    RealM['double mellin']['a127m415-mean'][p[i]]={}\n",
    "    RealM['double mellin']['a127m415L-std'][p[i]]={}\n",
    "    RealM['double mellin']['a127m415-std'][p[i]]={}\n",
    "    itB[p[i]]=[]\n",
    "    itS[p[i]]=[]\n",
    "    for j in range(len(ZoA)):\n",
    "        ioffeB=nuB(ZoA[j],p[i])\n",
    "        ioffeS=nuS(ZoA[j],p[i])\n",
    "        itB[p[i]].append(ioffeB)\n",
    "        itS[p[i]].append(ioffeS)\n",
    "        RealM['double mellin']['a127m415L'][p[i]][ZoA[j]]=[]\n",
    "        RealM['double mellin']['a127m415'][p[i]][ZoA[j]]=[]\n",
    "        for k in range(len(replicas)):\n",
    "            lprint('status: %i/%i'%(k,len(replicas)))\n",
    "            rep=replicas[k]\n",
    "            parman.par=copy.copy(rep['params'][istep])\n",
    "            parman.order=copy.copy(rep['order'][istep])\n",
    "            par,order=[],[]\n",
    "            for kk in range(len(parman.order)):\n",
    "                if parman.order[kk][0]==2: continue\n",
    "                else:\n",
    "                    par.append(parman.par[kk])\n",
    "                    order.append(parman.order[kk])\n",
    "            parman.par=par\n",
    "            parman.order=order\n",
    "            parman.set_new_params(parman.par)\n",
    "            conf['pdf-pion'].setup()\n",
    "            RealM['double mellin']['a127m415L'][p[i]][ZoA[j]].append(convITD('a127m415L',p[i],ZoA[j],1./Z[j]**2,Real=True))\n",
    "            if ZoA[j]>6: continue\n",
    "            RealM['double mellin']['a127m415'][p[i]][ZoA[j]].append(convITD('a127m415',p[i],ZoA[j],1./Z[j]**2,Real=True))\n",
    "        RealM['double mellin']['a127m415L'][p[i]][ZoA[j]]=np.array(RealM['double mellin']['a127m415L'][p[i]][ZoA[j]])\n",
    "        RealM['double mellin']['a127m415'][p[i]][ZoA[j]]=np.array(RealM['double mellin']['a127m415'][p[i]][ZoA[j]])\n",
    "        RealM['double mellin']['a127m415L-mean'][p[i]][ZoA[j]]=np.mean(RealM['double mellin']['a127m415L'][p[i]][ZoA[j]],axis=0)\n",
    "        RealM['double mellin']['a127m415-mean'][p[i]][ZoA[j]]=np.mean(RealM['double mellin']['a127m415'][p[i]][ZoA[j]],axis=0)\n",
    "        RealM['double mellin']['a127m415L-std'][p[i]][ZoA[j]]=np.std(RealM['double mellin']['a127m415L'][p[i]][ZoA[j]],axis=0)\n",
    "        RealM['double mellin']['a127m415-std'][p[i]][ZoA[j]]=np.std(RealM['double mellin']['a127m415'][p[i]][ZoA[j]],axis=0)"
   ]
  },
  {
   "cell_type": "code",
   "execution_count": 85,
   "id": "animal-nirvana",
   "metadata": {},
   "outputs": [
    {
     "data": {
      "image/png": "[encoded data removed]",
      "text/plain": [
       "<Figure size 432x288 with 1 Axes>"
      ]
     },
     "metadata": {
      "needs_background": "light"
     },
     "output_type": "display_data"
    }
   ],
   "source": [
    "mean={}\n",
    "mean['ReM-a127m415L']={}   \n",
    "ax=py.subplot(111)\n",
    "c=['r','g','b']\n",
    "for i in range(len(p)):\n",
    "#     ax.plot(itB[p[i]],ReM['a127m415L'][p[i]],'o',color=c[i],label=r'$p=%i$'%p[i])\n",
    "#     ax.plot(itS[p[i]][:-2],ReM['a127m415'][p[i]],'^',color=c[i])\n",
    "    for j in range(len(ZoA)):  \n",
    "        if j==0: ax.errorbar(itB[p[i]][j],ReM['double mellin']['a127m415L-mean'][p[i]][ZoA[j]],yerr=ReM['double mellin']['a127m415L-std'][p[i]][ZoA[j]],fmt='o',color=c[i],label=r'$p=%i$'%p[i])\n",
    "        else:\n",
    "            ax.errorbar(itB[p[i]][j],ReM['double mellin']['a127m415L-mean'][p[i]][ZoA[j]],yerr=ReM['double mellin']['a127m415L-std'][p[i]][ZoA[j]],fmt='o',color=c[i])\n",
    "        ax.errorbar(itS[p[i]][j],ReM['double mellin']['a127m415-mean'][p[i]][ZoA[j]],yerr=ReM['double mellin']['a127m415-std'][p[i]][ZoA[j]],fmt='^',color=c[i])\n",
    "# ax.plot(0.8,0.5,'ko')\n",
    "# ax.text(0.9,0.5,r'$L=32$',size=20)\n",
    "# ax.plot(0.8,0.4,'k^')\n",
    "# ax.text(0.9,0.4,r'$L=24$',size=20)\n",
    "ax.set_xlabel(r'$\\nu$',size=20)\n",
    "ax.set_ylabel(r'${\\rm Re} \\mathfrak{M}$',size=20)\n",
    "ax.legend()\n",
    "ax.tick_params(axis='both',which='both',direction='in',labelsize=20)\n",
    "ax.set_xlim(0,5)\n",
    "# ax.set_ylim(0,1.1)\n",
    "# ax.semilogy()\n",
    "\n",
    "checkdir('lattice_gallery')\n",
    "py.tight_layout()\n",
    "py.savefig('lattice_gallery/ReM_doublemellinpng')"
   ]
  },
  {
   "cell_type": "code",
   "execution_count": 86,
   "id": "protecting-cartridge",
   "metadata": {},
   "outputs": [
    {
     "data": {
      "image/png": "[encoded data removed]",
      "text/plain": [
       "<Figure size 432x288 with 1 Axes>"
      ]
     },
     "metadata": {
      "needs_background": "light"
     },
     "output_type": "display_data"
    }
   ],
   "source": [
    "mean={}\n",
    "mean['ReM-a127m415L']={}   \n",
    "ax=py.subplot(111)\n",
    "c=['r','g','b']\n",
    "for i in range(len(p)):\n",
    "#     ax.plot(itB[p[i]],ReM['a127m415L'][p[i]],'o',color=c[i],label=r'$p=%i$'%p[i])\n",
    "#     ax.plot(itS[p[i]][:-2],ReM['a127m415'][p[i]],'^',color=c[i])\n",
    "    for j in range(len(ZoA)):  \n",
    "        if j==0: ax.plot(itB[p[i]][j],ReM['double mellin']['a127m415L-std'][p[i]][ZoA[j]]/(1-ReM['double mellin']['a127m415L-mean'][p[i]][ZoA[j]]),'o',color=c[i],label=r'$p=%i$'%p[i])\n",
    "        else:\n",
    "            ax.plot(itB[p[i]][j],ReM['double mellin']['a127m415L-std'][p[i]][ZoA[j]]/(1-ReM['double mellin']['a127m415L-mean'][p[i]][ZoA[j]]),'o',color=c[i])\n",
    "        ax.plot(itS[p[i]][j],ReM['double mellin']['a127m415-std'][p[i]][ZoA[j]]/(1-ReM['double mellin']['a127m415-mean'][p[i]][ZoA[j]]),'^',color=c[i])\n",
    "# ax.plot(0.8,0.5,'ko')\n",
    "# ax.text(0.9,0.5,r'$L=32$',size=20)\n",
    "# ax.plot(0.8,0.4,'k^')\n",
    "# ax.text(0.9,0.4,r'$L=24$',size=20)\n",
    "ax.set_xlabel(r'$\\nu$',size=20)\n",
    "ax.set_ylabel(r'$\\delta {\\rm Re} \\mathfrak{M}~/~{\\rm Re}(1-\\mathfrak{M})$',size=20)\n",
    "ax.legend()\n",
    "ax.tick_params(axis='both',which='both',direction='in',labelsize=20)\n",
    "ax.set_xlim(0,5)\n",
    "# ax.set_ylim(0,1.1)\n",
    "# ax.semilogy()\n",
    "\n",
    "checkdir('lattice_gallery')\n",
    "py.tight_layout()\n",
    "py.savefig('lattice_gallery/ReM_rel_err_doublemellin.png')"
   ]
  },
  {
   "cell_type": "code",
   "execution_count": null,
   "id": "negative-painting",
   "metadata": {},
   "outputs": [],
   "source": []
  },
  {
   "cell_type": "code",
   "execution_count": null,
   "id": "blind-consciousness",
   "metadata": {},
   "outputs": [],
   "source": []
  },
  {
   "cell_type": "code",
   "execution_count": 87,
   "id": "downtown-thriller",
   "metadata": {},
   "outputs": [
    {
     "name": "stdout",
     "output_type": "stream",
     "text": [
      "status: 777/778"
     ]
    }
   ],
   "source": [
    "conf['mellin-pion']=imell\n",
    "conf['pdf-pion']=pdfpion.PDF()\n",
    "ImM['double mellin']={}\n",
    "ImM['double mellin']['a127m415L']={}\n",
    "ImM['double mellin']['a127m415']={}\n",
    "ImM['double mellin']['a127m415L-mean']={}\n",
    "ImM['double mellin']['a127m415-mean']={}\n",
    "ImM['double mellin']['a127m415L-std']={}\n",
    "ImM['double mellin']['a127m415-std']={}\n",
    "itB={}\n",
    "itS={}\n",
    "for i in range(len(p)):\n",
    "    ImM['double mellin']['a127m415L'][p[i]]={}\n",
    "    ImM['double mellin']['a127m415'][p[i]]={}\n",
    "    ImM['double mellin']['a127m415L-mean'][p[i]]={}\n",
    "    ImM['double mellin']['a127m415-mean'][p[i]]={}\n",
    "    ImM['double mellin']['a127m415L-std'][p[i]]={}\n",
    "    ImM['double mellin']['a127m415-std'][p[i]]={}\n",
    "    itB[p[i]]=[]\n",
    "    itS[p[i]]=[]\n",
    "    for j in range(len(ZoA)):\n",
    "        ioffeB=nuB(ZoA[j],p[i])\n",
    "        ioffeS=nuS(ZoA[j],p[i])\n",
    "        itB[p[i]].append(ioffeB)\n",
    "        itS[p[i]].append(ioffeS)\n",
    "        ImM['double mellin']['a127m415L'][p[i]][ZoA[j]]=[]\n",
    "        ImM['double mellin']['a127m415'][p[i]][ZoA[j]]=[]\n",
    "        for k in range(len(replicas)):\n",
    "            lprint('status: %i/%i'%(k,len(replicas)))\n",
    "            rep=replicas[k]\n",
    "            parman.par=copy.copy(rep['params'][istep])\n",
    "            parman.order=copy.copy(rep['order'][istep])\n",
    "            par,order=[],[]\n",
    "            for kk in range(len(parman.order)):\n",
    "                if parman.order[kk][0]==2: continue\n",
    "                else:\n",
    "                    par.append(parman.par[kk])\n",
    "                    order.append(parman.order[kk])\n",
    "            parman.par=par\n",
    "            parman.order=order\n",
    "            parman.set_new_params(parman.par)\n",
    "            conf['pdf-pion'].setup()\n",
    "            ImM['double mellin']['a127m415L'][p[i]][ZoA[j]].append(ImITD(ioffeB,Z[j]**2,len(imell.N)))\n",
    "            if ZoA[j]>6: continue\n",
    "            ImM['double mellin']['a127m415'][p[i]][ZoA[j]].append(ImITD(ioffeS,Z[j]**2,len(imell.N)))\n",
    "        ImM['double mellin']['a127m415L'][p[i]][ZoA[j]]=np.array(ImM['double mellin']['a127m415L'][p[i]][ZoA[j]])\n",
    "        ImM['double mellin']['a127m415'][p[i]][ZoA[j]]=np.array(ImM['double mellin']['a127m415'][p[i]][ZoA[j]])\n",
    "        ImM['double mellin']['a127m415L-mean'][p[i]][ZoA[j]]=np.mean(ImM['double mellin']['a127m415L'][p[i]][ZoA[j]],axis=0)\n",
    "        ImM['double mellin']['a127m415-mean'][p[i]][ZoA[j]]=np.mean(ImM['double mellin']['a127m415'][p[i]][ZoA[j]],axis=0)\n",
    "        ImM['double mellin']['a127m415L-std'][p[i]][ZoA[j]]=np.std(ImM['double mellin']['a127m415L'][p[i]][ZoA[j]],axis=0)\n",
    "        ImM['double mellin']['a127m415-std'][p[i]][ZoA[j]]=np.std(ImM['double mellin']['a127m415'][p[i]][ZoA[j]],axis=0)"
   ]
  },
  {
   "cell_type": "code",
   "execution_count": 88,
   "id": "coordinated-saskatchewan",
   "metadata": {},
   "outputs": [
    {
     "name": "stdout",
     "output_type": "stream",
     "text": [
      "status: 777/778"
     ]
    }
   ],
   "source": [
    "conf['mellin-pion']=mellpi\n",
    "conf['pdf-pion']=pdfpion.PDF()\n",
    "ImagM['double mellin']={}\n",
    "ImagM['double mellin']['a127m415L']={}\n",
    "ImagM['double mellin']['a127m415']={}\n",
    "ImagM['double mellin']['a127m415L-mean']={}\n",
    "ImagM['double mellin']['a127m415-mean']={}\n",
    "ImagM['double mellin']['a127m415L-std']={}\n",
    "ImagM['double mellin']['a127m415-std']={}\n",
    "itB={}\n",
    "itS={}\n",
    "for i in range(len(p)):\n",
    "    ImagM['double mellin']['a127m415L'][p[i]]={}\n",
    "    ImagM['double mellin']['a127m415'][p[i]]={}\n",
    "    ImagM['double mellin']['a127m415L-mean'][p[i]]={}\n",
    "    ImagM['double mellin']['a127m415-mean'][p[i]]={}\n",
    "    ImagM['double mellin']['a127m415L-std'][p[i]]={}\n",
    "    ImagM['double mellin']['a127m415-std'][p[i]]={}\n",
    "    itB[p[i]]=[]\n",
    "    itS[p[i]]=[]\n",
    "    for j in range(len(ZoA)):\n",
    "        ioffeB=nuB(ZoA[j],p[i])\n",
    "        ioffeS=nuS(ZoA[j],p[i])\n",
    "        itB[p[i]].append(ioffeB)\n",
    "        itS[p[i]].append(ioffeS)\n",
    "        ImagM['double mellin']['a127m415L'][p[i]][ZoA[j]]=[]\n",
    "        ImagM['double mellin']['a127m415'][p[i]][ZoA[j]]=[]\n",
    "        for k in range(len(replicas)):\n",
    "            lprint('status: %i/%i'%(k,len(replicas)))\n",
    "            rep=replicas[k]\n",
    "            parman.par=copy.copy(rep['params'][istep])\n",
    "            parman.order=copy.copy(rep['order'][istep])\n",
    "            par,order=[],[]\n",
    "            for kk in range(len(parman.order)):\n",
    "                if parman.order[kk][0]==2: continue\n",
    "                else:\n",
    "                    par.append(parman.par[kk])\n",
    "                    order.append(parman.order[kk])\n",
    "            parman.par=par\n",
    "            parman.order=order\n",
    "            parman.set_new_params(parman.par)\n",
    "            conf['pdf-pion'].setup()\n",
    "            ImagM['double mellin']['a127m415L'][p[i]][ZoA[j]].append(convITD('a127m415L',p[i],ZoA[j],1./Z[j]**2,Real=False))\n",
    "            if ZoA[j]>6: continue\n",
    "            ImagM['double mellin']['a127m415'][p[i]][ZoA[j]].append(convITD('a127m415',p[i],ZoA[j],1./Z[j]**2,Real=False))\n",
    "        ImagM['double mellin']['a127m415L'][p[i]][ZoA[j]]=np.array(ImagM['double mellin']['a127m415L'][p[i]][ZoA[j]])\n",
    "        ImagM['double mellin']['a127m415'][p[i]][ZoA[j]]=np.array(ImagM['double mellin']['a127m415'][p[i]][ZoA[j]])\n",
    "        ImagM['double mellin']['a127m415L-mean'][p[i]][ZoA[j]]=np.mean(ImagM['double mellin']['a127m415L'][p[i]][ZoA[j]],axis=0)\n",
    "        ImagM['double mellin']['a127m415-mean'][p[i]][ZoA[j]]=np.mean(ImagM['double mellin']['a127m415'][p[i]][ZoA[j]],axis=0)\n",
    "        ImagM['double mellin']['a127m415L-std'][p[i]][ZoA[j]]=np.std(ImagM['double mellin']['a127m415L'][p[i]][ZoA[j]],axis=0)\n",
    "        ImagM['double mellin']['a127m415-std'][p[i]][ZoA[j]]=np.std(ImagM['double mellin']['a127m415'][p[i]][ZoA[j]],axis=0)"
   ]
  },
  {
   "cell_type": "code",
   "execution_count": 89,
   "id": "acting-portuguese",
   "metadata": {},
   "outputs": [
    {
     "data": {
      "image/png": "[encoded data removed]",
      "text/plain": [
       "<Figure size 432x288 with 1 Axes>"
      ]
     },
     "metadata": {
      "needs_background": "light"
     },
     "output_type": "display_data"
    }
   ],
   "source": [
    "ax=py.subplot(111)\n",
    "c=['r','g','b']\n",
    "# for i in range(len(p)):\n",
    "#     ax.plot(itB[p[i]],ImM['a127m415L'][p[i]],'o',color=c[i],label=r'$p=%i$'%p[i])\n",
    "#     ax.plot(itS[p[i]][:-2],ImM['a127m415'][p[i]],'^',color=c[i])\n",
    "for i in range(len(p)):\n",
    "    for j in range(len(ZoA)):  \n",
    "        if j==0: ax.errorbar(itB[p[i]][j],ImM['double mellin']['a127m415L-mean'][p[i]][ZoA[j]],yerr=ImM['double mellin']['a127m415L-std'][p[i]][ZoA[j]],fmt='o',color=c[i],label=r'$p=%i$'%p[i])\n",
    "        else: ax.errorbar(itB[p[i]][j],ImM['double mellin']['a127m415L-mean'][p[i]][ZoA[j]],yerr=ImM['double mellin']['a127m415L-std'][p[i]][ZoA[j]],fmt='o',color=c[i])\n",
    "        ax.errorbar(itS[p[i]][j],ImM['double mellin']['a127m415-mean'][p[i]][ZoA[j]],yerr=ImM['double mellin']['a127m415-std'][p[i]][ZoA[j]],fmt='^',color=c[i])\n",
    "# ax.plot(4,0.4,'ko')\n",
    "# ax.text(4.1,0.4,r'$L=32$',size=20)\n",
    "# ax.plot(4,0.3,'k^')\n",
    "# ax.text(4.1,0.3,r'$L=24$',size=20)\n",
    "ax.set_xlabel(r'$\\nu$',size=20)\n",
    "ax.set_ylabel(r'${\\rm Im} \\mathfrak{M}(\\nu,z^2)$',size=20)\n",
    "ax.legend()\n",
    "ax.tick_params(axis='both',which='both',direction='in',labelsize=20)\n",
    "ax.set_xlim(0,5)\n",
    "# ax.set_ylim(0,0.7)\n",
    "\n",
    "checkdir('lattice_gallery')\n",
    "py.tight_layout()\n",
    "py.savefig('lattice_gallery/ImM_doublemellin.png')"
   ]
  },
  {
   "cell_type": "code",
   "execution_count": 90,
   "id": "exotic-chance",
   "metadata": {},
   "outputs": [
    {
     "data": {
      "image/png": "[encoded data removed]",
      "text/plain": [
       "<Figure size 432x288 with 1 Axes>"
      ]
     },
     "metadata": {
      "needs_background": "light"
     },
     "output_type": "display_data"
    }
   ],
   "source": [
    "ax=py.subplot(111)\n",
    "c=['r','g','b']\n",
    "# for i in range(len(p)):\n",
    "#     ax.plot(itB[p[i]],ImM['a127m415L'][p[i]],'o',color=c[i],label=r'$p=%i$'%p[i])\n",
    "#     ax.plot(itS[p[i]][:-2],ImM['a127m415'][p[i]],'^',color=c[i])\n",
    "for i in range(len(p)):\n",
    "    for j in range(len(ZoA)):  \n",
    "        if j==0: ax.plot(itB[p[i]][j],ImM['double mellin']['a127m415L-std'][p[i]][ZoA[j]]/ImM['double mellin']['a127m415L-mean'][p[i]][ZoA[j]],'o',color=c[i],label=r'$p=%i$'%p[i])\n",
    "        else: ax.plot(itB[p[i]][j],ImM['double mellin']['a127m415L-std'][p[i]][ZoA[j]]/ImM['double mellin']['a127m415L-mean'][p[i]][ZoA[j]],'o',color=c[i])\n",
    "        ax.plot(itS[p[i]][j],ImM['double mellin']['a127m415-std'][p[i]][ZoA[j]]/ImM['double mellin']['a127m415-mean'][p[i]][ZoA[j]],'o',color=c[i])\n",
    "# ax.plot(4,0.4,'ko')\n",
    "# ax.text(4.1,0.4,r'$L=32$',size=20)\n",
    "# ax.plot(4,0.3,'k^')\n",
    "# ax.text(4.1,0.3,r'$L=24$',size=20)\n",
    "ax.set_xlabel(r'$\\nu$',size=20)\n",
    "ax.set_ylabel(r'$\\delta {\\rm Im} \\mathfrak{M}~/~{\\rm Im} \\mathfrak{M}$',size=20)\n",
    "ax.legend()\n",
    "ax.tick_params(axis='both',which='both',direction='in',labelsize=20)\n",
    "ax.set_xlim(0,5)\n",
    "# ax.set_ylim(0,0.7)\n",
    "\n",
    "checkdir('lattice_gallery')\n",
    "py.tight_layout()\n",
    "py.savefig('lattice_gallery/ImM_rel_err_doublemellin.png')"
   ]
  },
  {
   "cell_type": "code",
   "execution_count": null,
   "id": "younger-spine",
   "metadata": {},
   "outputs": [],
   "source": []
  },
  {
   "cell_type": "code",
   "execution_count": null,
   "id": "piano-porter",
   "metadata": {},
   "outputs": [],
   "source": []
  },
  {
   "cell_type": "code",
   "execution_count": null,
   "id": "dominican-empire",
   "metadata": {},
   "outputs": [],
   "source": []
  }
 ],
 "metadata": {
  "kernelspec": {
   "display_name": "Python 3",
   "language": "python",
   "name": "python3"
  },
  "language_info": {
   "codemirror_mode": {
    "name": "ipython",
    "version": 3
   },
   "file_extension": ".py",
   "mimetype": "text/x-python",
   "name": "python",
   "nbconvert_exporter": "python",
   "pygments_lexer": "ipython3",
   "version": "3.8.6"
  }
 },
 "nbformat": 4,
 "nbformat_minor": 5
}
