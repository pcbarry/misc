{
 "cells": [
  {
   "cell_type": "code",
   "execution_count": 1,
   "id": "million-signal",
   "metadata": {},
   "outputs": [
    {
     "name": "stderr",
     "output_type": "stream",
     "text": [
      "Matplotlib created a temporary config/cache directory at /tmp/matplotlib-bxkw_kwc because the default path (/home/jovyan/.cache/matplotlib) is not a writable directory; it is highly recommended to set the MPLCONFIGDIR environment variable to a writable directory, in particular to speed up the import of Matplotlib and to better support multiprocessing.\n"
     ]
    }
   ],
   "source": [
    "import numpy as np\n",
    "import os,sys\n",
    "import matplotlib\n",
    "import pylab as py\n",
    "import mpmath as mp\n",
    "from mpmath import fp"
   ]
  },
  {
   "cell_type": "code",
   "execution_count": 2,
   "id": "personal-extreme",
   "metadata": {},
   "outputs": [],
   "source": [
    "import copy"
   ]
  },
  {
   "cell_type": "code",
   "execution_count": 3,
   "id": "balanced-assurance",
   "metadata": {},
   "outputs": [],
   "source": [
    "sys.path.append('/work/JAM/barryp/JAM/fitpack2/')\n",
    "os.environ['FITPACK']='/work/JAM/barryp/JAM/fitpack2/'"
   ]
  },
  {
   "cell_type": "code",
   "execution_count": 4,
   "id": "owned-respect",
   "metadata": {},
   "outputs": [],
   "source": [
    "from qcdlib import mellin,pdf,alphaS,eweak,aux,pdfpionfit,pdfpion\n",
    "\n",
    "from tools.config import conf\n",
    "from tools.tools import load,save,checkdir,lprint"
   ]
  },
  {
   "cell_type": "code",
   "execution_count": 5,
   "id": "impossible-constitution",
   "metadata": {},
   "outputs": [],
   "source": [
    "conf['Q20']=1.27**2\n",
    "conf['aux']=aux.AUX()\n",
    "conf['order']='NLO'\n",
    "conf['eweak']=eweak.EWEAK()\n",
    "conf['alphaS']=alphaS.ALPHAS()\n",
    "conf['dglap mode']='truncated'"
   ]
  },
  {
   "cell_type": "code",
   "execution_count": 6,
   "id": "documentary-perry",
   "metadata": {},
   "outputs": [],
   "source": [
    "mell=mellin.MELLIN()\n",
    "imell=mellin.IMELLIN()\n",
    "\n",
    "\n",
    "pdf1=pdf.PDF(mellin=mell)\n",
    "pdf2=pdf.PDF(mellin=imell)"
   ]
  },
  {
   "cell_type": "code",
   "execution_count": 7,
   "id": "institutional-willow",
   "metadata": {},
   "outputs": [],
   "source": [
    "imell.N=np.array([])\n",
    "for i in range(1,51):\n",
    "    iN=np.array([i],dtype=complex)\n",
    "    imell.N=np.append(imell.N,iN)"
   ]
  },
  {
   "cell_type": "code",
   "execution_count": 8,
   "id": "broadband-distribution",
   "metadata": {},
   "outputs": [],
   "source": [
    "from analysis.corelib import core\n",
    "from fitlib.resman import RESMAN\n",
    "\n",
    "from tools.tools import load,save,checkdir,lprint\n",
    "from tools.config import load_config\n",
    "\n",
    "import copy"
   ]
  },
  {
   "cell_type": "code",
   "execution_count": 57,
   "id": "after-belfast",
   "metadata": {},
   "outputs": [],
   "source": [
    "def cn(x,n,z2):\n",
    "    CF=4.0/3.0\n",
    "    euler=fp.euler\n",
    "    \n",
    "    #--harmonic number\n",
    "    def harmonic(ini,fin):\n",
    "        harmonic=0\n",
    "        for i in range(ini,fin):\n",
    "            harmonic+=1./i\n",
    "        return harmonic\n",
    "    \n",
    "    gamma_n=1.0/((n+1)*(n+2))-0.5-2*harmonic(2,n+1)\n",
    "    \n",
    "    #--polygamma\n",
    "    def polygamma(ini,fin):\n",
    "        polygamma=0\n",
    "        for i in range(ini,fin):\n",
    "            polygamma+=1./i**2\n",
    "        return polygamma\n",
    "    \n",
    "    d_n=2*(harmonic(1,n)**2+polygamma(1,n)+0.5-1.0/((n+1)*(n+2)))\n",
    "    aS=conf['alphaS'].get_alphaS(x/z2)\n",
    "    cn=1.#-aS/2./np.pi*CF*(gamma_n*np.log(x*np.exp(2*euler+1)/4.0)+d_n)\n",
    "    return cn"
   ]
  },
  {
   "cell_type": "code",
   "execution_count": 58,
   "id": "provincial-square",
   "metadata": {},
   "outputs": [],
   "source": [
    "def aval(mu2):\n",
    "    conf['pdf-pion'].evolve(mu2)\n",
    "    u=np.array(conf['pdf-pion'].storage[mu2]['u'])\n",
    "    ub=np.array(conf['pdf-pion'].storage[mu2]['ub'])\n",
    "    return ub-u"
   ]
  },
  {
   "cell_type": "code",
   "execution_count": 59,
   "id": "utility-rugby",
   "metadata": {},
   "outputs": [],
   "source": [
    "def ReITD(nu,z2,N):\n",
    "    M=1\n",
    "    for n in range(1,N):\n",
    "        if n%2==1: continue\n",
    "        M+=(1j*nu)**n/int(mp.factorial(n))*cn(1.,n,z2)*(aval(1.0/z2)[n]) #--nth index in pdf storage is N=n+1\n",
    "    return np.real(M)"
   ]
  },
  {
   "cell_type": "code",
   "execution_count": 60,
   "id": "electronic-thunder",
   "metadata": {},
   "outputs": [],
   "source": [
    "def auub(mu2):\n",
    "    conf['pdf-pion'].evolve(mu2)\n",
    "    u=np.array(conf['pdf-pion'].storage[mu2]['u'])\n",
    "    ub=np.array(conf['pdf-pion'].storage[mu2]['ub'])\n",
    "    return ub+u"
   ]
  },
  {
   "cell_type": "code",
   "execution_count": 61,
   "id": "forward-tackle",
   "metadata": {},
   "outputs": [],
   "source": [
    "def ImITD(nu,z2,N):\n",
    "    M=1\n",
    "    for n in range(1,N):\n",
    "        if n%2==0: continue\n",
    "        M+=(1j*nu)**n/int(mp.factorial(n))*cn(1.,n,z2)*(aval(1.0/z2)[n])\n",
    "    return np.imag(M)"
   ]
  },
  {
   "cell_type": "code",
   "execution_count": 62,
   "id": "excess-belarus",
   "metadata": {},
   "outputs": [],
   "source": [
    "Lbig=32\n",
    "Lsmall=24\n",
    "a=0.127\n",
    "nuB=lambda zoa,p: 2*np.pi/Lbig*zoa*p\n",
    "nuS=lambda zoa,p: 2*np.pi/Lsmall*zoa*p"
   ]
  },
  {
   "cell_type": "code",
   "execution_count": 63,
   "id": "entitled-topic",
   "metadata": {},
   "outputs": [],
   "source": [
    "ZoA=np.array([_ for _ in range(1,9)])\n",
    "p=np.array([1,2,3])\n",
    "Z=a*ZoA"
   ]
  },
  {
   "cell_type": "code",
   "execution_count": 64,
   "id": "parliamentary-destination",
   "metadata": {},
   "outputs": [],
   "source": [
    "replicas=core.get_replicas('NLOpy3/')\n",
    "istep=16"
   ]
  },
  {
   "cell_type": "code",
   "execution_count": 65,
   "id": "miniature-trash",
   "metadata": {},
   "outputs": [
    {
     "name": "stdout",
     "output_type": "stream",
     "text": [
      "loading dy-pion data sets 10001\n",
      "loading dy-pion data sets 10002\n",
      "loading dy-pion data sets 10003\n",
      "10001 has norm uncertainty\n",
      "10002 has norm uncertainty\n",
      "10003 has norm uncertainty\n"
     ]
    },
    {
     "name": "stderr",
     "output_type": "stream",
     "text": [
      "Process w1:\n",
      "Process w0:\n",
      "Traceback (most recent call last):\n",
      "Traceback (most recent call last):\n",
      "  File \"/opt/conda/lib/python3.8/multiprocessing/process.py\", line 315, in _bootstrap\n",
      "    self.run()\n",
      "  File \"/opt/conda/lib/python3.8/multiprocessing/process.py\", line 315, in _bootstrap\n",
      "    self.run()\n",
      "  File \"/opt/conda/lib/python3.8/multiprocessing/process.py\", line 108, in run\n",
      "    self._target(*self._args, **self._kwargs)\n",
      "  File \"/work/JAM/barryp/JAM/fitpack2/tools/parallel.py\", line 69, in worker\n",
      "    work = self.recv(sock)\n",
      "  File \"/opt/conda/lib/python3.8/multiprocessing/process.py\", line 108, in run\n",
      "    self._target(*self._args, **self._kwargs)\n",
      "  File \"/work/JAM/barryp/JAM/fitpack2/tools/parallel.py\", line 69, in worker\n",
      "    work = self.recv(sock)\n",
      "  File \"/work/JAM/barryp/JAM/fitpack2/tools/parallel.py\", line 55, in recv\n",
      "    return pickle.loads(sock.recv())\n",
      "  File \"zmq/backend/cython/socket.pyx\", line 781, in zmq.backend.cython.socket.Socket.recv\n",
      "  File \"zmq/backend/cython/socket.pyx\", line 817, in zmq.backend.cython.socket.Socket.recv\n",
      "  File \"/work/JAM/barryp/JAM/fitpack2/tools/parallel.py\", line 55, in recv\n",
      "    return pickle.loads(sock.recv())\n",
      "  File \"zmq/backend/cython/socket.pyx\", line 186, in zmq.backend.cython.socket._recv_copy\n",
      "  File \"zmq/backend/cython/checkrc.pxd\", line 13, in zmq.backend.cython.checkrc._check_rc\n",
      "KeyboardInterrupt\n",
      "  File \"zmq/backend/cython/socket.pyx\", line 781, in zmq.backend.cython.socket.Socket.recv\n",
      "  File \"zmq/backend/cython/socket.pyx\", line 817, in zmq.backend.cython.socket.Socket.recv\n",
      "KeyboardInterrupt\n",
      "  File \"zmq/backend/cython/socket.pyx\", line 186, in zmq.backend.cython.socket._recv_copy\n",
      "  File \"zmq/backend/cython/checkrc.pxd\", line 13, in zmq.backend.cython.checkrc._check_rc\n"
     ]
    }
   ],
   "source": [
    "load_config('NLOpy3/input.py')\n",
    "core.mod_conf(istep,replicas[0])\n",
    "order=replicas[0]['order'][istep]\n",
    "resman=RESMAN(nworkers=2,parallel=True,datasets=True)"
   ]
  },
  {
   "cell_type": "code",
   "execution_count": 66,
   "id": "protective-cycling",
   "metadata": {},
   "outputs": [],
   "source": [
    "parman=resman.parman\n",
    "parman.order=order"
   ]
  },
  {
   "cell_type": "code",
   "execution_count": 67,
   "id": "classified-ideal",
   "metadata": {},
   "outputs": [],
   "source": [
    "conf['mellin-pion']=imell\n",
    "conf['pdf-pion']=pdfpion.PDF()"
   ]
  },
  {
   "cell_type": "code",
   "execution_count": 68,
   "id": "silver-truth",
   "metadata": {},
   "outputs": [],
   "source": [
    "ReM={}\n",
    "ReM['a127m415L']={}\n",
    "ReM['a127m415']={}\n",
    "itB={}\n",
    "itS={}\n",
    "for i in range(len(p)):\n",
    "    ReM['a127m415L'][p[i]]=[]\n",
    "    ReM['a127m415'][p[i]]=[]\n",
    "    itB[p[i]]=[]\n",
    "    itS[p[i]]=[]\n",
    "    for j in range(len(ZoA)):\n",
    "        ioffeB=nuB(ZoA[j],p[i])\n",
    "        ioffeS=nuS(ZoA[j],p[i])\n",
    "        itB[p[i]].append(ioffeB)\n",
    "        itS[p[i]].append(ioffeS)\n",
    "        ReM['a127m415L'][p[i]].append(ReITD(ioffeB,Z[j]**2,len(imell.N)))\n",
    "        if ZoA[j]>6: continue\n",
    "        ReM['a127m415'][p[i]].append(ReITD(ioffeS,Z[j]**2,len(imell.N)))\n",
    "    ReM['a127m415L'][p[i]]=np.array(ReM['a127m415L'][p[i]])\n",
    "    ReM['a127m415'][p[i]]=np.array(ReM['a127m415'][p[i]])"
   ]
  },
  {
   "cell_type": "code",
   "execution_count": 69,
   "id": "quarterly-minnesota",
   "metadata": {},
   "outputs": [
    {
     "name": "stdout",
     "output_type": "stream",
     "text": [
      "status: 785/786"
     ]
    }
   ],
   "source": [
    "ReM={}\n",
    "ReM['a127m415L']={}\n",
    "ReM['a127m415']={}\n",
    "ReM['a127m415L-mean']={}\n",
    "ReM['a127m415-mean']={}\n",
    "ReM['a127m415L-std']={}\n",
    "ReM['a127m415-std']={}\n",
    "itB={}\n",
    "itS={}\n",
    "for i in range(len(p)):\n",
    "    ReM['a127m415L'][p[i]]={}\n",
    "    ReM['a127m415'][p[i]]={}\n",
    "    ReM['a127m415L-mean'][p[i]]={}\n",
    "    ReM['a127m415-mean'][p[i]]={}\n",
    "    ReM['a127m415L-std'][p[i]]={}\n",
    "    ReM['a127m415-std'][p[i]]={}\n",
    "    itB[p[i]]=[]\n",
    "    itS[p[i]]=[]\n",
    "    for j in range(len(ZoA)):\n",
    "        ioffeB=nuB(ZoA[j],p[i])\n",
    "        ioffeS=nuS(ZoA[j],p[i])\n",
    "        itB[p[i]].append(ioffeB)\n",
    "        itS[p[i]].append(ioffeS)\n",
    "        ReM['a127m415L'][p[i]][ZoA[j]]=[]\n",
    "        ReM['a127m415'][p[i]][ZoA[j]]=[]\n",
    "        for k in range(len(replicas)):\n",
    "            lprint('status: %i/%i'%(k,len(replicas)))\n",
    "            rep=replicas[k]\n",
    "            parman.par=copy.copy(rep['params'][istep])\n",
    "            parman.order=copy.copy(rep['order'][istep])\n",
    "            par,order=[],[]\n",
    "            for kk in range(len(parman.order)):\n",
    "                if parman.order[kk][0]==2: continue\n",
    "                else:\n",
    "                    par.append(parman.par[kk])\n",
    "                    order.append(parman.order[kk])\n",
    "            parman.par=par\n",
    "            parman.order=order\n",
    "            parman.set_new_params(parman.par)\n",
    "            conf['pdf-pion'].setup()\n",
    "            ReM['a127m415L'][p[i]][ZoA[j]].append(ReITD(ioffeB,Z[j]**2,len(imell.N)))\n",
    "            if ZoA[j]>6: continue\n",
    "            ReM['a127m415'][p[i]][ZoA[j]].append(ReITD(ioffeS,Z[j]**2,len(imell.N)))\n",
    "        ReM['a127m415L'][p[i]][ZoA[j]]=np.array(ReM['a127m415L'][p[i]][ZoA[j]])\n",
    "        ReM['a127m415'][p[i]][ZoA[j]]=np.array(ReM['a127m415'][p[i]][ZoA[j]])\n",
    "        ReM['a127m415L-mean'][p[i]][ZoA[j]]=np.mean(ReM['a127m415L'][p[i]][ZoA[j]],axis=0)\n",
    "        ReM['a127m415-mean'][p[i]][ZoA[j]]=np.mean(ReM['a127m415'][p[i]][ZoA[j]],axis=0)\n",
    "        ReM['a127m415L-std'][p[i]][ZoA[j]]=np.std(ReM['a127m415L'][p[i]][ZoA[j]],axis=0)\n",
    "        ReM['a127m415-std'][p[i]][ZoA[j]]=np.std(ReM['a127m415'][p[i]][ZoA[j]],axis=0)"
   ]
  },
  {
   "cell_type": "code",
   "execution_count": 70,
   "id": "lined-superintendent",
   "metadata": {},
   "outputs": [
    {
     "name": "stdout",
     "output_type": "stream",
     "text": [
      "dict_keys([1, 2, 3])\n",
      "8\n"
     ]
    }
   ],
   "source": [
    "print(ReM['a127m415L-mean'].keys())\n",
    "print(len(ReM['a127m415L-mean'][1]))"
   ]
  },
  {
   "cell_type": "code",
   "execution_count": 71,
   "id": "identical-employee",
   "metadata": {},
   "outputs": [
    {
     "data": {
      "image/png": "[encoded data removed]",
      "text/plain": [
       "<Figure size 432x288 with 1 Axes>"
      ]
     },
     "metadata": {
      "needs_background": "light"
     },
     "output_type": "display_data"
    }
   ],
   "source": [
    "mean={}\n",
    "mean['ReM-a127m415L']={}   \n",
    "ax=py.subplot(111)\n",
    "c=['r','g','b']\n",
    "for i in range(len(p)):\n",
    "#     ax.plot(itB[p[i]],ReM['a127m415L'][p[i]],'o',color=c[i],label=r'$p=%i$'%p[i])\n",
    "#     ax.plot(itS[p[i]][:-2],ReM['a127m415'][p[i]],'^',color=c[i])\n",
    "    for j in range(len(ZoA)):  \n",
    "        if j==0: ax.errorbar(itB[p[i]][j],ReM['a127m415L-mean'][p[i]][ZoA[j]],yerr=ReM['a127m415L-std'][p[i]][ZoA[j]],fmt='o',color=c[i],label=r'$p=%i$'%p[i])\n",
    "        else:\n",
    "            ax.errorbar(itB[p[i]][j],ReM['a127m415L-mean'][p[i]][ZoA[j]],yerr=ReM['a127m415L-std'][p[i]][ZoA[j]],fmt='o',color=c[i])\n",
    "        ax.errorbar(itS[p[i]][j],ReM['a127m415-mean'][p[i]][ZoA[j]],yerr=ReM['a127m415-std'][p[i]][ZoA[j]],fmt='o',color=c[i])\n",
    "ax.plot(0.8,0.5,'ko')\n",
    "ax.text(0.9,0.5,r'$L=32$',size=20)\n",
    "ax.plot(0.8,0.4,'k^')\n",
    "ax.text(0.9,0.4,r'$L=24$',size=20)\n",
    "ax.set_xlabel(r'$\\nu$',size=20)\n",
    "ax.set_ylabel(r'${\\rm Re} \\mathfrak{M}(\\nu,z^2)$',size=20)\n",
    "ax.legend()\n",
    "ax.tick_params(axis='both',which='both',direction='in',labelsize=20)\n",
    "ax.set_xlim(0,5)\n",
    "ax.set_ylim(0,1.1)\n",
    "# ax.semilogy()\n",
    "\n",
    "checkdir('lattice_gallery')\n",
    "py.tight_layout()\n",
    "# py.savefig('lattice_gallery/ReM_err.png')"
   ]
  },
  {
   "cell_type": "code",
   "execution_count": null,
   "id": "unknown-participation",
   "metadata": {},
   "outputs": [],
   "source": []
  },
  {
   "cell_type": "code",
   "execution_count": null,
   "id": "communist-pregnancy",
   "metadata": {},
   "outputs": [],
   "source": []
  },
  {
   "cell_type": "code",
   "execution_count": 24,
   "id": "divided-clinton",
   "metadata": {},
   "outputs": [
    {
     "name": "stdout",
     "output_type": "stream",
     "text": [
      "0.9632568312267219\n"
     ]
    }
   ],
   "source": [
    "print(ImITD(2,4,5))"
   ]
  },
  {
   "cell_type": "code",
   "execution_count": 25,
   "id": "infinite-scheduling",
   "metadata": {},
   "outputs": [],
   "source": [
    "# ImM={}\n",
    "# ImM['a127m415L']={}\n",
    "# ImM['a127m415']={}\n",
    "# itB={}\n",
    "# itS={}\n",
    "# for i in range(len(p)):\n",
    "#     ImM['a127m415L'][p[i]]=[]\n",
    "#     ImM['a127m415'][p[i]]=[]\n",
    "#     itB[p[i]]=[]\n",
    "#     itS[p[i]]=[]\n",
    "#     for j in range(len(ZoA)):\n",
    "#         ioffeB=nuB(ZoA[j],p[i])\n",
    "#         ioffeS=nuS(ZoA[j],p[i])\n",
    "#         itB[p[i]].append(ioffeB)\n",
    "#         itS[p[i]].append(ioffeS)\n",
    "#         ImM['a127m415L'][p[i]].append(ImITD(ioffeB,Z[j]**2,len(imell.N)))\n",
    "#         if ZoA[j]>6: continue\n",
    "#         ImM['a127m415'][p[i]].append(ImITD(ioffeS,Z[j]**2,len(imell.N)))\n",
    "#     ImM['a127m415L'][p[i]]=np.array(ImM['a127m415L'][p[i]])\n",
    "#     ImM['a127m415'][p[i]]=np.array(ImM['a127m415'][p[i]])"
   ]
  },
  {
   "cell_type": "code",
   "execution_count": 26,
   "id": "affecting-mason",
   "metadata": {},
   "outputs": [
    {
     "name": "stdout",
     "output_type": "stream",
     "text": [
      "status: 785/786"
     ]
    }
   ],
   "source": [
    "ImM={}\n",
    "ImM['a127m415L']={}\n",
    "ImM['a127m415']={}\n",
    "ImM['a127m415L-mean']={}\n",
    "ImM['a127m415-mean']={}\n",
    "ImM['a127m415L-std']={}\n",
    "ImM['a127m415-std']={}\n",
    "itB={}\n",
    "itS={}\n",
    "for i in range(len(p)):\n",
    "    ImM['a127m415L'][p[i]]={}\n",
    "    ImM['a127m415'][p[i]]={}\n",
    "    ImM['a127m415L-mean'][p[i]]={}\n",
    "    ImM['a127m415-mean'][p[i]]={}\n",
    "    ImM['a127m415L-std'][p[i]]={}\n",
    "    ImM['a127m415-std'][p[i]]={}\n",
    "    itB[p[i]]=[]\n",
    "    itS[p[i]]=[]\n",
    "    for j in range(len(ZoA)):\n",
    "        ioffeB=nuB(ZoA[j],p[i])\n",
    "        ioffeS=nuS(ZoA[j],p[i])\n",
    "        itB[p[i]].append(ioffeB)\n",
    "        itS[p[i]].append(ioffeS)\n",
    "        ImM['a127m415L'][p[i]][ZoA[j]]=[]\n",
    "        ImM['a127m415'][p[i]][ZoA[j]]=[]\n",
    "        for k in range(len(replicas)):\n",
    "            lprint('status: %i/%i'%(k,len(replicas)))\n",
    "            rep=replicas[k]\n",
    "            parman.par=copy.copy(rep['params'][istep])\n",
    "            parman.order=copy.copy(rep['order'][istep])\n",
    "            par,order=[],[]\n",
    "            for kk in range(len(parman.order)):\n",
    "                if parman.order[kk][0]==2: continue\n",
    "                else:\n",
    "                    par.append(parman.par[kk])\n",
    "                    order.append(parman.order[kk])\n",
    "            parman.par=par\n",
    "            parman.order=order\n",
    "            parman.set_new_params(parman.par)\n",
    "            conf['pdf-pion'].setup()\n",
    "            ImM['a127m415L'][p[i]][ZoA[j]].append(ImITD(ioffeB,Z[j]**2,len(imell.N)))\n",
    "            if ZoA[j]>6: continue\n",
    "            ImM['a127m415'][p[i]][ZoA[j]].append(ImITD(ioffeS,Z[j]**2,len(imell.N)))\n",
    "        ImM['a127m415L'][p[i]][ZoA[j]]=np.array(ImM['a127m415L'][p[i]][ZoA[j]])\n",
    "        ImM['a127m415'][p[i]][ZoA[j]]=np.array(ImM['a127m415'][p[i]][ZoA[j]])\n",
    "        ImM['a127m415L-mean'][p[i]][ZoA[j]]=np.mean(ImM['a127m415L'][p[i]][ZoA[j]],axis=0)\n",
    "        ImM['a127m415-mean'][p[i]][ZoA[j]]=np.mean(ImM['a127m415'][p[i]][ZoA[j]],axis=0)\n",
    "        ImM['a127m415L-std'][p[i]][ZoA[j]]=np.std(ImM['a127m415L'][p[i]][ZoA[j]],axis=0)\n",
    "        ImM['a127m415-std'][p[i]][ZoA[j]]=np.std(ImM['a127m415'][p[i]][ZoA[j]],axis=0)"
   ]
  },
  {
   "cell_type": "code",
   "execution_count": 27,
   "id": "bacterial-criterion",
   "metadata": {},
   "outputs": [
    {
     "data": {
      "image/png": "[encoded data removed]",
      "text/plain": [
       "<Figure size 432x288 with 1 Axes>"
      ]
     },
     "metadata": {
      "needs_background": "light"
     },
     "output_type": "display_data"
    }
   ],
   "source": [
    "ax=py.subplot(111)\n",
    "c=['r','g','b']\n",
    "# for i in range(len(p)):\n",
    "#     ax.plot(itB[p[i]],ImM['a127m415L'][p[i]],'o',color=c[i],label=r'$p=%i$'%p[i])\n",
    "#     ax.plot(itS[p[i]][:-2],ImM['a127m415'][p[i]],'^',color=c[i])\n",
    "for i in range(len(p)):\n",
    "    for j in range(len(ZoA)):  \n",
    "        if j==0: ax.errorbar(itB[p[i]][j],ImM['a127m415L-mean'][p[i]][ZoA[j]],yerr=ImM['a127m415L-std'][p[i]][ZoA[j]],fmt='o',color=c[i],label=r'$p=%i$'%p[i])\n",
    "        else: ax.errorbar(itB[p[i]][j],ImM['a127m415L-mean'][p[i]][ZoA[j]],yerr=ImM['a127m415L-std'][p[i]][ZoA[j]],fmt='o',color=c[i])\n",
    "        ax.errorbar(itS[p[i]][j],ImM['a127m415-mean'][p[i]][ZoA[j]],yerr=ImM['a127m415-std'][p[i]][ZoA[j]],fmt='o',color=c[i])\n",
    "ax.plot(4,0.4,'ko')\n",
    "ax.text(4.1,0.4,r'$L=32$',size=20)\n",
    "ax.plot(4,0.3,'k^')\n",
    "ax.text(4.1,0.3,r'$L=24$',size=20)\n",
    "ax.set_xlabel(r'$\\nu$',size=20)\n",
    "ax.set_ylabel(r'${\\rm Im} \\mathfrak{M}(\\nu,z^2)$',size=20)\n",
    "ax.legend()\n",
    "ax.tick_params(axis='both',which='both',direction='in',labelsize=20)\n",
    "ax.set_xlim(0,5)\n",
    "# ax.set_ylim(0,0.7)\n",
    "\n",
    "checkdir('lattice_gallery')\n",
    "py.tight_layout()\n",
    "# py.savefig('lattice_gallery/ImM_err.png')"
   ]
  },
  {
   "cell_type": "code",
   "execution_count": null,
   "id": "confidential-analysis",
   "metadata": {},
   "outputs": [],
   "source": []
  },
  {
   "cell_type": "code",
   "execution_count": null,
   "id": "upset-philosophy",
   "metadata": {},
   "outputs": [],
   "source": []
  },
  {
   "cell_type": "markdown",
   "id": "supported-threat",
   "metadata": {},
   "source": [
    "# Through Convolution with matching coefficients"
   ]
  },
  {
   "cell_type": "code",
   "execution_count": 24,
   "id": "surrounded-packing",
   "metadata": {},
   "outputs": [],
   "source": [
    "os.environ['LHAPDF_DATA_PATH']='/work/JAM/apps/lhapdf_tables'"
   ]
  },
  {
   "cell_type": "code",
   "execution_count": 45,
   "id": "closed-catholic",
   "metadata": {},
   "outputs": [],
   "source": [
    "import lhapdf\n",
    "from scipy.integrate import quad,fixed_quad\n",
    "from mpmath import fp"
   ]
  },
  {
   "cell_type": "code",
   "execution_count": 84,
   "id": "loving-large",
   "metadata": {},
   "outputs": [],
   "source": [
    "PI=lhapdf.mkPDFs('JAM20PionPDFnlo')"
   ]
  },
  {
   "cell_type": "code",
   "execution_count": 85,
   "id": "angry-burner",
   "metadata": {},
   "outputs": [],
   "source": [
    "def ReMconv(nu,z2,mu2,i,iorder=1):\n",
    "    \n",
    "    def integrand(x,nu,z2,mu2,i,iorder=1):\n",
    "        PIV=PI[i].xfxQ2(-2,x,mu2)/x-PI[i].xfxQ2(2,x,mu2)/x\n",
    "        LO=np.cos(x*nu)*PIV\n",
    "        if iorder==0: return LO\n",
    "        elif iorder>0:\n",
    "            prefactor=conf['alphaS'].get_alphaS(mu2)/2.0/np.pi*(4/3)\n",
    "            NLO=0\n",
    "            NLO+=fixed_quad(np.vectorize(lambda u: PIV*(np.cos(x*nu*u)-np.cos(x*nu))*(1+u**2)/(1-u)*np.log(z2*mu2*np.exp(2*fp.euler+1)/4)),0,1,n=100)[0]\n",
    "            NLO+=fixed_quad(np.vectorize(lambda u: PIV*(np.cos(x*nu*u)-np.cos(x*nu))*(4*np.log(1-u)/(1-u)-2*(1-u))),0,1,n=100)[0]\n",
    "            return LO+prefactor*NLO\n",
    "    \n",
    "    return fixed_quad(np.vectorize(lambda x: integrand(x,nu,z2,mu2,iorder)),0,1,n=100)[0]"
   ]
  },
  {
   "cell_type": "code",
   "execution_count": 95,
   "id": "neutral-reference",
   "metadata": {},
   "outputs": [],
   "source": [
    "def ImMconv(nu,z2,mu2,i,iorder=1):\n",
    "    \n",
    "    def integrand(x,nu,z2,mu2,i,iorder=1):\n",
    "        PIP=PI[i].xfxQ2(-2,x,mu2)/x+PI[i].xfxQ2(2,x,mu2)/x\n",
    "        LO=np.sin(x*nu)*PIP\n",
    "        if iorder==0: return LO\n",
    "        elif iorder>0:\n",
    "            prefactor=conf['alphaS'].get_alphaS(mu2)/2.0/np.pi*(4/3)\n",
    "            NLO=0\n",
    "            NLO+=fixed_quad(np.vectorize(lambda u: PIP*(np.sin(x*nu*u)-np.sin(x*nu))*(1+u**2)/(1-u)*np.log(z2*mu2*np.exp(2*fp.euler+1)/4)),0,1,n=100)[0]\n",
    "            NLO+=fixed_quad(np.vectorize(lambda u: PIP*(np.sin(x*nu*u)-np.sin(x*nu))*(4*np.log(1-u)/(1-u)-2*(1-u))),0,1,n=100)[0]\n",
    "            return LO+prefactor*NLO\n",
    "    \n",
    "    return fixed_quad(np.vectorize(lambda x: integrand(x,nu,z2,mu2,iorder)),0,1,n=100)[0]"
   ]
  },
  {
   "cell_type": "code",
   "execution_count": 96,
   "id": "improved-restaurant",
   "metadata": {},
   "outputs": [
    {
     "name": "stdout",
     "output_type": "stream",
     "text": [
      "0.9971654822810062\n"
     ]
    }
   ],
   "source": [
    "print(ReMconv(nuB(ZoA[0],p[0]),Z[0],1/Z[0]**2,0,iorder=1))"
   ]
  },
  {
   "cell_type": "code",
   "execution_count": 97,
   "id": "roman-allah",
   "metadata": {},
   "outputs": [
    {
     "name": "stdout",
     "output_type": "stream",
     "text": [
      "0.05369256407602176\n"
     ]
    }
   ],
   "source": [
    "print(ImMconv(nuB(ZoA[0],p[0]),Z[0],1/Z[0]**2,0,iorder=1))"
   ]
  },
  {
   "cell_type": "code",
   "execution_count": 89,
   "id": "efficient-beatles",
   "metadata": {},
   "outputs": [
    {
     "name": "stdout",
     "output_type": "stream",
     "text": [
      "progress: 785/786"
     ]
    }
   ],
   "source": [
    "RealM={}\n",
    "# RealM['a127m415L']={}\n",
    "RealM['a127m415']={}\n",
    "# itB={}\n",
    "itS={}\n",
    "for i in range(len(p)):\n",
    "#     RealM['a127m415L'][p[i]]={}\n",
    "    RealM['a127m415'][p[i]]={}\n",
    "#     itB[p[i]]=[]\n",
    "    itS[p[i]]=[]\n",
    "    for j in range(len(ZoA)):\n",
    "#         ioffeB=nuB(ZoA[j],p[i])\n",
    "        ioffeS=nuS(ZoA[j],p[i])\n",
    "#         itB[p[i]].append(ioffeB)\n",
    "        itS[p[i]].append(ioffeS)\n",
    "#         RealM['a127m415L'][p[i]][ZoA[j]]=[]\n",
    "        RealM['a127m415'][p[i]][ZoA[j]]=[]\n",
    "        for k in range(len(PI)):\n",
    "            lprint('progress: %i/%i'%(k,len(PI)))\n",
    "#             RealM['a127m415L'][p[i]][ZoA[j]].append(ReMconv(ioffeB,Z[j]**2,1/Z[j]**2,k))\n",
    "            if ZoA[j]>6: continue\n",
    "            RealM['a127m415'][p[i]][ZoA[j]].append(ReMconv(ioffeS,Z[j]**2,1/Z[j]**2,k))\n",
    "#         RealM['a127m415L'][p[i]][ZoA[j]]=np.array(RealM['a127m415L'][p[i]][ZoA[j]])\n",
    "        RealM['a127m415'][p[i]][ZoA[j]]=np.array(RealM['a127m415'][p[i]][ZoA[j]])"
   ]
  },
  {
   "cell_type": "code",
   "execution_count": 90,
   "id": "violent-creation",
   "metadata": {},
   "outputs": [],
   "source": [
    "# RealM['a127m415L-mean']={}\n",
    "# RealM['a127m415L-std']={}\n",
    "RealM['a127m415-mean']={}\n",
    "RealM['a127m415-std']={}\n",
    "for i in range(len(p)):\n",
    "#     RealM['a127m415L-mean'][p[i]]={}\n",
    "#     RealM['a127m415L-std'][p[i]]={}\n",
    "    RealM['a127m415-mean'][p[i]]={}\n",
    "    RealM['a127m415-std'][p[i]]={}\n",
    "    for j in range(len(ZoA)):\n",
    "#         RealM['a127m415L-mean'][p[i]][ZoA[j]]=(np.mean(RealM['a127m415L'][p[i]][ZoA[j]],axis=0))\n",
    "#         RealM['a127m415L-std'][p[i]][ZoA[j]]=(np.std(RealM['a127m415L'][p[i]][ZoA[j]],axis=0))\n",
    "        RealM['a127m415-mean'][p[i]][ZoA[j]]=(np.mean(RealM['a127m415'][p[i]][ZoA[j]],axis=0))\n",
    "        RealM['a127m415-std'][p[i]][ZoA[j]]=(np.std(RealM['a127m415'][p[i]][ZoA[j]],axis=0))"
   ]
  },
  {
   "cell_type": "code",
   "execution_count": 92,
   "id": "cellular-diagram",
   "metadata": {},
   "outputs": [
    {
     "name": "stderr",
     "output_type": "stream",
     "text": [
      "No handles with labels found to put in legend.\n"
     ]
    },
    {
     "data": {
      "image/png": "[encoded data removed]",
      "text/plain": [
       "<Figure size 432x288 with 1 Axes>"
      ]
     },
     "metadata": {
      "needs_background": "light"
     },
     "output_type": "display_data"
    }
   ],
   "source": [
    "ax=py.subplot(111)\n",
    "c=['r','g','b']\n",
    "for i in range(len(p)):\n",
    "#     ax.plot(itB[p[i]],RealM['a127m415L'][p[i]],'o',color=c[i],label=r'$p=%i$'%p[i])\n",
    "#     ax.plot(itS[p[i]][:-2],RealM['a127m415'][p[i]],'^',color=c[i])\n",
    "    for j in range(len(ZoA)):  \n",
    "#         if j==0: ax.errorbar(itB[p[i]][j],ReM['a127m415L-mean'][p[i]][ZoA[j]],yerr=ReM['a127m415L-std'][p[i]][ZoA[j]],fmt='o',color=c[i],label=r'$p=%i$'%p[i])\n",
    "#         else:\n",
    "#             ax.errorbar(itB[p[i]][j],ReM['a127m415L-mean'][p[i]][ZoA[j]],yerr=ReM['a127m415L-std'][p[i]][ZoA[j]],fmt='o',color=c[i])\n",
    "        ax.errorbar(itS[p[i]][j],ReM['a127m415-mean'][p[i]][ZoA[j]],yerr=ReM['a127m415-std'][p[i]][ZoA[j]],fmt='o',color=c[i])\n",
    "# ax.plot(0.8,0.5,'ko')\n",
    "# ax.text(0.9,0.5,r'$L=32$',size=20)\n",
    "# ax.plot(0.8,0.4,'k^')\n",
    "# ax.text(0.9,0.4,r'$L=24$',size=20)\n",
    "ax.set_xlabel(r'$\\nu$',size=20)\n",
    "ax.set_ylabel(r'${\\rm Re} \\mathfrak{M}(\\nu,z^2)$',size=20)\n",
    "ax.legend()\n",
    "ax.tick_params(axis='both',which='both',direction='in',labelsize=20)\n",
    "ax.set_xlim(0,5)\n",
    "# ax.set_ylim(0,1.1)\n",
    "# ax.semilogy()\n",
    "\n",
    "checkdir('lattice_gallery')\n",
    "py.tight_layout()\n",
    "# py.savefig('lattice_gallery/ReM_err.png')"
   ]
  },
  {
   "cell_type": "code",
   "execution_count": null,
   "id": "experimental-terrorist",
   "metadata": {},
   "outputs": [
    {
     "name": "stdout",
     "output_type": "stream",
     "text": [
      "progress: 53/7866"
     ]
    }
   ],
   "source": [
    "ImagM={}\n",
    "# ImagM['a127m415L']={}\n",
    "ImagM['a127m415']={}\n",
    "itB={}\n",
    "itS={}\n",
    "for i in range(len(p)):\n",
    "#     ImagM['a127m415L'][p[i]]={}\n",
    "    ImagM['a127m415'][p[i]]={}\n",
    "    itB[p[i]]=[]\n",
    "    itS[p[i]]=[]\n",
    "    for j in range(len(ZoA)):\n",
    "        ioffeB=nuB(ZoA[j],p[i])\n",
    "        ioffeS=nuS(ZoA[j],p[i])\n",
    "        itB[p[i]].append(ioffeB)\n",
    "        itS[p[i]].append(ioffeS)\n",
    "#         ImagM['a127m415L'][p[i]][ZoA[j]]=[]\n",
    "        ImagM['a127m415'][p[i]][ZoA[j]]=[]\n",
    "        for k in range(len(PI)):\n",
    "            lprint('progress: %i/%i'%(k,len(PI)))\n",
    "#             ImagM['a127m415L'][p[i]][ZoA[j]].append(ImMconv(ioffeB,Z[j]**2,1/Z[j]**2,k))\n",
    "            if ZoA[j]>6: continue\n",
    "            ImagM['a127m415'][p[i]][ZoA[j]].append(ImMconv(ioffeS,Z[j]**2,1/Z[j]**2,k))\n",
    "#     ImagM['a127m415L'][p[i]]=np.array(ImagM['a127m415L'][p[i]])\n",
    "    ImagM['a127m415'][p[i]]=np.array(ImagM['a127m415'][p[i]])"
   ]
  },
  {
   "cell_type": "code",
   "execution_count": null,
   "id": "passive-porcelain",
   "metadata": {},
   "outputs": [],
   "source": [
    "# ImagM['a127m415L-mean']={}\n",
    "# ImagM['a127m415L-std']={}\n",
    "ImagM['a127m415-mean']={}\n",
    "ImagM['a127m415-std']={}\n",
    "for i in range(len(p)):\n",
    "#     ImagM['a127m415L-mean'][p[i]]={}\n",
    "#     ImagM['a127m415L-std'][p[i]]={}\n",
    "    ImagM['a127m415-mean'][p[i]]={}\n",
    "    ImagM['a127m415-std'][p[i]]={}\n",
    "    for j in range(len(ZoA)):\n",
    "#         ImagM['a127m415L-mean'][p[i]][ZoA[j]]=(np.mean(ImagM['a127m415L'][p[i]][ZoA[j]],axis=0))\n",
    "#         ImagM['a127m415L-std'][p[i]][ZoA[j]]=(np.std(ImagM['a127m415L'][p[i]][ZoA[j]],axis=0))\n",
    "        ImagM['a127m415-mean'][p[i]][ZoA[j]]=(np.mean(ImagM['a127m415'][p[i]][ZoA[j]],axis=0))\n",
    "        ImagM['a127m415-std'][p[i]][ZoA[j]]=(np.std(ImagM['a127m415'][p[i]][ZoA[j]],axis=0))"
   ]
  },
  {
   "cell_type": "code",
   "execution_count": null,
   "id": "unlimited-norfolk",
   "metadata": {},
   "outputs": [],
   "source": [
    "ax=py.subplot(111)\n",
    "c=['r','g','b']\n",
    "for i in range(len(p)):\n",
    "#     ax.plot(itB[p[i]],ImagM['a127m415L'][p[i]],'o',color=c[i],label=r'$p=%i$'%p[i])\n",
    "#     ax.plot(itS[p[i]][:-2],ImagM['a127m415'][p[i]],'^',color=c[i])\n",
    "    for j in range(len(ZoA)):  \n",
    "#         if j==0: ax.errorbar(itB[p[i]][j],ReM['a127m415L-mean'][p[i]][ZoA[j]],yerr=ReM['a127m415L-std'][p[i]][ZoA[j]],fmt='o',color=c[i],label=r'$p=%i$'%p[i])\n",
    "#         else:\n",
    "#             ax.errorbar(itB[p[i]][j],ReM['a127m415L-mean'][p[i]][ZoA[j]],yerr=ReM['a127m415L-std'][p[i]][ZoA[j]],fmt='o',color=c[i])\n",
    "        ax.errorbar(itS[p[i]][j],ImagM['a127m415-mean'][p[i]][ZoA[j]],yerr=ImagM['a127m415-std'][p[i]][ZoA[j]],fmt='o',color=c[i])\n",
    "# ax.plot(0.8,0.5,'ko')\n",
    "# ax.text(0.9,0.5,r'$L=32$',size=20)\n",
    "# ax.plot(0.8,0.4,'k^')\n",
    "# ax.text(0.9,0.4,r'$L=24$',size=20)\n",
    "ax.set_xlabel(r'$\\nu$',size=20)\n",
    "ax.set_ylabel(r'${\\rm Re} \\mathfrak{M}(\\nu,z^2)$',size=20)\n",
    "ax.legend()\n",
    "ax.tick_params(axis='both',which='both',direction='in',labelsize=20)\n",
    "ax.set_xlim(0,5)\n",
    "# ax.set_ylim(0,1.1)\n",
    "# ax.semilogy()\n",
    "\n",
    "checkdir('lattice_gallery')\n",
    "py.tight_layout()\n",
    "# py.savefig('lattice_gallery/ReM_err.png')"
   ]
  },
  {
   "cell_type": "code",
   "execution_count": null,
   "id": "hungarian-spoke",
   "metadata": {},
   "outputs": [],
   "source": []
  }
 ],
 "metadata": {
  "kernelspec": {
   "display_name": "Python 3",
   "language": "python",
   "name": "python3"
  },
  "language_info": {
   "codemirror_mode": {
    "name": "ipython",
    "version": 3
   },
   "file_extension": ".py",
   "mimetype": "text/x-python",
   "name": "python",
   "nbconvert_exporter": "python",
   "pygments_lexer": "ipython3",
   "version": "3.8.6"
  }
 },
 "nbformat": 4,
 "nbformat_minor": 5
}
