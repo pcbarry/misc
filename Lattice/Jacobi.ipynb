{
 "cells": [
  {
   "cell_type": "code",
   "execution_count": 1,
   "id": "upset-paradise",
   "metadata": {},
   "outputs": [
    {
     "name": "stderr",
     "output_type": "stream",
     "text": [
      "Matplotlib created a temporary config/cache directory at /tmp/matplotlib-eyzoo4mz because the default path (/home/jovyan/.cache/matplotlib) is not a writable directory; it is highly recommended to set the MPLCONFIGDIR environment variable to a writable directory, in particular to speed up the import of Matplotlib and to better support multiprocessing.\n"
     ]
    }
   ],
   "source": [
    "import os,sys\n",
    "import numpy as np\n",
    "\n",
    "import matplotlib\n",
    "import pylab as py"
   ]
  },
  {
   "cell_type": "code",
   "execution_count": 2,
   "id": "athletic-sellers",
   "metadata": {},
   "outputs": [],
   "source": [
    "from scipy.special import binom,factorial,gamma\n",
    "from scipy.integrate import quad"
   ]
  },
  {
   "cell_type": "code",
   "execution_count": 3,
   "id": "cleared-advantage",
   "metadata": {},
   "outputs": [],
   "source": [
    "fitpack_path = '/work/JAM/barryp/JAM/fitpack2/'\n",
    "#os.environ['FITPACK'] = fitpack_path\n",
    "sys.path.insert(0, fitpack_path)"
   ]
  },
  {
   "cell_type": "code",
   "execution_count": 4,
   "id": "spread-radius",
   "metadata": {},
   "outputs": [],
   "source": [
    "os.environ['FITPACK']='/work/JAM/barryp/JAM/fitpack2/'\n",
    "os.environ['LHAPDF_DATA_PATH']='/work/JAM/apps/lhapdf_tables/'\n",
    "os.environ['LHAPDF_DATA_PATH']='/work/JAM/barryp/misc/:'+os.environ['LHAPDF_DATA_PATH']\n",
    "os.environ['LHAPDF_DATA_PATH']='/work/JAM/apps/lhapdf_tables/more/more1:'+os.environ['LHAPDF_DATA_PATH']\n",
    "os.environ[\"PATH\"]='/work/JAM/apps/bin:'+os.environ[\"PATH\"]"
   ]
  },
  {
   "cell_type": "code",
   "execution_count": 5,
   "id": "rapid-taylor",
   "metadata": {},
   "outputs": [],
   "source": [
    "from tools.tools import lprint"
   ]
  },
  {
   "cell_type": "code",
   "execution_count": 6,
   "id": "marked-resistance",
   "metadata": {},
   "outputs": [],
   "source": [
    "def jacobipoly(n,alpha,beta,x):\n",
    "    jacobi=0\n",
    "    for j in range(n+1):\n",
    "        omega=binom(n,j)*(-1)**j/factorial(n)*gamma(alpha+n+1)*gamma(alpha+beta+n+j+1)/gamma(alpha+beta+n+1)/gamma(alpha+j+1)\n",
    "        jacobi+=omega*x**j\n",
    "    return jacobi"
   ]
  },
  {
   "cell_type": "code",
   "execution_count": null,
   "id": "buried-supervisor",
   "metadata": {},
   "outputs": [],
   "source": []
  },
  {
   "cell_type": "code",
   "execution_count": 23,
   "id": "marked-wrestling",
   "metadata": {},
   "outputs": [],
   "source": [
    "alpha=-0.5\n",
    "beta=3\n",
    "NU=np.linspace(0.19,20,30)\n",
    "sig0n=lambda n,nu: quad(lambda x: np.cos(nu*x)*x**alpha*(1-x)**beta*jacobipoly(n,alpha,beta,x),0,1)[0]"
   ]
  },
  {
   "cell_type": "code",
   "execution_count": 24,
   "id": "curious-horse",
   "metadata": {},
   "outputs": [
    {
     "data": {
      "text/plain": [
       "0.913785897631456"
      ]
     },
     "execution_count": 24,
     "metadata": {},
     "output_type": "execute_result"
    }
   ],
   "source": [
    "sig0n(0,NU[0])"
   ]
  },
  {
   "cell_type": "code",
   "execution_count": 25,
   "id": "prescribed-lender",
   "metadata": {},
   "outputs": [
    {
     "name": "stdout",
     "output_type": "stream",
     "text": [
      "progress: 2/10"
     ]
    },
    {
     "name": "stderr",
     "output_type": "stream",
     "text": [
      "<ipython-input-23-eaf0d8de135f>:4: IntegrationWarning: The integral is probably divergent, or slowly convergent.\n",
      "  sig0n=lambda n,nu: quad(lambda x: np.cos(nu*x)*x**alpha*(1-x)**beta*jacobipoly(n,alpha,beta,x),0,1)[0]\n"
     ]
    },
    {
     "name": "stdout",
     "output_type": "stream",
     "text": [
      "progress: 9/10"
     ]
    }
   ],
   "source": [
    "sigs=[]\n",
    "for i in range(10):\n",
    "    lprint('progress: %i/%i'%(i,10))\n",
    "    sigs.append(np.array([sig0n(i,_) for _ in NU]))"
   ]
  },
  {
   "cell_type": "code",
   "execution_count": 27,
   "id": "similar-learning",
   "metadata": {},
   "outputs": [
    {
     "data": {
      "text/plain": [
       "[[<matplotlib.lines.Line2D at 0x7f7ed10fc7f0>],\n",
       " [<matplotlib.lines.Line2D at 0x7f7ed10fc0d0>],\n",
       " [<matplotlib.lines.Line2D at 0x7f7ed1030460>],\n",
       " [<matplotlib.lines.Line2D at 0x7f7f18301280>],\n",
       " [<matplotlib.lines.Line2D at 0x7f7ed10d2310>],\n",
       " [<matplotlib.lines.Line2D at 0x7f7ed10d2400>],\n",
       " [<matplotlib.lines.Line2D at 0x7f7ed10d2a60>],\n",
       " [<matplotlib.lines.Line2D at 0x7f7ed10d2c40>],\n",
       " [<matplotlib.lines.Line2D at 0x7f7ed10e0af0>],\n",
       " [<matplotlib.lines.Line2D at 0x7f7ed10e0340>]]"
      ]
     },
     "execution_count": 27,
     "metadata": {},
     "output_type": "execute_result"
    },
    {
     "data": {
      "image/png": "[encoded data removed]",
      "text/plain": [
       "<Figure size 432x288 with 1 Axes>"
      ]
     },
     "metadata": {
      "needs_background": "light"
     },
     "output_type": "display_data"
    }
   ],
   "source": [
    "ax=py.subplot(111)\n",
    "[ax.plot(NU,_) for _ in sigs]\n",
    "# ax.semilogy()"
   ]
  },
  {
   "cell_type": "code",
   "execution_count": 29,
   "id": "future-today",
   "metadata": {},
   "outputs": [
    {
     "name": "stdout",
     "output_type": "stream",
     "text": [
      "[0.19       0.30692308 0.42384615 0.54076923 0.65769231 0.77461538\n",
      " 0.89153846 1.00846154 1.12538462 1.24230769 1.35923077 1.47615385\n",
      " 1.59307692 1.71       1.82692308 1.94384615 2.06076923 2.17769231\n",
      " 2.29461538 2.41153846 2.52846154 2.64538462 2.76230769 2.87923077\n",
      " 2.99615385 3.11307692 3.23       3.34692308 3.46384615 3.58076923\n",
      " 3.69769231 3.81461538 3.93153846 4.04846154 4.16538462 4.28230769\n",
      " 4.39923077 4.51615385 4.63307692 4.75      ]\n"
     ]
    }
   ],
   "source": [
    "NU=np.linspace(0.19,4.75,40)\n",
    "print(NU)"
   ]
  },
  {
   "cell_type": "code",
   "execution_count": 30,
   "id": "studied-property",
   "metadata": {},
   "outputs": [
    {
     "name": "stderr",
     "output_type": "stream",
     "text": [
      "<ipython-input-23-eaf0d8de135f>:4: IntegrationWarning: The integral is probably divergent, or slowly convergent.\n",
      "  sig0n=lambda n,nu: quad(lambda x: np.cos(nu*x)*x**alpha*(1-x)**beta*jacobipoly(n,alpha,beta,x),0,1)[0]\n"
     ]
    }
   ],
   "source": [
    "storage=np.array([sig0n(1,_) for _ in NU])"
   ]
  },
  {
   "cell_type": "code",
   "execution_count": 33,
   "id": "simplified-cannon",
   "metadata": {},
   "outputs": [
    {
     "name": "stdout",
     "output_type": "stream",
     "text": [
      "[0.00061498 0.00160265 0.00305033 0.00495261 0.00730238 0.01009088\n",
      " 0.01330774 0.01694102 0.02097731 0.02540174 0.03019811 0.03534892\n",
      " 0.04083551 0.04663811 0.05273594 0.05910735 0.06572989 0.0725804\n",
      " 0.07963519 0.08687008 0.09426056 0.10178188 0.10940917 0.11711755\n",
      " 0.12488228 0.13267879 0.14048287 0.14827072 0.15601906 0.16370525\n",
      " 0.17130735 0.17880423 0.18617564 0.19340226 0.2004658  0.20734907\n",
      " 0.21403599 0.22051166 0.22676243 0.23277585]\n"
     ]
    }
   ],
   "source": [
    "print(storage)"
   ]
  },
  {
   "cell_type": "code",
   "execution_count": null,
   "id": "atomic-practice",
   "metadata": {},
   "outputs": [],
   "source": []
  }
 ],
 "metadata": {
  "kernelspec": {
   "display_name": "Python 3",
   "language": "python",
   "name": "python3"
  },
  "language_info": {
   "codemirror_mode": {
    "name": "ipython",
    "version": 3
   },
   "file_extension": ".py",
   "mimetype": "text/x-python",
   "name": "python",
   "nbconvert_exporter": "python",
   "pygments_lexer": "ipython3",
   "version": "3.8.6"
  }
 },
 "nbformat": 4,
 "nbformat_minor": 5
}
