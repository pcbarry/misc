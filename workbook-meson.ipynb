{
 "cells": [
  {
   "cell_type": "code",
   "execution_count": 1,
   "metadata": {},
   "outputs": [],
   "source": [
    "import sys,os\n",
    "import numpy as np\n",
    "import pylab as py\n",
    "import pandas as pd"
   ]
  },
  {
   "cell_type": "code",
   "execution_count": null,
   "metadata": {},
   "outputs": [],
   "source": []
  },
  {
   "cell_type": "markdown",
   "metadata": {},
   "source": [
    "# Get-predictions -- pion"
   ]
  },
  {
   "cell_type": "code",
   "execution_count": 2,
   "metadata": {},
   "outputs": [],
   "source": [
    "from analysis.corelib import core\n",
    "from fitlib.resman import RESMAN\n",
    "\n",
    "from tools.tools import lprint,checkdir\n",
    "from tools.config import load_config,conf\n",
    "\n",
    "import copy"
   ]
  },
  {
   "cell_type": "code",
   "execution_count": 3,
   "metadata": {},
   "outputs": [],
   "source": [
    "replicas=core.get_replicas('../../analysis-pions/FINALcheck/step16b/')\n",
    "istep=16"
   ]
  },
  {
   "cell_type": "code",
   "execution_count": null,
   "metadata": {},
   "outputs": [],
   "source": []
  },
  {
   "cell_type": "code",
   "execution_count": 4,
   "metadata": {
    "scrolled": true
   },
   "outputs": [
    {
     "name": "stdout",
     "output_type": "stream",
     "text": [
      "loading ln data sets 20001\n",
      "loading ln data sets 70001\n",
      "loading ln data sets 1000\n",
      "loading ln data sets 70002\n",
      "Loading DIS tables...\n",
      "1000 has norm uncertainty\n",
      "20001 has norm uncertainty\n",
      "70002 has norm uncertainty\n",
      "70001 has norm uncertainty\n"
     ]
    }
   ],
   "source": [
    "load_config('input.py')\n",
    "core.mod_conf(istep,replicas[0])\n",
    "order=replicas[0]['order'][istep]\n",
    "resman=RESMAN(nworkers=2,parallel=True,datasets=True)"
   ]
  },
  {
   "cell_type": "code",
   "execution_count": 5,
   "metadata": {
    "scrolled": true
   },
   "outputs": [
    {
     "name": "stdout",
     "output_type": "stream",
     "text": [
      "['hsmf', 'dmellin', 'nuc smearing', 'su2+su3', 'ftol', 'pdfB', 'pdfA', 'mellin-kaon', 'ln tabs', 'penalty', 'params', 'ffkaon parametrization', 'flat par', 'aux', 'alphaSmode', 'ppdf parametrization', 'hq', 'ln mode', 'ht', 'pion-stfuncs', 'sidis nuc smearing', 'rparams', 'datasets', 'ppdf', 'dsmf', 'steps', 'ln parametrization', 'pdf-pion parametrization', 'dglap mode', 'eweak', 'idis stfuncs', 'SPLFUNC model', 'ffpion', 'tmc', 'ffpion parametrization', 'alphaS', 'dy_pT_scale', 'check lims', 'mellin', 'pdf', 'path2idistab', 'pdf-pion', 'ffkaon', 'bootstrap', 'order', 'Q20', 'ln', 'pdf parametrization', 'ppdfB', 'ppdfA', 'qpdf on', 'mellin-pion']\n"
     ]
    }
   ],
   "source": [
    "print conf.keys()"
   ]
  },
  {
   "cell_type": "code",
   "execution_count": 5,
   "metadata": {},
   "outputs": [],
   "source": [
    "idx=1000\n",
    "idxJAM=20001 #--JAM tables\n",
    "# idx=70001\n",
    "# idx2=70002"
   ]
  },
  {
   "cell_type": "code",
   "execution_count": 6,
   "metadata": {},
   "outputs": [],
   "source": [
    "parman=resman.parman\n",
    "parman.order=order"
   ]
  },
  {
   "cell_type": "code",
   "execution_count": 7,
   "metadata": {},
   "outputs": [],
   "source": [
    "obsresln=resman.lnres"
   ]
  },
  {
   "cell_type": "code",
   "execution_count": 8,
   "metadata": {},
   "outputs": [
    {
     "name": "stdout",
     "output_type": "stream",
     "text": [
      "['  sys_u', 'col', 'xpi', 'kT2max', 'thy', 'tar', '    xL     ', 'Shift', 'value', 'N', 'Q2', 'residuals', 'norm_c', 'alpha', 'y', 'x', 'r-residuals', 'obs', '   stat_u    ']\n"
     ]
    },
    {
     "ename": "KeyError",
     "evalue": "'xL'",
     "output_type": "error",
     "traceback": [
      "\u001b[0;31m---------------------------------------------------------------------------\u001b[0m",
      "\u001b[0;31mKeyError\u001b[0m                                  Traceback (most recent call last)",
      "\u001b[0;32m<ipython-input-8-50e61bc671ea>\u001b[0m in \u001b[0;36m<module>\u001b[0;34m()\u001b[0m\n\u001b[1;32m      4\u001b[0m \u001b[0my_idx\u001b[0m\u001b[0;34m=\u001b[0m\u001b[0mobsresln\u001b[0m\u001b[0;34m.\u001b[0m\u001b[0mtabs\u001b[0m\u001b[0;34m[\u001b[0m\u001b[0midx\u001b[0m\u001b[0;34m]\u001b[0m\u001b[0;34m[\u001b[0m\u001b[0;34m'y'\u001b[0m\u001b[0;34m]\u001b[0m\u001b[0;34m\u001b[0m\u001b[0m\n\u001b[1;32m      5\u001b[0m \u001b[0mxpi_idx\u001b[0m\u001b[0;34m=\u001b[0m\u001b[0mobsresln\u001b[0m\u001b[0;34m.\u001b[0m\u001b[0mtabs\u001b[0m\u001b[0;34m[\u001b[0m\u001b[0midx\u001b[0m\u001b[0;34m]\u001b[0m\u001b[0;34m[\u001b[0m\u001b[0;34m'xpi'\u001b[0m\u001b[0;34m]\u001b[0m\u001b[0;34m\u001b[0m\u001b[0m\n\u001b[0;32m----> 6\u001b[0;31m \u001b[0mxL_idx\u001b[0m\u001b[0;34m=\u001b[0m\u001b[0mobsresln\u001b[0m\u001b[0;34m.\u001b[0m\u001b[0mtabs\u001b[0m\u001b[0;34m[\u001b[0m\u001b[0midx\u001b[0m\u001b[0;34m]\u001b[0m\u001b[0;34m[\u001b[0m\u001b[0;34m'xL'\u001b[0m\u001b[0;34m]\u001b[0m\u001b[0;34m\u001b[0m\u001b[0m\n\u001b[0m\u001b[1;32m      7\u001b[0m \u001b[0;31m# kT2max_idx=obsresln.tabs[idx]['kT2max']\u001b[0m\u001b[0;34m\u001b[0m\u001b[0;34m\u001b[0m\u001b[0m\n\u001b[1;32m      8\u001b[0m \u001b[0mt_idx\u001b[0m\u001b[0;34m=\u001b[0m\u001b[0mobsresln\u001b[0m\u001b[0;34m.\u001b[0m\u001b[0mtabs\u001b[0m\u001b[0;34m[\u001b[0m\u001b[0midx\u001b[0m\u001b[0;34m]\u001b[0m\u001b[0;34m[\u001b[0m\u001b[0;34m't'\u001b[0m\u001b[0;34m]\u001b[0m\u001b[0;34m\u001b[0m\u001b[0m\n",
      "\u001b[0;31mKeyError\u001b[0m: 'xL'"
     ]
    }
   ],
   "source": [
    "print obsresln.tabs[idx].keys()\n",
    "x_idx=obsresln.tabs[idx]['x']\n",
    "Q2_idx=obsresln.tabs[idx]['Q2']\n",
    "y_idx=obsresln.tabs[idx]['y']\n",
    "xpi_idx=obsresln.tabs[idx]['xpi']\n",
    "xL_idx=obsresln.tabs[idx]['xL']\n",
    "# kT2max_idx=obsresln.tabs[idx]['kT2max']\n",
    "t_idx=obsresln.tabs[idx]['t']\n",
    "# #ye_idx=obsresln.tabs[idx]['ye']"
   ]
  },
  {
   "cell_type": "code",
   "execution_count": 9,
   "metadata": {},
   "outputs": [],
   "source": [
    "# points=[]\n",
    "# for i in range(len(obsresln.tabs[idx]['N'])):\n",
    "#     points.append([x_idx[i],Q2_idx[i],xL_idx[i],t_idx[i]])\n",
    "# points=np.array(points)"
   ]
  },
  {
   "cell_type": "code",
   "execution_count": 10,
   "metadata": {},
   "outputs": [],
   "source": [
    "# np.save('LeadingBaryon/test',points)"
   ]
  },
  {
   "cell_type": "code",
   "execution_count": 11,
   "metadata": {
    "scrolled": false
   },
   "outputs": [
    {
     "name": "stdout",
     "output_type": "stream",
     "text": [
      "58\n"
     ]
    }
   ],
   "source": [
    "print len(xpi_idx)"
   ]
  },
  {
   "cell_type": "code",
   "execution_count": 13,
   "metadata": {},
   "outputs": [
    {
     "ename": "NameError",
     "evalue": "name 'idx2' is not defined",
     "output_type": "error",
     "traceback": [
      "\u001b[0;31m---------------------------------------------------------------------------\u001b[0m",
      "\u001b[0;31mNameError\u001b[0m                                 Traceback (most recent call last)",
      "\u001b[0;32m<ipython-input-13-7b940a0f260e>\u001b[0m in \u001b[0;36m<module>\u001b[0;34m()\u001b[0m\n\u001b[1;32m     19\u001b[0m \u001b[0;31m#ax.set_ylim(1e-4,2e-2)\u001b[0m\u001b[0;34m\u001b[0m\u001b[0;34m\u001b[0m\u001b[0m\n\u001b[1;32m     20\u001b[0m \u001b[0;34m\u001b[0m\u001b[0m\n\u001b[0;32m---> 21\u001b[0;31m \u001b[0munc\u001b[0m\u001b[0;34m=\u001b[0m\u001b[0mobsresln\u001b[0m\u001b[0;34m.\u001b[0m\u001b[0mtabs\u001b[0m\u001b[0;34m[\u001b[0m\u001b[0midx2\u001b[0m\u001b[0;34m]\u001b[0m\u001b[0;34m[\u001b[0m\u001b[0;34m'stat_u'\u001b[0m\u001b[0;34m]\u001b[0m\u001b[0;34m/\u001b[0m\u001b[0mobsresln\u001b[0m\u001b[0;34m.\u001b[0m\u001b[0mtabs\u001b[0m\u001b[0;34m[\u001b[0m\u001b[0midx2\u001b[0m\u001b[0;34m]\u001b[0m\u001b[0;34m[\u001b[0m\u001b[0;34m'value'\u001b[0m\u001b[0;34m]\u001b[0m\u001b[0;34m\u001b[0m\u001b[0m\n\u001b[0m\u001b[1;32m     22\u001b[0m \u001b[0muncsys\u001b[0m\u001b[0;34m=\u001b[0m\u001b[0mobsresln\u001b[0m\u001b[0;34m.\u001b[0m\u001b[0mtabs\u001b[0m\u001b[0;34m[\u001b[0m\u001b[0midx2\u001b[0m\u001b[0;34m]\u001b[0m\u001b[0;34m[\u001b[0m\u001b[0;34m'sys_u'\u001b[0m\u001b[0;34m]\u001b[0m\u001b[0;34m/\u001b[0m\u001b[0mobsresln\u001b[0m\u001b[0;34m.\u001b[0m\u001b[0mtabs\u001b[0m\u001b[0;34m[\u001b[0m\u001b[0midx2\u001b[0m\u001b[0;34m]\u001b[0m\u001b[0;34m[\u001b[0m\u001b[0;34m'value'\u001b[0m\u001b[0;34m]\u001b[0m\u001b[0;34m\u001b[0m\u001b[0m\n\u001b[1;32m     23\u001b[0m \u001b[0mxpi_idx\u001b[0m\u001b[0;34m=\u001b[0m\u001b[0mobsresln\u001b[0m\u001b[0;34m.\u001b[0m\u001b[0mtabs\u001b[0m\u001b[0;34m[\u001b[0m\u001b[0midx2\u001b[0m\u001b[0;34m]\u001b[0m\u001b[0;34m[\u001b[0m\u001b[0;34m'x'\u001b[0m\u001b[0;34m]\u001b[0m\u001b[0;34m/\u001b[0m\u001b[0;34m(\u001b[0m\u001b[0;36m1\u001b[0m\u001b[0;34m-\u001b[0m\u001b[0mobsresln\u001b[0m\u001b[0;34m.\u001b[0m\u001b[0mtabs\u001b[0m\u001b[0;34m[\u001b[0m\u001b[0midx2\u001b[0m\u001b[0;34m]\u001b[0m\u001b[0;34m[\u001b[0m\u001b[0;34m'xL'\u001b[0m\u001b[0;34m]\u001b[0m\u001b[0;34m)\u001b[0m\u001b[0;34m\u001b[0m\u001b[0m\n",
      "\u001b[0;31mNameError\u001b[0m: name 'idx2' is not defined"
     ]
    },
    {
     "data": {
      "image/png": "[encoded data removed]",
      "text/plain": [
       "<Figure size 576x288 with 1 Axes>"
      ]
     },
     "metadata": {
      "needs_background": "light"
     },
     "output_type": "display_data"
    }
   ],
   "source": [
    "nrows,ncols=1,2\n",
    "py.figure(figsize=(4*ncols,4*nrows))\n",
    "\n",
    "#unc=obsresln.tabs[idx]['stat_u']/obsresln.tabs[idx]['value']\n",
    "unc=obsresln.tabs[idx]['   stat_u    ']/obsresln.tabs[idx]['value']\n",
    "uncsys=obsresln.tabs[idx]['  sys_u']/obsresln.tabs[idx]['value']\n",
    "xpi_idx=obsresln.tabs[idx]['xpi']\n",
    "\n",
    "ax=py.subplot(nrows,ncols,1)\n",
    "ax.plot(xpi_idx,unc,'*',color='blue',label=r'$\\rm stat$')\n",
    "ax.plot(xpi_idx,uncsys,'*',color='orange',label=r'$\\rm systematic$')\n",
    "ax.plot(xpi_idx,(unc**2+uncsys**2)**0.5,'*',color='red',label=r'$\\rm total$')\n",
    "ax.set_xlabel(r'$x_\\pi$',size=30)\n",
    "ax.set_ylabel(r'$\\delta$',size=30)\n",
    "ax.set_title('Tables Given',size=20)\n",
    "ax.legend()\n",
    "ax.semilogx()\n",
    "ax.semilogy()\n",
    "#ax.set_ylim(1e-4,2e-2)\n",
    "\n",
    "unc=obsresln.tabs[idx2]['stat_u']/obsresln.tabs[idx2]['value']\n",
    "uncsys=obsresln.tabs[idx2]['sys_u']/obsresln.tabs[idx2]['value']\n",
    "xpi_idx=obsresln.tabs[idx2]['x']/(1-obsresln.tabs[idx2]['xL'])\n",
    "\n",
    "ax=py.subplot(nrows,ncols,2)\n",
    "ax.plot(xpi_idx,unc,'*',color='blue',label=r'$\\rm stat$')\n",
    "ax.plot(xpi_idx,uncsys,'*',color='orange',label=r'$\\rm systematic$')\n",
    "ax.plot(xpi_idx,(unc**2+uncsys**2)**0.5,'*',color='red',label=r'$\\rm total$')\n",
    "ax.set_xlabel(r'$x_\\pi$',size=30)\n",
    "ax.set_ylabel(r'$\\delta$',size=30)\n",
    "ax.set_title('JAM',size=20)\n",
    "#ax.plot()\n",
    "#ax.legend()\n",
    "ax.semilogx()\n",
    "ax.semilogy()\n",
    "#ax.set_ylim(1e-4,2e-2)\n",
    "\n",
    "\n",
    "\n",
    "py.tight_layout()\n",
    "#py.savefig('gallery/EIC_uncertainties_comparison.png')"
   ]
  },
  {
   "cell_type": "code",
   "execution_count": 36,
   "metadata": {},
   "outputs": [
    {
     "data": {
      "text/plain": [
       "(1, 1000.0)"
      ]
     },
     "execution_count": 36,
     "metadata": {},
     "output_type": "execute_result"
    },
    {
     "data": {
      "image/png": "[encoded data removed]",
      "text/plain": [
       "<Figure size 576x288 with 2 Axes>"
      ]
     },
     "metadata": {
      "needs_background": "light"
     },
     "output_type": "display_data"
    }
   ],
   "source": [
    "nrows,ncols=1,2\n",
    "py.figure(figsize=(4*ncols,4*nrows))\n",
    "\n",
    "unc=obsresln.tabs[idx]['stat_u']/obsresln.tabs[idx]['value']\n",
    "uncsys=obsresln.tabs[idx]['sys_u']/obsresln.tabs[idx]['value']\n",
    "xpi_idx=obsresln.tabs[idx]['xpi']\n",
    "Q2_idx=obsresln.tabs[idx]['Q2']\n",
    "x_idx=obsresln.tabs[idx]['x']\n",
    "\n",
    "Q2=5400.*np.linspace(min(x_idx),max(x_idx),100)\n",
    "\n",
    "ax=py.subplot(nrows,ncols,1)\n",
    "#ax.plot(xpi_idx,Q2_idx,'o',color='blue')\n",
    "ax.plot(x_idx,Q2_idx,'o',color='blue')\n",
    "ax.plot(np.linspace(min(x_idx),max(x_idx),100),Q2,'o',color='g')\n",
    "ax.set_xlabel(r'$x$',size=30)\n",
    "ax.set_ylabel(r'$Q^2$',size=30)\n",
    "ax.set_title('Tables Given',size=20)\n",
    "#ax.legend()\n",
    "ax.semilogx()\n",
    "ax.semilogy()\n",
    "ax.set_ylim(1e-1,1e3)\n",
    "\n",
    "unc=obsresln.tabs[idx2]['stat_u']/obsresln.tabs[idx2]['value']\n",
    "uncsys=obsresln.tabs[idx2]['sys_u']/obsresln.tabs[idx2]['value']\n",
    "xpi_idx=obsresln.tabs[idx2]['x']/(1-obsresln.tabs[idx2]['xL'])\n",
    "Q2_idx=obsresln.tabs[idx2]['Q2']\n",
    "x_idx=obsresln.tabs[idx2]['x']\n",
    "Q2=5400.*np.linspace(min(x_idx),max(x_idx),100)\n",
    "\n",
    "ax=py.subplot(nrows,ncols,2)\n",
    "ax.plot(x_idx,Q2_idx,'o',color='blue')\n",
    "ax.plot(np.linspace(min(x_idx),max(x_idx),100),Q2,'go')\n",
    "ax.set_xlabel(r'$x_\\pi$',size=30)\n",
    "ax.set_ylabel(r'$Q^2$',size=30)\n",
    "ax.set_title('JAM',size=20)\n",
    "#ax.plot()\n",
    "#ax.legend()\n",
    "ax.semilogx()\n",
    "ax.semilogy()\n",
    "ax.set_ylim(1,1e3)\n",
    "\n",
    "\n",
    "\n",
    "# py.tight_layout()\n",
    "# #py.savefig('gallery/EIC_x_Q2.png')"
   ]
  },
  {
   "cell_type": "code",
   "execution_count": 15,
   "metadata": {},
   "outputs": [
    {
     "name": "stdout",
     "output_type": "stream",
     "text": [
      "progress: 785/786"
     ]
    }
   ],
   "source": [
    "pred={}\n",
    "pred[idx]=[]\n",
    "pred[idx2]=[]\n",
    "pred[idxJAM]=[]\n",
    "for i in range(len(replicas)):\n",
    "    lprint('progress: %d/%d'%(i,len(replicas)))\n",
    "    rep=replicas[i]\n",
    "    parman.par=copy.copy(rep['params'][istep])\n",
    "    parman.order=copy.copy(rep['order'][istep])\n",
    "    par,order=[],[]\n",
    "    for j in range(len(parman.order)):\n",
    "        if parman.order[j][0]==2: continue\n",
    "        else: \n",
    "            par.append(parman.par[j])\n",
    "            order.append(parman.order[j])\n",
    "    parman.par=par\n",
    "    parman.order=order\n",
    "    res,rres,nres=resman.get_residuals(parman.par)\n",
    "    pred[idx].append(obsresln.tabs[idx]['prediction'])\n",
    "    pred[idx2].append(obsresln.tabs[idx2]['prediction'])\n",
    "    pred[idxJAM].append(obsresln.tabs[idxJAM]['prediction'])"
   ]
  },
  {
   "cell_type": "code",
   "execution_count": 16,
   "metadata": {},
   "outputs": [],
   "source": [
    "#units=0.389379372e12 #--for fm"
   ]
  },
  {
   "cell_type": "code",
   "execution_count": 17,
   "metadata": {},
   "outputs": [],
   "source": [
    "meanpred={}\n",
    "stdpred={}\n",
    "for k in pred:\n",
    "    meanpred[k]=np.mean(pred[k],axis=0)#*units\n",
    "    stdpred[k]=np.std(pred[k],axis=0)#*units"
   ]
  },
  {
   "cell_type": "code",
   "execution_count": 18,
   "metadata": {},
   "outputs": [
    {
     "name": "stdout",
     "output_type": "stream",
     "text": [
      "{70001: array([8.56973924e+08, 2.30533588e+09, 7.56181678e+08, 2.67518683e+07,\n",
      "       7.76051089e+06, 1.09977671e+07, 2.71607472e+07, 1.44087656e+07,\n",
      "       2.47294815e+06, 4.08231750e+07, 3.64329484e+06, 6.44032340e+03,\n",
      "       2.87492574e+04, 1.39825298e+05, 8.56592548e+05, 1.94542221e+03,\n",
      "       9.36157029e+04, 7.96188081e+04, 1.32930989e+05, 2.01026812e+04,\n",
      "       2.45274781e+05, 5.69811884e+04, 8.66799447e+03, 2.64264678e+04,\n",
      "       2.58076479e+04, 2.39063051e+02, 6.54130064e+01, 1.81269162e+03]), 70002: array([5.04136868e+09, 3.57787458e+09, 3.84247817e+09, 2.45064257e+09,\n",
      "       4.34944025e+08, 1.33972251e+09, 1.84466677e+09, 1.81400621e+09,\n",
      "       1.98804459e+08, 1.98484242e+09, 1.45616849e+09, 3.62339942e+08,\n",
      "       8.43661055e+08, 1.11122389e+09, 1.19414160e+09, 4.99514269e+08,\n",
      "       5.61783492e+08, 2.78396967e+08, 5.71300558e+08, 3.74653550e+08,\n",
      "       2.24823326e+07, 9.41896510e+07, 1.49767103e+08, 3.00109549e+08,\n",
      "       1.57479734e+08, 4.81924356e+07, 2.20977415e+08, 2.79491617e+08,\n",
      "       3.32219339e+08, 1.27452686e+08, 2.13019045e+08, 3.03418177e+07,\n",
      "       3.83723907e+07, 3.39190966e+07, 1.74425066e+07, 9.66931606e+06,\n",
      "       5.50751875e+06, 5.41652028e+06, 6.36060058e+06, 5.11499595e+06,\n",
      "       4.61451489e+06, 1.68552418e+06]), 20001: array([6.34112990e+08, 2.86838474e+09, 5.12546685e+08, 2.32729591e+09,\n",
      "       2.29684435e+08, 1.32374731e+09, 4.00818899e+08, 1.79397765e+09,\n",
      "       1.70986924e+08, 9.65033409e+08, 6.82665305e+07, 4.15386015e+08,\n",
      "       3.06951291e+08, 1.31932944e+09, 1.26130400e+08, 6.71882986e+08,\n",
      "       5.06251042e+07, 2.93600546e+08, 1.87712164e+07, 1.16278017e+08,\n",
      "       2.32565206e+08, 9.48766235e+08, 9.26942695e+07, 4.52653044e+08,\n",
      "       3.71241914e+07, 2.00616064e+08, 1.38957590e+07, 8.11606474e+07,\n",
      "       4.89833259e+06, 3.04517957e+07, 1.70578819e+08, 6.83330935e+08,\n",
      "       6.66405318e+07, 3.04720847e+08, 2.63052173e+07, 1.34359230e+08,\n",
      "       9.94570480e+06, 5.52523445e+07, 3.56803933e+06, 2.11900513e+07,\n",
      "       1.21003576e+06, 7.59270475e+06, 1.16395988e+08, 4.98315019e+08,\n",
      "       4.49565571e+07, 2.09829016e+08, 1.74822303e+07, 9.02619227e+07,\n",
      "       6.63790092e+06, 3.70150430e+07, 2.43653123e+06, 1.44465472e+07,\n",
      "       8.48896180e+05, 5.29504408e+06, 2.81014470e+05, 1.82615257e+06,\n",
      "       7.22398788e+07, 3.60893899e+08, 2.77577934e+07, 1.45978126e+08,\n",
      "       1.06961681e+07, 6.06229942e+07, 4.07144612e+06, 2.44726455e+07,\n",
      "       1.51910330e+06, 9.58062659e+06, 5.46387260e+05, 3.58911922e+06,\n",
      "       1.87196446e+05, 1.27071290e+06, 6.15812266e+04, 4.32091150e+05,\n",
      "       4.27145417e+07, 2.48896772e+08, 1.62557064e+07, 9.82113290e+07,\n",
      "       6.18860108e+06, 3.94841654e+07, 2.34218651e+06, 1.56562829e+07,\n",
      "       8.76618573e+05, 6.10463967e+06, 3.20204551e+05, 2.31359347e+06,\n",
      "       1.13138540e+05, 8.43592664e+05, 3.83800280e+04, 2.95435039e+05,\n",
      "       1.24775794e+04, 9.89196045e+04, 2.42654677e+07, 1.57812355e+08,\n",
      "       8.68081599e+06, 6.14172088e+07, 3.13012726e+06, 2.41606522e+07,\n",
      "       1.13268408e+06, 9.45574962e+06, 4.09422918e+05, 3.67052915e+06,\n",
      "       1.46130966e+05, 1.39913851e+06, 5.12734998e+04, 5.20431278e+05,\n",
      "       1.75472738e+04, 1.88381453e+05, 5.76932444e+03, 6.52840269e+04,\n",
      "       1.82040654e+03, 2.16465116e+04])}\n",
      "\n",
      "{70001: array([1.28063315e+08, 1.31205093e+08, 5.99788637e+07, 3.41894807e+06,\n",
      "       7.19181769e+05, 1.60408037e+06, 1.36867401e+06, 1.12160968e+06,\n",
      "       5.08671311e+05, 1.64174517e+06, 1.56390684e+05, 9.70903074e+02,\n",
      "       5.70039462e+03, 1.08835465e+04, 3.26285617e+04, 6.54390110e+02,\n",
      "       1.12114240e+04, 8.24497606e+03, 8.87839972e+03, 2.36616393e+03,\n",
      "       1.27008568e+04, 4.48356184e+03, 1.44622368e+03, 2.50625296e+03,\n",
      "       1.33210891e+03, 3.66225347e+01, 9.49553878e+00, 1.64900126e+02]), 70002: array([6.80664870e+08, 4.47259249e+08, 5.30425207e+08, 3.00233368e+08,\n",
      "       3.14082569e+07, 1.10387261e+08, 1.75301317e+08, 1.72983900e+08,\n",
      "       1.16885065e+07, 1.27874077e+08, 9.52431357e+07, 2.30458819e+07,\n",
      "       7.62937052e+07, 6.13761021e+07, 7.22539580e+07, 3.60902406e+07,\n",
      "       4.78498154e+07, 1.97423403e+07, 3.51761398e+07, 2.50493631e+07,\n",
      "       2.10298505e+06, 5.27585847e+06, 7.52381974e+06, 1.32256902e+07,\n",
      "       7.93619206e+06, 2.00419131e+06, 1.43697972e+07, 2.03436840e+07,\n",
      "       1.51078991e+07, 5.02717203e+06, 1.24973965e+07, 1.05819902e+06,\n",
      "       1.93412520e+06, 1.89977709e+06, 6.88532548e+05, 4.15017396e+05,\n",
      "       2.21864971e+05, 2.22933229e+05, 2.38076245e+05, 1.85355923e+05,\n",
      "       1.89909886e+05, 6.38930542e+04]), 20001: array([1.52151547e+08, 8.99134340e+08, 1.07095891e+08, 6.19648022e+08,\n",
      "       3.63067104e+07, 1.53792649e+08, 6.97856119e+07, 4.10785552e+08,\n",
      "       2.59029932e+07, 1.11614743e+08, 8.79931948e+06, 3.35013548e+07,\n",
      "       3.98004878e+07, 2.62199010e+08, 1.59802584e+07, 7.97308369e+07,\n",
      "       5.78622422e+06, 2.44612021e+07, 2.15087151e+06, 8.09772702e+06,\n",
      "       2.24171483e+07, 1.60327916e+08, 9.16152195e+06, 5.41159931e+07,\n",
      "       3.70050359e+06, 1.69154751e+07, 1.47084119e+06, 5.69503684e+06,\n",
      "       5.53710887e+05, 2.03391812e+06, 1.72744438e+07, 9.00424421e+07,\n",
      "       6.72774749e+06, 3.23334458e+07, 2.74311259e+06, 1.03196103e+07,\n",
      "       1.09248444e+06, 3.64188861e+06, 4.13026475e+05, 1.36207184e+06,\n",
      "       1.46874650e+05, 5.05996530e+05, 1.34877630e+07, 4.81989789e+07,\n",
      "       5.19810690e+06, 1.71540734e+07, 2.06707284e+06, 5.79575111e+06,\n",
      "       8.11126342e+05, 2.19070956e+06, 3.07879448e+05, 8.69585851e+05,\n",
      "       1.10622295e+05, 3.37021609e+05, 3.74967133e+04, 1.24403618e+05,\n",
      "       9.32198271e+06, 3.27108254e+07, 3.63714174e+06, 1.15105294e+07,\n",
      "       1.44866409e+06, 4.10202398e+06, 5.67400127e+05, 1.55798902e+06,\n",
      "       2.16731824e+05, 6.09336684e+05, 7.94615515e+04, 2.35129551e+05,\n",
      "       2.75884976e+04, 8.65245697e+04, 9.19989006e+03, 3.08543756e+04,\n",
      "       6.50483989e+06, 2.32584731e+07, 2.48430095e+06, 8.38983022e+06,\n",
      "       9.57941194e+05, 3.00864995e+06, 3.65707660e+05, 1.12965400e+06,\n",
      "       1.37702712e+05, 4.34141564e+05, 5.05156328e+04, 1.65933025e+05,\n",
      "       1.78906416e+04, 6.15321714e+04, 6.08443900e+03, 2.21081841e+04,\n",
      "       1.98179896e+03, 7.60511943e+03, 3.80070694e+06, 1.28181528e+07,\n",
      "       1.35691726e+06, 4.83287115e+06, 4.89188655e+05, 1.84644540e+06,\n",
      "       1.76974080e+05, 7.25522781e+05, 6.39516820e+04, 2.86669995e+05,\n",
      "       2.28194257e+04, 1.11708430e+05, 8.00429162e+03, 4.23486191e+04,\n",
      "       2.73876964e+03, 1.56615679e+04, 9.00312801e+02, 5.53372624e+03,\n",
      "       2.84031685e+02, 1.86656375e+03])}\n"
     ]
    }
   ],
   "source": [
    "print meanpred\n",
    "print ''\n",
    "print stdpred"
   ]
  },
  {
   "cell_type": "code",
   "execution_count": 19,
   "metadata": {
    "scrolled": true
   },
   "outputs": [
    {
     "name": "stdout",
     "output_type": "stream",
     "text": [
      "[0.14943665 0.05691366 0.07931806 0.12780222 0.09267196 0.1458551\n",
      " 0.05039162 0.07784218 0.20569429 0.04021601 0.04292562 0.15075378\n",
      " 0.19827972 0.07783675 0.03809111 0.33637434 0.11976008 0.10355563\n",
      " 0.06678954 0.1177039  0.05178216 0.07868495 0.1668464  0.09483874\n",
      " 0.05161683 0.15319195 0.14516286 0.09096976]\n",
      "[0.13501589 0.12500697 0.13804248 0.1225121  0.07221218 0.08239562\n",
      " 0.09503143 0.09536015 0.05879399 0.0644253  0.06540667 0.06360293\n",
      " 0.0904317  0.05523289 0.06050703 0.07225067 0.08517483 0.07091435\n",
      " 0.06157204 0.06686007 0.09353945 0.05601314 0.0502368  0.04406954\n",
      " 0.05039501 0.04158726 0.06502835 0.07278817 0.04547568 0.03944344\n",
      " 0.05866798 0.03487593 0.05040408 0.05600907 0.0394744  0.04292107\n",
      " 0.04028402 0.04115802 0.03742984 0.03623775 0.0411549  0.03790693]\n",
      "[0.2399439  0.31346365 0.20894856 0.26625236 0.15807214 0.11617976\n",
      " 0.17410759 0.22898031 0.15149108 0.11565894 0.12889654 0.08065114\n",
      " 0.12966386 0.19873657 0.12669633 0.11866774 0.11429555 0.08331457\n",
      " 0.11458349 0.06964108 0.09639081 0.16898569 0.0988359  0.11955292\n",
      " 0.09967904 0.08431765 0.10584821 0.07016993 0.11304069 0.0667914\n",
      " 0.10126957 0.13176989 0.10095579 0.10610841 0.10428017 0.07680611\n",
      " 0.10984485 0.06591374 0.11575727 0.06427884 0.12138042 0.06664246\n",
      " 0.11587825 0.09672391 0.11562511 0.08175263 0.11823851 0.06421037\n",
      " 0.12219621 0.0591843  0.12635974 0.06019333 0.1303131  0.0636485\n",
      " 0.13343339 0.06812334 0.12904206 0.09063834 0.13103137 0.07885106\n",
      " 0.13543767 0.06766449 0.13936083 0.06366247 0.14267089 0.06360092\n",
      " 0.14543083 0.06551177 0.14737725 0.06809136 0.14939439 0.0714071\n",
      " 0.15228631 0.09344626 0.15282639 0.0854263  0.15479123 0.0761989\n",
      " 0.15613943 0.0721534  0.15708395 0.07111666 0.15776051 0.07172091\n",
      " 0.15813039 0.07294062 0.15853139 0.07483264 0.1588288  0.07688182\n",
      " 0.15663028 0.08122401 0.15631218 0.0786892  0.15628395 0.07642366\n",
      " 0.15624311 0.07672821 0.15619957 0.07810045 0.15615736 0.07984087\n",
      " 0.15610972 0.08137216 0.1560795  0.08313753 0.15605169 0.08476386\n",
      " 0.15602651 0.08622931]\n"
     ]
    }
   ],
   "source": [
    "for k in meanpred:\n",
    "    print stdpred[k]/meanpred[k]"
   ]
  },
  {
   "cell_type": "code",
   "execution_count": 20,
   "metadata": {},
   "outputs": [],
   "source": [
    "xsec=meanpred\n",
    "dxsec=stdpred"
   ]
  },
  {
   "cell_type": "code",
   "execution_count": 21,
   "metadata": {},
   "outputs": [],
   "source": [
    "resman.shutdown()"
   ]
  },
  {
   "cell_type": "code",
   "execution_count": 22,
   "metadata": {},
   "outputs": [],
   "source": [
    "# print obsresln.tabs[idx]['Yield']"
   ]
  },
  {
   "cell_type": "code",
   "execution_count": 23,
   "metadata": {},
   "outputs": [],
   "source": [
    "# c={}\n",
    "# c['value']=np.load('data/checker.npy')"
   ]
  },
  {
   "cell_type": "code",
   "execution_count": 24,
   "metadata": {},
   "outputs": [],
   "source": [
    "d={}\n",
    "for k in meanpred:\n",
    "    if k==20001: continue\n",
    "    d[k]={}\n",
    "    d[k]['value']=xsec[k]"
   ]
  },
  {
   "cell_type": "code",
   "execution_count": 25,
   "metadata": {},
   "outputs": [],
   "source": [
    "# print(c['value'])\n",
    "# print(d['value'])\n",
    "# print d['value']/c['value']"
   ]
  },
  {
   "cell_type": "code",
   "execution_count": 60,
   "metadata": {
    "scrolled": true
   },
   "outputs": [],
   "source": [
    "# for k in d:\n",
    "#     d[k]['counts']=[]\n",
    "#     d[k]['dcounts_stat']=[]\n",
    "#     d[k]['dcounts_sys']=[]\n",
    "#     d[k]['stat_u']=[]\n",
    "#     d[k]['sys_u']=[]\n",
    "#     d[k]['x']=[]\n",
    "#     d[k]['Q2']=[]\n",
    "#     for i in range(len(obsresln.tabs[k]['Q2'])):\n",
    "#         if obsresln.tabs[k]['Q2'][i]<10: dQ2=1.\n",
    "#         elif 10<obsresln.tabs[k]['Q2'][i]<100: dQ2=10.\n",
    "#         else: dQ2=100.\n",
    "#         if k==70001: delV=1e-3*dQ2\n",
    "#         elif k==70002: delV=1e-5*dQ2\n",
    "\n",
    "#         d[k]['counts'].append(d[k]['value'][i]*100*delV*obsresln.tabs[k]['events per bin'][i])\n",
    "#         d[k]['dcounts_stat'].append(np.sqrt(d[k]['counts'][i]))\n",
    "#         d[k]['dcounts_sys'].append(0.012*d[k]['counts'][i])\n",
    "#         #d['stat_u'].append((xsec[i]/100./delV)**0.5)\n",
    "#         #d[k]['stat_u'].append((d[k]['value'][i]/100./delV/obsresln.tabs[k]['events per bin'][i])**0.5)\n",
    "#         d[k]['stat_u'].append(d[k]['value'][i]*d[k]['dcounts_stat'][i]/d[k]['counts'][i])\n",
    "#         d[k]['sys_u'].append(d[k]['value'][i]*0.012)\n",
    "#         d[k]['x'].append(obsresln.tabs[k]['x'][i])\n",
    "#         d[k]['Q2'].append(obsresln.tabs[k]['Q2'][i])\n",
    "#     for kk in d[k]:\n",
    "#         d[k][kk]=np.array(d[k][kk])"
   ]
  },
  {
   "cell_type": "code",
   "execution_count": 26,
   "metadata": {
    "scrolled": true
   },
   "outputs": [],
   "source": [
    "for k in d:\n",
    "    d[k]['counts']=[]\n",
    "    d[k]['dcounts_stat']=[]\n",
    "    d[k]['dcounts_sys']=[]\n",
    "    d[k]['stat_u']=[]\n",
    "    d[k]['sys_u']=[]\n",
    "    d[k]['x']=[]\n",
    "    d[k]['Q2']=[]\n",
    "    for i in range(len(obsresln.tabs[k]['Q2'])):\n",
    "        if obsresln.tabs[k]['Q2'][i]<10: dQ2=1.\n",
    "        elif 10<obsresln.tabs[k]['Q2'][i]<100: dQ2=10.\n",
    "        else: dQ2=100.\n",
    "        if k==70001: delV=1e-3*dQ2\n",
    "        elif k==70002: delV=1e-5*dQ2\n",
    "\n",
    "        d[k]['counts'].append(d[k]['value'][i]*100*delV*(6.0/15.0))\n",
    "        d[k]['dcounts_stat'].append(np.sqrt(d[k]['counts'][i]))\n",
    "        d[k]['dcounts_sys'].append(0.012*d[k]['counts'][i])\n",
    "        #d['stat_u'].append((xsec[i]/100./delV)**0.5)\n",
    "        #d[k]['stat_u'].append((d[k]['value'][i]/100./delV/obsresln.tabs[k]['events per bin'][i])**0.5)\n",
    "        d[k]['stat_u'].append((d[k]['value'][i]*(15.0/6.0)/100/delV)**0.5)\n",
    "        d[k]['sys_u'].append(d[k]['value'][i]*0.012)\n",
    "        d[k]['x'].append(obsresln.tabs[k]['x'][i])\n",
    "        d[k]['Q2'].append(obsresln.tabs[k]['Q2'][i])\n",
    "    for kk in d[k]:\n",
    "        d[k][kk]=np.array(d[k][kk])"
   ]
  },
  {
   "cell_type": "code",
   "execution_count": 29,
   "metadata": {
    "scrolled": true
   },
   "outputs": [],
   "source": [
    "dd={}\n",
    "for k in d:\n",
    "    dd[k]={}\n",
    "    dd[k]['value']=d[k]['value']\n",
    "    dd[k]['counts']=[]\n",
    "    dd[k]['dcounts_stat']=[]\n",
    "    dd[k]['dcounts_sys']=[]\n",
    "    dd[k]['stat_u']=[]\n",
    "    dd[k]['sys_u']=[]\n",
    "    dd[k]['x']=[]\n",
    "    dd[k]['Q2']=[]\n",
    "    for i in range(len(obsresln.tabs[k]['Q2'])):\n",
    "        if obsresln.tabs[k]['Q2'][i]<10: dQ2=1.\n",
    "        elif 10<obsresln.tabs[k]['Q2'][i]<100: dQ2=10.\n",
    "        else: dQ2=100.\n",
    "        if k==70001: delV=1e-3*dQ2\n",
    "        elif k==70002: delV=1e-5*dQ2\n",
    "\n",
    "        dd[k]['counts'].append(dd[k]['value'][i]*100*delV)\n",
    "        dd[k]['dcounts_stat'].append(np.sqrt(dd[k]['counts'][i]))\n",
    "        dd[k]['dcounts_sys'].append(0.012*dd[k]['counts'][i])\n",
    "        #d['stat_u'].append((xsec[i]/100./delV)**0.5)\n",
    "        dd[k]['stat_u'].append((dd[k]['value'][i]/100./delV)**0.5)\n",
    "        dd[k]['sys_u'].append(dd[k]['value'][i]*0.012)\n",
    "        dd[k]['x'].append(obsresln.tabs[k]['x'][i])\n",
    "        dd[k]['Q2'].append(obsresln.tabs[k]['Q2'][i])\n",
    "    for kk in dd[k]:\n",
    "        dd[k][kk]=np.array(dd[k][kk])"
   ]
  },
  {
   "cell_type": "code",
   "execution_count": 28,
   "metadata": {
    "scrolled": true
   },
   "outputs": [],
   "source": [
    "# c['counts']=[]\n",
    "# c['dcounts_stat']=[]\n",
    "# c['dcounts_sys']=[]\n",
    "# c['stat_u']=[]\n",
    "# c['sys_u']=[]\n",
    "# for i in range(len(obsresln.tabs[idx]['Q2'])):\n",
    "#     if obsresln.tabs[idx]['Q2'][i]<10: dQ2=1.\n",
    "#     elif 10<obsresln.tabs[idx]['Q2'][i]<100: dQ2=10\n",
    "#     else: dQ2=100\n",
    "#     delV=1e-3*dQ2\n",
    "#     #delV=1e-1*dQ2\n",
    "#     c['counts'].append(c['value'][i]*delV)\n",
    "#     c['dcounts_stat'].append(np.sqrt(c['counts'][i]))\n",
    "#     c['dcounts_sys'].append(0.012*c['counts'][i])\n",
    "#     c['stat_u'].append((c['value'][i]/100./delV)**0.5)\n",
    "#     c['sys_u'].append(c['value'][i]*0.012)\n",
    "# for k in c:\n",
    "#     c[k]=np.array(c[k])"
   ]
  },
  {
   "cell_type": "code",
   "execution_count": 29,
   "metadata": {
    "scrolled": true
   },
   "outputs": [],
   "source": [
    "# r={}\n",
    "# r['counts']=[]\n",
    "# r['value']=[]\n",
    "# r['dcounts_stat']=[]\n",
    "# r['dcounts_sys']=[]\n",
    "# r['stat_u']=[]\n",
    "# r['sys_u']=[]\n",
    "# for i in range(len(obsresln.tabs[idx]['Q2'])):\n",
    "#     if obsresln.tabs[idx]['Q2'][i]<10: dQ2=1.\n",
    "#     elif 10<obsresln.tabs[idx]['Q2'][i]<100: dQ2=10.\n",
    "#     else: dQ2=100.\n",
    "#     #dQ2=1\n",
    "#     delV=1e-3*dQ2\n",
    "#     #delV=1e-1*dQ2\n",
    "   \n",
    "#     #r['counts'].append(obsresln.tabs[idx]['Yield'][i]*d['value'][i]/c['value'][i])\n",
    "#     r['counts'].append(obsresln.tabs[idx]['Num'][i])\n",
    "#     r['value'].append(r['counts'][i]/100./delV)\n",
    "#     r['dcounts_stat'].append(np.sqrt(r['counts'][i]))\n",
    "#     r['dcounts_sys'].append(0.012*r['counts'][i])\n",
    "#     r['stat_u'].append((r['value'][i]/100./delV)**0.5)\n",
    "#     r['sys_u'].append(r['value'][i]*0.012)\n",
    "# for k in r:\n",
    "#     r[k]=np.array(r[k])"
   ]
  },
  {
   "cell_type": "code",
   "execution_count": 30,
   "metadata": {},
   "outputs": [
    {
     "data": {
      "image/png": "[encoded data removed]",
      "text/plain": [
       "<Figure size 576x288 with 2 Axes>"
      ]
     },
     "metadata": {
      "needs_background": "light"
     },
     "output_type": "display_data"
    }
   ],
   "source": [
    "nrows,ncols=1,2\n",
    "py.figure(figsize=(4*ncols,4*nrows))\n",
    "\n",
    "for k in d:\n",
    "    ax=py.subplot(nrows,ncols,1)\n",
    "    ax.plot(obsresln.tabs[k]['xpi'],d[k]['stat_u']/d[k]['value'],'b*',label='stat_u')\n",
    "    ax.plot(obsresln.tabs[k]['xpi'],d[k]['sys_u']/d[k]['value'],'r*',label='sys_u')\n",
    "    ax.plot(obsresln.tabs[k]['xpi'],(d[k]['stat_u']**2+d[k]['sys_u']**2)**0.5/d[k]['value'],'g*',label='total')\n",
    "    ax.set_title('relative uncertainties using events per bin')\n",
    "    ax.set_ylabel(r'$\\delta \\langle d\\sigma\\rangle /\\langle d\\sigma \\rangle$',size=25)\n",
    "    ax.set_xlabel(r'$x_\\pi$',size=25)\n",
    "    ax.semilogx()\n",
    "    ax.semilogy()\n",
    "    ax.set_xlim(4e-3,1)\n",
    "    ax.set_ylim(5e-6,5e-2)\n",
    "    if k==70001: ax.legend()\n",
    "\n",
    "    # ax=py.subplot(nrows,ncols,2)\n",
    "    # ax.plot(obsresln.tabs[idx]['xpi'],obsresln.tabs[idx]['Yield']**(-0.5),'*',label='stat_u')\n",
    "    # ax.plot(obsresln.tabs[idx]['xpi'],0.012*np.ones(len(obsresln.tabs[idx]['xpi'])),'*',label='sys_u')\n",
    "    # ax.plot(obsresln.tabs[idx]['xpi'],((obsresln.tabs[idx]['Yield']**(0.5))**2+(obsresln.tabs[idx]['Yield']*0.012)**2)**0.5/obsresln.tabs[idx]['Yield'],'*',label='total')\n",
    "    # ax.set_xlim(1e-1,1)\n",
    "    # ax.set_title('Richard relative uncertainties')\n",
    "    # #ax.set_ylabel(r'$\\delta \\sigma/\\sigma$')\n",
    "    # ax.semilogx()\n",
    "    # ax.semilogy()\n",
    "    # ax.set_xlim(1e-1,1)\n",
    "    # ax.legend()\n",
    "\n",
    "    ax=py.subplot(nrows,ncols,2)\n",
    "    ax.plot(obsresln.tabs[k]['xpi'],dd[k]['stat_u']/dd[k]['value'],'b*',label='stat_u')\n",
    "    ax.plot(obsresln.tabs[k]['xpi'],dd[k]['sys_u']/dd[k]['value'],'r*',label='sys_u')\n",
    "    ax.plot(obsresln.tabs[k]['xpi'],(dd[k]['stat_u']**2+dd[k]['sys_u']**2)**0.5/dd[k]['value'],'g*',label='total')\n",
    "    ax.set_title('relative uncertainties from only cross section')\n",
    "    ax.set_ylabel(r'$\\delta \\langle d\\sigma\\rangle /\\langle d\\sigma \\rangle$',size=25)\n",
    "    ax.set_xlabel(r'$x_\\pi$',size=25)\n",
    "    ax.semilogx()\n",
    "    ax.semilogy()\n",
    "    ax.set_xlim(4e-3,1)\n",
    "    ax.set_ylim(5e-6,5e-2)\n",
    "    if k==70001: ax.legend()\n",
    "\n",
    "py.tight_layout()\n",
    "#py.savefig('gallery/new_relative_uncertainties.png')"
   ]
  },
  {
   "cell_type": "code",
   "execution_count": 31,
   "metadata": {},
   "outputs": [
    {
     "data": {
      "image/png": "[encoded data removed]",
      "text/plain": [
       "<Figure size 576x288 with 1 Axes>"
      ]
     },
     "metadata": {
      "needs_background": "light"
     },
     "output_type": "display_data"
    }
   ],
   "source": [
    "nrows,ncols=1,2\n",
    "py.figure(figsize=(4*ncols,4*nrows))\n",
    "\n",
    "for k in dd:\n",
    "    if k==20001:\n",
    "        ax=py.subplot(nrows,ncols,2)\n",
    "        ax.plot(obsresln.tabs[k]['xpi'],obsresln.tabs[k]['stat_u']/obsresln.tabs[k]['value'],'b*',label='stat_u')\n",
    "        ax.plot(obsresln.tabs[k]['xpi'],obsresln.tabs[k]['sys_u']/obsresln.tabs[k]['value'],'r*',label='sys_u')\n",
    "        ax.plot(obsresln.tabs[k]['xpi'],(obsresln.tabs[k]['stat_u']**2+obsresln.tabs[k]['sys_u']**2)**0.5/obsresln.tabs[k]['value'],'g*',label='total')\n",
    "        ax.set_title('relative uncertainties from JAM tables')\n",
    "        ax.set_ylabel(r'$\\delta \\langle d\\sigma\\rangle /\\langle d\\sigma \\rangle$',size=25)\n",
    "        ax.set_xlabel(r'$x_\\pi$',size=25)\n",
    "        ax.semilogx()\n",
    "        ax.semilogy()\n",
    "        ax.set_xlim(4e-3,1)\n",
    "        ax.set_ylim(5e-6,5e-2)\n",
    "        ax.legend()\n",
    "\n",
    "    else:       \n",
    "        ax=py.subplot(nrows,ncols,1)\n",
    "        ax.plot(obsresln.tabs[k]['xpi'],dd[k]['stat_u']/dd[k]['value'],'b*',label='stat_u')\n",
    "        ax.plot(obsresln.tabs[k]['xpi'],dd[k]['sys_u']/dd[k]['value'],'r*',label='sys_u')\n",
    "        ax.plot(obsresln.tabs[k]['xpi'],(dd[k]['stat_u']**2+dd[k]['sys_u']**2)**0.5/dd[k]['value'],'g*',label='total')\n",
    "        ax.set_title('relative uncertainties from Richard table')\n",
    "        ax.set_ylabel(r'$\\delta \\langle d\\sigma\\rangle /\\langle d\\sigma \\rangle$',size=25)\n",
    "        ax.set_xlabel(r'$x_\\pi$',size=25)\n",
    "        ax.semilogx()\n",
    "        ax.semilogy()\n",
    "        ax.set_xlim(4e-3,1)\n",
    "        ax.set_ylim(5e-6,5e-2)\n",
    "        if k==70001: ax.legend()\n",
    "\n",
    "py.tight_layout()\n",
    "#py.savefig('gallery/relative_uncertainties_comp.png')"
   ]
  },
  {
   "cell_type": "code",
   "execution_count": 32,
   "metadata": {},
   "outputs": [
    {
     "data": {
      "image/png": "[encoded data removed]",
      "text/plain": [
       "<Figure size 576x288 with 2 Axes>"
      ]
     },
     "metadata": {
      "needs_background": "light"
     },
     "output_type": "display_data"
    }
   ],
   "source": [
    "nrows,ncols=1,2\n",
    "py.figure(figsize=(4*ncols,4*nrows))\n",
    "\n",
    "s=5400.\n",
    "for k in [70001,70002]:\n",
    "\n",
    "    ax=py.subplot(nrows,ncols,1)\n",
    "    x=np.linspace(min(obsresln.tabs[k]['x']),max(obsresln.tabs[k]['x']),100)\n",
    "    Q2=s*x\n",
    "    ax.plot(obsresln.tabs[k]['x'],obsresln.tabs[k]['Q2'],'bo')\n",
    "    ax.plot(x,Q2,'g')\n",
    "    ax.set_title('kinematic reach - new tables')\n",
    "    ax.set_ylabel(r'$Q^2$',size=25)\n",
    "    ax.set_xlabel(r'$x$',size=25)\n",
    "    ax.semilogx()\n",
    "    ax.semilogy()\n",
    "#     ax.set_xlim(4e-3,1)\n",
    "#     ax.set_ylim(5e-6,5e-2)\n",
    "\n",
    "ax=py.subplot(nrows,ncols,2)\n",
    "x=np.linspace(min(obsresln.tabs[20001]['x']),max(obsresln.tabs[20001]['x']))\n",
    "Q2=s*x\n",
    "ax.plot(obsresln.tabs[20001]['x'],obsresln.tabs[20001]['Q2'],'bo')\n",
    "ax.plot(x,Q2,'g')\n",
    "ax.set_title('kinematic reach - previous tables')\n",
    "ax.set_ylabel(r'$Q^2$',size=25)\n",
    "ax.set_xlabel(r'$x$',size=25)\n",
    "ax.semilogx()\n",
    "ax.semilogy()\n",
    "\n",
    "\n",
    "py.tight_layout()\n",
    "py.savefig('gallery/kinematic_reach.png')"
   ]
  },
  {
   "cell_type": "code",
   "execution_count": 33,
   "metadata": {},
   "outputs": [
    {
     "data": {
      "image/png": "[encoded data removed]",
      "text/plain": [
       "<Figure size 432x288 with 1 Axes>"
      ]
     },
     "metadata": {
      "needs_background": "light"
     },
     "output_type": "display_data"
    }
   ],
   "source": [
    "for k in d:\n",
    "    ax=py.subplot(111)\n",
    "    ax.plot(obsresln.tabs[k]['xpi'],dd[k]['stat_u']/d[k]['stat_u'],'bo')\n",
    "    ax.plot(obsresln.tabs[k]['xpi'],obsresln.tabs[k]['events per bin']**0.5,'ro')\n",
    "    ax.semilogx()"
   ]
  },
  {
   "cell_type": "code",
   "execution_count": 40,
   "metadata": {},
   "outputs": [],
   "source": [
    "# nrows,ncols=1,3\n",
    "# py.figure(figsize=(4*ncols,4*nrows))\n",
    "\n",
    "# ax=py.subplot(nrows,ncols,1)\n",
    "# ax.plot(obsresln.tabs[idx]['Q2'],d['stat_u']/d['value'],'*',label='stat_u')\n",
    "# ax.plot(obsresln.tabs[idx]['Q2'],d['sys_u']/d['value'],'*',label='sys_u')\n",
    "# ax.plot(obsresln.tabs[idx]['Q2'],(d['stat_u']**2+d['sys_u']**2)**0.5/d['value'],'*',label='total')\n",
    "# ax.set_title('My relative uncertainties from calculation')\n",
    "# ax.set_ylabel(r'$\\delta \\sigma/\\sigma$',size=20)\n",
    "# ax.set_xlabel(r'$Q^2$',size=20)\n",
    "# ax.semilogx()\n",
    "# ax.semilogy()\n",
    "# #ax.set_xlim(5e-2,1)\n",
    "# ax.set_ylim(1e-6,4e-1)\n",
    "# ax.legend()\n",
    "\n",
    "# ax=py.subplot(nrows,ncols,2)\n",
    "# ax.plot(obsresln.tabs[idx]['Q2'],c['stat_u']/c['value'],'*',label='stat_u')\n",
    "# ax.plot(obsresln.tabs[idx]['Q2'],c['sys_u']/c['value'],'*',label='sys_u')\n",
    "# ax.plot(obsresln.tabs[idx]['Q2'],(c['stat_u']**2+c['sys_u']**2)**0.5/c['value'],'*',label='total')\n",
    "# ax.set_title('My relative uncertainties from interpolation')\n",
    "# ax.set_ylabel(r'$\\delta \\sigma/\\sigma$',size=20)\n",
    "# ax.set_xlabel(r'$Q^2$',size=20)\n",
    "# ax.semilogx()\n",
    "# ax.semilogy()\n",
    "# #ax.set_xlim(5e-2,1)\n",
    "# ax.set_ylim(1e-6,4e-1)\n",
    "# ax.legend()\n",
    "\n",
    "\n",
    "# ax=py.subplot(nrows,ncols,3)\n",
    "# ax.plot(obsresln.tabs[idx]['Q2'],r['stat_u']/r['value'],'*',label='stat_u')\n",
    "# ax.plot(obsresln.tabs[idx]['Q2'],r['sys_u']/r['value'],'*',label='sys_u')\n",
    "# ax.plot(obsresln.tabs[idx]['Q2'],(r['stat_u']**2+r['sys_u']**2)**0.5/r['value'],'*',label='total')\n",
    "# ax.set_title('Richard relative uncertainties')\n",
    "# ax.set_ylabel(r'$\\delta \\sigma/\\sigma$',size=20)\n",
    "# ax.set_xlabel(r'$Q^2$',size=20)\n",
    "# ax.semilogx()\n",
    "# ax.semilogy()\n",
    "# #ax.set_xlim(5e-2,1)\n",
    "# ax.set_ylim(1e-6,4e-1)\n",
    "# ax.legend()\n",
    "\n",
    "# py.tight_layout()\n",
    "# #py.savefig('gallery/relativeuncertainties.png')"
   ]
  },
  {
   "cell_type": "code",
   "execution_count": 41,
   "metadata": {},
   "outputs": [],
   "source": [
    "# nrows,ncols=1,3\n",
    "# py.figure(figsize=(4*ncols,4*nrows))\n",
    "# ax=py.subplot(nrows,ncols,1)\n",
    "# ax.plot(obsresln.tabs[idx]['Q2'],d['counts'],'o',label='my counts')\n",
    "# ax.plot(obsresln.tabs[idx]['Q2'],r['counts'],'o',label='Richard counts')\n",
    "# ax.set_title('counts per bin')\n",
    "# ax.set_ylabel(r'$N$',size=20)\n",
    "# ax.set_xlabel(r'$Q^2 ({\\rm GeV}^2)$',size=20)\n",
    "# ax.semilogy()\n",
    "# ax.semilogx()\n",
    "# ax.legend()\n",
    "\n",
    "# ax=py.subplot(nrows,ncols,2)\n",
    "# ax.plot(obsresln.tabs[idx]['Q2'],d['counts']/r['counts'],'o')\n",
    "# ax.set_title('ratio of my counts to Richard')\n",
    "# ax.set_ylabel(r'$N_P/N_R$',size=20)\n",
    "# ax.set_xlabel(r'$Q^2 ({\\rm GeV}^2)$',size=20)\n",
    "# ax.semilogy()\n",
    "# ax.semilogx()\n",
    "\n",
    "# ax=py.subplot(nrows,ncols,3)\n",
    "# ax.plot(obsresln.tabs[idx]['Q2'],d['dcounts_stat']/d['counts'],'o',label='mine')\n",
    "# ax.plot(obsresln.tabs[idx]['Q2'],r['counts']**(-0.5),'o',label='Richard')\n",
    "# ax.plot(obsresln.tabs[idx]['Q2'],np.ones(len(obsresln.tabs[idx]['Q2']))*0.012,'o',label='1.2% sys')\n",
    "# ax.set_title('relative statistical uncertainties')\n",
    "# ax.set_xlabel(r'$Q^2 ({\\rm GeV}^2)$',size=20)\n",
    "# ax.set_ylabel(r'$\\delta N/N$',size=20)\n",
    "# ax.semilogx()\n",
    "# ax.semilogy()\n",
    "# ax.legend()\n",
    "\n",
    "# py.tight_layout()\n",
    "# #py.savefig('gallery/counts.png')"
   ]
  },
  {
   "cell_type": "code",
   "execution_count": 34,
   "metadata": {},
   "outputs": [],
   "source": [
    "xlsx_d=pd.DataFrame(d[70001])\n",
    "xlsx_d.to_excel('uncertaintyhighx70003_final.xlsx')\n",
    "\n",
    "xlsx_d=pd.DataFrame(d[70002])\n",
    "xlsx_d.to_excel('uncertaintylowx70004_final.xlsx')"
   ]
  },
  {
   "cell_type": "code",
   "execution_count": 47,
   "metadata": {},
   "outputs": [],
   "source": [
    "xlsx_dd=pd.DataFrame(dd[70001])\n",
    "xlsx_dd.to_excel('thytablehighx.xlsx')\n",
    "\n",
    "xlsx_dd=pd.DataFrame(dd[70002])\n",
    "xlsx_dd.to_excel('thytablelowx.xlsx')"
   ]
  },
  {
   "cell_type": "code",
   "execution_count": 62,
   "metadata": {},
   "outputs": [],
   "source": [
    "xlsx_c=pd.DataFrame(c)\n",
    "xlsx_c.to_excel('checkthytable1_27_2021.xlsx')"
   ]
  },
  {
   "cell_type": "code",
   "execution_count": 31,
   "metadata": {
    "scrolled": true
   },
   "outputs": [],
   "source": [
    "#--To calculate the statistical uncertainties\n",
    "\n",
    "# lum=100\n",
    "# stat_u=[]\n",
    "# N_events=[]\n",
    "# for i in range(len(obsresln.tabs[idx]['N'])):\n",
    "#     xs=xsec[i]\n",
    "#     #delx=data['xmax'][i]-data['xmin'][i]\n",
    "#     #delQ2=data['q2max'][i]-data['q2min'][i]\n",
    "#     #delxL=data['xLmax'][i]-data['xLmin'][i]\n",
    "#     #delV=delx*delQ2*delxL\n",
    "# #     delQ2=obsresln.tabs[idx]['q2max'][i]-obsresln.tabs[idx]['q2min'][i]\n",
    "# #     dely=obsresln.tabs[idx]['ymax'][i]-obsresln.tabs[idx]['ymin'][i]\n",
    "# #     delxpi=obsresln.tabs[idx]['xpimax'][i]-obsresln.tabs[idx]['xpimin'][i]\n",
    "#     delQ2=obsresln.tabs[idx]['Q2 bin width'][i]\n",
    "#     dely =obsresln.tabs[idx]['y bin width'][i]\n",
    "#     delxpi=obsresln.tabs[idx]['x_pi bin width'][i]\n",
    "#     delV=delQ2*dely*delxpi\n",
    "#     #print delQ2\n",
    "#     #print delV\n",
    "#     N_events.append(lum*delV*xs)\n",
    "#     #print N_events,N_events**0.5\n",
    "#     stat_u.append((xs/lum/delV)**0.5)"
   ]
  },
  {
   "cell_type": "code",
   "execution_count": 32,
   "metadata": {
    "scrolled": true
   },
   "outputs": [],
   "source": [
    "#print xsec,stat_u"
   ]
  },
  {
   "cell_type": "code",
   "execution_count": 33,
   "metadata": {},
   "outputs": [],
   "source": [
    "# sig=[]\n",
    "# sig_stat=[]\n",
    "# sig_syst_o=[]\n",
    "# sig_syst_p=[]\n",
    "# for i in range(len(obsresln.tabs[idx]['N'])):\n",
    "#     sig.append(xsec[i])\n",
    "#     sig_stat.append(stat_u[i])\n",
    "#     sig_syst_o.append(0.01*xsec[i])\n",
    "#     sig_syst_p.append(0.012*xsec[i])\n",
    "# sig=np.array(sig)\n",
    "# sig_stat=np.array(sig_stat)\n",
    "# sig_syst_o=np.array(sig_syst_o)\n",
    "# sig_syst_p=np.array(sig_syst_p)"
   ]
  },
  {
   "cell_type": "code",
   "execution_count": 34,
   "metadata": {},
   "outputs": [
    {
     "name": "stdout",
     "output_type": "stream",
     "text": [
      "73\n"
     ]
    }
   ],
   "source": [
    "print len(obsresln.tabs[idx]['x'])"
   ]
  },
  {
   "cell_type": "code",
   "execution_count": 35,
   "metadata": {},
   "outputs": [],
   "source": [
    "sig=obsresln.tabs[idx]['value']\n",
    "sig_stat=obsresln.tabs[idx]['stat_u']\n",
    "sig_syst=obsresln.tabs[idx]['sys_u']"
   ]
  },
  {
   "cell_type": "code",
   "execution_count": 36,
   "metadata": {},
   "outputs": [
    {
     "data": {
      "image/png": "[encoded data removed]",
      "text/plain": [
       "<Figure size 576x576 with 1 Axes>"
      ]
     },
     "metadata": {
      "needs_background": "light"
     },
     "output_type": "display_data"
    }
   ],
   "source": [
    "nrows,ncols=1,1\n",
    "fig=py.figure(figsize=(8*ncols,8*nrows))\n",
    "ax=py.subplot(nrows,ncols,1)\n",
    "ax.plot(obsresln.tabs[idx]['xpi'],sig_stat/sig,'*',label='stat',color='r')\n",
    "#ax.plot(obsresln.tabs[idx]['x'],sig_syst_o/sig,'*',label='syst optimistic',color='blue')\n",
    "ax.plot(obsresln.tabs[idx]['xpi'],dxsec/xsec,'v',label='pion PDF uncertainty')\n",
    "#ax.plot(data['x0'],(sig_stat**2+sig_syst_o**2+dxsec**2)**0.5/sig,'<',label='total optimistic')\n",
    "#ax.plot(data['x0'],(sig_stat**2+sig_syst_o**2)**0.5/sig,'<',label='total optimistic')\n",
    "ax.plot(obsresln.tabs[idx]['xpi'],sig_syst/sig,'*',label='syst')\n",
    "ax.plot(obsresln.tabs[idx]['xpi'],(sig_stat**2+sig_syst**2)**0.5/sig,'*',label='total')\n",
    "ax.set_xlabel(r'$x$',size=20)\n",
    "ax.set_ylabel(r'$\\delta\\sigma/\\sigma$',size=20)\n",
    "#ax.set_ylim(5e-3,4e-1)\n",
    "ax.semilogx()\n",
    "ax.semilogy()\n",
    "ax.legend(loc='center left')\n",
    "\n",
    "# unc=obsresln.tabs[idx]['   stat_u    ']/obsresln.tabs[idx]['value']\n",
    "# uncsys=obsresln.tabs[idx]['  sys_u']/obsresln.tabs[idx]['value']\n",
    "# ax=py.subplot(nrows,ncols,2)\n",
    "# ax.plot(x_idx,unc,'*',color='red')\n",
    "# ax.plot(x_idx,uncsys,'*',color='blue')\n",
    "# ax.set_ylim(5e-3,4e-1)\n",
    "# ax.semilogx()\n",
    "# ax.semilogy()\n",
    "\n",
    "py.tight_layout()\n",
    "checkdir('gallery')\n",
    "#py.savefig('gallery/uncertainties.png')"
   ]
  },
  {
   "cell_type": "code",
   "execution_count": null,
   "metadata": {},
   "outputs": [],
   "source": []
  },
  {
   "cell_type": "markdown",
   "metadata": {},
   "source": [
    "# Get-predictions -- kaon"
   ]
  },
  {
   "cell_type": "code",
   "execution_count": 2,
   "metadata": {},
   "outputs": [],
   "source": [
    "from analysis.corelib import core\n",
    "from fitlib.resman import RESMAN\n",
    "\n",
    "from tools.tools import lprint,checkdir\n",
    "from tools.config import load_config,conf\n",
    "\n",
    "import copy"
   ]
  },
  {
   "cell_type": "code",
   "execution_count": 3,
   "metadata": {},
   "outputs": [],
   "source": [
    "from obslib.lh.theory import LH"
   ]
  },
  {
   "cell_type": "code",
   "execution_count": 4,
   "metadata": {},
   "outputs": [],
   "source": [
    "replicas=core.get_replicas('../../analysis-pions/uaga1ub100/step16bcovdip/')\n",
    "istep=16"
   ]
  },
  {
   "cell_type": "code",
   "execution_count": 5,
   "metadata": {
    "scrolled": true
   },
   "outputs": [
    {
     "name": "stdout",
     "output_type": "stream",
     "text": [
      "loading ln data sets 10001\n",
      "Loading DIS tables...\n",
      "10001 has norm uncertainty\n"
     ]
    }
   ],
   "source": [
    "load_config('inputK.py')\n",
    "core.mod_conf(istep,replicas[0])\n",
    "order=replicas[0]['order'][istep]\n",
    "resman=RESMAN(nworkers=2,parallel=True,datasets=True)"
   ]
  },
  {
   "cell_type": "code",
   "execution_count": 6,
   "metadata": {},
   "outputs": [],
   "source": [
    "idx=10001"
   ]
  },
  {
   "cell_type": "code",
   "execution_count": 7,
   "metadata": {},
   "outputs": [],
   "source": [
    "parman=resman.parman\n",
    "parman.order=order"
   ]
  },
  {
   "cell_type": "code",
   "execution_count": 8,
   "metadata": {},
   "outputs": [],
   "source": [
    "obsresln=resman.lnres"
   ]
  },
  {
   "cell_type": "code",
   "execution_count": 9,
   "metadata": {},
   "outputs": [
    {
     "name": "stdout",
     "output_type": "stream",
     "text": [
      "['Q2', 'tar', 'stat_u', 'xLmin', 'xmin', 'xLmax', 'q2max', 'q2min', 'Unnamed: 0', 'xL', 'rs', 'units', 'sys_u', 'kT2max', 'xmax', 'Shift', 'ye', 'xpi', 'N', 'alpha', 'thy', 'value', 'obs', 's', 'residuals', 'norm_c', 'y', 'x', 'r-residuals', 'pTmax', 'col']\n"
     ]
    }
   ],
   "source": [
    "print obsresln.tabs[idx].keys()\n",
    "x_idx=obsresln.tabs[idx]['x']\n",
    "Q2_idx=obsresln.tabs[idx]['Q2']\n",
    "y_idx=obsresln.tabs[idx]['y']\n",
    "xpi_idx=obsresln.tabs[idx]['xpi']\n",
    "kT2max_idx=obsresln.tabs[idx]['kT2max']\n",
    "ye_idx=obsresln.tabs[idx]['ye']"
   ]
  },
  {
   "cell_type": "code",
   "execution_count": 10,
   "metadata": {},
   "outputs": [
    {
     "name": "stdout",
     "output_type": "stream",
     "text": [
      "110\n"
     ]
    }
   ],
   "source": [
    "print len(obsresln.tabs[idx]['Q2'])"
   ]
  },
  {
   "cell_type": "code",
   "execution_count": 11,
   "metadata": {},
   "outputs": [],
   "source": [
    "#print obsresln.tabs[2020]['xpi']\n",
    "for i in range(len(obsresln.tabs[idx]['xpi'])):\n",
    "    if obsresln.tabs[idx]['xpi'][i]>1:\n",
    "        print i"
   ]
  },
  {
   "cell_type": "code",
   "execution_count": 12,
   "metadata": {},
   "outputs": [
    {
     "name": "stdout",
     "output_type": "stream",
     "text": [
      "<obslib.ln.theory.LN instance at 0x12690dfa0>\n"
     ]
    }
   ],
   "source": [
    "rep=replicas[0]\n",
    "print conf['ln']"
   ]
  },
  {
   "cell_type": "code",
   "execution_count": 13,
   "metadata": {},
   "outputs": [
    {
     "name": "stdout",
     "output_type": "stream",
     "text": [
      "[ 0.7771365  -0.52459814 17.47714847 -0.24580802  0.95825206  0.27618472\n",
      "  6.37046066 -0.48493004  1.24945987  0.90929649  1.10070174  0.91281419\n",
      "  0.84980035  0.88592634  0.5       ]\n",
      "[[1, 'p->pi,n', 'lambda'], [1, 'pdf-pion', 'g1 a'], [1, 'pdf-pion', 'g1 b'], [1, 'pdf-pion', 'ubv1 a'], [1, 'pdf-pion', 'ubv1 b'], [1, 'pdf-pion', 'g1 N'], [1, 'pdf-pion', 'u1 b'], [1, 'pdf-pion', 'u1 a'], [2, 'ln', 1000], [2, 'ln', 2000], [2, 'dy-pion', 10001], [2, 'dy-pion', 10002], [2, 'dy-pion', 10003], [2, 'pion_qT', 1001], [2, 'pion_qT', 1002]]\n",
      "{'sb2': array([0., 0., 0., 0., 0.]), 'sb3': array([0., 0., 0., 0., 0.]), 'sb1': array([ 0.02795293, -0.48493004,  6.37046066,  0.        ,  0.        ]), 'g3': array([0., 0., 0., 0., 0.]), 'g2': array([0., 0., 0., 0., 0.]), 'g1': array([ 0.27618472, -0.52459814, 17.47714847,  0.        ,  0.        ]), 's3': array([0., 0., 0., 0., 0.]), 's2': array([0., 0., 0., 0., 0.]), 's1': array([ 0.02795293, -0.48493004,  6.37046066,  0.        ,  0.        ]), 'u1': array([ 0.02795293, -0.48493004,  6.37046066,  0.        ,  0.        ]), 'u3': array([0., 0., 0., 0., 0.]), 'u2': array([0., 0., 0., 0., 0.]), 'ubv3': array([0., 0., 0., 0., 0.]), 'ubv2': array([0., 0., 0., 0., 0.]), 'ubv1': array([ 0.27804886, -0.24580802,  0.95825206,  0.        ,  0.        ]), 'db1': array([ 0.02795293, -0.48493004,  6.37046066,  0.        ,  0.        ]), 'db3': array([0., 0., 0., 0., 0.]), 'db2': array([0., 0., 0., 0., 0.]), 'dv1': array([ 0.27804886, -0.24580802,  0.95825206,  0.        ,  0.        ]), 'dv3': array([0., 0., 0., 0., 0.]), 'dv2': array([0., 0., 0., 0., 0.])}\n",
      "0.7771364954529701\n"
     ]
    }
   ],
   "source": [
    "print rep['params'][istep]\n",
    "print rep['order'][istep]\n",
    "\n",
    "parman.set_new_params(rep['params'][istep])\n",
    "print conf['pdf-pion'].params\n",
    "print conf['ln'].L_p2pin"
   ]
  },
  {
   "cell_type": "code",
   "execution_count": 14,
   "metadata": {},
   "outputs": [
    {
     "name": "stdout",
     "output_type": "stream",
     "text": [
      "[1.796700980512234e-06, 4.403092588708777e-06, 0.00047773039950627967, 0.0008833254194485355, 0.00018336599689167086, 0.00035531905529980205]\n",
      "\n",
      "[0.03030171043011456, 0.07425901030120152, 0.030218071009828595, 0.055873334159325584, 0.029559751038195744, 0.05727966466974851]\n"
     ]
    }
   ],
   "source": [
    "dsig=[conf['ln'].get_dsigdxdQ2dxL(x_idx[i],xpi_idx[i],y_idx[i],Q2_idx[i],kT2max_idx[i],ye_idx[i]) for i in range(len(obsresln.tabs[idx]['N']))]\n",
    "F2=[conf['ln'].get_F2LN(xpi_idx[i],y_idx[i],Q2_idx[i],kT2max_idx[i]) for i in range(len(obsresln.tabs[idx]['N']))]\n",
    "\n",
    "print dsig[54:60]\n",
    "print ''\n",
    "print F2[54:60]"
   ]
  },
  {
   "cell_type": "code",
   "execution_count": 15,
   "metadata": {},
   "outputs": [],
   "source": [
    "for i in range(len(dsig)):\n",
    "    if dsig[i]<0: print i"
   ]
  },
  {
   "cell_type": "code",
   "execution_count": 16,
   "metadata": {},
   "outputs": [
    {
     "name": "stdout",
     "output_type": "stream",
     "text": [
      "[0.001272903837556859, 0.0006698516945620545, 0.0010381161176588037, 0.0005566557904446756, 0.00048025889721649127, 0.00034230772921384743, 0.0008189271449627618, 0.0004360430013037854, 0.00035417189453056764, 0.00024872428217563163, 0.00014455703156666114, 0.00010919637592518408, 0.0006372658594246663, 0.0003239043629478313, 0.0002616464645281476, 0.000171741645059955, 0.00010693240909672836, 7.665063456321607e-05, 4.002361230661211e-05, 3.07264620688171e-05, 0.0004970028367814399, 0.00023466921267507453, 0.00019672439819548622, 0.00011446897944167337, 7.942410484459337e-05, 5.1884076481535616e-05, 2.9825709708774076e-05, 2.125615988225579e-05, 1.0523839446867155e-05, 8.035334425112137e-06, 0.00037805056923643853, 0.00017093522845716572, 0.00014691075336671899, 7.666366712636445e-05, 5.781597520507544e-05, 3.451577227192016e-05, 2.1786344181790996e-05, 1.4355581438870396e-05, 7.791071544283117e-06, 5.541125122244686e-06, 2.6346720336441046e-06, 1.992840168985975e-06, 0.00026528907738361556, 0.00012752352277722417, 0.0001022554380849821, 5.3468332364668465e-05, 3.9448484398714546e-05, 2.330983084908441e-05, 1.4889855211118425e-05, 9.622880047024526e-06, 5.441141644291185e-06, 3.7680806061977065e-06, 1.8892268176917274e-06, 1.3831467908790136e-06, 6.241117947987701e-07, 4.767494251500571e-07, 0.0001659470219584307, 9.56429776249649e-05, 6.369500694127726e-05, 3.847253991284307e-05, 2.439563583943746e-05, 1.600747638701197e-05, 9.247173125321233e-06, 6.460181392622575e-06, 3.4399114047401774e-06, 2.526112990806992e-06, 1.2345444805324146e-06, 9.44935025968215e-07, 4.22436308185655e-07, 3.3396663490260946e-07, 1.3877278073904042e-07, 1.1336710341695186e-07, 9.699132579101781e-05, 6.827772528394718e-05, 3.6893053221543506e-05, 2.6872970698688316e-05, 1.4018456480268387e-05, 1.0737645423441313e-05, 5.2989524638964535e-06, 4.236878070440574e-06, 1.9816022351095654e-06, 1.6456239531900678e-06, 7.234050345643251e-07, 6.217506937727821e-07, 2.555234225803089e-07, 2.2625625944470924e-07, 8.665280919135572e-08, 7.905577279438778e-08, 2.8164619714476998e-08, 2.6421946367574265e-08, 5.492587706378926e-05, 4.40902025708862e-05, 1.965373432725252e-05, 1.7144572164961335e-05, 7.086753829811397e-06, 6.699058126839771e-06, 2.5644346045085604e-06, 2.609406034414595e-06, 9.269353884260888e-07, 1.0094650648852025e-06, 3.3083510599324846e-07, 3.838220226236544e-07, 1.160794732351963e-07, 1.425686077141972e-07, 3.972465110060316e-08, 5.152128979105396e-08, 1.3060584344433919e-08, 1.783255729687882e-08, 4.120905232493949e-09, 5.907185939089307e-09]\n"
     ]
    }
   ],
   "source": [
    "dsigK=[conf['ln'].get_dsigdxdQ2dxLKaon(x_idx[i],xpi_idx[i],y_idx[i],Q2_idx[i],kT2max_idx[i],ye_idx[i]) for i in range(len(obsresln.tabs[idx]['N']))]\n",
    "print dsigK"
   ]
  },
  {
   "cell_type": "code",
   "execution_count": 18,
   "metadata": {},
   "outputs": [
    {
     "name": "stdout",
     "output_type": "stream",
     "text": [
      "progress: 901/902"
     ]
    }
   ],
   "source": [
    "lambdaK=[0.9,1.0,1.1,1.2,1.3]\n",
    "predK={}\n",
    "for l in lambdaK:\n",
    "    predK['lambda=%.2f'%l]=[]\n",
    "    conf['lh'].L_p2KLam=l\n",
    "    for i in range(len(replicas)):\n",
    "        lprint('progress: %d/%d'%(i,len(replicas)))\n",
    "        rep=replicas[i]\n",
    "        parman.par=copy.copy(rep['params'][istep])\n",
    "        parman.order=copy.copy(rep['order'][istep])\n",
    "        res,rres,nres=resman.get_residuals(parman.par)\n",
    "        #if i==0: pred=copy.copy(obsresln.tabs[2020]['prediction'])\n",
    "        #else: pred=np.append(pred,copy.copy(obsresln.tabs[2020]['prediction']))\n",
    "        predK['lambda=%.2f'%l].append(obsresln.tabs[idx]['prediction'])\n",
    "        #prediction.append(copy.copy(obsresln.tabs[2020]['prediction']))"
   ]
  },
  {
   "cell_type": "code",
   "execution_count": 42,
   "metadata": {},
   "outputs": [
    {
     "name": "stdout",
     "output_type": "stream",
     "text": [
      "110\n"
     ]
    }
   ],
   "source": [
    "print len(predK['lambda=0.90'])"
   ]
  },
  {
   "cell_type": "code",
   "execution_count": 52,
   "metadata": {},
   "outputs": [],
   "source": [
    "minpredK=[]\n",
    "maxpredK=[]\n",
    "for i in range(len(replicas)):\n",
    "    minpredK.append([])\n",
    "    maxpredK.append([])\n",
    "    for j in range(len(predK['lambda=%.2f'%l][i])):\n",
    "        minpredK[i].append(1e100)\n",
    "        maxpredK[i].append(1e-100)\n",
    "        for k in range(len(lambdaK)):\n",
    "            if predK['lambda=%.2f'%lambdaK[k]][i][j]<minpredK[i][j]: \n",
    "                minpredK[i][j]=predK['lambda=%.2f'%lambdaK[k]][i][j]\n",
    "            if predK['lambda=%.2f'%lambdaK[k]][i][j]>maxpredK[i][j]: \n",
    "                maxpredK[i][j]=predK['lambda=%.2f'%lambdaK[k]][i][j]"
   ]
  },
  {
   "cell_type": "code",
   "execution_count": 54,
   "metadata": {},
   "outputs": [
    {
     "name": "stdout",
     "output_type": "stream",
     "text": [
      "902\n"
     ]
    }
   ],
   "source": [
    "print len(maxpredK)"
   ]
  },
  {
   "cell_type": "code",
   "execution_count": 20,
   "metadata": {},
   "outputs": [],
   "source": [
    "#print pred"
   ]
  },
  {
   "cell_type": "code",
   "execution_count": 21,
   "metadata": {},
   "outputs": [],
   "source": [
    "#units=0.389379372e12 #--for fm"
   ]
  },
  {
   "cell_type": "code",
   "execution_count": 55,
   "metadata": {},
   "outputs": [],
   "source": [
    "meanminpredK=np.mean(minpredK,axis=0)\n",
    "stdminpredK=np.std(minpredK,axis=0)\n",
    "meanmaxpredK=np.mean(maxpredK,axis=0)\n",
    "stdmaxpredK=np.std(maxpredK,axis=0)"
   ]
  },
  {
   "cell_type": "code",
   "execution_count": 71,
   "metadata": {},
   "outputs": [],
   "source": [
    "meanpredK=np.mean(predK['lambda=1.10'],axis=0)\n",
    "stdpredK=np.std(predK['lambda=1.10'],axis=0)"
   ]
  },
  {
   "cell_type": "code",
   "execution_count": 56,
   "metadata": {},
   "outputs": [],
   "source": [
    "#print prediction"
   ]
  },
  {
   "cell_type": "code",
   "execution_count": 57,
   "metadata": {},
   "outputs": [],
   "source": [
    "#resman.shutdown()"
   ]
  },
  {
   "cell_type": "code",
   "execution_count": 58,
   "metadata": {},
   "outputs": [
    {
     "name": "stdout",
     "output_type": "stream",
     "text": [
      "[1.95921018e+08 1.00433661e+08 1.60375702e+08 8.23731589e+07\n",
      " 7.34202767e+07 4.95751880e+07 1.26659310e+08 6.42469029e+07\n",
      " 5.46441550e+07 3.60078966e+07 2.20490305e+07 1.57945417e+07\n",
      " 9.74502598e+07 4.78406558e+07 4.02122225e+07 2.50415586e+07\n",
      " 1.62763483e+07 1.11137394e+07 6.06509481e+06 4.43905276e+06\n",
      " 7.40315350e+07 3.47748248e+07 2.95131055e+07 1.68666301e+07\n",
      " 1.18972481e+07 7.56567198e+06 4.47013412e+06 3.08201148e+06\n",
      " 1.57936525e+06 1.16137334e+06 5.47458725e+07 2.51905599e+07\n",
      " 2.13723641e+07 1.13270968e+07 8.46395166e+06 5.04275427e+06\n",
      " 3.20565361e+06 2.08581562e+06 1.15107993e+06 8.02928542e+05\n",
      " 3.90545760e+05 2.88419472e+05 3.79360584e+07 1.84009287e+07\n",
      " 1.46523714e+07 7.77006381e+06 5.69602472e+06 3.37004592e+06\n",
      " 2.16167482e+06 1.38897681e+06 7.93064744e+05 5.43857377e+05\n",
      " 2.76175828e+05 1.99767222e+05 9.13946686e+04 6.89636541e+04\n",
      " 2.38882819e+07 1.33952583e+07 9.17864071e+06 5.41980754e+06\n",
      " 3.52950850e+06 2.26371671e+06 1.34144739e+06 9.16966893e+05\n",
      " 4.99943620e+05 3.59743792e+05 1.79664197e+05 1.34952699e+05\n",
      " 6.15243457e+04 4.78052872e+04 2.02274535e+04 1.62658878e+04\n",
      " 1.41292008e+07 9.37136694e+06 5.37416752e+06 3.69884848e+06\n",
      " 2.04305809e+06 1.48977065e+06 7.72479915e+05 5.91279828e+05\n",
      " 2.88918715e+05 2.30662044e+05 1.05480164e+05 8.74402862e+04\n",
      " 3.72578694e+04 3.18853467e+04 1.26349784e+04 1.11665254e+04\n",
      " 4.10668502e+03 3.73874273e+03 7.97932265e+06 6.05257165e+06\n",
      " 2.85490290e+06 2.35669289e+06 1.02941212e+06 9.26053000e+05\n",
      " 3.72512705e+05 3.62108847e+05 1.34652172e+05 1.40466584e+05\n",
      " 4.80611455e+04 5.35147020e+04 1.68638926e+04 1.99003023e+04\n",
      " 5.77144394e+03 7.20044195e+03 1.89762216e+03 2.49455807e+03\n",
      " 5.98773913e+02 8.26937040e+02]\n",
      "\n",
      "[4.09375026e+07 2.46584170e+07 3.16423882e+07 1.87161718e+07\n",
      " 1.07357559e+07 6.82296958e+06 2.33499711e+07 1.36661295e+07\n",
      " 8.17726873e+06 5.03665871e+06 2.88521254e+06 1.94325826e+06\n",
      " 1.63939054e+07 9.59514384e+06 5.96017175e+06 3.58664813e+06\n",
      " 2.15321979e+06 1.39244225e+06 7.47715843e+05 5.19555674e+05\n",
      " 1.14230113e+07 6.55186376e+06 4.22644368e+06 2.48353197e+06\n",
      " 1.57112859e+06 9.70135736e+05 5.56835070e+05 3.66262382e+05\n",
      " 1.88027857e+05 1.31750959e+05 8.08798178e+06 4.36624958e+06\n",
      " 3.01157540e+06 1.67754412e+06 1.11388735e+06 6.57933973e+05\n",
      " 3.99916336e+05 2.52338103e+05 1.37586374e+05 9.23636727e+04\n",
      " 4.50780748e+04 3.19673274e+04 5.18917917e+06 2.89513262e+06\n",
      " 1.93962914e+06 1.11485905e+06 7.09299079e+05 4.40011511e+05\n",
      " 2.57099275e+05 1.70139098e+05 9.10620342e+04 6.35231449e+04\n",
      " 3.08496025e+04 2.24655312e+04 1.00186217e+04 7.51741938e+03\n",
      " 2.75118116e+06 1.98589933e+06 1.03737450e+06 7.59241880e+05\n",
      " 3.85668985e+05 2.95226360e+05 1.43184428e+05 1.13149264e+05\n",
      " 5.24698890e+04 4.24640578e+04 1.86198052e+04 1.53587705e+04\n",
      " 6.32376171e+03 5.29021720e+03 2.06250502e+03 1.75056902e+03\n",
      " 1.41876163e+06 1.32074455e+06 5.37411610e+05 5.01899850e+05\n",
      " 2.02859331e+05 1.89137538e+05 7.63406453e+04 7.13208759e+04\n",
      " 2.84591506e+04 2.67291096e+04 1.03654351e+04 9.81333006e+03\n",
      " 3.65587021e+03 3.49884070e+03 1.23803481e+03 1.19774092e+03\n",
      " 4.01951827e+02 3.93617374e+02 7.85423499e+05 7.39749211e+05\n",
      " 2.80953210e+05 2.80792869e+05 1.01253123e+05 1.05232745e+05\n",
      " 3.66264911e+04 3.97764248e+04 1.32354994e+04 1.50492245e+04\n",
      " 4.72301237e+03 5.62589035e+03 1.65694538e+03 2.06603988e+03\n",
      " 5.66975061e+02 7.38407992e+02 1.86392708e+02 2.53319050e+02\n",
      " 5.88071352e+01 8.33098327e+01]\n",
      "[7.94633813e+08 4.37995536e+08 6.50469920e+08 3.59237376e+08\n",
      " 2.97769152e+08 2.16194869e+08 5.13723219e+08 2.80189162e+08\n",
      " 2.21621239e+08 1.57028753e+08 8.94232626e+07 6.88785951e+07\n",
      " 3.95257008e+08 2.08640425e+08 1.63092442e+08 1.09205183e+08\n",
      " 6.60120843e+07 4.84660844e+07 2.45978177e+07 1.93581847e+07\n",
      " 3.00272404e+08 1.51659154e+08 1.19701292e+08 7.35550111e+07\n",
      " 4.82523625e+07 3.29933717e+07 1.81294044e+07 1.34403128e+07\n",
      " 6.40528367e+06 5.06458020e+06 2.22046172e+08 1.09861328e+08\n",
      " 8.66833446e+07 4.93978176e+07 3.43276720e+07 2.19912801e+07\n",
      " 1.30010635e+07 9.09605952e+06 4.66832311e+06 3.50146514e+06\n",
      " 1.58387858e+06 1.25774810e+06 1.53859793e+08 8.02508600e+07\n",
      " 5.94259212e+07 3.38860445e+07 2.31010090e+07 1.46968202e+07\n",
      " 8.76683648e+06 6.05725363e+06 3.21629757e+06 2.37170313e+06\n",
      " 1.12002924e+06 8.71154194e+05 3.70648193e+05 3.00737251e+05\n",
      " 9.68794163e+07 5.84196561e+07 3.72239501e+07 2.36364980e+07\n",
      " 1.43137606e+07 9.87214701e+06 5.44013775e+06 3.99885705e+06\n",
      " 2.02747201e+06 1.56880815e+06 7.28607322e+05 5.88509576e+05\n",
      " 2.49504143e+05 2.08470416e+05 8.20296302e+04 7.09321133e+04\n",
      " 5.72985778e+07 4.08695095e+07 2.17940049e+07 1.61308831e+07\n",
      " 8.28524925e+06 6.49684995e+06 3.13264668e+06 2.57851964e+06\n",
      " 1.17165421e+06 1.00588632e+06 4.27754190e+05 3.81312204e+05\n",
      " 1.51091947e+05 1.39045755e+05 5.12386439e+04 4.86947432e+04\n",
      " 1.66538400e+04 1.63037495e+04 3.23586348e+07 2.63947091e+07\n",
      " 1.15775211e+07 1.02772583e+07 4.17458687e+06 4.03836139e+06\n",
      " 1.51065502e+06 1.57908278e+06 5.46056466e+05 6.12542332e+05\n",
      " 1.94902895e+05 2.33364144e+05 6.83883275e+04 8.67799297e+04\n",
      " 2.34049984e+04 3.13991130e+04 7.69544705e+03 1.08780415e+04\n",
      " 2.42821402e+03 3.60602393e+03]\n",
      "\n",
      "[1.67991867e+08 1.08173927e+08 1.30057100e+08 8.22279495e+07\n",
      " 4.44815881e+07 3.03167907e+07 9.61756729e+07 6.01225103e+07\n",
      " 3.38600875e+07 2.23671701e+07 1.20098718e+07 8.66830161e+06\n",
      " 6.77477972e+07 4.22665543e+07 2.47072574e+07 1.59150346e+07\n",
      " 8.96329727e+06 6.20658946e+06 3.12089699e+06 2.32151832e+06\n",
      " 4.73716646e+07 2.89034254e+07 1.75605140e+07 1.10119054e+07\n",
      " 6.54466409e+06 4.32068141e+06 2.32392249e+06 1.63553810e+06\n",
      " 7.85901191e+05 5.89256105e+05 3.35773302e+07 1.93051042e+07\n",
      " 1.25191482e+07 7.44025758e+06 4.63959613e+06 2.92931743e+06\n",
      " 1.66852943e+06 1.12621389e+06 5.74853670e+05 4.12888213e+05\n",
      " 1.88571075e+05 1.43064588e+05 2.15713656e+07 1.28398447e+07\n",
      " 8.07172073e+06 4.95343876e+06 2.95786218e+06 1.96007991e+06\n",
      " 1.07391633e+06 7.59249582e+05 3.80875524e+05 2.83850230e+05\n",
      " 1.29169179e+05 1.00493323e+05 4.19797545e+04 3.36567958e+04\n",
      " 1.15011498e+07 8.82269862e+06 4.33998964e+06 3.37718831e+06\n",
      " 1.61573263e+06 1.31538004e+06 6.00442100e+05 5.04827268e+05\n",
      " 2.20184967e+05 1.89677900e+05 7.81765751e+04 6.86729683e+04\n",
      " 2.65596480e+04 2.36728158e+04 8.66526159e+03 7.83986629e+03\n",
      " 5.96273573e+06 5.87028733e+06 2.25909087e+06 2.23285689e+06\n",
      " 8.53019485e+05 8.42851782e+05 3.21078802e+05 3.18270655e+05\n",
      " 1.19713272e+05 1.19417001e+05 4.36069043e+04 4.38848359e+04\n",
      " 1.53811669e+04 1.56575386e+04 5.20906930e+03 5.36378838e+03\n",
      " 1.69131273e+03 1.76376017e+03 3.30426497e+06 3.29840891e+06\n",
      " 1.18198351e+06 1.25297869e+06 4.25986618e+05 4.70274825e+05\n",
      " 1.54095240e+05 1.77951737e+05 5.56850071e+04 6.73823891e+04\n",
      " 1.98709914e+04 2.52054701e+04 6.97123550e+03 9.26022349e+03\n",
      " 2.38542808e+03 3.31096596e+03 7.84208492e+02 1.13622746e+03\n",
      " 2.47418680e+02 3.73770740e+02]\n"
     ]
    }
   ],
   "source": [
    "print meanminpredK\n",
    "print ''\n",
    "print stdminpredK\n",
    "\n",
    "print meanmaxpredK\n",
    "print ''\n",
    "print stdmaxpredK"
   ]
  },
  {
   "cell_type": "code",
   "execution_count": 59,
   "metadata": {},
   "outputs": [],
   "source": [
    "xsecminK=meanminpredK\n",
    "dxsecminK=stdminpredK\n",
    "\n",
    "xsecmaxK=meanmaxpredK\n",
    "dxsecmaxK=stdmaxpredK"
   ]
  },
  {
   "cell_type": "code",
   "execution_count": 72,
   "metadata": {},
   "outputs": [],
   "source": [
    "xsecmeanK=meanpredK\n",
    "dxsecmeanK=stdpredK"
   ]
  },
  {
   "cell_type": "code",
   "execution_count": 73,
   "metadata": {},
   "outputs": [
    {
     "name": "stdout",
     "output_type": "stream",
     "text": [
      "536039.9058238217 732.1474618024853\n",
      "2174118.112331447 1474.4891021406186\n",
      "1309502.8867028335 1144.3351286676616\n",
      "274786.4964554439 524.2008169160403\n",
      "1198355.7855150485 1094.6943799595613\n",
      "701786.2015656229 837.7268060445618\n",
      "694747.5389253722 833.515170183106\n",
      "2817835.6930401516 1678.6410256633642\n",
      "1697219.4645189985 1302.7737579944564\n",
      "356840.5243944417 597.361301386725\n",
      "1556216.3123107008 1247.483992807403\n",
      "911353.6217714109 954.6484283606247\n",
      "502194.6925486581 708.6569639456443\n",
      "2036741.0013824461 1427.144351977909\n",
      "1226782.4077539407 1107.602098117343\n",
      "339094.2859977117 582.3180282265969\n",
      "1478772.904188413 1216.0480682063571\n",
      "866012.5165411466 930.5979349542672\n",
      "877901.0110189565 936.9637191583015\n",
      "3560718.3735944214 1886.9865854304373\n",
      "2144661.115198481 1464.466153654116\n",
      "445308.13351288403 667.3141190720335\n",
      "1942047.1188683528 1393.5735068048448\n",
      "1137301.0329218097 1066.4431691008244\n",
      "598025.6321727666 773.321170130992\n",
      "2425422.8393797586 1557.3769098647117\n",
      "1460890.623139939 1208.6730836499748\n",
      "394070.42074397084 627.7502853396172\n",
      "1718522.673377255 1310.9243583736077\n",
      "1006416.5977516726 1003.2031687308771\n",
      "382065.5996706336 618.1145522236421\n",
      "1549526.2940470031 1244.7997003723142\n",
      "933322.4081396868 966.0861287378506\n",
      "273687.81865202653 523.1518122419404\n",
      "1193528.2957483993 1092.4872062172624\n",
      "698967.3044681943 836.0426451253514\n",
      "1066495.6432427873 1032.712759310539\n",
      "4325692.691681728 2079.829967012142\n",
      "2605403.6977645606 1614.1262954814163\n",
      "523568.13685027696 723.580083232172\n",
      "2283360.8079041727 1511.0793519548113\n",
      "1337178.438226668 1156.3643189871727\n",
      "694867.2053545946 833.5869512861839\n",
      "2818237.398627591 1678.7606734217927\n",
      "1697480.4026343208 1302.873901279138\n",
      "432718.1318558643 657.8131435718386\n",
      "1887065.5614020682 1373.7050489104524\n",
      "1105119.73132239 1051.246750921205\n",
      "445320.88821742346 667.3236757506985\n",
      "1806090.6267830895 1343.9087122208448\n",
      "1087853.0384556304 1043.0019359788507\n",
      "304071.91092365957 551.4271583116482\n",
      "1326032.0693004907 1151.5346583149335\n",
      "776565.3104729925 881.2294312339963\n",
      "262012.0959327481 511.87117122646015\n",
      "1062625.7252960824 1030.8373903269528\n",
      "640049.8996510596 800.0311866740319\n",
      "191767.07928383377 437.9121821596583\n",
      "836273.5773514196 914.4799491248672\n",
      "489749.1052756935 699.8207665364707\n",
      "1282818.4389408212 1132.615750791424\n",
      "5203120.208538494 2281.034898579698\n",
      "3133880.552891715 1770.276970672023\n",
      "602578.1649280962 776.2590836364469\n",
      "2627949.8215033174 1621.0952536798438\n",
      "1538972.9500470515 1240.553485363308\n",
      "807478.5655861449 898.5981112745258\n",
      "3275027.3442935343 1809.7036620103122\n",
      "1972600.1174987687 1404.4928328399433\n",
      "461470.99985490297 679.3165682175749\n",
      "2012465.103036833 1418.6137962944083\n",
      "1178555.1516933541 1085.612800078073\n",
      "515388.78554526553 717.9058333411601\n",
      "2090292.3449592118 1445.7843355629539\n",
      "1259028.6638908524 1122.0644651225937\n",
      "327744.90997523774 572.4900959625745\n",
      "1429272.8600594667 1195.5220031682675\n",
      "837025.2109625414 914.8908191486793\n",
      "305757.17397955636 552.9531390448528\n",
      "1240051.259705424 1113.575888615331\n",
      "746915.7943501641 864.2429024008031\n",
      "210809.58499623544 459.1400494361556\n",
      "919317.396264575 958.810406839942\n",
      "538381.8913430923 733.7451133350684\n",
      "171045.2566370982 413.5761799682112\n",
      "693692.2210940096 832.881877035399\n",
      "417831.8444034786 646.3991370689464\n",
      "125776.7326883206 354.6501553479437\n",
      "548494.0352892927 740.6038315383554\n",
      "321216.79045360617 566.7599054746253\n",
      "1497847.0710930687 1223.865626240507\n",
      "6075183.254340239 2464.7886835062027\n",
      "3659152.4815161997 1912.891131642415\n",
      "689213.7188719675 830.1889657613907\n",
      "3005805.9415946053 1733.7260284123918\n",
      "1760246.8017799552 1326.742929802136\n",
      "923286.1290937726 960.8777909254499\n",
      "3744720.48500666 1935.1280280660142\n",
      "2255505.2697644946 1501.833968774343\n",
      "489330.58064789994 699.5216798984145\n",
      "2133985.719648213 1460.816798797239\n",
      "1249715.1887362546 1117.9066100244038\n",
      "578934.2935738541 760.8773183462982\n",
      "2348012.766267704 1532.3226704149827\n",
      "1414260.3870842487 1189.2268022056385\n",
      "344924.39205641754 587.302640941123\n",
      "1504203.5571349463 1226.4597658035693\n",
      "880904.1282789722 938.5649302413617\n",
      "346210.58986208483 588.3966263177286\n",
      "1404114.8631809817 1184.9535278570977\n",
      "845736.1686272232 919.6391513127436\n",
      "225268.08651350118 474.62415289732274\n",
      "982374.4281181535 991.1480354206194\n",
      "575308.9668201953 758.4912437333705\n",
      "196834.66872210545 443.66053320315234\n",
      "798283.2510146076 893.4669837294535\n",
      "480830.34421584086 693.4193134142147\n",
      "137300.78064683094 370.54119966183373\n",
      "598750.5382329848 773.7897248173982\n",
      "350648.30155165464 592.1556396351002\n",
      "106853.31992284516 326.88426074506117\n",
      "433349.1795248416 658.2926245408205\n",
      "261020.66066808812 510.9018111810606\n",
      "78911.56758134674 280.9120281891588\n",
      "344119.87945394625 586.6173194288984\n",
      "201528.77371927854 448.9195626382064\n",
      "1643390.048645301 1281.9477558174128\n",
      "6665206.221310465 2581.7060679539923\n",
      "4014596.0586638874 2003.6456918986169\n",
      "797128.232878862 892.8203810839344\n",
      "3476467.256793105 1864.5286956207203\n",
      "2035868.1042443332 1426.8384997063729\n",
      "1002222.2058974074 1001.1104863587273\n",
      "4064733.010065013 2016.1183025966043\n",
      "2448285.967312899 1564.6999607953273\n",
      "531472.364397559 729.0215116150956\n",
      "2317805.442594636 1522.4340519689633\n",
      "1357355.9687548638 1165.0562084100766\n",
      "616879.4769933068 785.4167537004204\n",
      "2501839.2770517874 1581.7203536187385\n",
      "1506929.3105275624 1227.570491062555\n",
      "364975.97336539335 604.1324137682014\n",
      "1591665.6261176867 1261.612312129874\n",
      "932120.357331451 965.4638042575449\n",
      "369646.3943283577 607.9855214792188\n",
      "1499129.0387188485 1224.389251308116\n",
      "902973.3883287014 950.2491190886216\n",
      "237515.03505299 487.35514263521424\n",
      "1035790.3701260654 1017.7378690635745\n",
      "606589.1736948837 778.8383488856232\n",
      "214722.27954175457 463.3813543311325\n",
      "870812.5679892374 933.1733858127532\n",
      "524520.52817313 724.2378947370332\n",
      "147249.38494510588 383.73087567344106\n",
      "642138.6234666739 801.3355248999472\n",
      "376057.0114439064 613.2348746148627\n",
      "119639.36884857768 345.8892436150302\n",
      "485196.667724992 696.5605987457171\n",
      "292251.7171408298 540.6031050047991\n",
      "86539.16075545225 294.17539114523544\n",
      "377383.9969848578 614.3158772039493\n",
      "221009.08124243238 470.11602955273963\n",
      "62513.95329683662 250.02790503629114\n",
      "253523.36377403027 503.51103639744605\n",
      "152706.7574213091 390.77711987948976\n",
      "47171.13937813154 217.18917877769957\n",
      "205704.27998426397 453.5463371963927\n",
      "120467.93117855182 347.0849048555005\n",
      "1655744.598196278 1286.7573967909716\n",
      "6714906.099711908 2591.3135857537404\n",
      "4044623.640986943 2011.1249690128516\n",
      "928452.1435095672 963.562215692151\n",
      "4049183.2028105813 2012.2582346236234\n",
      "2371262.9494035644 1539.8905640997884\n",
      "1004510.438812842 1002.2526821180585\n",
      "4073789.1038640854 2018.3629762419062\n",
      "2453791.5012126137 1566.4582666680315\n",
      "593143.7374811239 770.1582548289175\n",
      "2586778.338852768 1608.3464610750905\n",
      "1514868.1860305446 1230.7998155795053\n",
      "611593.2330399574 782.0442653967596\n",
      "2480288.4318269407 1574.8931493364687\n",
      "1493973.9427743407 1222.2822680438185\n",
      "392256.831520561 626.3041046652664\n",
      "1710645.634108871 1307.9165241363346\n",
      "1001796.3518679295 1000.8977729358426\n",
      "367020.0054786402 605.8217604862343\n",
      "1488421.6878127293 1220.0088884154611\n",
      "896536.6584438985 946.8561973414435\n",
      "250882.14200194852 500.88136519733746\n",
      "1094087.2882309512 1045.9862753549644\n",
      "640728.7237013335 800.4553227390855\n",
      "216575.57630545815 465.37681109554455\n",
      "878300.8755831895 937.1770780291148\n",
      "529037.291901851 727.3494977669613\n",
      "155841.01059074092 394.767033312992\n",
      "679607.6895760446 824.3832176700619\n",
      "397999.6667367541 630.8721476945659\n",
      "124528.8484806719 352.8864526737629\n",
      "505012.30714022997 710.642179398486\n",
      "304190.4865651517 551.5346648807777\n",
      "93538.41494036747 305.84050572212874\n",
      "407907.7575228855 638.6765672254506\n",
      "238884.60177883538 488.758224256979\n",
      "67332.2438940023 259.48457351835447\n",
      "273057.33380554686 522.5488817379163\n",
      "164474.27259012414 405.55427822934394\n",
      "52318.10631654296 228.7315157920809\n",
      "228150.02287524543 477.6505237883085\n",
      "133612.7940473019 365.5308387089958\n",
      "35050.131448114524 187.21680332735767\n",
      "142140.94320812516 377.0158394658309\n",
      "85617.74379411145 292.605098715165\n",
      "28185.53041167591 167.88546813728672\n",
      "122911.1659983163 350.586887944082\n",
      "71981.38070759879 268.2934600537232\n",
      "1546299.7308911153 1243.5030079943976\n",
      "6270756.3514924 2504.1478294007325\n",
      "3777163.225625333 1943.49253294818\n",
      "1025602.397896993 1012.720295983542\n",
      "4472759.120251995 2114.8898600759317\n",
      "2619342.064513805 1618.4381559126084\n",
      "928656.1469377622 963.6680688586512\n",
      "3766004.0536885164 1940.6195025528616\n",
      "2268437.196640258 1506.133193525811\n",
      "639161.0173975107 799.475463912127\n",
      "2787416.6028690753 1669.5558100492105\n",
      "1632377.0373216092 1277.6451139974704\n",
      "558980.6935062532 747.6501143624959\n",
      "2266844.1940674665 1505.6042621045765\n",
      "1365425.5252170346 1168.5142383458726\n",
      "407601.25072696665 638.4365675045303\n",
      "1777538.1452585435 1333.243468110211\n",
      "1040975.93110298 1020.2822801082943\n",
      "333711.3231409496 577.6775252170969\n",
      "1353303.3678926772 1163.315678520958\n",
      "815157.9167136321 902.8609620055748\n",
      "255432.8856045006 505.4036857844436\n",
      "1113920.4847316172 1055.4243150181908\n",
      "652346.4232557921 807.6796538577607\n",
      "197620.40125474427 444.54516222173004\n",
      "801411.479647071 895.2158843804499\n",
      "482727.8014983187 694.7861552293041\n",
      "157772.83812562498 397.2062916490938\n",
      "688026.2461859256 829.4734752756868\n",
      "402931.1884613426 634.7686101732997\n",
      "115437.49166147786 339.7609331007287\n",
      "468134.18501662905 684.2033214013427\n",
      "281979.29759163153 531.0172290911394\n",
      "95694.6492643316 309.34551760827503\n",
      "417308.07643249055 645.9938671786989\n",
      "244390.3616649547 494.35853554374347\n",
      "64381.598346409235 253.73529188193203\n",
      "261086.88387096854 510.966617178626\n",
      "157264.96715691473 396.5664725577728\n",
      "55097.879143894184 234.72937426724886\n",
      "240271.0650639005 490.17452510702805\n",
      "140711.54814944585 375.11537978260213\n",
      "34569.30080290627 185.92821411207677\n",
      "140188.92968102376 374.418121464525\n",
      "84442.42949981341 290.58979593202065\n",
      "30551.613361370953 174.79019812727188\n",
      "133228.81746678127 365.005229369089\n",
      "78023.86035315297 279.32751449356533\n",
      "17740.879302859114 133.1948921800649\n",
      "71944.58883507844 268.22488481697303\n",
      "43335.6369290039 208.17213293090865\n",
      "16151.368593710607 127.08803481725023\n",
      "70432.19797483414 265.3906516342166\n",
      "41247.85021829581 203.09566765023771\n",
      "1382657.0294782643 1175.86437546099\n",
      "5607104.241315924 2367.9324824234163\n",
      "3377421.3097227165 1837.7761859711634\n",
      "1048789.6153907955 1024.104299078368\n",
      "4573675.191457715 2138.6152509176854\n",
      "2678487.2605240275 1636.6084628047197\n",
      "781101.4345442576 883.7994311744366\n",
      "3167609.77974475 1779.778014176136\n",
      "1907999.4972355692 1381.3035499974542\n",
      "644791.1742035289 802.9889004236167\n",
      "2811857.8728118297 1676.859526857223\n",
      "1646715.8273363714 1283.2442586414993\n",
      "445941.32974500256 667.78838694979\n",
      "1808431.0302516487 1344.7791752743826\n",
      "1089302.5904530222 1043.696598850941\n",
      "401166.1594526457 633.3767910593549\n",
      "1749418.1524577225 1322.655719549771\n",
      "1024520.9291473936 1012.186212683908\n",
      "254798.6904737452 504.77588143030886\n",
      "1033288.0370983474 1016.5077653900867\n",
      "622397.7207155809 788.921872377475\n",
      "247682.45159342297 497.67705552237686\n",
      "1080092.623820546 1039.2750472423295\n",
      "632542.3226467487 795.3252936042892\n",
      "145828.30205190266 381.8747203624543\n",
      "591379.1530037797 769.0118029027772\n",
      "356215.333430932 596.83777815327\n",
      "152125.3107873692 390.0324483775282\n",
      "663383.345602094 814.4834839345081\n",
      "388502.8312475766 623.2999528698656\n",
      "83280.35287584677 288.58335516076943\n",
      "337727.7363043611 581.143473080754\n",
      "203429.22069976176 451.0312857216911\n",
      "92730.27566408753 304.5164620576161\n",
      "404373.3888288368 635.903600264094\n",
      "236817.06347207542 486.63853471758216\n",
      "46139.61014016754 214.80132713781714\n",
      "187110.46397800554 432.56267057850187\n",
      "112705.39062328017 335.71623526913345\n",
      "54447.227117242095 233.33929612742492\n",
      "237429.88770807692 487.2677782370561\n",
      "139048.51373674223 372.89209395848314\n",
      "25001.895166178936 158.11987593651511\n",
      "101390.45300093814 318.41867564723356\n",
      "61072.21681523461 247.12793612870766\n",
      "31192.314533908448 176.6134607947776\n",
      "136020.95755527072 368.8101917725034\n",
      "79659.45501038615 282.24006627406067\n",
      "12979.735550101199 113.92864236047579\n",
      "52636.8578408842 229.42723866377375\n",
      "31705.644465642476 178.0607886808392\n",
      "17062.7772215447 130.62456591906707\n",
      "74405.80388606832 272.7742727715873\n",
      "43575.13633636047 208.7465840112371\n",
      "6484.7214809869765 80.52776838449564\n",
      "26297.55778274947 162.16521754910784\n",
      "15840.250868624285 125.85805841750573\n",
      "8955.728140662328 94.63470896379577\n",
      "39053.23911302848 197.61892397497888\n",
      "22871.22166471334 151.23234331555318\n"
     ]
    }
   ],
   "source": [
    "lum=100.\n",
    "stat_u_minK=[]\n",
    "stat_u_maxK=[]\n",
    "stat_u_meanK=[]\n",
    "for i in range(len(data)):\n",
    "    xsminK=xsecminK[i]\n",
    "    xsmaxK=xsecmaxK[i]\n",
    "    xsmeanK=xsecmeanK[i]\n",
    "    delx=data['xmax'][i]-data['xmin'][i]\n",
    "    delQ2=data['q2max'][i]-data['q2min'][i]\n",
    "    delxL=data['xLmax'][i]-data['xLmin'][i]\n",
    "    delV=delx*delQ2*delxL\n",
    "    #print delV\n",
    "    N_eventsminK=lum*delV*xsminK\n",
    "    N_eventsmaxK=lum*delV*xsmaxK\n",
    "    N_eventsmeanK=lum*delV*xsmeanK\n",
    "    print N_eventsminK,N_eventsminK**0.5\n",
    "    stat_u_minK.append((xsminK/lum/delV)**0.5)\n",
    "    print N_eventsmaxK,N_eventsmaxK**0.5\n",
    "    stat_u_maxK.append((xsmaxK/lum/delV)**0.5)\n",
    "    print N_eventsmeanK,N_eventsmeanK**0.5\n",
    "    stat_u_meanK.append((xsmeanK/lum/delV)**0.5)"
   ]
  },
  {
   "cell_type": "code",
   "execution_count": 61,
   "metadata": {},
   "outputs": [
    {
     "name": "stdout",
     "output_type": "stream",
     "text": [
      "[1.95921018e+08 1.00433661e+08 1.60375702e+08 8.23731589e+07\n",
      " 7.34202767e+07 4.95751880e+07 1.26659310e+08 6.42469029e+07\n",
      " 5.46441550e+07 3.60078966e+07 2.20490305e+07 1.57945417e+07\n",
      " 9.74502598e+07 4.78406558e+07 4.02122225e+07 2.50415586e+07\n",
      " 1.62763483e+07 1.11137394e+07 6.06509481e+06 4.43905276e+06\n",
      " 7.40315350e+07 3.47748248e+07 2.95131055e+07 1.68666301e+07\n",
      " 1.18972481e+07 7.56567198e+06 4.47013412e+06 3.08201148e+06\n",
      " 1.57936525e+06 1.16137334e+06 5.47458725e+07 2.51905599e+07\n",
      " 2.13723641e+07 1.13270968e+07 8.46395166e+06 5.04275427e+06\n",
      " 3.20565361e+06 2.08581562e+06 1.15107993e+06 8.02928542e+05\n",
      " 3.90545760e+05 2.88419472e+05 3.79360584e+07 1.84009287e+07\n",
      " 1.46523714e+07 7.77006381e+06 5.69602472e+06 3.37004592e+06\n",
      " 2.16167482e+06 1.38897681e+06 7.93064744e+05 5.43857377e+05\n",
      " 2.76175828e+05 1.99767222e+05 9.13946686e+04 6.89636541e+04\n",
      " 2.38882819e+07 1.33952583e+07 9.17864071e+06 5.41980754e+06\n",
      " 3.52950850e+06 2.26371671e+06 1.34144739e+06 9.16966893e+05\n",
      " 4.99943620e+05 3.59743792e+05 1.79664197e+05 1.34952699e+05\n",
      " 6.15243457e+04 4.78052872e+04 2.02274535e+04 1.62658878e+04\n",
      " 1.41292008e+07 9.37136694e+06 5.37416752e+06 3.69884848e+06\n",
      " 2.04305809e+06 1.48977065e+06 7.72479915e+05 5.91279828e+05\n",
      " 2.88918715e+05 2.30662044e+05 1.05480164e+05 8.74402862e+04\n",
      " 3.72578694e+04 3.18853467e+04 1.26349784e+04 1.11665254e+04\n",
      " 4.10668502e+03 3.73874273e+03 7.97932265e+06 6.05257165e+06\n",
      " 2.85490290e+06 2.35669289e+06 1.02941212e+06 9.26053000e+05\n",
      " 3.72512705e+05 3.62108847e+05 1.34652172e+05 1.40466584e+05\n",
      " 4.80611455e+04 5.35147020e+04 1.68638926e+04 1.99003023e+04\n",
      " 5.77144394e+03 7.20044195e+03 1.89762216e+03 2.49455807e+03\n",
      " 5.98773913e+02 8.26937040e+02] [267597.75650675624, 191593.86583188598, 192408.85738298838, 137895.03725455326, 103604.81929029876, 85134.21465301116, 135180.59198382683, 96276.85235919217, 70661.65662746626, 57360.22344111991, 35671.430760828785, 30191.124898542224, 94363.37347501268, 66116.60117253031, 48239.9856068393, 38067.89025299989, 24390.48522480621, 20154.50140027952, 11848.869704316201, 10136.856068510604, 65363.3281851006, 44797.96189037664, 32843.49821909812, 24828.821937776826, 16572.156817662955, 13215.37617642137, 8084.110219953982, 6712.573822166012, 3818.8012924119175, 3274.701342086272, 44731.93078364425, 30343.163953267194, 22242.54145660762, 16192.631479129954, 11123.93740272365, 8586.29592019185, 5448.116910349337, 4394.6680823826155, 2594.5060421236963, 2166.9076003615996, 1194.752415003878, 1026.7252492293808, 29592.51513890609, 20609.88876001694, 14636.1182216188, 10658.209234138812, 7252.232259468324, 5578.323303492158, 3555.470885843381, 2850.0300738901387, 1711.4731461907, 1417.2885528104919, 798.4516242267538, 679.0752334839221, 365.5378728600744, 317.52803914868326, 18564.71313468044, 13901.809436925067, 9158.010618768796, 7037.264755381181, 4513.182510369105, 3614.4050361568884, 2214.2608204906205, 1830.7067441423137, 1074.2770339232316, 911.2812403346989, 509.12749981787067, 441.2518838327107, 237.1021322353383, 209.00175054100944, 108.04293820830877, 96.88681217525767, 11362.417836206112, 9253.657675288207, 5576.782805894966, 4626.594119861841, 2732.6393068804646, 2333.466986493164, 1337.2164935580934, 1169.9159393158404, 649.9198278095462, 580.7109527033529, 310.4540689882387, 282.66220541691774, 146.83755317241423, 135.8387582565096, 67.95621860821514, 63.885306333067135, 30.83215096760759, 29.418526578067162, 6785.920911016791, 5910.112529307293, 3230.2610788539323, 2934.9009518407015, 1541.5244389422655, 1462.08862202067, 737.9764348396322, 727.5980343894392, 352.60823671510065, 360.14076489153086, 166.54164078991758, 175.73664707849483, 78.50925699481616, 85.28483045593009, 36.500433041670135, 40.76949695170302, 16.656234263227443, 19.097158760097514, 7.435620349445576, 8.738200273665347]\n",
      "[7.94633813e+08 4.37995536e+08 6.50469920e+08 3.59237376e+08\n",
      " 2.97769152e+08 2.16194869e+08 5.13723219e+08 2.80189162e+08\n",
      " 2.21621239e+08 1.57028753e+08 8.94232626e+07 6.88785951e+07\n",
      " 3.95257008e+08 2.08640425e+08 1.63092442e+08 1.09205183e+08\n",
      " 6.60120843e+07 4.84660844e+07 2.45978177e+07 1.93581847e+07\n",
      " 3.00272404e+08 1.51659154e+08 1.19701292e+08 7.35550111e+07\n",
      " 4.82523625e+07 3.29933717e+07 1.81294044e+07 1.34403128e+07\n",
      " 6.40528367e+06 5.06458020e+06 2.22046172e+08 1.09861328e+08\n",
      " 8.66833446e+07 4.93978176e+07 3.43276720e+07 2.19912801e+07\n",
      " 1.30010635e+07 9.09605952e+06 4.66832311e+06 3.50146514e+06\n",
      " 1.58387858e+06 1.25774810e+06 1.53859793e+08 8.02508600e+07\n",
      " 5.94259212e+07 3.38860445e+07 2.31010090e+07 1.46968202e+07\n",
      " 8.76683648e+06 6.05725363e+06 3.21629757e+06 2.37170313e+06\n",
      " 1.12002924e+06 8.71154194e+05 3.70648193e+05 3.00737251e+05\n",
      " 9.68794163e+07 5.84196561e+07 3.72239501e+07 2.36364980e+07\n",
      " 1.43137606e+07 9.87214701e+06 5.44013775e+06 3.99885705e+06\n",
      " 2.02747201e+06 1.56880815e+06 7.28607322e+05 5.88509576e+05\n",
      " 2.49504143e+05 2.08470416e+05 8.20296302e+04 7.09321133e+04\n",
      " 5.72985778e+07 4.08695095e+07 2.17940049e+07 1.61308831e+07\n",
      " 8.28524925e+06 6.49684995e+06 3.13264668e+06 2.57851964e+06\n",
      " 1.17165421e+06 1.00588632e+06 4.27754190e+05 3.81312204e+05\n",
      " 1.51091947e+05 1.39045755e+05 5.12386439e+04 4.86947432e+04\n",
      " 1.66538400e+04 1.63037495e+04 3.23586348e+07 2.63947091e+07\n",
      " 1.15775211e+07 1.02772583e+07 4.17458687e+06 4.03836139e+06\n",
      " 1.51065502e+06 1.57908278e+06 5.46056466e+05 6.12542332e+05\n",
      " 1.94902895e+05 2.33364144e+05 6.83883275e+04 8.67799297e+04\n",
      " 2.34049984e+04 3.13991130e+04 7.69544705e+03 1.08780415e+04\n",
      " 2.42821402e+03 3.60602393e+03] [538921.4554607521, 400107.59501445945, 387497.9283618106, 287969.52742553153, 208646.83508448943, 177784.80529332688, 272245.29452770593, 201058.0428792768, 142304.17670547418, 119784.75496834848, 71837.47116645385, 63047.50728400627, 190042.94289219126, 138073.7711947013, 97150.50193413145, 79496.81996009556, 49119.47047590803, 42088.25505537034, 23861.976627938708, 21168.517340853392, 131638.67143234628, 93553.51186979702, 66144.13969335928, 51849.91945520491, 33374.52298160092, 27597.46083029238, 16280.349248762135, 14017.696006431888, 7690.50671316157, 6838.447197953412, 90087.3056837062, 63367.17940103769, 44794.63027930585, 33815.203675861994, 22402.37822244125, 17930.698330461528, 10971.79192460275, 9177.296624264989, 5224.953121224871, 4525.086110043262, 2406.040294374342, 2144.0691499594227, 59596.16962035989, 43040.82861543672, 29475.413780652074, 22257.807777324, 14604.98941476211, 11649.236492427262, 7160.171060281371, 5951.683444816218, 3446.623770314874, 2959.6879959370135, 1607.942287039973, 1418.0883591965573, 736.1272461950958, 663.0794403456027, 37386.21863102693, 29031.88819574708, 18442.64415425716, 14696.148218887869, 9088.718544185518, 7547.994714544857, 4459.096814383992, 3823.0492520283747, 2163.381989910235, 1903.0083510389215, 1025.2801526409355, 921.4516493903652, 477.47522088625357, 436.44967451417034, 217.57608464094554, 202.32391963531947, 22881.46773940726, 19324.65149923182, 11230.43693606979, 9661.781308155143, 5502.939554475786, 4872.965892215679, 2692.8603669466597, 2443.1118403198834, 1308.7951526029956, 1212.6805194088977, 625.1857834442088, 590.272173957144, 295.69827383022306, 283.6658131406409, 136.84872860545488, 133.40834406764935, 62.089093707632586, 61.43302121162417, 13665.35366126163, 12341.962436043885, 6505.036601520958, 6128.872539682827, 3104.2917250101136, 3053.2218826171966, 1486.1224640205935, 1519.4079638045741, 710.0755336129054, 752.0623120355563, 335.3782739385697, 366.98037873043256, 158.100391293312, 178.0949481860584, 73.50384941071869, 85.13624002135344, 33.541993956692046, 39.87927964496888, 14.973704298163225, 18.247361401198408]\n"
     ]
    }
   ],
   "source": [
    "print xsecminK,stat_u_minK\n",
    "print xsecmaxK,stat_u_maxK"
   ]
  },
  {
   "cell_type": "code",
   "execution_count": 62,
   "metadata": {},
   "outputs": [],
   "source": [
    "sigminK=[]\n",
    "sig_statminK=[]\n",
    "sig_syst_ominK=[]\n",
    "sig_syst_pminK=[]\n",
    "for i in range(len(data)):\n",
    "    sigminK.append(xsecminK[i])\n",
    "    sig_statminK.append(stat_u_minK[i])\n",
    "    sig_syst_ominK.append(0.01*xsecminK[i])\n",
    "    sig_syst_pminK.append(0.012*xsecminK[i])\n",
    "sigminK=np.array(sigminK)\n",
    "sig_statminK=np.array(sig_statminK)\n",
    "sig_syst_ominK=np.array(sig_syst_ominK)\n",
    "sig_syst_pminK=np.array(sig_syst_pminK)"
   ]
  },
  {
   "cell_type": "code",
   "execution_count": 63,
   "metadata": {},
   "outputs": [
    {
     "data": {
      "image/png": "[encoded data removed]",
      "text/plain": [
       "<Figure size 864x576 with 1 Axes>"
      ]
     },
     "metadata": {
      "needs_background": "light"
     },
     "output_type": "display_data"
    }
   ],
   "source": [
    "fig=py.figure(figsize=(4*3,4*2))\n",
    "ax=py.subplot(111)\n",
    "ax.plot(data['x0'],sig_statminK/sigminK,'*',label='stat')\n",
    "ax.plot(data['x0'],sig_syst_ominK/sigminK,'*',label='syst optimistic')\n",
    "ax.plot(data['x0'],dxsecminK/xsecminK,'v',label='pion PDF uncertainty')\n",
    "#ax.plot(data['x0'],(sig_stat**2+sig_syst_o**2+dxsec**2)**0.5/sig,'<',label='total optimistic')\n",
    "ax.plot(data['x0'],(sig_statminK**2+sig_syst_ominK**2)**0.5/sigminK,'<',label='total optimistic')\n",
    "# ax.plot(data['x0'],sig_syst_p/sig,'*',label='syst pessimistic')\n",
    "# ax.plot(data['x0'],(sig_stat**2+sig_syst_p**2)**0.5/sig,'*',label='total pessimistic')\n",
    "ax.set_xlabel(r'$x$',size=20)\n",
    "ax.set_ylabel(r'$\\delta\\sigma/\\sigma$',size=20)\n",
    "ax.semilogx()\n",
    "ax.semilogy()\n",
    "ax.legend(loc='center left')\n",
    "\n",
    "py.tight_layout()\n",
    "checkdir('gallery')\n",
    "py.savefig('gallery/uncertaintiesminK.png')"
   ]
  },
  {
   "cell_type": "code",
   "execution_count": 64,
   "metadata": {},
   "outputs": [],
   "source": [
    "sigmaxK=[]\n",
    "sig_statmaxK=[]\n",
    "sig_syst_omaxK=[]\n",
    "sig_syst_pmaxK=[]\n",
    "for i in range(len(data)):\n",
    "    sigmaxK.append(xsecmaxK[i])\n",
    "    sig_statmaxK.append(stat_u_maxK[i])\n",
    "    sig_syst_omaxK.append(0.01*xsecmaxK[i])\n",
    "    sig_syst_pmaxK.append(0.012*xsecmaxK[i])\n",
    "sigmaxK=np.array(sigmaxK)\n",
    "sig_statmaxK=np.array(sig_statminK)\n",
    "sig_syst_omaxK=np.array(sig_syst_omaxK)\n",
    "sig_syst_pmaxK=np.array(sig_syst_pmaxK)"
   ]
  },
  {
   "cell_type": "code",
   "execution_count": 65,
   "metadata": {},
   "outputs": [
    {
     "data": {
      "image/png": "[encoded data removed]",
      "text/plain": [
       "<Figure size 864x576 with 1 Axes>"
      ]
     },
     "metadata": {
      "needs_background": "light"
     },
     "output_type": "display_data"
    }
   ],
   "source": [
    "fig=py.figure(figsize=(4*3,4*2))\n",
    "ax=py.subplot(111)\n",
    "ax.plot(data['x0'],sig_statmaxK/sigmaxK,'*',label='stat')\n",
    "ax.plot(data['x0'],sig_syst_omaxK/sigmaxK,'*',label='syst optimistic')\n",
    "ax.plot(data['x0'],dxsecmaxK/xsecmaxK,'v',label='pion PDF uncertainty')\n",
    "#ax.plot(data['x0'],(sig_stat**2+sig_syst_o**2+dxsec**2)**0.5/sig,'<',label='total optimistic')\n",
    "ax.plot(data['x0'],(sig_statmaxK**2+sig_syst_omaxK**2)**0.5/sigmaxK,'<',label='total optimistic')\n",
    "# ax.plot(data['x0'],sig_syst_p/sig,'*',label='syst pessimistic')\n",
    "# ax.plot(data['x0'],(sig_stat**2+sig_syst_p**2)**0.5/sig,'*',label='total pessimistic')\n",
    "ax.set_xlabel(r'$x$',size=20)\n",
    "ax.set_ylabel(r'$\\delta\\sigma/\\sigma$',size=20)\n",
    "ax.semilogx()\n",
    "ax.semilogy()\n",
    "ax.legend(loc='center left')\n",
    "\n",
    "py.tight_layout()\n",
    "checkdir('gallery')\n",
    "py.savefig('gallery/uncertaintiesmaxK.png')"
   ]
  },
  {
   "cell_type": "code",
   "execution_count": 66,
   "metadata": {},
   "outputs": [],
   "source": [
    "resman.shutdown()"
   ]
  },
  {
   "cell_type": "code",
   "execution_count": 67,
   "metadata": {},
   "outputs": [],
   "source": [
    "dK={}\n",
    "dK['value_min']=xsecminK\n",
    "dK['stat_u_min']=sig_statminK\n",
    "dK['value_max']=xsecmaxK\n",
    "dK['stat_u_max']=sig_statmaxK"
   ]
  },
  {
   "cell_type": "code",
   "execution_count": 68,
   "metadata": {},
   "outputs": [],
   "source": [
    "xlsx_dK=pd.DataFrame(dK)\n",
    "xlsx_dK.to_excel('EIC_values_K.xlsx')"
   ]
  },
  {
   "cell_type": "code",
   "execution_count": 74,
   "metadata": {},
   "outputs": [],
   "source": [
    "sigmeanK=[]\n",
    "sig_statmeanK=[]\n",
    "sig_syst_omeanK=[]\n",
    "sig_syst_pmeanK=[]\n",
    "for i in range(len(data)):\n",
    "    sigmeanK.append(xsecmeanK[i])\n",
    "    sig_statmeanK.append(stat_u_meanK[i])\n",
    "    sig_syst_omeanK.append(0.01*xsecmeanK[i])\n",
    "    sig_syst_pmeanK.append(0.012*xsecmeanK[i])\n",
    "sigmeanK=np.array(sigmeanK)\n",
    "sig_statmeanK=np.array(sig_statmeanK)\n",
    "sig_syst_omeanK=np.array(sig_syst_omeanK)\n",
    "sig_syst_pmeanK=np.array(sig_syst_pmeanK)"
   ]
  },
  {
   "cell_type": "code",
   "execution_count": 75,
   "metadata": {},
   "outputs": [
    {
     "data": {
      "image/png": "[encoded data removed]",
      "text/plain": [
       "<Figure size 864x576 with 1 Axes>"
      ]
     },
     "metadata": {
      "needs_background": "light"
     },
     "output_type": "display_data"
    }
   ],
   "source": [
    "fig=py.figure(figsize=(4*3,4*2))\n",
    "ax=py.subplot(111)\n",
    "ax.plot(data['x0'],sig_statmeanK/sigmeanK,'*',label='stat')\n",
    "ax.plot(data['x0'],sig_syst_omeanK/sigmeanK,'*',label='syst optimistic')\n",
    "ax.plot(data['x0'],dxsecmeanK/xsecmeanK,'v',label='pion PDF uncertainty')\n",
    "#ax.plot(data['x0'],(sig_stat**2+sig_syst_o**2+dxsec**2)**0.5/sig,'<',label='total optimistic')\n",
    "ax.plot(data['x0'],(sig_statmeanK**2+sig_syst_omeanK**2)**0.5/sigmeanK,'<',label='total optimistic')\n",
    "# ax.plot(data['x0'],sig_syst_p/sig,'*',label='syst pessimistic')\n",
    "# ax.plot(data['x0'],(sig_stat**2+sig_syst_p**2)**0.5/sig,'*',label='total pessimistic')\n",
    "ax.set_xlabel(r'$x$',size=20)\n",
    "ax.set_ylabel(r'$\\delta\\sigma/\\sigma$',size=20)\n",
    "ax.semilogx()\n",
    "ax.semilogy()\n",
    "ax.legend(loc='center left')\n",
    "\n",
    "py.tight_layout()\n",
    "checkdir('gallery')\n",
    "py.savefig('gallery/uncertaintiesmeanK.png')"
   ]
  },
  {
   "cell_type": "code",
   "execution_count": 76,
   "metadata": {},
   "outputs": [],
   "source": [
    "dKmean={}\n",
    "dKmean['value']=xsecmeanK\n",
    "dKmean['stat_u']=sig_statmeanK"
   ]
  },
  {
   "cell_type": "code",
   "execution_count": 77,
   "metadata": {},
   "outputs": [],
   "source": [
    "xlsx_dKmean=pd.DataFrame(dKmean)\n",
    "xlsx_dKmean.to_excel('EIC_values_K_mean.xlsx')"
   ]
  },
  {
   "cell_type": "code",
   "execution_count": null,
   "metadata": {},
   "outputs": [],
   "source": []
  },
  {
   "cell_type": "code",
   "execution_count": null,
   "metadata": {},
   "outputs": [],
   "source": []
  },
  {
   "cell_type": "code",
   "execution_count": null,
   "metadata": {},
   "outputs": [],
   "source": []
  },
  {
   "cell_type": "code",
   "execution_count": null,
   "metadata": {},
   "outputs": [],
   "source": []
  }
 ],
 "metadata": {
  "kernelspec": {
   "display_name": "Python 2",
   "language": "python",
   "name": "python2"
  },
  "language_info": {
   "codemirror_mode": {
    "name": "ipython",
    "version": 2
   },
   "file_extension": ".py",
   "mimetype": "text/x-python",
   "name": "python",
   "nbconvert_exporter": "python",
   "pygments_lexer": "ipython2",
   "version": "2.7.17"
  }
 },
 "nbformat": 4,
 "nbformat_minor": 4
}
